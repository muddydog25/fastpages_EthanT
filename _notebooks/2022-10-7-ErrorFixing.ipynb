{
 "cells": [
  {
   "cell_type": "markdown",
   "metadata": {},
   "source": [
    "# Fixing Errors (Menu Problem)\n",
    "\n",
    "- badges: true\n",
    "- comments: true\n",
    "- author: Ethan Tran\n",
    "- categories: [fastpages, python, lists, iterations, menu]"
   ]
  },
  {
   "cell_type": "code",
   "execution_count": 3,
   "metadata": {},
   "outputs": [
    {
     "name": "stdout",
     "output_type": "stream",
     "text": [
      "Menu\n",
      "burger  $3.99\n",
      "fries  $1.99\n",
      "drink  $0.99\n",
      "Your total: $3.99\n",
      "Your total: $5.98\n",
      "Your total: $6.97\n",
      "Your total: $7.96\n",
      "Your total: $11.95\n",
      "Your order will be ready soon!\n"
     ]
    }
   ],
   "source": [
    "import sys\n",
    "total = 0 \n",
    "menu =  {\"burger\": 3.99, \"fries\": 1.99, \"drink\": 0.99, \"Burger\": 3.99, \"Fries\": 1.99, \"Drink\": 0.99}\n",
    "\n",
    "print(\"Menu\")\n",
    "for k,v in menu.items():\n",
    "    print(k + \"  $\" + str(v)) \n",
    "\n",
    "ordering = True\n",
    "\n",
    "while ordering:\n",
    "    food = input(\"Please select an item from the menu. Press enter when you are done.\")\n",
    "\n",
    "    if food in menu:\n",
    "        total += menu[food]\n",
    "        print(\"Your total: $\" + \"{:.2f}\".format(total))\n",
    "    else:\n",
    "        print(\"Your order will be ready soon!\")\n",
    "        ordering = False"
   ]
  }
 ],
 "metadata": {
  "kernelspec": {
   "display_name": "Python 3.10.6 64-bit",
   "language": "python",
   "name": "python3"
  },
  "language_info": {
   "codemirror_mode": {
    "name": "ipython",
    "version": 3
   },
   "file_extension": ".py",
   "mimetype": "text/x-python",
   "name": "python",
   "nbconvert_exporter": "python",
   "pygments_lexer": "ipython3",
   "version": "3.10.6"
  },
  "orig_nbformat": 4,
  "vscode": {
   "interpreter": {
    "hash": "82faa6d27c9a927522682e95cb30c684238aba2a31347a70411ee016fed8cfe5"
   }
  }
 },
 "nbformat": 4,
 "nbformat_minor": 2
}
