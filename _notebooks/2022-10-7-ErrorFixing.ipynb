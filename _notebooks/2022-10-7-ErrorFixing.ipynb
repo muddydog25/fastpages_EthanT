{
 "cells": [
  {
   "cell_type": "code",
   "execution_count": 5,
   "metadata": {},
   "outputs": [
    {
     "name": "stdout",
     "output_type": "stream",
     "text": [
      "Menu\n",
      "burger  $3.99\n",
      "fries  $1.99\n",
      "drink  $0.99\n",
      "Your total: $3.99\n",
      "Your total: $4.98\n",
      "Your total: $5.97\n",
      "Your total: $7.96\n",
      "test\n"
     ]
    },
    {
     "ename": "SystemExit",
     "evalue": "",
     "output_type": "error",
     "traceback": [
      "An exception has occurred, use %tb to see the full traceback.\n",
      "\u001b[1;31mSystemExit\u001b[0m\n"
     ]
    },
    {
     "name": "stderr",
     "output_type": "stream",
     "text": [
      "c:\\Users\\etran\\AppData\\Local\\Programs\\Python\\Python310\\lib\\site-packages\\IPython\\core\\interactiveshell.py:3406: UserWarning: To exit: use 'exit', 'quit', or Ctrl-D.\n",
      "  warn(\"To exit: use 'exit', 'quit', or Ctrl-D.\", stacklevel=1)\n"
     ]
    }
   ],
   "source": [
    "import sys\n",
    "total = 0 \n",
    "menu =  {\"burger\": 3.99, \"fries\": 1.99, \"drink\": 0.99}\n",
    "\n",
    "print(\"Menu\")\n",
    "for k,v in menu.items():\n",
    "    print(k + \"  $\" + str(v)) \n",
    "\n",
    "while True:\n",
    "    food = input(\"Please select an item from the menu. Press enter when you are done.\")\n",
    "\n",
    "    if food in menu:\n",
    "        total += menu[food]\n",
    "        print(\"Your total: \"\"$\" + \"{:.2f}\".format(total))\n",
    "    else:\n",
    "        print(\"Your order will be ready soon!\")\n",
    "        sys.exit()\n",
    "\n",
    "\n"
   ]
  },
  {
   "cell_type": "code",
   "execution_count": 1,
   "metadata": {},
   "outputs": [
    {
     "name": "stdout",
     "output_type": "stream",
     "text": [
      "Menu with prices:\n",
      "('sandwich', 1.2)\n",
      "('pizza', 1.3)\n",
      "('lemon cake', 2.0)\n",
      "('chips', 1.6)\n",
      "('salad', 2.0)\n",
      "('panini', 2.5)\n",
      "('yoghurt', 4.0)\n",
      "('pasta', 4.8)\n",
      "('bagel', 3.8)\n",
      "('cheese wrap', 3.25)\n",
      "('cherry muffin', 3.4)\n",
      "('egg', 2.7)\n",
      "('blt', 2.5)\n",
      "('marmite sarnine', 3.15)\n",
      "('watermelon pieces', 4.4)\n",
      "2.0\n",
      "Wrong input\n",
      "2.0\n",
      "4.0\n",
      "Wrong input\n",
      "4.0\n",
      "Wrong input\n",
      "4.0\n",
      "6.0\n",
      "7.6\n",
      "9.2\n",
      "11.2\n"
     ]
    }
   ],
   "source": [
    "food_menu = {'sandwich': 1.2, 'pizza': 1.3, 'lemon cake': 2.0, 'chips': 1.6, 'salad': 2.0, 'panini': 2.5,\n",
    "             'yoghurt': 4.0, 'pasta': 4.8, 'bagel': 3.8, 'cheese wrap': 3.25, 'cherry muffin': 3.4, 'egg': 2.7,\n",
    "             'blt': 2.5, 'marmite sarnine': 3.15, 'watermelon pieces': 4.4}\n",
    "\n",
    "decision = \"\"\n",
    "count = 0\n",
    "total = 0\n",
    "print(\"Menu with prices:\")\n",
    "print(*food_menu.items(), sep=\"\\n\")\n",
    "while True:\n",
    "    item = input(\"Please choose which treat you wish to order by typing its position number [1-15] \"\n",
    "                 \"and confirm with ENTER : \")\n",
    "\n",
    "    if item in food_menu:\n",
    "        total += food_menu[item]\n",
    "        \n",
    "    else:\n",
    "        print(\"Wrong input\")\n",
    "        exit()\n",
    "\n",
    "    print(total)\n",
    "    \n",
    "    \n",
    "    \n"
   ]
  }
 ],
 "metadata": {
  "kernelspec": {
   "display_name": "Python 3.10.6 64-bit",
   "language": "python",
   "name": "python3"
  },
  "language_info": {
   "codemirror_mode": {
    "name": "ipython",
    "version": 3
   },
   "file_extension": ".py",
   "mimetype": "text/x-python",
   "name": "python",
   "nbconvert_exporter": "python",
   "pygments_lexer": "ipython3",
   "version": "3.10.6"
  },
  "orig_nbformat": 4,
  "vscode": {
   "interpreter": {
    "hash": "82faa6d27c9a927522682e95cb30c684238aba2a31347a70411ee016fed8cfe5"
   }
  }
 },
 "nbformat": 4,
 "nbformat_minor": 2
}
