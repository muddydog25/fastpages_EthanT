{
 "cells": [
  {
   "attachments": {},
   "cell_type": "markdown",
   "metadata": {},
   "source": [
    "#  Big Idea 2 Quiz Reflection + Correction(s)\n",
    "> My reflection and corrections for the Big Idea 2 Quiz\n",
    "- toc: true\n",
    "- author: Ethan Tran\n",
    "- categories: [unit 2.4, cb, mcq]"
   ]
  },
  {
   "attachments": {},
   "cell_type": "markdown",
   "metadata": {},
   "source": [
    "## Reflection/Overview\n",
    "\n",
    "For the Big Idea 2 Quiz I unfortunately got one question wrong. Overall, I feel like I did well on the quiz and am happy with my performance. However, I recognize that there is always room for improvement and I am committed to doing better on future quizzes. Upon reflection, I realized that the question I got wrong was one that I didn't spend enough time on. I made the mistake of assuming I knew the answer and didn't take the time to carefully read and analyze the question. In the future, I need to remind myself to slow down and read each question thoroughly, even if I think I know the answer. Additionally, I noticed that I didn't use any specific strategies for answering multiple choice questions. For example, I didn't eliminate any obviously incorrect answers before choosing the best option. I will work on incorporating these strategies into my test-taking process to help me make more informed choices and avoid making careless mistakes.\n",
    "\n",
    "Overall, I am happy with my performance on the quiz as I scored a 24/25, but I recognize that there is always room for improvement. By taking the time to analyze my mistakes and develop strategies for future quizzes, I am confident that I will continue to improve and achieve my academic goals.\n",
    "\n",
    "\n",
    "![results](https://user-images.githubusercontent.com/109186517/226313766-3494a706-c4b3-41b2-a4b6-d5137aff0dfc.png)\n",
    "![bigideap1](https://user-images.githubusercontent.com/109186517/226313606-1100f6d9-b6d7-4e6f-b9d4-852383024741.png)\n",
    "![bigideap2](https://user-images.githubusercontent.com/109186517/226313874-1d66aeb2-c1e5-44d7-af76-0f7af708ac4e.png)\n",
    "\n",
    "For this question, it was required to identify the sequence of steps that would lead to the desired entry. Although I correctly selected Option B, I mistakenly chose Option C as well. The reason behind this error was due to my misinterpretation of the question stem, where I answered \"Sort by subject, then sort by year, then filter by photographer\" instead of the correct response \"Sort by subject, then filter by year, then filter by photographer.\" For this question, I was deciding on which of the two options to select as they both were similar. After review, I have realized that C is incorrect as the sequence of steps does not exclude any entries that have an unknown year. Therefore, the entry located in the first row of the spreadsheet will have a year value of -1. Option D was correct as by sorting the spreadsheet on column C in ascending order, entries will be arranged by year. Any entries with unknown years can be removed by filtering. Similarly, filtering by photographer will eliminate any entries without a known photographer. It's worth noting that the filters won't affect the order of the entries. Therefore, after applying the filters, the photograph with the earliest year value will appear in the first row of the spreadsheet."
   ]
  }
 ],
 "metadata": {
  "kernelspec": {
   "display_name": "base",
   "language": "python",
   "name": "python3"
  },
  "language_info": {
   "name": "python",
   "version": "3.9.12"
  },
  "orig_nbformat": 4
 },
 "nbformat": 4,
 "nbformat_minor": 2
}
