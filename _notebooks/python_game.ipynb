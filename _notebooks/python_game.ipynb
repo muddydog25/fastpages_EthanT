{
 "cells": [
  {
   "attachments": {},
   "cell_type": "markdown",
   "metadata": {},
   "source": [
    "# PyGame Testing"
   ]
  },
  {
   "cell_type": "code",
   "execution_count": 1,
   "metadata": {},
   "outputs": [
    {
     "name": "stdout",
     "output_type": "stream",
     "text": [
      "pygame 2.1.2 (SDL 2.0.18, Python 3.10.6)\n",
      "Hello from the pygame community. https://www.pygame.org/contribute.html\n"
     ]
    },
    {
     "ename": "NameError",
     "evalue": "name 'random' is not defined",
     "output_type": "error",
     "traceback": [
      "\u001b[1;31m---------------------------------------------------------------------------\u001b[0m",
      "\u001b[1;31mNameError\u001b[0m                                 Traceback (most recent call last)",
      "\u001b[1;32mc:\\Users\\etran\\.vscode\\fastpages_EthanT\\_notebooks\\python_game.ipynb Cell 2\u001b[0m in \u001b[0;36m<cell line: 30>\u001b[1;34m()\u001b[0m\n\u001b[0;32m     <a href='vscode-notebook-cell:/c%3A/Users/etran/.vscode/fastpages_EthanT/_notebooks/python_game.ipynb#W1sZmlsZQ%3D%3D?line=27'>28</a>\u001b[0m \u001b[39m# The fish\u001b[39;00m\n\u001b[0;32m     <a href='vscode-notebook-cell:/c%3A/Users/etran/.vscode/fastpages_EthanT/_notebooks/python_game.ipynb#W1sZmlsZQ%3D%3D?line=28'>29</a>\u001b[0m fish_size \u001b[39m=\u001b[39m \u001b[39m50\u001b[39m\n\u001b[1;32m---> <a href='vscode-notebook-cell:/c%3A/Users/etran/.vscode/fastpages_EthanT/_notebooks/python_game.ipynb#W1sZmlsZQ%3D%3D?line=29'>30</a>\u001b[0m fish_position \u001b[39m=\u001b[39m [random\u001b[39m.\u001b[39mrandint(\u001b[39m0\u001b[39m, window_size[\u001b[39m0\u001b[39m]\u001b[39m-\u001b[39mfish_size), \u001b[39m0\u001b[39m]\n\u001b[0;32m     <a href='vscode-notebook-cell:/c%3A/Users/etran/.vscode/fastpages_EthanT/_notebooks/python_game.ipynb#W1sZmlsZQ%3D%3D?line=30'>31</a>\u001b[0m fish_speed \u001b[39m=\u001b[39m \u001b[39m5\u001b[39m\n\u001b[0;32m     <a href='vscode-notebook-cell:/c%3A/Users/etran/.vscode/fastpages_EthanT/_notebooks/python_game.ipynb#W1sZmlsZQ%3D%3D?line=32'>33</a>\u001b[0m \u001b[39m# The game loop \u001b[39;00m\n",
      "\u001b[1;31mNameError\u001b[0m: name 'random' is not defined"
     ]
    },
    {
     "ename": "",
     "evalue": "",
     "output_type": "error",
     "traceback": [
      "\u001b[1;31mThe Kernel crashed while executing code in the the current cell or a previous cell. Please review the code in the cell(s) to identify a possible cause of the failure. Click <a href='https://aka.ms/vscodeJupyterKernelCrash'>here</a> for more info. View Jupyter <a href='command:jupyter.viewOutput'>log</a> for further details."
     ]
    }
   ],
   "source": [
    "import pygame \n",
    "import sys\n",
    "\n",
    "# Initialize Pygame\n",
    "pygame.init()\n",
    "\n",
    "# Set up the window \n",
    "window_size = (800, 600)\n",
    "window = pygame.display.set_mode(window_size)\n",
    "pygame.display.set_caption(\"Catch the Fish!\")\n",
    "\n",
    "# define colors\n",
    "BLACK = (  0,   0,   0)\n",
    "WHITE = (255, 255, 255)\n",
    "BLUE  = (  0,   0, 255)\n",
    "GREEN = (  0, 255,   0)\n",
    "RED   = (255,   0,   0)\n",
    "\n",
    "# Set up the variables needed \n",
    "clock = pygame.time.Clock()\n",
    "FPS = 30\n",
    "score = 0\n",
    "\n",
    "# The player\n",
    "player_size = 50\n",
    "player_position = [350, 550]\n",
    "\n",
    "# The fish\n",
    "fish_size = 50\n",
    "fish_position = [random.randint(0, window_size[0]-fish_size), 0]\n",
    "fish_speed = 5\n",
    "\n",
    "# The game loop \n",
    "while True:\n",
    "    for event in pygame.event.get():\n",
    "        if event.type == pygame.QUIT:\n",
    "            pygame.quit()\n",
    "            sys.exit()\n",
    "   \n",
    "    # Move the player\n",
    "    # Get keys pressed\n",
    "    keys = pygame.key.get_pressed() \n",
    "    # Check if left or right arrow is pressed and move the player\n",
    "    if keys[pygame.K_LEFT] and player_position[0] > 0:\n",
    "        player_position[0] -= 5\n",
    "    if keys[pygame.K_RIGHT] and player_position[0] < window_size[0] - player_size:\n",
    "        player_position[0] += 5\n",
    "    \n",
    "    # Move the fish\n",
    "    if fish_position[1] >= window_size[1]:\n",
    "        fish_position[0] = random.randint(0, window_size[0] - fish_size)\n",
    "        fish_position[1] = 0\n",
    "    else:\n",
    "        fish_position[1] += fish_speed\n",
    "    \n",
    "    # Check if the player caught the fish\n",
    "    if fish_position[1] + fish_size >= player_position[1]:\n",
    "        # Check if the fish is in the same x position as the player\n",
    "        if fish_position[0] > player_position[0] and fish_position[0] < player_position[0] + player_size or \\\n",
    "            fish_position[0] + fish_size > player_position[0] and fish_position[0] + fish_size < player_position[0] + player_size:\n",
    "            score += 1\n",
    "            fish_position[0] = random.randint(0, window_size[0] - fish_size)\n",
    "            fish_position[1] = 0\n",
    "    \n",
    "    # Draw the window \n",
    "    window.fill(BLACK)\n",
    "    pygame.draw.rect(window, WHITE, [player_position[0], player_position[1], player_size, player_size])\n",
    "    pygame.draw.rect(window, GREEN, [fish_position[0], fish_position[1], fish_size, fish_size])\n",
    "    # Display the score\n",
    "    font = pygame.font.SysFont(\"Arial\", 25)\n",
    "    text = font.render(\"Score: \" + str(score), True, WHITE)\n",
    "    window.blit(text, [window_size[0]-100, 20])\n",
    "    \n",
    "    # Update the screen\n",
    "    pygame.display.update()\n",
    "    # Tick the clock\n",
    "    clock.tick(FPS)"
   ]
  }
 ],
 "metadata": {
  "kernelspec": {
   "display_name": "Python 3",
   "language": "python",
   "name": "python3"
  },
  "language_info": {
   "codemirror_mode": {
    "name": "ipython",
    "version": 3
   },
   "file_extension": ".py",
   "mimetype": "text/x-python",
   "name": "python",
   "nbconvert_exporter": "python",
   "pygments_lexer": "ipython3",
   "version": "3.10.6 (tags/v3.10.6:9c7b4bd, Aug  1 2022, 21:53:49) [MSC v.1932 64 bit (AMD64)]"
  },
  "orig_nbformat": 4,
  "vscode": {
   "interpreter": {
    "hash": "82faa6d27c9a927522682e95cb30c684238aba2a31347a70411ee016fed8cfe5"
   }
  }
 },
 "nbformat": 4,
 "nbformat_minor": 2
}
