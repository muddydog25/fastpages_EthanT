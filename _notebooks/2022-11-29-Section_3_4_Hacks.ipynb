{
 "cells": [
  {
   "cell_type": "markdown",
   "metadata": {},
   "source": [
    "# Hacks Sections 3-4\n",
    "- badges: true\n",
    "- comments: true\n",
    "- author: Ethan Tran\n",
    "- categories: [hacks, turkey, tree, notes]\n",
    "\n",
    "### Notes\n",
    "**Algorithms**\n",
    "- An algorithm is a set of instructions that complete a given task\n",
    "- There are three key parts to an algorithm: sequencing, selection, and iteration\n",
    "- Sequence: The order in which a statement is carried out\n",
    "- Selection: The ability to allow an algorithm to carry out a conditional based condition\n",
    "- Iteration: A loop that executes code until a given condition is met\n",
    "\n",
    "**Strings**\n"
   ]
  },
  {
   "cell_type": "markdown",
   "metadata": {},
   "source": [
    "## Unit 3.3 Hack \n",
    "**Crossword Puzzle Answers**\n",
    "1) Iteration \n",
    "2) Selection \n",
    "3) Sequence"
   ]
  },
  {
   "cell_type": "markdown",
   "metadata": {},
   "source": [
    "## Unit 3.4 Hack\n",
    "\n",
    "<html>\n",
    "<img src = \"https://user-images.githubusercontent.com/109186517/204973105-ddd54283-b8ad-4332-8149-750186a3df5b.png\" id = \"quiz_3.4\">\n",
    "\n",
    "</html>"
   ]
  }
 ],
 "metadata": {
  "kernelspec": {
   "display_name": "Python 3.10.6 64-bit",
   "language": "python",
   "name": "python3"
  },
  "language_info": {
   "name": "python",
   "version": "3.10.6"
  },
  "orig_nbformat": 4,
  "vscode": {
   "interpreter": {
    "hash": "82faa6d27c9a927522682e95cb30c684238aba2a31347a70411ee016fed8cfe5"
   }
  }
 },
 "nbformat": 4,
 "nbformat_minor": 2
}
