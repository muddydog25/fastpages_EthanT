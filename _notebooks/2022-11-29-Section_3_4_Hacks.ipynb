{
 "cells": [
  {
   "cell_type": "markdown",
   "metadata": {},
   "source": [
    "# Hacks Sections 3-4\n",
    "- badges: true\n",
    "- comments: true\n",
    "- author: Ethan Tran\n",
    "- categories: [hacks, turkey, tree, notes]\n"
   ]
  },
  {
   "cell_type": "markdown",
   "metadata": {},
   "source": [
    "### Notes\n",
    "**Algorithms**\n",
    "\n",
    "- An algorithm is a set of instructions that complete a given task\n",
    "- There are three key parts to an algorithm: sequencing, selection, and iteration\n",
    "- Sequence: The order in which a statement is carried out\n",
    "- Selection: The ability to allow an algorithm to carry out a conditional based condition\n",
    "- Iteration: A loop that executes code until a given condition is met\n",
    "\n",
    "**Strings**\n",
    "\n",
    "- Each coding language has its own relative methods, procedures, and functions\n",
    "- String is an ordered sequences of characters\n",
    "\n"
   ]
  },
  {
   "cell_type": "markdown",
   "metadata": {},
   "source": [
    "## Unit 3.3.1 Hacks \n",
    "**Parts of an Algorithm**\n",
    "\n",
    "Sequencing: 1, 2, 3, 4, 5\n",
    "\n",
    "Selection: 3\n",
    "\n",
    "Iteration: 4\n",
    "\n",
    "**Code Evaluation**\n",
    "- The result is 3.0"
   ]
  },
  {
   "cell_type": "code",
   "execution_count": 1,
   "metadata": {},
   "outputs": [
    {
     "name": "stdout",
     "output_type": "stream",
     "text": [
      "3.0\n"
     ]
    }
   ],
   "source": [
    "num1 = 5\n",
    "num2 = num1 * 3\n",
    "num3 = num2 / num1 * (9 % 2) * 4\n",
    "result = (num3 % num1 + num2) % num3 * 3 / 5\n",
    "print(result)"
   ]
  },
  {
   "cell_type": "markdown",
   "metadata": {},
   "source": [
    "**Crossword Puzzle Answers**\n",
    "1) Iteration \n",
    "2) Selection \n",
    "3) Sequence"
   ]
  },
  {
   "cell_type": "markdown",
   "metadata": {},
   "source": [
    "## Unit 3.4 Hack\n",
    "\n",
    "<html>\n",
    "<img src = \"https://user-images.githubusercontent.com/109186517/204973105-ddd54283-b8ad-4332-8149-750186a3df5b.png\" id = \"quiz_3.4\">\n",
    "\n",
    "</html>"
   ]
  }
 ],
 "metadata": {
  "kernelspec": {
   "display_name": "Python 3.10.6 64-bit",
   "language": "python",
   "name": "python3"
  },
  "language_info": {
   "codemirror_mode": {
    "name": "ipython",
    "version": 3
   },
   "file_extension": ".py",
   "mimetype": "text/x-python",
   "name": "python",
   "nbconvert_exporter": "python",
   "pygments_lexer": "ipython3",
   "version": "3.10.6"
  },
  "orig_nbformat": 4,
  "vscode": {
   "interpreter": {
    "hash": "82faa6d27c9a927522682e95cb30c684238aba2a31347a70411ee016fed8cfe5"
   }
  }
 },
 "nbformat": 4,
 "nbformat_minor": 2
}
