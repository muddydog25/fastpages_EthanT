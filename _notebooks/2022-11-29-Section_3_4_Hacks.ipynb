{
 "cells": [
  {
   "cell_type": "markdown",
   "metadata": {},
   "source": [
    "### Notes\n",
    "**Algorithms**\n",
    "- An algorithm is a set of instructions that complete a given task\n",
    "- There are three key parts to an algorithm: sequencing, selection, and iteration\n",
    "- Sequence: The order in which a statement is carried out\n",
    "- Selection: The ability to allow an algorithm to carry out a conditional based condition\n",
    "- Iteration: A loop that executes code until a given condition is met\n",
    "\n",
    "**Strings**\n"
   ]
  },
  {
   "cell_type": "markdown",
   "metadata": {},
   "source": [
    "## Unit 3.3 Hack \n",
    "**Crossword Puzzle Answers**\n",
    "1) Iteration \n",
    "2) Selection \n",
    "3) Sequence"
   ]
  },
  {
   "cell_type": "markdown",
   "metadata": {},
   "source": [
    "## Unit 3.4 Hack\n",
    "\n",
    "<img src = \"https://user-images.githubusercontent.com/109186517/204973105-ddd54283-b8ad-4332-8149-750186a3df5b.png\" id = \"quiz_3.4\">"
   ]
  }
 ],
 "metadata": {
  "language_info": {
   "name": "python"
  },
  "orig_nbformat": 4
 },
 "nbformat": 4,
 "nbformat_minor": 2
}
