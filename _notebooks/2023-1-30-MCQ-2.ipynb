{
 "cells": [
  {
   "attachments": {},
   "cell_type": "markdown",
   "metadata": {},
   "source": [
    "# MCQ #2 Test Corrections/Review\n",
    "\n",
    "- title: MCQ #2 Test Corrections/Review\n",
    "- toc: true\n",
    "- author: Ethan Tran\n",
    "- categories: [cb, ]\n"
   ]
  },
  {
   "attachments": {},
   "cell_type": "markdown",
   "metadata": {},
   "source": [
    "## Review\n",
    "<p>To be quite honest, I was suprised yet not suprised that I recieved a score of 50/50 on MCQ #2. The reason behind this is because as I went through the test, I made sure to take my time for each and every problem and write out my thinking in my notebook. The overall test took me up till the end of the day on January 30th, just a day before the entire test was due. Furthermore, I made sure to look over the test questions with my classmate, Luna Iwazaki, during class time. This allowed me to get a second point of view other than my own when going through these problems. Finally, in terms of the concepts from the test, when I was confused on them I made sure to go back and watch the videos provided by College Board. These videos were essential in helping me build a foundation to answer these problems - though some of them were educated guesses, it appears that they were all correct.</p>"
   ]
  },
  {
   "attachments": {},
   "cell_type": "markdown",
   "metadata": {},
   "source": [
    "> As I got a perfect score, I will go over the few problems that I had guessed my answers\n",
    "\n",
    "### Question 2\n",
    "- For this problem, I had figured out that answers \"a\" and \"b\" were not correct. From here, I had to guess between answers \"c\" and \"d.\" I ended up picking answer \"c,\" which ended up being correct as moving the statement from line 5 between lines 2 and 3 would allow the procedure to properly function. "
   ]
  },
  {
   "cell_type": "code",
   "execution_count": null,
   "metadata": {
    "vscode": {
     "languageId": "html"
    }
   },
   "outputs": [],
   "source": [
    "<img src=\"https://user-images.githubusercontent.com/109186517/215674796-8878fa87-6940-4006-b031-ee859ae6f099.png\"></img> "
   ]
  }
 ],
 "metadata": {
  "kernelspec": {
   "display_name": "Python 3",
   "language": "python",
   "name": "python3"
  },
  "language_info": {
   "name": "python",
   "version": "3.10.6 (tags/v3.10.6:9c7b4bd, Aug  1 2022, 21:53:49) [MSC v.1932 64 bit (AMD64)]"
  },
  "orig_nbformat": 4,
  "vscode": {
   "interpreter": {
    "hash": "82faa6d27c9a927522682e95cb30c684238aba2a31347a70411ee016fed8cfe5"
   }
  }
 },
 "nbformat": 4,
 "nbformat_minor": 2
}
