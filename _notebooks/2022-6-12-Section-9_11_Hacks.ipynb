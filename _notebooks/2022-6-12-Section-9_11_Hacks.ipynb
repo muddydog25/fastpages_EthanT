{
 "cells": [
  {
   "cell_type": "markdown",
   "metadata": {},
   "source": [
    "# Hacks Sections 9-11\n",
    "- badges: true\n",
    "- comments: true\n",
    "- author: Ethan Tran\n",
    "- categories: [hacks, turkey, tree, notes]\n"
   ]
  },
  {
   "attachments": {},
   "cell_type": "markdown",
   "metadata": {},
   "source": [
    "## Notes\n",
    "\n",
    "1) Developing Algorithms\n",
    "\n",
    "When creating an algorithm, its good to outline its process before coding\n",
    "This ensures that it is sequenced correctly\n",
    "You should represent the algorithm using a flowchart or natural language\n",
    "Visualization can help you better see the flow of the whole algorithm\n",
    "This may allow for the coding process to be more efficient and effective\n",
    "\n",
    "2) Review of Selection and Iteration\n",
    "\n",
    "Algorithms with iteration repeat a function until a goal is reached\n",
    "To more easily represent an algorithm without showing all the repeated steps, we can use iteration\n",
    "Algorithms with selection only go through certain functions if certain things are true or false\n",
    "\n",
    "3) Why use algorithms?\n",
    "\n",
    "When 2 algorithms look extremely similar, it is easy to assume they do the same thing. However, that is not the case and we have learn how to notice small differences in code and pretty much debug."
   ]
  },
  {
   "attachments": {},
   "cell_type": "markdown",
   "metadata": {},
   "source": [
    "## Hacks 3.9.1\n",
    "1) Why is it important to know that algorithms that look different can do the same thing and that algorithms that look the same might have different results? \n",
    "- It is vital to know that algorithms that appear different are capable of performing the same functions, and that algorithms that look the same may have different results. This is because it allows for creativity when coding, leading to finding new or different ways of solving the same \n",
    "issue(s).\n",
    "\n",
    "2) For the converted conditional to boolean conversion"
   ]
  },
  {
   "cell_type": "code",
   "execution_count": 1,
   "metadata": {},
   "outputs": [
    {
     "name": "stdout",
     "output_type": "stream",
     "text": [
      "No umbrella necessary!\n"
     ]
    }
   ],
   "source": [
    "isSunny = True\n",
    "isRainy = False\n",
    "\n",
    "if isSunny == True:\n",
    "    print(\"No umbrella necessary!\")\n",
    "\n",
    "else:\n",
    "    if isRainy == True:\n",
    "        print(\"Might want an umbrella!\")\n",
    "    \n",
    "    else:\n",
    "        print(\"No umbrella necessary!\")"
   ]
  },
  {
   "cell_type": "code",
   "execution_count": 6,
   "metadata": {},
   "outputs": [],
   "source": [
    "isSunny = False\n",
    "isRainy = True\n",
    "\n",
    "# setting variables here (same as above to make comparison easier)\n",
    "puddles = not(isSunny) and isRainy\n",
    "if isRainy == False:\n",
    "    print(\"Puddles!\")\n",
    "if isSunny == True:\n",
    "    print(\"No puddles!\")"
   ]
  },
  {
   "cell_type": "markdown",
   "metadata": {},
   "source": [
    "## Hacks 3.9.2\n",
    "\n",
    "- Develop your own complex algorithm using a flowchart and natural language, then code it!\n",
    "- Requirements:\n",
    "- Includes both a flowchart AND natural language\n",
    "- Working code of the same algorithm\n",
    "- Incorporates selection AND/OR iteration\n",
    "- Make it creative!"
   ]
  },
  {
   "attachments": {},
   "cell_type": "markdown",
   "metadata": {},
   "source": [
    "<html>\n",
    "<img src=\"https://user-images.githubusercontent.com/109186517/206651133-bae66b49-0b13-4d4a-80d6-850f5001859d.png\" height=\"350px\">\n",
    "</html>"
   ]
  },
  {
   "attachments": {},
   "cell_type": "markdown",
   "metadata": {},
   "source": [
    "1) Once the code starts, the starting amount of money is set to $10.\n",
    "\n",
    "2) The variable, spendMoney, is set to True.\n",
    "\n",
    "3) While spendMoney remains true, $1 is deducted from the money variable.\n",
    "\n",
    "4) Once the variable, money, reaches a value of 0, spendMoney is set to False and the string, \"You're out of money!\" is printed.\n",
    "\n",
    "5) End"
   ]
  },
  {
   "cell_type": "code",
   "execution_count": 11,
   "metadata": {},
   "outputs": [
    {
     "name": "stdout",
     "output_type": "stream",
     "text": [
      "You're out of money!\n"
     ]
    }
   ],
   "source": [
    "money = 10\n",
    "spendMoney = True\n",
    "while(spendMoney == True):\n",
    "    money -= 1\n",
    "    if money == 0:\n",
    "        spendMoney == False\n",
    "        print(\"You're out of money!\")"
   ]
  },
  {
   "attachments": {},
   "cell_type": "markdown",
   "metadata": {},
   "source": [
    "## Hacks 3.9.3"
   ]
  },
  {
   "attachments": {},
   "cell_type": "markdown",
   "metadata": {},
   "source": [
    "- Fix the number guessing game\n",
    "\n",
    "1) Make a flow chart for the algorithm number guessing game\n",
    "\n",
    "2) Make a function that gets the user guess\n",
    "\n",
    "3) Modify the existing search function to give more encouraging feedback\n",
    "\n",
    "<html>\n",
    "<img src=\"https://user-images.githubusercontent.com/109186517/206798120-9cf0bde9-b5ec-49fd-9659-e885cc30fb6a.png\" height=\"350px\">\n",
    "</html>"
   ]
  },
  {
   "cell_type": "code",
   "execution_count": 5,
   "metadata": {},
   "outputs": [
    {
     "name": "stdout",
     "output_type": "stream",
     "text": [
      "I'm thinking of a number between 0 and 100.\n",
      "92\n",
      "You guessed 10.\n",
      "Too low, try again! :)\n",
      "Guess a number between 10 and 100.\n",
      "You guessed 99.\n",
      "Too high, try again! :D\n",
      "Guess a number between 10 and 99.\n",
      "You guessed 92.\n",
      "You guessed the number in 3 guesses!\n"
     ]
    }
   ],
   "source": [
    "import random\n",
    "\n",
    "#sets variables for the game\n",
    "num_guesses = 0\n",
    "user_guess = -1\n",
    "upper_bound = 100\n",
    "lower_bound = 0\n",
    "\n",
    "#generates a random number\n",
    "number = random.randint(0,100)\n",
    "\n",
    "# print(number)     #for testing purposes\n",
    "\n",
    "print(f\"I'm thinking of a number between 0 and 100.\")\n",
    "print(number)\n",
    "\n",
    "#Write a function that gets a guess from the user using input()\n",
    "def guess():\n",
    "    num = input(\"Input your guess\")\n",
    "    #add something here\n",
    "    return num #add something here \n",
    "\n",
    "#Change the print statements to give feedback on whether the player guessed too high or too low\n",
    "def search(number, guess):\n",
    "    global lower_bound, upper_bound\n",
    "    if int(guess) < int(number):\n",
    "        print(\"Too low, try again! :)\") #change this\n",
    "        lower_bound = guess\n",
    "        return lower_bound, upper_bound\n",
    "    elif int(guess) > int(number):\n",
    "        print(\"Too high, try again! :D\") #change this\n",
    "        upper_bound = guess\n",
    "        return lower_bound, upper_bound\n",
    "    else:\n",
    "        upper_bound, lower_bound = guess, guess\n",
    "        return lower_bound, upper_bound \n",
    "\n",
    "while user_guess != number:\n",
    "    user_guess = guess()\n",
    "    num_guesses += 1\n",
    "    print(f\"You guessed {user_guess}.\")\n",
    "    lower_bound, upper_bound = search(number, user_guess)\n",
    "    if int(upper_bound) == int(number):\n",
    "        break\n",
    "    else:\n",
    "        print(f\"Guess a number between {lower_bound} and {upper_bound}.\")\n",
    "\n",
    "\n",
    "print(f\"You guessed the number in {num_guesses} guesses!\")"
   ]
  },
  {
   "attachments": {},
   "cell_type": "markdown",
   "metadata": {},
   "source": [
    "## Hacks 3.11\n",
    "\n",
    "1) calculate the middle index and create a binary tree for each of these lists\n",
    "12, 14, 43, 57, 79, 80, 99\n",
    "92, 43, 74, 66, 30, 12, 1\n",
    "7, 13, 96, 111, 33, 84, 60\n",
    "\n",
    "Answer: Below\n",
    "\n",
    "<html>\n",
    "<img src=\"https://user-images.githubusercontent.com/109186517/206798761-327bf96a-39cd-44b4-895c-f199fe474ca2.png\" height=\"350px\">\n",
    "</html>\n",
    "\n",
    "2) Using one of the sets of numbers from the question above, what would be the second number looked at in a binary search if the number is more than the middle number?\n",
    "Set 1: 80, Set 2: 74, Set 3: 96\n",
    "\n",
    "Answer: Set 1: 80, Set 2: 74, Set 3: 96\n",
    "\n",
    "<html>\n",
    "<img src=\"https://user-images.githubusercontent.com/109186517/206799034-22733d09-e6dd-48da-bb87-e814bd9d50b0.png\" height=\"350px\">\n",
    "</html>\n",
    "\n",
    "3) Which of the following lists can NOT a binary search be used in order to find a targeted value?\n",
    "\n",
    "a. [\"amy\", \"beverly\", \"christian\", \"devin\"]\n",
    "\n",
    "b. [-1, 2, 6, 9, 19]\n",
    "\n",
    "c. [3, 2, 8, 12, 99]\n",
    "\n",
    "d. [\"xylophone\", \"snowman\", \"snake\", \"doorbell\", \"author\"]\n",
    "\n",
    "Answer: C\n",
    "\n",
    "<html>\n",
    "<img src=\"https://user-images.githubusercontent.com/109186517/206799124-9133bf25-8781-4127-86d2-f43a0ea4f55a.png\" height=\"350px\">\n",
    "</html>"
   ]
  },
  {
   "cell_type": "code",
   "execution_count": 6,
   "metadata": {},
   "outputs": [
    {
     "name": "stdout",
     "output_type": "stream",
     "text": [
      "Middle Index of List # 1 is 57\n",
      "Middle Index of List # 2 is 43\n",
      "Middle Index of List # 3 is 60\n"
     ]
    }
   ],
   "source": [
    "numListOne = [12,14,44,57,79,80,99]\n",
    "numListTwo = [92,43,74,66,30,12,1]\n",
    "numListThree = [7,13,96,111,33,84,60]\n",
    "numLists = [numListOne, numListTwo, numListThree]\n",
    "for x in range(len(numLists)):\n",
    "    numLists[x].sort()\n",
    "    middle = int(len(numLists[x])/2)\n",
    "    print(\"Middle Index of List #\",x+1,\"is\",numLists[x][middle])"
   ]
  }
 ],
 "metadata": {
  "kernelspec": {
   "display_name": "Python 3.10.6 64-bit",
   "language": "python",
   "name": "python3"
  },
  "language_info": {
   "codemirror_mode": {
    "name": "ipython",
    "version": 3
   },
   "file_extension": ".py",
   "mimetype": "text/x-python",
   "name": "python",
   "nbconvert_exporter": "python",
   "pygments_lexer": "ipython3",
   "version": "3.10.6"
  },
  "orig_nbformat": 4,
  "vscode": {
   "interpreter": {
    "hash": "82faa6d27c9a927522682e95cb30c684238aba2a31347a70411ee016fed8cfe5"
   }
  }
 },
 "nbformat": 4,
 "nbformat_minor": 2
}
