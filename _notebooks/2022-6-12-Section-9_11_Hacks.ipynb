{
 "cells": [
  {
   "cell_type": "markdown",
   "metadata": {},
   "source": [
    "# Hacks Sections 9-11\n",
    "- badges: true\n",
    "- comments: true\n",
    "- author: Ethan Tran\n",
    "- categories: [hacks, turkey, tree, notes]\n"
   ]
  },
  {
   "cell_type": "markdown",
   "metadata": {},
   "source": [
    "## Notes"
   ]
  },
  {
   "attachments": {},
   "cell_type": "markdown",
   "metadata": {},
   "source": [
    "## Hacks 3.9.1\n",
    "1) Why is it important to know that algorithms that look different can do the same thing and that algorithms that look the same might have different results? \n",
    "- It is vital to know that algorithms that appear different are capable of performing the same functions, and that algorithms that look the same may have different results. This is because it allows for creativity when coding, leading to finding new or different ways of solving the same \n",
    "issue(s).\n",
    "\n",
    "2) For the converted conditional to boolean conversion"
   ]
  },
  {
   "cell_type": "code",
   "execution_count": 1,
   "metadata": {},
   "outputs": [
    {
     "name": "stdout",
     "output_type": "stream",
     "text": [
      "No umbrella necessary!\n"
     ]
    }
   ],
   "source": [
    "isSunny = True\n",
    "isRainy = False\n",
    "\n",
    "if isSunny == True:\n",
    "    print(\"No umbrella necessary!\")\n",
    "\n",
    "else:\n",
    "    if isRainy == True:\n",
    "        print(\"Might want an umbrella!\")\n",
    "    \n",
    "    else:\n",
    "        print(\"No umbrella necessary!\")"
   ]
  },
  {
   "cell_type": "code",
   "execution_count": 6,
   "metadata": {},
   "outputs": [],
   "source": [
    "isSunny = False\n",
    "isRainy = True\n",
    "\n",
    "# setting variables here (same as above to make comparison easier)\n",
    "puddles = not(isSunny) and isRainy\n",
    "if isRainy == False:\n",
    "    print(\"Puddles!\")\n",
    "if isSunny == True:\n",
    "    print(\"No puddles!\")"
   ]
  },
  {
   "cell_type": "markdown",
   "metadata": {},
   "source": [
    "## Hacks 3.9.2\n",
    "\n",
    "- Develop your own complex algorithm using a flowchart and natural language, then code it!\n",
    "- Requirements:\n",
    "- Includes both a flowchart AND natural language\n",
    "- Working code of the same algorithm\n",
    "- Incorporates selection AND/OR iteration\n",
    "- Make it creative!"
   ]
  },
  {
   "attachments": {},
   "cell_type": "markdown",
   "metadata": {},
   "source": [
    "<html>\n",
    "<img src=\"https://user-images.githubusercontent.com/109186517/206651133-bae66b49-0b13-4d4a-80d6-850f5001859d.png\" height=\"350px\">\n",
    "</html>"
   ]
  },
  {
   "attachments": {},
   "cell_type": "markdown",
   "metadata": {},
   "source": [
    "1) Once the code starts, the starting amount of money is set to $10.\n",
    "\n",
    "2) The variable, spendMoney, is set to True.\n",
    "\n",
    "3) While spendMoney remains true, $1 is deducted from the money variable.\n",
    "\n",
    "4) Once the variable, money, reaches a value of 0, spendMoney is set to False and the string, \"You're out of money!\" is printed.\n",
    "\n",
    "5) End"
   ]
  },
  {
   "cell_type": "code",
   "execution_count": 11,
   "metadata": {},
   "outputs": [
    {
     "name": "stdout",
     "output_type": "stream",
     "text": [
      "You're out of money!\n"
     ]
    }
   ],
   "source": [
    "money = 10\n",
    "spendMoney = True\n",
    "while(spendMoney == True):\n",
    "    money -= 1\n",
    "    if money == 0:\n",
    "        spendMoney == False\n",
    "        print(\"You're out of money!\")"
   ]
  },
  {
   "attachments": {},
   "cell_type": "markdown",
   "metadata": {},
   "source": [
    "## Hacks 3.9.3"
   ]
  },
  {
   "attachments": {},
   "cell_type": "markdown",
   "metadata": {},
   "source": [
    "- Fix the number guessing game\n",
    "\n",
    "1) Make a flow chart for the algorithm number guessing game\n",
    "2) Make a function that gets the user guess\n",
    "3) Modify the existing search function to give more encouraging feedback"
   ]
  },
  {
   "cell_type": "code",
   "execution_count": 6,
   "metadata": {},
   "outputs": [
    {
     "name": "stdout",
     "output_type": "stream",
     "text": [
      "I'm thinking of a number between 1 and 100.\n",
      "You guessed <function guess at 0x0000021D14021F30>.\n"
     ]
    },
    {
     "ename": "TypeError",
     "evalue": "'int' object is not callable",
     "output_type": "error",
     "traceback": [
      "\u001b[1;31m---------------------------------------------------------------------------\u001b[0m",
      "\u001b[1;31mTypeError\u001b[0m                                 Traceback (most recent call last)",
      "\u001b[1;32mc:\\Users\\etran\\.vscode\\fastpages_EthanT\\_notebooks\\2022-6-12-Section-9_11_Hacks.ipynb Cell 8\u001b[0m in \u001b[0;36m<cell line: 32>\u001b[1;34m()\u001b[0m\n\u001b[0;32m     <a href='vscode-notebook-cell:/c%3A/Users/etran/.vscode/fastpages_EthanT/_notebooks/2022-6-12-Section-9_11_Hacks.ipynb#X12sZmlsZQ%3D%3D?line=33'>34</a>\u001b[0m     num_guesses \u001b[39m+\u001b[39m\u001b[39m=\u001b[39m \u001b[39m1\u001b[39m\n\u001b[0;32m     <a href='vscode-notebook-cell:/c%3A/Users/etran/.vscode/fastpages_EthanT/_notebooks/2022-6-12-Section-9_11_Hacks.ipynb#X12sZmlsZQ%3D%3D?line=34'>35</a>\u001b[0m     \u001b[39mprint\u001b[39m(\u001b[39mf\u001b[39m\u001b[39m\"\u001b[39m\u001b[39mYou guessed \u001b[39m\u001b[39m{\u001b[39;00muser_guess\u001b[39m}\u001b[39;00m\u001b[39m.\u001b[39m\u001b[39m\"\u001b[39m)\n\u001b[1;32m---> <a href='vscode-notebook-cell:/c%3A/Users/etran/.vscode/fastpages_EthanT/_notebooks/2022-6-12-Section-9_11_Hacks.ipynb#X12sZmlsZQ%3D%3D?line=35'>36</a>\u001b[0m     lower_bound, upper_bound \u001b[39m=\u001b[39m search(number, user_guess)\n\u001b[0;32m     <a href='vscode-notebook-cell:/c%3A/Users/etran/.vscode/fastpages_EthanT/_notebooks/2022-6-12-Section-9_11_Hacks.ipynb#X12sZmlsZQ%3D%3D?line=36'>37</a>\u001b[0m     \u001b[39mprint\u001b[39m(\u001b[39mf\u001b[39m\u001b[39m\"\u001b[39m\u001b[39mGuess a number between \u001b[39m\u001b[39m{\u001b[39;00mlower_bound\u001b[39m}\u001b[39;00m\u001b[39m and \u001b[39m\u001b[39m{\u001b[39;00mupper_bound\u001b[39m}\u001b[39;00m\u001b[39m.\u001b[39m\u001b[39m\"\u001b[39m)\n\u001b[0;32m     <a href='vscode-notebook-cell:/c%3A/Users/etran/.vscode/fastpages_EthanT/_notebooks/2022-6-12-Section-9_11_Hacks.ipynb#X12sZmlsZQ%3D%3D?line=38'>39</a>\u001b[0m \u001b[39mprint\u001b[39m(\u001b[39mf\u001b[39m\u001b[39m\"\u001b[39m\u001b[39mYou guessed the number in \u001b[39m\u001b[39m{\u001b[39;00mnum_guesses\u001b[39m}\u001b[39;00m\u001b[39m guesses!\u001b[39m\u001b[39m\"\u001b[39m)\n",
      "\u001b[1;32mc:\\Users\\etran\\.vscode\\fastpages_EthanT\\_notebooks\\2022-6-12-Section-9_11_Hacks.ipynb Cell 8\u001b[0m in \u001b[0;36msearch\u001b[1;34m(number, guess)\u001b[0m\n\u001b[0;32m     <a href='vscode-notebook-cell:/c%3A/Users/etran/.vscode/fastpages_EthanT/_notebooks/2022-6-12-Section-9_11_Hacks.ipynb#X12sZmlsZQ%3D%3D?line=21'>22</a>\u001b[0m \u001b[39mdef\u001b[39;00m \u001b[39msearch\u001b[39m(number, guess):\n\u001b[0;32m     <a href='vscode-notebook-cell:/c%3A/Users/etran/.vscode/fastpages_EthanT/_notebooks/2022-6-12-Section-9_11_Hacks.ipynb#X12sZmlsZQ%3D%3D?line=22'>23</a>\u001b[0m     \u001b[39mglobal\u001b[39;00m lower_bound, upper_bound\n\u001b[1;32m---> <a href='vscode-notebook-cell:/c%3A/Users/etran/.vscode/fastpages_EthanT/_notebooks/2022-6-12-Section-9_11_Hacks.ipynb#X12sZmlsZQ%3D%3D?line=23'>24</a>\u001b[0m     \u001b[39mif\u001b[39;00m guess() \u001b[39m<\u001b[39m number():\n\u001b[0;32m     <a href='vscode-notebook-cell:/c%3A/Users/etran/.vscode/fastpages_EthanT/_notebooks/2022-6-12-Section-9_11_Hacks.ipynb#X12sZmlsZQ%3D%3D?line=24'>25</a>\u001b[0m         \u001b[39mprint\u001b[39m(\u001b[39m\"\u001b[39m\u001b[39mToo low, guess again! :)\u001b[39m\u001b[39m\"\u001b[39m) \u001b[39m#change this\u001b[39;00m\n\u001b[0;32m     <a href='vscode-notebook-cell:/c%3A/Users/etran/.vscode/fastpages_EthanT/_notebooks/2022-6-12-Section-9_11_Hacks.ipynb#X12sZmlsZQ%3D%3D?line=25'>26</a>\u001b[0m         lower_bound \u001b[39m=\u001b[39m guess\n",
      "\u001b[1;31mTypeError\u001b[0m: 'int' object is not callable"
     ]
    }
   ],
   "source": [
    "import random\n",
    "\n",
    "#sets variables for the game\n",
    "num_guesses = 0\n",
    "user_guess = 0\n",
    "upper_bound = 100\n",
    "lower_bound = 0\n",
    "\n",
    "#generates a random number\n",
    "number = random.randint(1,100)\n",
    "\n",
    "# print(number)     #for testing purposes\n",
    "\n",
    "print(f\"I'm thinking of a number between 1 and 100.\")\n",
    "\n",
    "#Write a function that gets a guess from the user using input()\n",
    "def guess():\n",
    "    float(input(\"Guess: \"))\n",
    "    return guess\n",
    "\n",
    "#Change the print statements to give feedback on whether the player guessed too high or too low\n",
    "def search(number, guess):\n",
    "    global lower_bound, upper_bound\n",
    "    if guess() < number():\n",
    "        print(\"Too low, guess again! :)\") #change this\n",
    "        lower_bound = guess\n",
    "    elif guess > number:\n",
    "        print(\"Too high, try again! :D\") #change this\n",
    "        upper_bound = guess\n",
    "    return lower_bound, upper_bound\n",
    "\n",
    "while user_guess != number:\n",
    "    user_guess = guess()\n",
    "    num_guesses += 1\n",
    "    print(f\"You guessed {user_guess}.\")\n",
    "    lower_bound, upper_bound = search(number, user_guess)\n",
    "    print(f\"Guess a number between {lower_bound} and {upper_bound}.\")\n",
    "\n",
    "print(f\"You guessed the number in {num_guesses} guesses!\")"
   ]
  }
 ],
 "metadata": {
  "kernelspec": {
   "display_name": "Python 3.10.6 64-bit",
   "language": "python",
   "name": "python3"
  },
  "language_info": {
   "codemirror_mode": {
    "name": "ipython",
    "version": 3
   },
   "file_extension": ".py",
   "mimetype": "text/x-python",
   "name": "python",
   "nbconvert_exporter": "python",
   "pygments_lexer": "ipython3",
   "version": "3.10.6 (tags/v3.10.6:9c7b4bd, Aug  1 2022, 21:53:49) [MSC v.1932 64 bit (AMD64)]"
  },
  "orig_nbformat": 4,
  "vscode": {
   "interpreter": {
    "hash": "82faa6d27c9a927522682e95cb30c684238aba2a31347a70411ee016fed8cfe5"
   }
  }
 },
 "nbformat": 4,
 "nbformat_minor": 2
}
