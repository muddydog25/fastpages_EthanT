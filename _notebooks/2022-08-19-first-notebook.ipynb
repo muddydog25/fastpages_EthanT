{
 "cells": [
  {
   "cell_type": "markdown",
   "metadata": {},
   "source": [
    "# Ethan's First Notebook\n",
    "> My first notebook!\n",
    "\n",
    "- badges: true\n",
    "- comments: true\n",
    "- author: Ethan Tran\n",
    "- categories: [fastpages, jupyter, first]"
   ]
  },
  {
   "cell_type": "markdown",
   "metadata": {},
   "source": [
    "# Printing \"Hello\""
   ]
  },
  {
   "cell_type": "code",
   "execution_count": 1,
   "metadata": {},
   "outputs": [
    {
     "name": "stdout",
     "output_type": "stream",
     "text": [
      "Hello\n"
     ]
    }
   ],
   "source": [
    "print(\"Hello\")"
   ]
  },
  {
   "cell_type": "markdown",
   "metadata": {},
   "source": [
    "## Time value of money after one year calculator! \n",
    "With this calculator that I made, you can insert any initial amount of money and any interest rate. In this demo, I started with $1000 and used an interest rate of 0.1563."
   ]
  },
  {
   "cell_type": "code",
   "execution_count": 1,
   "metadata": {},
   "outputs": [
    {
     "name": "stdout",
     "output_type": "stream",
     "text": [
      "Lets calculate your time value of money after one year!\n",
      "How much money are you investing?\n",
      "$50.00\n",
      "What is the interest rate of your investment?\n",
      "15.00%\n",
      "This will be your amount of money after one year.\n",
      "$57.50\n"
     ]
    }
   ],
   "source": [
    "\n",
    "print(\"Lets calculate your time value of money after one year!\")\n",
    "print(\"How much money are you investing?\")\n",
    "\n",
    "# Input the initial amount of money \n",
    "Money = float(input(\"Amount of money: \"))\n",
    "\n",
    "print(\"$\" + \"{:.2f}\".format(Money))\n",
    "\n",
    "# Input interest rate\n",
    "print(\"What is the interest rate of your investment?\")\n",
    "\n",
    "r = float(input(\"Interest rate: \"))\n",
    "percent = (r * 100)\n",
    "\n",
    "# Interest rate shown as a percentage\n",
    "print(\"{:.2f}\".format(percent) + \"%\")\n",
    "\n",
    "# Calculation of the final amount of money \n",
    "final_amount = (Money * (1 + r))\n",
    "\n",
    "print('This will be your amount of money after one year.')\n",
    "print(\"$\" + \"{:.2f}\".format(final_amount))"
   ]
  }
 ],
 "metadata": {
  "kernelspec": {
   "display_name": "Python 3.10.6 64-bit",
   "language": "python",
   "name": "python3"
  },
  "language_info": {
   "codemirror_mode": {
    "name": "ipython",
    "version": 3
   },
   "file_extension": ".py",
   "mimetype": "text/x-python",
   "name": "python",
   "nbconvert_exporter": "python",
   "pygments_lexer": "ipython3",
   "version": "3.10.6"
  },
  "orig_nbformat": 4,
  "vscode": {
   "interpreter": {
    "hash": "82faa6d27c9a927522682e95cb30c684238aba2a31347a70411ee016fed8cfe5"
   }
  }
 },
 "nbformat": 4,
 "nbformat_minor": 2
}
