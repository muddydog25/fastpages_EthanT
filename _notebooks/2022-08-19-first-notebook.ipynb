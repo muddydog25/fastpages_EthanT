{
 "cells": [
  {
   "cell_type": "markdown",
   "metadata": {},
   "source": [
    "# Ethan's First Notebook\n",
    "> My first notebook!\n",
    "\n",
    "- badges: true\n",
    "- comments: true\n",
    "- author: Ethan Tran\n",
    "- categories: [fastpages, jupyter]"
   ]
  },
  {
   "cell_type": "code",
   "execution_count": 1,
   "metadata": {},
   "outputs": [
    {
     "name": "stdout",
     "output_type": "stream",
     "text": [
      "Hello\n"
     ]
    }
   ],
   "source": [
    "print(\"Hello\")"
   ]
  },
  {
   "cell_type": "code",
   "execution_count": 42,
   "metadata": {},
   "outputs": [
    {
     "name": "stdout",
     "output_type": "stream",
     "text": [
      "Lets calculate your time value of money after one year?\n",
      "How much money are you investing?\n",
      "$1000.00\n",
      "What is the interest rate of your investment?\n",
      "0.25\n",
      "This will be your amount of money after one year.\n",
      "$1250.00\n"
     ]
    }
   ],
   "source": [
    "print(\"Lets calculate your time value of money after one year!\")\n",
    "print(\"How much money are you investing?\")\n",
    "\n",
    "Money = float(input(\"Amount of money: \"))\n",
    "\n",
    "print(\"$\" + \"{:.2f}\".format(Money))\n",
    "\n",
    "print(\"What is the interest rate of your investment?\")\n",
    "\n",
    "r = float(input(\"Interest rate: \"))\n",
    "\n",
    "print(r)\n",
    "\n",
    "final_amount = 0\n",
    "\n",
    "final_amount = (Money * (1 + r))\n",
    "\n",
    "print('This will be your amount of money after one year.')\n",
    "print(\"$\" + \"{:.2f}\".format(final_amount))\n",
    "\n"
   ]
  }
 ],
 "metadata": {
  "kernelspec": {
   "display_name": "Python 3.10.6 64-bit",
   "language": "python",
   "name": "python3"
  },
  "language_info": {
   "codemirror_mode": {
    "name": "ipython",
    "version": 3
   },
   "file_extension": ".py",
   "mimetype": "text/x-python",
   "name": "python",
   "nbconvert_exporter": "python",
   "pygments_lexer": "ipython3",
   "version": "3.10.6"
  },
  "orig_nbformat": 4,
  "vscode": {
   "interpreter": {
    "hash": "82faa6d27c9a927522682e95cb30c684238aba2a31347a70411ee016fed8cfe5"
   }
  }
 },
 "nbformat": 4,
 "nbformat_minor": 2
}
