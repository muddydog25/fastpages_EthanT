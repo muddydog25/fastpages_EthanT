{
 "cells": [
  {
   "cell_type": "markdown",
   "metadata": {},
   "source": [
    "# Ethan's First Notebook\n",
    "> My first notebook!\n",
    "\n",
    "- badges: true\n",
    "- comments: true\n",
    "- author: Ethan Tran\n",
    "- categories: [fastpages, jupyter]"
   ]
  },
  {
   "cell_type": "markdown",
   "metadata": {},
   "source": [
    "# Printing \"Hello\""
   ]
  },
  {
   "cell_type": "code",
   "execution_count": 1,
   "metadata": {},
   "outputs": [
    {
     "name": "stdout",
     "output_type": "stream",
     "text": [
      "Hello\n"
     ]
    }
   ],
   "source": [
    "print(\"Hello\")"
   ]
  },
  {
   "cell_type": "markdown",
   "metadata": {},
   "source": [
    "## Time value of money after one year calculator! \n",
    "With this calculator that I made, you can insert any initial amount of money and any interest rate. In this demo, I started with $1000 and used an interest rate of 0.1563."
   ]
  },
  {
   "cell_type": "code",
   "execution_count": 1,
   "metadata": {},
   "outputs": [
    {
     "name": "stdout",
     "output_type": "stream",
     "text": [
      "Lets calculate your time value of money after one year!\n",
      "How much money are you investing?\n",
      "$50.00\n",
      "What is the interest rate of your investment?\n",
      "15.00%\n",
      "This will be your amount of money after one year.\n",
      "$57.50\n"
     ]
    }
   ],
   "source": [
    "\n",
    "print(\"Lets calculate your time value of money after one year!\")\n",
    "print(\"How much money are you investing?\")\n",
    "\n",
    "# Input the initial amount of money \n",
    "Money = float(input(\"Amount of money: \"))\n",
    "\n",
    "print(\"$\" + \"{:.2f}\".format(Money))\n",
    "\n",
    "# Input interest rate\n",
    "print(\"What is the interest rate of your investment?\")\n",
    "\n",
    "r = float(input(\"Interest rate: \"))\n",
    "percent = (r * 100)\n",
    "\n",
    "# Interest rate shown as a percentage\n",
    "print(\"{:.2f}\".format(percent) + \"%\")\n",
    "\n",
    "# Calculation of the final amount of money \n",
    "final_amount = (Money * (1 + r))\n",
    "\n",
    "print('This will be your amount of money after one year.')\n",
    "print(\"$\" + \"{:.2f}\".format(final_amount))"
   ]
  },
  {
   "cell_type": "code",
   "execution_count": 1,
   "metadata": {},
   "outputs": [
    {
     "name": "stdout",
     "output_type": "stream",
     "text": [
      "You are about to take an awesome quiz. Ready? (Yes or No)\n",
      "Greetings, etran running c:\\Users\\etran\\AppData\\Local\\Programs\\Python\\Python310\\python.exe\n",
      "There will be 3 questions asked.\n",
      "Question: Yes\n",
      "Question: How many states are in the United States of America?\n",
      "50 correct! \n",
      "Question: What is 8 x 5?\n",
      "40 correct! \n",
      "Question: Which was the first dynasty to rule Imperial China?\n",
      "Congrats! etran You got 3/3\n"
     ]
    },
    {
     "ename": "",
     "evalue": "",
     "output_type": "error",
     "traceback": [
      "The Kernel crashed while executing code in the the current cell or a previous cell. Please review the code in the cell(s) to identify a possible cause of the failure. Click <a href='https://aka.ms/vscodeJupyterKernelCrash'>here</a> for more info. View Jupyter <a href='command:jupyter.viewOutput'>log</a> for further details."
     ]
    }
   ],
   "source": [
    "YesNo = input(print(\"You are about to take an awesome quiz. Ready? (Yes or No)\"))\n",
    "\n",
    "def q_and_a(prompt):\n",
    "    print(\"Question: \")\n",
    "    student = input()\n",
    "    print(\"Answer: \")\n",
    "\n",
    "    q_and_a(\"test yes or no?\")\n",
    "    q_and_a(\"What is 8 x 5?\")\n",
    "    q_and_a(\"What is 50 / 5?\")\n",
    "\n",
    "\n",
    "\n",
    "import getpass, sys\n",
    "from tkinter.messagebox import YES\n",
    "\n",
    "def q_and_a(prompt):\n",
    "    print(\"Question: \" + prompt)\n",
    "    msg = input()\n",
    "    return msg\n",
    "\n",
    "questions = 3\n",
    "correct = 0 \n",
    "\n",
    "print('Greetings, ' + getpass.getuser() + \" running \" + sys.executable)\n",
    "print(\"There will be \" + str(questions) + \" questions asked.\")   \n",
    "\n",
    "rsp = q_and_a(YesNo)\n",
    "if rsp == \"Yes\":  \n",
    "    print(rsp + \"Lets go!\")\n",
    "    correct += 1\n",
    "    \n",
    "else:\n",
    "    exit()\n",
    "\n",
    "rsp = q_and_a(\"How many states are in the United States of America?\")\n",
    "\n",
    "if rsp == \"50\":\n",
    "        print(rsp + \" correct! \")\n",
    "        correct += 1\n",
    "\n",
    "else: \n",
    "        print(rsp + \" incorrect :(\")\n",
    "\n",
    "rsp = q_and_a(\"What is 8 x 5?\")\n",
    "\n",
    "if rsp == \"40\":\n",
    "        print(rsp + \" correct! \")\n",
    "        correct += 1\n",
    "\n",
    "else: \n",
    "        print(rsp + \" incorrect :(\")\n",
    "\n",
    "rsp = q_and_a(\"Which was the first dynasty to rule Imperial China?\")\n",
    "\n",
    "if rsp == \"Qin Dynasty\":\n",
    "    \n",
    "    print(\" correct! \")\n",
    "    correct += 1\n",
    "\n",
    "elif rsp == \"The Qin Dynasty\":\n",
    "    correct += 1\n",
    "\n",
    "elif rsp == \"Qin\":\n",
    "    correct += 1\n",
    "\n",
    "else:\n",
    "        print(rsp + \" incorrect :( \")\n",
    "\n",
    "if correct == 3:\n",
    "    print(\"Congrats! \" + (getpass.getuser() + \" You got \" + str(correct) +\"/\" + str(questions)))\n",
    "\n",
    "elif correct == 2:\n",
    "    print(\"Not bad, keep working! \" + (getpass.getuser() + \" You got \" + str(correct) +\"/\" + str(questions)))\n",
    "\n",
    "else:\n",
    "    print((getpass.getuser() + \" You got \" + str(correct) +\"/\" + str(questions)) + \" Its okay, better luck next time! \")\n",
    "\n",
    "\n",
    "\n"
   ]
  }
 ],
 "metadata": {
  "kernelspec": {
   "display_name": "Python 3.10.6 64-bit",
   "language": "python",
   "name": "python3"
  },
  "language_info": {
   "codemirror_mode": {
    "name": "ipython",
    "version": 3
   },
   "file_extension": ".py",
   "mimetype": "text/x-python",
   "name": "python",
   "nbconvert_exporter": "python",
   "pygments_lexer": "ipython3",
   "version": "3.10.6"
  },
  "orig_nbformat": 4,
  "vscode": {
   "interpreter": {
    "hash": "82faa6d27c9a927522682e95cb30c684238aba2a31347a70411ee016fed8cfe5"
   }
  }
 },
 "nbformat": 4,
 "nbformat_minor": 2
}
