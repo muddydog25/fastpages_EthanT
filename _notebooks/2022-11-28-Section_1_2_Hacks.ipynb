{
 "cells": [
  {
   "cell_type": "markdown",
   "metadata": {},
   "source": [
    "# Hacks Sections 1-2\n",
    "- badges: true\n",
    "- comments: true\n",
    "- author: Ethan Tran\n",
    "- categories: [hacks, turkey, tree, notes]\n",
    "\n",
    "## Unit 3.1.1 Hacks\n",
    "-Prompt: Create code that… 1) Uses variables 2) Shows your understanding of different variable data types by using at least 2 different types in your code 3) Uses meaningful names to prevent confusion\"\n"
   ]
  },
  {
   "cell_type": "code",
   "execution_count": 1,
   "metadata": {},
   "outputs": [
    {
     "name": "stdout",
     "output_type": "stream",
     "text": [
      "Hello World\n",
      "12\n"
     ]
    }
   ],
   "source": [
    "str=\"Hello World\"\n",
    "integerOne=7\n",
    "integerTwo=5\n",
    "\n",
    "print(str)\n",
    "print(integerOne + integerTwo)"
   ]
  },
  {
   "cell_type": "markdown",
   "metadata": {},
   "source": [
    "## Unit 3.1.2 Hacks\n",
    "- Prompt: In your own words, briefly explain by writing down what an assignment operator is.\n",
    "An assignment operator is a type of operator used to assign a value to a variable. It takes the form of \"=\", where the value on the right side of the operator is assigned to the variable on the left side. For example, a = 5 assigns the value of 5 to the variable a.\n",
    "\n",
    "- In Collegeboard pseudocode, what symbol is used to assign values to variables?\n",
    "An arrow (<–) is used to assign values to variables.\n",
    "\n",
    "- A variable, x, is initially given a value of 15. Later on, the value for x is changed to 22. If you print x, would the command display 15 or 22?\n",
    "If the variable x was changed to 22, then, print(x) would display 22.\n",
    "\n",
    "## Unit 3.2.1 Hacks\n",
    "1) What is a list?\n",
    "A list is a sequence of elements in which each element is represented by variable.\n",
    "\n",
    "2) What is an element?\n",
    "A basic unit of data in a programming language.\n",
    "\n",
    "3) What is an easy way to reference the elements in a list or string?\n",
    "An easy way to reference the elements in a list or string is to use indexes.\n",
    "\n",
    "4) What is an example of a string?\n",
    "An example of a string is a sequence of characters such as \"Apples\"."
   ]
  },
  {
   "cell_type": "markdown",
   "metadata": {},
   "source": [
    "## Unit 3.2.1 Hacks\n",
    "\n",
    "Create an index of your favorite foods\n",
    "Tips: Index starts at 1, Strings are ordered sequences of characters\n",
    "\n",
    "Extra work: Try to create an index that lists your favorite food and print the element at index 3. More work: Create a list of your favorite foods and create an index to access them.\n",
    "\n",
    "marks = [“food1”]"
   ]
  },
  {
   "cell_type": "code",
   "execution_count": 2,
   "metadata": {},
   "outputs": [
    {
     "name": "stdout",
     "output_type": "stream",
     "text": [
      "rice\n",
      "fried chicken\n"
     ]
    }
   ],
   "source": [
    "yumyum = [\"potatoes\", \"rice\", \"pasta\", \"fried chicken\"]\n",
    "print(yumyum[1])\n",
    "print(yumyum[3])"
   ]
  },
  {
   "cell_type": "markdown",
   "metadata": {},
   "source": [
    "## Unit 3.2.2 Hacks\n",
    "The following code is incomplete. Its intended purpose is to increase three numbers, all of which ask for user input, by an amount specified the user. The input code is abstracted, but the actual logic isn’t connected to the abstraction."
   ]
  },
  {
   "cell_type": "code",
   "execution_count": 11,
   "metadata": {},
   "outputs": [
    {
     "name": "stdout",
     "output_type": "stream",
     "text": [
      "User submitted numbers [5, 2, 77]\n",
      "Plus 25\n",
      "Result:  [30, 27, 102]\n"
     ]
    }
   ],
   "source": [
    "num1=input(\"Input a number. \")\n",
    "num2=input(\"Input a number. \")\n",
    "num3=input(\"Input a number. \")\n",
    "add=input(\"How much would you like to add? \")\n",
    "\n",
    "# Add code in the space below\n",
    "\n",
    "numlist = [int(num1), int(num2), int(num3)]\n",
    "print(\"User submitted numbers\", numlist)\n",
    "print(\"Plus \" + add)\n",
    "\n",
    "# The following is the code that adds the inputted addend to the other numbers. It is hidden from the user.\n",
    "\n",
    "for i in range (len(numlist)):\n",
    "    numlist[i-1] += int(add)\n",
    "\n",
    "print(\"Result: \", numlist)"
   ]
  },
  {
   "cell_type": "markdown",
   "metadata": {
    "vscode": {
     "languageId": "html"
    }
   },
   "source": [
    "## Unit 3.2.3 Hacks\n",
    "On a single markdown file:\n",
    "\n",
    "\n",
    "- Insert a screenshot of your score on the python quiz\n",
    "- Insert a screenshot of your simplification of the food list\n",
    "- Why are using lists better for a program, rather than writing out each line of code?\n",
    "Lists help to organize code and reduce repetitiveness in a program.\n",
    "\n",
    "- Make your own list the “long and slow way” then manage the complexity of the list"
   ]
  },
  {
   "cell_type": "markdown",
   "metadata": {},
   "source": [
    "<html>\n",
    "<p>Python Quiz Result</p>\n",
    "<img src=\"https://user-images.githubusercontent.com/109186517/204733146-a2577e33-451b-44df-bd14-e9c72423a3f8.png\" id=\"hacks_quiz\">\n",
    "</html>"
   ]
  },
  {
   "cell_type": "code",
   "execution_count": 12,
   "metadata": {},
   "outputs": [
    {
     "name": "stdout",
     "output_type": "stream",
     "text": [
      "Carrots Broccoli Cabbage Radishes\n"
     ]
    }
   ],
   "source": [
    "# List the \"long way\"\n",
    "vegetable1 = \"Carrots\"\n",
    "vegetable2 = \"Broccoli\"\n",
    "vegetable3 = \"Cabbage\"\n",
    "vegetable4 = \"Radishes\"\n",
    "print(vegetable1, vegetable2, vegetable3, vegetable4)"
   ]
  },
  {
   "cell_type": "code",
   "execution_count": 13,
   "metadata": {},
   "outputs": [
    {
     "name": "stdout",
     "output_type": "stream",
     "text": [
      "['Apples', 'Bananas', 'Watermelon', 'Oranges']\n"
     ]
    }
   ],
   "source": [
    "# List the \"short way\"\n",
    "fruits = [\"Apples\", \"Bananas\", \"Watermelon\", \"Oranges\"]\n",
    "print(fruits)"
   ]
  }
 ],
 "metadata": {
  "kernelspec": {
   "display_name": "Python 3.10.6 64-bit",
   "language": "python",
   "name": "python3"
  },
  "language_info": {
   "codemirror_mode": {
    "name": "ipython",
    "version": 3
   },
   "file_extension": ".py",
   "mimetype": "text/x-python",
   "name": "python",
   "nbconvert_exporter": "python",
   "pygments_lexer": "ipython3",
   "version": "3.10.6"
  },
  "orig_nbformat": 4,
  "vscode": {
   "interpreter": {
    "hash": "82faa6d27c9a927522682e95cb30c684238aba2a31347a70411ee016fed8cfe5"
   }
  }
 },
 "nbformat": 4,
 "nbformat_minor": 2
}
