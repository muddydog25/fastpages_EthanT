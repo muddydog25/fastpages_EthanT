{
 "cells": [
  {
   "attachments": {},
   "cell_type": "markdown",
   "metadata": {},
   "source": [
    "# Algorithms\n",
    "\n",
    "- badges: true\n",
    "- comments: true\n",
    "- author: Ethan Tran\n",
    "- categories: [algorithms, truth tables]"
   ]
  },
  {
   "attachments": {},
   "cell_type": "markdown",
   "metadata": {},
   "source": [
    "## Notes/Vocabulary\n",
    "\n",
    "Truth Tables:\n",
    "Truth tables are a type of mathematical table used in logic and computer science to display the truth-values of logical expressions. A truth table has one column for each input variable (for example, a, b, and c) and one final column showing all of the possible results of the expression for each combination of inputs. In other words, a truth table shows the output of a logical expression for every possible combination of input values. The output column of a truth table is often referred to as the \"truth value\" column because it shows the truth-value of the logical expression for each combination of inputs.\n",
    "\n",
    "Procedures/Functions:\n",
    "A procedure or function is a set of instructions that a computer can execute in order to accomplish a given task. Procedures and functions are a fundamental component of computer programming, and are used to break complex tasks into smaller, more manageable pieces. Generally, a procedure or function will take some input, perform some processing on the input, and return some output. Procedures and functions can be written in any programming language, though they are most commonly written in high-level languages such as C++, Java, and Python.\n",
    "\n",
    "Sequences of Code:\n",
    "A sequence of code is a set of instructions written in a programming language that can be executed by a computer. Sequences of code can range from simple commands to complex algorithms. Sequences of code are written to accomplish a specific task, such as sorting a list of numbers or displaying a user interface. Sequences of code are generally written in a programming language such as C++, Java, or Python."
   ]
  },
  {
   "cell_type": "markdown",
   "metadata": {},
   "source": [
    "**Example**"
   ]
  },
  {
   "cell_type": "code",
   "execution_count": 2,
   "metadata": {},
   "outputs": [
    {
     "name": "stdout",
     "output_type": "stream",
     "text": [
      "Truth Table\n",
      "\n",
      "A B C D | f(A,B,C,D)\n",
      "========|===========\n",
      "T T T T |     F\n",
      "T T T F |     T\n",
      "T T F T |     T\n",
      "T T F F |     F\n",
      "T F T T |     T\n",
      "T F T F |     F\n",
      "T F F T |     F\n",
      "T F F F |     T\n",
      "F T T T |     T\n",
      "F T T F |     F\n",
      "F T F T |     F\n",
      "F T F F |     T\n",
      "F F T T |     F\n",
      "F F T F |     T\n",
      "F F F T |     T\n",
      "F F F F |     F\n"
     ]
    }
   ],
   "source": [
    "def xor(x,y): \n",
    "  return (x or y) and not (x and y) \n",
    " \n",
    "# The boolean function\n",
    "def F(A, B, C, D): \n",
    "  P = xor(A, B) \n",
    "  Q = xor(C, D) \n",
    "  R = xor(P, Q) \n",
    "  return R \n",
    " \n",
    "# Translates between 'T'/'F' and True/False: \n",
    "def f(a,b,c,d): \n",
    "  t = 'T' \n",
    "  (A,B,C,D) = (a==t, b==t, c==t, d==t) \n",
    "  R = F(A, B, C, D) \n",
    "  return \"FT\"[R] \n",
    " \n",
    "print(\"Truth Table\") \n",
    "print() \n",
    "print(\"A B C D | f(A,B,C,D)\") \n",
    "print(\"========|===========\") \n",
    "r = \"TF\" \n",
    "for a in r: \n",
    "  for b in r: \n",
    "    for c in r: \n",
    "      for d in r: \n",
    "        print(a, b, c, d, \"|    \", f(a, b, c, d)) "
   ]
  }
 ],
 "metadata": {
  "kernelspec": {
   "display_name": "Python 3",
   "language": "python",
   "name": "python3"
  },
  "language_info": {
   "codemirror_mode": {
    "name": "ipython",
    "version": 3
   },
   "file_extension": ".py",
   "mimetype": "text/x-python",
   "name": "python",
   "nbconvert_exporter": "python",
   "pygments_lexer": "ipython3",
   "version": "3.10.6 (tags/v3.10.6:9c7b4bd, Aug  1 2022, 21:53:49) [MSC v.1932 64 bit (AMD64)]"
  },
  "orig_nbformat": 4,
  "vscode": {
   "interpreter": {
    "hash": "82faa6d27c9a927522682e95cb30c684238aba2a31347a70411ee016fed8cfe5"
   }
  }
 },
 "nbformat": 4,
 "nbformat_minor": 2
}
