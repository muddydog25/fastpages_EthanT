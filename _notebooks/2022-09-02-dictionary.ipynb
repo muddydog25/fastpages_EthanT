{
 "cells": [
  {
   "cell_type": "markdown",
   "metadata": {},
   "source": [
    "## Dictionary data set using \"input\""
   ]
  },
  {
   "cell_type": "code",
   "execution_count": 6,
   "metadata": {
    "vscode": {
     "languageId": "shellscript"
    }
   },
   "outputs": [
    {
     "name": "stdout",
     "output_type": "stream",
     "text": [
      "{'Sequence': 'Two or more lines of code', 'Key': 'A mix of fields used to take and sort rows from a given criteria', 'Value': 'Representation of an entity that can be changed by a given program', 'Import': 'A command that is used to add additional functions that have been previously developed', 'If': 'A command that is used to determine whether a response is correct or incorrect based on previously set expressions/conditions', 'Expression': 'Uses in an if statement to determine whether a given command is right or wrong'}\n"
     ]
    }
   ],
   "source": [
    "Vocabulary = {}\n",
    "\n",
    "for i in range(6):\n",
    "    Word = input(\" \")\n",
    "    Definition = input(\" \")\n",
    "\n",
    "    Vocabulary[Word] = Definition\n",
    "\n",
    "\n",
    "print(Vocabulary)"
   ]
  },
  {
   "cell_type": "code",
   "execution_count": null,
   "metadata": {
    "vscode": {
     "languageId": "shellscript"
    }
   },
   "outputs": [],
   "source": [
    "<table>\n",
    "    <tr>\n",
    "        <th>Word</th>\n",
    "        <th>Definition</th>\n",
    "      </tr>\n",
    "      <tr>\n",
    "        <td>Sequence</td>\n",
    "        <td>Two or more lines of code</td>\n",
    "      </tr>\n",
    "      <tr>\n",
    "        <td>Key</td>\n",
    "        <td>A mix of fields used to take and sort rows from a given criteria</td>\n",
    "      </tr>\n",
    "      <tr>\n",
    "        <td>Value</td>\n",
    "        <td>Representation of an entity that can be changed by a given program</td>\n",
    "      </tr>\n",
    "      <tr>\n",
    "        <td>Import</td>\n",
    "        <td>A command that is used to add additional functions that have been previously developed</td>\n",
    "      </tr>\n",
    "      <tr>\n",
    "        <td>If</td>\n",
    "        <td>A command that is used to determine whether a response is correct or incorrect based on previously set expressions/conditions</td>\n",
    "      </tr>\n",
    "      <tr>\n",
    "        <td>Expression</td>\n",
    "        <td>Uses in an if statement to determine whether a given command is right or wrong</td>\n",
    "      </tr>\n",
    "    </table>"
   ]
  }
 ],
 "metadata": {
  "kernelspec": {
   "display_name": "Python 3.10.6 64-bit",
   "language": "python",
   "name": "python3"
  },
  "language_info": {
   "codemirror_mode": {
    "name": "ipython",
    "version": 3
   },
   "file_extension": ".py",
   "mimetype": "text/x-python",
   "name": "python",
   "nbconvert_exporter": "python",
   "pygments_lexer": "ipython3",
   "version": "3.10.6"
  },
  "orig_nbformat": 4,
  "vscode": {
   "interpreter": {
    "hash": "82faa6d27c9a927522682e95cb30c684238aba2a31347a70411ee016fed8cfe5"
   }
  }
 },
 "nbformat": 4,
 "nbformat_minor": 2
}
