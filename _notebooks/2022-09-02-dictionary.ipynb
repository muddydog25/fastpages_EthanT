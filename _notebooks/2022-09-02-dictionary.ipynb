{
 "cells": [
  {
   "cell_type": "markdown",
   "metadata": {},
   "source": [
    "## Dictionary data set using \"input\""
   ]
  },
  {
   "cell_type": "code",
   "execution_count": 1,
   "metadata": {
    "vscode": {
     "languageId": "shellscript"
    }
   },
   "outputs": [
    {
     "name": "stdout",
     "output_type": "stream",
     "text": [
      "{'Sequence': 'Two or more lines of code', '': ''}\n"
     ]
    }
   ],
   "source": [
    "#Set vocabulary as an array\n",
    "Vocabulary = []\n",
    "\n",
    "for i in range(6):\n",
    "    Word = input(\" \")\n",
    "    Definition = input(\" \")\n",
    "\n",
    "    Vocabulary[Word] = Definition\n",
    "\n",
    "\n",
    "print(Vocabulary)"
   ]
  },
  {
   "cell_type": "markdown",
   "metadata": {},
   "source": []
  },
  {
   "cell_type": "code",
   "execution_count": 5,
   "metadata": {
    "vscode": {
     "languageId": "shellscript"
    }
   },
   "outputs": [
    {
     "name": "stdout",
     "output_type": "stream",
     "text": [
      "[{'FirstName': 'Ethan', 'LastName': 'Tran', 'Birth_Month': 'May', 'Sports': ['Basketball', 'Track']}, {'FirstName': 'Sean', 'LastName': 'Tran', 'Birth_Month': 'December', 'Sports': ['Basketball', 'Track', 'Volleyball']}]\n"
     ]
    }
   ],
   "source": [
    "InfoDb = []\n",
    "\n",
    "# InfoDB is a data structure with expected Keys and Values\n",
    "\n",
    "# Append to List a Dictionary of key/values related to a person and cars\n",
    "InfoDb.append({\n",
    "    \"FirstName\": \"Ethan\",\n",
    "    \"LastName\": \"Tran\",\n",
    "    \"Birth_Month\": \"May\",\n",
    "    \"Sports\": [\"Basketball\" , \"Track\"]\n",
    "})\n",
    "\n",
    "# Append to List a 2nd Dictionary of key/values\n",
    "InfoDb.append({\n",
    "    \"FirstName\": \"Sean\",\n",
    "    \"LastName\": \"Tran\",\n",
    "    \"Birth_Month\": \"December\",\n",
    "    \"Sports\" : [\"Basketball\" , \"Track\" , \"Volleyball\"]\n",
    "})\n",
    "\n",
    "# Print the data structure\n",
    "def print_data(person):\n",
    "    print(\"Name \" + person[\"FirstName\"] + person[\"LastName\"]) \n",
    "    print(person[\"Birth_Month\"] + person[\"Sports\"])\n",
    "print(InfoDb)\n"
   ]
  }
 ],
 "metadata": {
  "kernelspec": {
   "display_name": "Python 3.10.6 64-bit",
   "language": "python",
   "name": "python3"
  },
  "language_info": {
   "codemirror_mode": {
    "name": "ipython",
    "version": 3
   },
   "file_extension": ".py",
   "mimetype": "text/x-python",
   "name": "python",
   "nbconvert_exporter": "python",
   "pygments_lexer": "ipython3",
   "version": "3.10.6"
  },
  "orig_nbformat": 4,
  "vscode": {
   "interpreter": {
    "hash": "82faa6d27c9a927522682e95cb30c684238aba2a31347a70411ee016fed8cfe5"
   }
  }
 },
 "nbformat": 4,
 "nbformat_minor": 2
}
