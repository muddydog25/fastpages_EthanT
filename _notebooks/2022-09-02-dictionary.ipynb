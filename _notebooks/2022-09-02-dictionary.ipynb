{
 "cells": [
  {
   "cell_type": "code",
   "execution_count": null,
   "metadata": {},
   "outputs": [],
   "source": [
    "InfoDB = []\n",
    "\n",
    "InfoDB.append({\n",
    "\n",
    "\n",
    "})"
   ]
  },
  {
   "cell_type": "code",
   "execution_count": null,
   "metadata": {
    "vscode": {
     "languageId": "html"
    }
   },
   "outputs": [],
   "source": [
    "<table>\n",
    "    <tr>\n",
    "        <th>Word</th>\n",
    "        <th>Definition</th>\n",
    "      </tr>\n",
    "      <tr>\n",
    "        <td>Sequence</td>\n",
    "        <td>Two or more lines of code</td>\n",
    "      </tr>\n",
    "      <tr>\n",
    "        <td>Key</td>\n",
    "        <td>A mix of fields used to take and sort rows from a given criteria</td>\n",
    "      </tr>\n",
    "      <tr>\n",
    "        <td>Value</td>\n",
    "        <td>Representation of an entity that can be changed by a given program</td>\n",
    "      </tr>\n",
    "      <tr>\n",
    "        <td>Import</td>\n",
    "        <td>A command that is used to add additional functions that have been previously developed</td>\n",
    "      </tr>\n",
    "      <tr>\n",
    "        <td>If</td>\n",
    "        <td>A command that is used to determine whether a response is correct or incorrect based on previously set expressions/conditions</td>\n",
    "      </tr>\n",
    "      <tr>\n",
    "        <td>Expression</td>\n",
    "        <td>Used in an if statement to determine whether a given command is right or wrong</td>\n",
    "      </tr>\n",
    "    </table>"
   ]
  }
 ],
 "metadata": {
  "kernelspec": {
   "display_name": "Python 3.10.6 64-bit",
   "language": "python",
   "name": "python3"
  },
  "language_info": {
   "name": "python",
   "version": "3.10.6"
  },
  "orig_nbformat": 4,
  "vscode": {
   "interpreter": {
    "hash": "82faa6d27c9a927522682e95cb30c684238aba2a31347a70411ee016fed8cfe5"
   }
  }
 },
 "nbformat": 4,
 "nbformat_minor": 2
}
