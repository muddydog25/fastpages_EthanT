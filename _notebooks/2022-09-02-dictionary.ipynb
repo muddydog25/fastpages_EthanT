{
 "cells": [
  {
   "cell_type": "markdown",
   "metadata": {},
   "source": [
    "# Lists, Dictionaries, & Iterations\n",
    "\n",
    "- badges: true\n",
    "- comments: true\n",
    "- author: Ethan Tran\n",
    "- categories: [fastpages, jupyter, dictionary, dictionaries, lists, functions, for loop, while loop, recursive]"
   ]
  },
  {
   "cell_type": "markdown",
   "metadata": {},
   "source": [
    "## Lists, Dictionaries, & Iterations (input)\n",
    "1. Using a list, I can set-up the to-be list of vocabulary\n",
    "2. The list goes up to 6 inputs thus, the range is equates to 6\n",
    "3. The \"Word\" and \"Definition\" are set as inputs that can be set by the user\n",
    "4. The \"Vocabulary\" is the final product as a result of the user's inputs"
   ]
  },
  {
   "cell_type": "code",
   "execution_count": 7,
   "metadata": {},
   "outputs": [
    {
     "name": "stdout",
     "output_type": "stream",
     "text": [
      "{'Sequence': 'Two or more lines of code', 'Key': 'A mix of fields used to take and sort rows from a given criteria', 'Value': 'Representation of an entity that can be changed by a given program', 'Import': 'A command that is used to add additional functions that have been previously developed', 'If': 'A command that is used to determine whether a response is correct or incorrect based on previously set expressions/conditions', 'Expression': 'Used in an if statement to determine whether a given command is right or wrong'}\n"
     ]
    }
   ],
   "source": [
    "Vocabulary = {}\n",
    "\n",
    "for i in range(6):\n",
    "    Word = input(\" \")\n",
    "    Definition = input(\" \")\n",
    "\n",
    "    Vocabulary[Word] = Definition\n",
    "\n",
    "\n",
    "print(Vocabulary)"
   ]
  },
  {
   "cell_type": "markdown",
   "metadata": {},
   "source": [
    "## Personalized InfoDB (for + while loops & recursive function)\n",
    "1. Set InfoDB as a list\n",
    "2. Using the \".append\" expression, I can personalize (add) to my lists\n",
    "3. Set up the data structure of the lists\n",
    "4. Print the data structure to prepare it before formatting\n",
    "5. The \"for_loop\" takes the data from \"InfoDB\" until the list is empty\n",
    "6. Using the \"while_loop,\" the function will count through the elements of the list from zero until the end\n",
    "7. The \"recursive_loop\" will continue to run itself within the given \"if\" statement until the end of the program  "
   ]
  },
  {
   "cell_type": "code",
   "execution_count": 1,
   "metadata": {
    "vscode": {
     "languageId": "shellscript"
    }
   },
   "outputs": [
    {
     "name": "stdout",
     "output_type": "stream",
     "text": [
      "[{'FirstName': 'Ethan', 'LastName': 'Tran', 'Birth_Month': 'May', 'Sports': ['Basketball', 'Track']}, {'FirstName': 'Sean', 'LastName': 'Tran', 'Birth_Month': 'December', 'Sports': ['Basketball', 'Track', 'Volleyball']}]\n"
     ]
    }
   ],
   "source": [
    "InfoDb = []\n",
    "\n",
    "InfoDb.append({\n",
    "    \"FirstName\": \"Ethan\",\n",
    "    \"LastName\": \"Tran\",\n",
    "    \"Birth_Month\": \"May\",\n",
    "    \"Sports\": [\"Basketball\" , \"Track\"]\n",
    "})\n",
    "\n",
    "InfoDb.append({\n",
    "    \"FirstName\": \"Sean\",\n",
    "    \"LastName\": \"Tran\",\n",
    "    \"Birth_Month\": \"December\",\n",
    "    \"Sports\" : [\"Basketball\" , \"Track\" , \"Volleyball\"]\n",
    "})\n",
    "\n",
    "def print_data(person):\n",
    "    print(\"Name \" + person[\"FirstName\"] + person[\"LastName\"]) \n",
    "    print(person[\"Birth_Month\"] + person[\"Sports\"])\n",
    "print(InfoDb)\n",
    "\n",
    "def for_loop():\n",
    "    for person in InfoDB:\n",
    "        print_data(person)\n",
    "\n",
    "def while_loop():\n",
    "    i = 0\n",
    "    while i < len(InfoDb):\n",
    "        print_data(InfoDb[i])\n",
    "        i = i + 1\n",
    "\n",
    "def recursive(index):\n",
    "    if index >= len(InfoDb):\n",
    "        return\n",
    "\n",
    "    print_data(InfoDB[index])\n",
    "\n",
    "    return recursive(index + 1)\n"
   ]
  },
  {
   "cell_type": "markdown",
   "metadata": {},
   "source": [
    "## Quiz using lists, dictionaries, and iterations\n",
    "1. Uses input to allow the questions to be answered\n",
    "2. A questions dictionary and answers dictionary are each set\n",
    "3. A while_loop allows data to be pulled from the dictionaries (named lists for the variables) until the number of questions and answers hit zero"
   ]
  },
  {
   "cell_type": "code",
   "execution_count": null,
   "metadata": {},
   "outputs": [],
   "source": [
    "# Importing getpass, system, and random\n",
    "import getpass, sys\n",
    "import random\n",
    "\n",
    "# Function to layout the questions and answers \n",
    "def ask_question (question, answer):\n",
    "\n",
    "# Allow answers to be typed in through input & print the questions and answers\n",
    "    print(question)\n",
    "    ans = input(question)\n",
    "    print(ans)\n",
    "   \n",
    "\n",
    "# Print \"Correct!\"\" and add 1 point (through return) per correct answer \n",
    "    if ans == answer:\n",
    "        print(\"Correct!\")\n",
    "        return 1\n",
    "\n",
    "# Print \"Wrong\" when an answer is incorrect and return 0 points\n",
    "    else:\n",
    "        print(\"Wrong\")\n",
    "        return 0\n",
    "\n",
    "# A list of my questions and answers using the previously added \"ask_question\" function\n",
    "question_list = [\"Who was the first emperor of Imperial China?\" , \"What is 5 x 8?\" , \"How many states are there in the United States of America?\" , \"What command is used to include other functions that were previously developed?\" , \"What command is used to evaluate correct or incorrect response in this example?\" , \"Each 'if' command contains an '_________' to determine a true or false condition?\" , \"What iterates a sequence until the code is over?\" , \"What repeats a block of code as long as the expression remains true?\"]\n",
    "answer_list = [\"Qin\", \"40\", \"50\" , \"import\" , \"if\" , \"expression\" , \"for_loop\" , \"while_loop\"]\n",
    "\n",
    "# Set points to 0 at the start of the quiz\n",
    "points = 0\n",
    "\n",
    "# If the length of the quiz is greater than 0, then random questions will be chosen from the \"question_list\" set\n",
    "while len(question_list) > 0:\n",
    "    index = random.randint(0, len(question_list) - 1)\n",
    "    \n",
    "# The points system where a point is rewarded for each correct answer    \n",
    "    points = points + ask_question(question_list[index], answer_list[index])\n",
    "    \n",
    "# If a question or answer has already been used, then it shall be deleted    \n",
    "    del question_list[index]\n",
    "    del answer_list[index]\n",
    "\n",
    "# Calculating score using the points system and dividing it by the total number of questions (6)\n",
    "score = (points / 6)\n",
    "\n",
    "# Calculating the percentage of correct answers by multiplying the score by 100\n",
    "percent = (score * 100)\n",
    "\n",
    "# Printing the percentage, and formatting the percentage in a way where two decimals can be shown (through \"{:.2f}\")\n",
    "print(\"{:.2f}\".format(percent) + \"%\")\n",
    "\n",
    "# Adding final remarks based upon the users given scores\n",
    "if points >= 5:\n",
    "         print(\"Your total score is: \", points, \"out of 6. Congratulations!\")\n",
    "\n",
    "elif points == 4:\n",
    "         print(\"Your total score is: \", points, \"out of 6. Not bad, keep working! \" )\n",
    "\n",
    "else:\n",
    "         print(\"Your total score is: \", points, \"out of 6. Its okay, better luck next time!\")\n"
   ]
  }
 ],
 "metadata": {
  "kernelspec": {
   "display_name": "Python 3.10.6 64-bit",
   "language": "python",
   "name": "python3"
  },
  "language_info": {
   "codemirror_mode": {
    "name": "ipython",
    "version": 3
   },
   "file_extension": ".py",
   "mimetype": "text/x-python",
   "name": "python",
   "nbconvert_exporter": "python",
   "pygments_lexer": "ipython3",
   "version": "3.10.6"
  },
  "orig_nbformat": 4,
  "vscode": {
   "interpreter": {
    "hash": "82faa6d27c9a927522682e95cb30c684238aba2a31347a70411ee016fed8cfe5"
   }
  }
 },
 "nbformat": 4,
 "nbformat_minor": 2
}
