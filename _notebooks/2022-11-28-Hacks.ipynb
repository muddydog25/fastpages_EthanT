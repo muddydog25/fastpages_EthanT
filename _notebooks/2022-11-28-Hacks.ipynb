{
 "cells": [
  {
   "cell_type": "markdown",
   "metadata": {},
   "source": [
    "## Hacks Sections 1-2\n",
    "1) What is a list?\n",
    "A list is a  \n",
    "\n",
    "2) What is an element?\n",
    "\n",
    "3) What is an easy way to reference the elements in a list or string?\n",
    "\n",
    "4) What is an example of a string?"
   ]
  },
  {
   "cell_type": "markdown",
   "metadata": {},
   "source": [
    "## Hacks Sections 5-7\n",
    "<img src=\"https://user-images.githubusercontent.com/109186517/204653245-6452c94f-3b67-485f-a8a2-ad3d2bc7e7d7.png)\" id=\"EvaluationHack\">\n",
    "The answer would equate to 3."
   ]
  },
  {
   "cell_type": "code",
   "execution_count": null,
   "metadata": {},
   "outputs": [],
   "source": [
    "prompt=\"My Crossword Hacks Answers\"\n",
    "answers=\"1)Iteration 2) Selection 3) Sequence\""
   ]
  }
 ],
 "metadata": {
  "kernelspec": {
   "display_name": "Python 3.10.6 64-bit",
   "language": "python",
   "name": "python3"
  },
  "language_info": {
   "codemirror_mode": {
    "name": "ipython",
    "version": 3
   },
   "file_extension": ".py",
   "mimetype": "text/x-python",
   "name": "python",
   "nbconvert_exporter": "python",
   "pygments_lexer": "ipython3",
   "version": "3.10.6"
  },
  "orig_nbformat": 4,
  "vscode": {
   "interpreter": {
    "hash": "82faa6d27c9a927522682e95cb30c684238aba2a31347a70411ee016fed8cfe5"
   }
  }
 },
 "nbformat": 4,
 "nbformat_minor": 2
}
