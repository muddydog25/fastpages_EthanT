{
 "cells": [
  {
   "attachments": {},
   "cell_type": "markdown",
   "metadata": {},
   "source": [
    "# CompSci / Technical Business Panel Notes\n",
    "- author: Ethan Tran\n",
    "- toc: true\n",
    "- badges: false"
   ]
  },
  {
   "attachments": {},
   "cell_type": "markdown",
   "metadata": {},
   "source": [
    "## Kathyleen Beveridge\n",
    "\n",
    "1) Background:\n",
    "- MBA, USC\n",
    "- BS in Finance, Santa Clara University\n",
    "- Switched from finance to high tech in 2005\n",
    "- Sr. Director of Commercial and Marketing Operations (Thermo Fisher Scientific)\n",
    "- Director of Commercial Excellence (Thermo Fisher Scientific)\n",
    "- Used databases and data science for predictions on when and where to sell specific products\n",
    "- Mission Statements \n",
    "- HP Inc: Create technology that makes life better for everyone, everywhere\n",
    "- Qualcomm: Investing tech that the world loves\n",
    "- Thermo Fisher Scientific: Enable our customers to make the world healthier, cleaner, and safer\n",
    "- Companies that create products, thus, their mission statements are based upon satisfying and meeting the needs of their customers\n",
    "\n",
    "2) Conclusion: \n",
    "- Worked for companies that had a macro impact on the lives of their users/customers\n",
    "- “No matter what you choose to do…[you] can make an impact on the world.”\n",
    "- Agile Methodology:\n",
    "- Short sprints to plan out work in short increments/ in a matter of a few months.\n",
    "\n",
    "## Kris Porter\n",
    "\n",
    "1) Background:\n",
    "- UCLA, Electrical engineering\n",
    "- Master’s in electrical engineering, Cal State LA \n",
    "- Software Engineer - SRE\n",
    "- Infrastructure Engineer\n",
    "- Research\n",
    "- Center for Embedded Networked Sensors\n",
    "- Networked Info Mechanical Systems NIMS\n",
    "- Introduced to Linux Operating System, Software Development Life Cycle\n",
    "\n",
    "2) Career:\n",
    "- Worked with virtual servers, data collection, and automation\n",
    "- Systems Engineer at GPM (startup) \n",
    "- Infrastructure at NBC Universal, Streaming media\n",
    "- DevOps at Qualcomm - Machine learning and deep learning, used Python libraries and data to determine when to archive and delete repositories on GitLab\n",
    "- Twitter - APIs and data centers, migrating HomeTimeline to GraphQL\n",
    "- Twitter University (formal training on the company’s systems, tools, management, etc.)\n",
    "- Currently at Mystem Labs\n",
    "- Agile Methodology: \n",
    "- Group of 150 engineers that interacted and planned together through the use of meetings - developed a road map of projects. \n",
    "\n",
    "## Conclusion Question:\n",
    "\n",
    "1) What are some of the most important skills for the tech industry?\n",
    "\n",
    "**Mr. Porter**\n",
    "- “Learning how to learn” - ie. programming languages, infrastructures, etc.\n",
    "Stay resilient when going into/finding work, stay confident\n",
    "\n",
    "**Mrs. Beveridge**\n",
    "- Continuous learning\n",
    "- Be adaptive\n",
    "- Have the ability to listen to requirements and translate your work into how technology can serve those needs\n",
    "- Be prepared for interviews \n"
   ]
  },
  {
   "attachments": {},
   "cell_type": "markdown",
   "metadata": {},
   "source": [
    "## Key Takeaways\n",
    "\n",
    "Overall, I really enjoyed the CompSci / Technical Business panel, as it was quite informative. Hearing from the perspectives of Mrs. Beveridge and Mr. Porter helped to open my eyes for a career in tech. I learned about the many types of jobs within the field of computer science, as well as the importance of working in teams; holding meetings, such as the ones we have with our Scrum Teams can help prepare us for our real-world jobs. From Mrs. Beveridge's presentation, I found it interesting that though our work may seem small in a field of many, in her own words, “No matter what you choose to do…[you] can make an impact on the world.” Mr. Porter opened up about his career working in infrastructure and deep learning at companies such as NBC Universal and Qualcomm - it was quite interesting to learn about many of his experiences. From his slides, I learned about continuous learning and that to help yourself succeed in the field of computer science, you must always be \"learning how to \n",
    "learn,\" whether it be a new system, tool, etc. In conclusion, this panel was very interesting and I believe that I gained a lot of resourceful knowledge that I can apply and use in the classroom and beyond. "
   ]
  }
 ],
 "metadata": {
  "kernelspec": {
   "display_name": "Python 3",
   "language": "python",
   "name": "python3"
  },
  "language_info": {
   "name": "python",
   "version": "3.10.6 (tags/v3.10.6:9c7b4bd, Aug  1 2022, 21:53:49) [MSC v.1932 64 bit (AMD64)]"
  },
  "orig_nbformat": 4,
  "vscode": {
   "interpreter": {
    "hash": "82faa6d27c9a927522682e95cb30c684238aba2a31347a70411ee016fed8cfe5"
   }
  }
 },
 "nbformat": 4,
 "nbformat_minor": 2
}
