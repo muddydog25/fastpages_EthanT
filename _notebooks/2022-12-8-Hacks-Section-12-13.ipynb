{
 "cells": [
  {
   "attachments": {},
   "cell_type": "markdown",
   "metadata": {},
   "source": [
    "# Hacks Sections 12-13\n",
    "- toc: true\n",
    "- badges: false\n",
    "- author: Ethan Tran\n",
    "- categories: [unit 3, sections 12-13, notes hacks]"
   ]
  },
  {
   "attachments": {},
   "cell_type": "markdown",
   "metadata": {},
   "source": [
    "## Notes\n",
    "\n",
    "Procedures: A procedure is a block of code that performs a particular task. It can contain variables, constants, data structures, and other programming constructs. Procedures are also known as subroutines, functions, methods, or routines. They are used to break up large programs into smaller, more manageable pieces.\n",
    "\n",
    "Parameters: Parameters are values that are passed to a procedure or function. They are used to customize the behavior of the procedure or function and can be used to modify its input and output.\n",
    "\n",
    "Return Values: Return values are values that are returned from a procedure or function. They can be used to indicate the success or failure of a procedure or function, as well as return a value or set of values.\n",
    "\n",
    "Output Parameters: Output parameters are values that are passed out of a procedure or function. They are used to return values from a procedure or function and can be used to modify its output."
   ]
  },
  {
   "attachments": {},
   "cell_type": "markdown",
   "metadata": {},
   "source": [
    "## Section 3.12 Hacks"
   ]
  },
  {
   "attachments": {},
   "cell_type": "markdown",
   "metadata": {},
   "source": [
    "**1. Define procedure and parameter in your own words & Define Return Values and Output Parameters in your own words** \n",
    "\n",
    "a) Procedure: A block of code that is created to perform a given task - essentially a function.\n",
    "\n",
    "b) Parameter: A variable that is utilized in a function that enables data to be imported into said function.\n",
    "\n",
    "**2. Paste a screenshot of completion of the quiz**\n",
    "<html>\n",
    "<img src=\"https://user-images.githubusercontent.com/109186517/207211958-ccf9280c-595b-4d7e-8301-126fb245cf15.png\" height=\"550px\">\n",
    "</html>\n",
    "\n",
    "**3. Define Return Values and Output Parameters in your own words**\n",
    "\n",
    "a) Return Values: A return value is a value that is returned by a function or method to the calling code after it has finished executing. It is the value that is passed back to the calling code once the function or method has finished its job.\n",
    "\n",
    "b) Output Parameters: Output parameters are variables that are passed by reference to a function or method and are used to return a value to the calling code. They are typically used to return multiple values from a single function or method.\n",
    "\n",
    "**Code a procedure that finds the square root of any given number. (make sure to call and return the function)**"
   ]
  },
  {
   "cell_type": "code",
   "execution_count": 28,
   "metadata": {},
   "outputs": [
    {
     "name": "stdout",
     "output_type": "stream",
     "text": [
      "Input: 225.0\n",
      "Square root: 15\n"
     ]
    }
   ],
   "source": [
    "import math\n",
    "\n",
    "userNum = float(input())\n",
    "\n",
    "def sqrt(userNum):\n",
    "    return userNum\n",
    "\n",
    "sqrt = math.sqrt(userNum)\n",
    "print(\"Input:\" , userNum)\n",
    "print(\"Square root:\" , int(sqrt))"
   ]
  },
  {
   "cell_type": "code",
   "execution_count": 9,
   "metadata": {},
   "outputs": [
    {
     "name": "stdout",
     "output_type": "stream",
     "text": [
      "Input: 25.0\n",
      "5.0\n"
     ]
    }
   ],
   "source": [
    "import math\n",
    "\n",
    "userNum = float(input())\n",
    "\n",
    "sqrt = math.sqrt(userNum)\n",
    "print(\"Input:\" , userNum)\n",
    "print(sqrt)"
   ]
  },
  {
   "attachments": {},
   "cell_type": "markdown",
   "metadata": {},
   "source": [
    "## Section 3.13 (3.B) Hacks\n",
    "\n",
    "1) Q: Explain, in your own words, why abstracting away your program logic into separate, modular functions is effective\n",
    "   \n",
    "    A: Abstracting away program logic into separate, modular functions is effective when coding because it makes the code easier to read and understand, more reusable and maintainable, and allows for better organization and structure. By breaking down large, complex tasks into smaller, more manageable functions, it can help to simplify the code and make it more organized, which makes debugging and troubleshooting much easier. Additionally, modular functions are easier to update and extend, since they can be tested, modified, and replaced independently. This can help reduce the amount of code needed to be written and improve the overall code quality. Finally, modular functions make code more reusable, as they can be used in multiple projects and functions, which can lead to faster development times and reduced maintenance costs.\n",
    "\n",
    "2) Create a procedure that uses other sub-procedures (other functions) within it and explain why the abstraction was needed (conciseness, shared behavior, etc.)\n",
    "\n",
    "The procedure below requires abstraction as it allows the function to organize the code as a whole. Abstracting the variables x and y allows me to not have to call the variables over and over again within the same function."
   ]
  },
  {
   "cell_type": "code",
   "execution_count": 8,
   "metadata": {},
   "outputs": [
    {
     "name": "stdout",
     "output_type": "stream",
     "text": [
      "120\n"
     ]
    }
   ],
   "source": [
    "# Set variables \n",
    "x = 20\n",
    "y = 100\n",
    "\n",
    "# Set function\n",
    "def addition(x,y):\n",
    "    sum = x + y\n",
    "    return(sum)\n",
    "\n",
    "#Print the result\n",
    "print(addition(x,y))"
   ]
  },
  {
   "attachments": {},
   "cell_type": "markdown",
   "metadata": {},
   "source": [
    "3) Add another layer of abstraction to the word counter program (HINT: create a function that can count the number of words starting with ANY character in a given string -- how can we leverage parameters for this?)"
   ]
  },
  {
   "cell_type": "code",
   "execution_count": 19,
   "metadata": {},
   "outputs": [
    {
     "name": "stdout",
     "output_type": "stream",
     "text": [
      "0 word(s) starting with 2\n"
     ]
    }
   ],
   "source": [
    "def split_string(s):\n",
    "    # use the split() method to split the string into a list of words\n",
    "    words = s.split(\" \")\n",
    "\n",
    "\t# initialize a new list to hold all non-empty strings\n",
    "    new_words = []\n",
    "    for word in words:\n",
    "        if word != \"\":\n",
    "            # add all non-empty substrings of `words` to `new_words`\n",
    "            new_words.append(word)\n",
    "    \n",
    "    return words\n",
    "\n",
    "# this function takes a list of words as input and returns the number of words\n",
    "# that start with the given letter (case-insensitive)\n",
    "def count_words_starting_with_letter(words, letter):\n",
    "    count = 0\n",
    "    \n",
    "    # loop through the list of words and check if each word starts with the given letter\n",
    "    for word in words:\n",
    "        # use the lower() method to make the comparison case-insensitive\n",
    "        if word.lower().startswith(letter):\n",
    "            count += 1\n",
    "    \n",
    "    return count\n",
    "\n",
    "# this function takes a string as input and returns the number of words that start with 'a'\n",
    "def count_words_starting_with_a_in_string(s):\n",
    "    # use the split_string() function to split the input string into a list of words\n",
    "    words = split_string(s)\n",
    "    \n",
    "    # use the count_words_starting_with_letter() function to count the number of words\n",
    "    # that start with 'a' in the list of words\n",
    "    count = count_words_starting_with_letter(words, \"a\")\n",
    "    \n",
    "    return count\n",
    "\n",
    "# see above\n",
    "def count_words_starting_with_d_in_string(s):\n",
    "    words = split_string(s)\n",
    "    count = count_words_starting_with_letter(words, \"d\")\n",
    "    return count\n",
    "\n",
    "def any_count(sentence, letter):\n",
    "    \n",
    "    words = split_string(sentence)\n",
    "\n",
    "    count = count_words_starting_with_letter(words, letter)\n",
    "\n",
    "    return count\n",
    "\n",
    "userLetter = input(\"Type any letter\")\n",
    "answer = count_anything(s, str(userLetter))\n",
    "print(str(answer) + \" word(s) starting with \" + str(userLetter))\n"
   ]
  },
  {
   "attachments": {},
   "cell_type": "markdown",
   "metadata": {},
   "source": [
    "## Section 3.13 (3.C) Hacks\n",
    "\n",
    "1) Define procedure names and arguments in your own words.\n",
    "Procedures and arguments are used to describe chunks of code that accomplish specific tasks. A procedure name is a label used to identify the code, while arguments are the inputs that the procedure can accept.\n",
    "\n",
    "2) Code some procedures that use arguments and parameters with Javascript and HTML (make sure they are interactive on your hacks page, allowing the user to input numbers and click a button to produce an output)\n",
    "\n",
    "- Add two numbers\n",
    "\n",
    "- Subtract two numbers\n",
    "\n",
    "- Multiply two numbers\n",
    "\n",
    "- Divide two numbers\n",
    "\n",
    "### Extra Work: Calculator uses binary"
   ]
  },
  {
   "attachments": {},
   "cell_type": "markdown",
   "metadata": {},
   "source": [
    "<html>\n",
    "\t<head>\n",
    "\t\t<title></title>\n",
    "\t</head>\n",
    "\t<body>\n",
    "    <h1>Binary Calculator for +, -, *</h1>\n",
    "\t\t<h2>& Normal integer division</h2>\n",
    "\t\t<form>\n",
    "\t\t\t<input type=\"text\" id=\"first-number\" placeholder=\"First Number\">\n",
    "\t\t\t<input type=\"text\" id=\"second-number\" placeholder=\"Second Number\">\n",
    "\t\t\t<button type=\"button\" id=\"add-button\">+</button>\n",
    "\t\t\t<button type=\"button\" id=\"subtract-button\">-</button>\n",
    "\t\t\t<button type=\"button\" id=\"multiply-button\">*</button>\n",
    "\t\t\t<button type=\"button\" id=\"divide-button\">/</button>\n",
    "\t\t\t<button type=\"button\" id=\"clear-button\">Clear</button>\n",
    "\t\t\t<p id=\"result\"></p>\n",
    "\t\t</form>\n",
    "\t\t<script>\n",
    "\t\t\tfunction binaryToDecimal(binary) {\n",
    "\t\t\t\tvar decimal = 0;\n",
    "\t\t\t\tvar power = 0;\n",
    "\t\t\t\tfor (var i = binary.length - 1; i >= 0; i--) {\n",
    "\t\t\t\t\tdecimal += binary[i] * Math.pow(2, power);\n",
    "\t\t\t\t\tpower++;\n",
    "\t\t\t\t}\n",
    "\t\t\t\treturn decimal;\n",
    "\t\t\t}\n",
    "\t\t\tfunction decimalToBinary(decimal) {\n",
    "\t\t\t\tvar binary = \"\";\n",
    "\t\t\t\twhile (decimal > 0) {\n",
    "\t\t\t\t\tbinary = decimal % 2 + binary;\n",
    "\t\t\t\t\tdecimal = Math.floor(decimal / 2);\n",
    "\t\t\t\t}\n",
    "\t\t\t\treturn binary;\n",
    "\t\t\t}\n",
    "\t\t\tfunction add(a, b) {\n",
    "\t\t\t\treturn a + b;\n",
    "\t\t\t};\n",
    "\t\t\tfunction subtract(a, b) {\n",
    "\t\t\t\treturn a - b;\n",
    "\t\t\t};\n",
    "\t\t\tfunction multiply(a, b) {\n",
    "\t\t\t\treturn a * b;\n",
    "\t\t\t};\n",
    "\t\t\tfunction divide(a, b) {\n",
    "\t\t\t\treturn a / b;\n",
    "\t\t\t};\n",
    "\t\t\tfunction calculate(a, b, operation) {\n",
    "\t\t\t\tvar decimalA = binaryToDecimal(a);\n",
    "\t\t\t\tvar decimalB = binaryToDecimal(b);\n",
    "\t\t\t\tvar decimalResult = operation(decimalA, decimalB);\n",
    "\t\t\t\tvar binaryResult = decimalToBinary(decimalResult);\n",
    "\t\t\t\treturn binaryResult;\n",
    "\t\t\t}\n",
    "\t\t\tvar firstNumber = document.getElementById(\"first-number\");\n",
    "\t\t\tvar secondNumber = document.getElementById(\"second-number\");\n",
    "\t\t\tvar addButton = document.getElementById(\"add-button\");\n",
    "\t\t\tvar subtractButton = document.getElementById(\"subtract-button\");\n",
    "\t\t\tvar clearButton = document.getElementById(\"clear-button\");\n",
    "      var multiplyButton = document.getElementById(\"multiply-button\");\n",
    "      var divideButton = document.getElementById(\"divide-button\");\n",
    "\t\t\tvar result = document.getElementById(\"result\");\n",
    "\t\t\taddButton.addEventListener(\"click\", function() {\n",
    "\t\t\t\tresult.innerHTML = calculate(firstNumber.value, secondNumber.value, add);\n",
    "\t\t\t});\n",
    "\t\t\tsubtractButton.addEventListener(\"click\", function() {\n",
    "\t\t\t\tresult.innerHTML = calculate(firstNumber.value, secondNumber.value, subtract);\n",
    "\t\t\t});\n",
    "\t\t\tmultiplyButton.addEventListener(\"click\", function() {\n",
    "\t\t\t\tresult.innerHTML = calculate(firstNumber.value, secondNumber.value, multiply);\n",
    "\t\t\t});\n",
    "\t\t\tdivideButton.addEventListener(\"click\", function() {\n",
    "\t\t\t\tresult.innerHTML = calculate(firstNumber.value, secondNumber.value, divide);\n",
    "\t\t\t});\n",
    "\t\t\tclearButton.addEventListener(\"click\", function() {\n",
    "\t\t\t\tresult.innerHTML = \" \";\n",
    "\t\t\t\tfirstNumber.value = \" \";\n",
    "\t\t\t\tsecondNumber.value = \" \";\n",
    "\t\t\t});\n",
    "\t\t</script>\n",
    "\t</body>\n",
    "</html>\n"
   ]
  }
 ],
 "metadata": {
  "kernelspec": {
   "display_name": "Python 3",
   "language": "python",
   "name": "python3"
  },
  "language_info": {
   "codemirror_mode": {
    "name": "ipython",
    "version": 3
   },
   "file_extension": ".py",
   "mimetype": "text/x-python",
   "name": "python",
   "nbconvert_exporter": "python",
   "pygments_lexer": "ipython3",
   "version": "3.10.6 (tags/v3.10.6:9c7b4bd, Aug  1 2022, 21:53:49) [MSC v.1932 64 bit (AMD64)]"
  },
  "orig_nbformat": 4,
  "vscode": {
   "interpreter": {
    "hash": "82faa6d27c9a927522682e95cb30c684238aba2a31347a70411ee016fed8cfe5"
   }
  }
 },
 "nbformat": 4,
 "nbformat_minor": 2
}
