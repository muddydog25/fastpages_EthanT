{
 "cells": [
  {
   "attachments": {},
   "cell_type": "markdown",
   "metadata": {},
   "source": [
    "# 5.5 & 5.6 Hacks\n",
    "\n",
    "- title: 5.5 & 5.6 Hacks\n",
    "- toc: true\n",
    "- author: Ethan Tran\n",
    "- categories: [cb, 5.5, 5.6, hacks]\n"
   ]
  },
  {
   "attachments": {},
   "cell_type": "markdown",
   "metadata": {},
   "source": [
    "## Unit 5.5 Blog Notes\n",
    "\n",
    "- When you create a GitHub repository it requests a license type.\n",
    "- There were many lawyers who made a profession out of patents\n",
    "- Qualcomm desires compensation for derivative work and requires a royalty payment for the use of ideas and patents.\n",
    "- Utilizing software under the GPL license could forfeit your ability to charge for the software and related patents.\n",
    "- The GPL open source license mandates that any work derived from the original must be free and the code must be shared.\n",
    "- The cost of using software under the GPL license might be greater than anticipated due to the loss of rights to charge for the software and patents.\n",
    "- Open source licenses such as the GPL have specific guidelines for sharing and distributing works derived from the original.\n",
    "- Companies like Qualcomm aim to be reimbursed for the usage of their patents and ideas, even within the realm of open source software.\n",
    "\n",
    "### Creative Commons Zero v1.0 Universal\n",
    "\n",
    "- The Creative Commons CC0 Public Domain Dedication relinquishes any copyright claims on a work that you have created and opens it up for the use of the global public.\n",
    "\n",
    "### Open Source MIT License\n",
    "\n",
    "-  The MIT License enables the free use of code and the creation and distribution of proprietary versions. Generally, the author of software under the MIT License desires acknowledgment, which may be as basic as including their name in comments. A proprietary project can be kept private on GitHub.\n",
    "\n",
    "## Unit 5.6 Blog Notes\n",
    "- Personal Identifiable Information (PII) is information that can be used to identify a person.\n",
    "- PII can be easily obtained through social media, online searches, and other online activities.\n",
    "- Be cautious of the information you share online, as it can be easily accessed by others.\n",
    "- Keep sensitive information such as financial credentials, two-factor authentication codes, and social security numbers private.\n",
    "- Multi-factor authentication and biometrics can increase the security of your systems.\n",
    "- Symmetric and Asymmetric Encryption can also enhance the security of your systems.\n",
    "- Phishing and malware are potential threats that can compromise the security of your PII.\n",
    "- It is important to regularly review your PII vulnerabilities and take steps to protect your information.\n",
    "\n",
    "## Units 5.5 & 5.6 Reflections\n",
    "\n",
    "1) Personal Identifiable Information (PII) is information that can be used to identify a specific individual, such as their name, social security number, date of birth, address, or phone number. In the context of computer science, PII is often collected and stored by websites, applications, and organizations. In a project I have seen, PII was collected from users during the registration process and was used to personalize their experience on the website. \n",
    "\n",
    "2) The exposure of PII can have serious consequences for individuals, such as identity theft, financial fraud, and privacy violations. It is important for organizations to properly secure and manage PII to prevent these types of incidents from occurring. Good passwords are typically long, complex, and random, making them difficult to guess or crack. On the other hand, bad passwords are short, easily guessable, or commonly used. Another step that can be used to assist in authentication is two-factor authentication (2FA), which adds an extra layer of security by requiring something you know (such as a password) and something you have (such as a smartphone) to access an account.\n",
    "\n",
    "3) Symmetric encryption is a method of encryption where the same key is used for both encryption and decryption. This means that both the sender and recipient of the encrypted message must have access to the same key in order to communicate securely. On the other hand, asymmetric encryption uses two different keys: one for encryption and one for decryption. This allows for secure communication between two parties without having to exchange the key beforehand.\n",
    "\n",
    "4) One example of encryption used in AWS deployment is the use of Secure Sockets Layer (SSL) certificates, which encrypt communication between a user's browser and a website to prevent eavesdropping and tampering. \n",
    "\n",
    "5) Personally, I have not fallen for any phishing schemes up till this point. A phishing scheme I have learned about is one where an attacker sends an email that appears to be from a trusted source, such as a bank or an online retailer, and asks the recipient to click on a link or provide sensitive information. Another common phishing technique is to create a fake login page that resembles a legitimate website, in an attempt to trick the user into entering their username and password. Finally, malicious attachments can also be used as a phishing scheme.\n",
    "\n"
   ]
  }
 ],
 "metadata": {
  "kernelspec": {
   "display_name": "Python 3",
   "language": "python",
   "name": "python3"
  },
  "language_info": {
   "name": "python",
   "version": "3.10.6"
  },
  "orig_nbformat": 4,
  "vscode": {
   "interpreter": {
    "hash": "82faa6d27c9a927522682e95cb30c684238aba2a31347a70411ee016fed8cfe5"
   }
  }
 },
 "nbformat": 4,
 "nbformat_minor": 2
}
