{
 "cells": [
  {
   "attachments": {},
   "cell_type": "markdown",
   "metadata": {},
   "source": [
    "# Unit 3 Vocabulary (Definitions + Examples)\n",
    "- badges: true\n",
    "- comments: true\n",
    "- author: Ethan Tran\n",
    "- categories: [unit 3, vocabulary]\n"
   ]
  },
  {
   "attachments": {},
   "cell_type": "markdown",
   "metadata": {},
   "source": [
    "Bits: A bit is the smallest unit of data in a computer, typically represented as a 0 or 1.\n",
    "\n",
    "Bytes: A byte is a unit of digital information that contains 8 bits. \n",
    "\n",
    "Hexadecimal / Nibbles: Hexadecimal is a base 16 number system, which is represented by the characters 0-9 and A-F. A nibble is 4 bits, or one-half of a byte.\n",
    "\n",
    "Unsigned Integer: An unsigned integer is a binary number that can represent a positive number but not a negative number.\n",
    "\n",
    "Signed Integer: A signed integer is a binary number that can represent both a positive and negative number.\n",
    "\n",
    "Floating Point: A floating point is a binary number that can represent real numbers with fractional parts.\n",
    "\n",
    "Boolean: A Boolean is a data type that can only have a value of either true or false.\n",
    "\n",
    "ASCII: ASCII stands for American Standard Code for Information Interchange. It is a character encoding scheme used to represent text in computers.\n",
    "\n",
    "Unicode: Unicode is a character encoding scheme that is used to represent text in computers. It is an extension of ASCII and can represent more characters than ASCII.\n",
    "\n",
    "RGB: RGB stands for Red, Green, and Blue. It is a color model used in digital imaging and computer graphics.\n",
    "\n",
    "Lossy: Lossy compression is a type of data compression that reduces file size by discarding some of the data.\n",
    "\n",
    "Lossless: Lossless compression is a type of data compression that reduces the file size without discarding any of the data.\n",
    "\n",
    "Variables: Variables are names that can store values.\n",
    "\n",
    "Data Types: Data types are categories of data, such as numbers, strings, and Booleans.\n",
    "\n",
    "Assignment Operators: Assignment operators are symbols used to assign values to variables.\n",
    "\n",
    "2D Lists: 2D lists are data structures used to store multiple lists in one variable.\n",
    "\n",
    "Dictionaries: Dictionaries are data structures used to store data in key-value pairs.\n",
    "\n",
    "Class: A class is a type of data structure used to store data and the methods used to manipulate that data.\n",
    "\n",
    "Algorithms: An algorithm is a set of instructions that can be used to solve a problem.\n",
    "\n",
    "Sequence: A sequence is a set of instructions that are executed in a specific order.\n",
    "\n",
    "Expressions: Expressions are combinations of values and operators that evaluate to a single value.\n",
    "\n",
    "Comparison Operators: Comparison operators are symbols used to compare two values.\n",
    "\n",
    "Boolean Expressions and Selection: Boolean expressions are combinations of values and comparison operators that evaluate to a Boolean. They are used to create selection statements.\n",
    "\n",
    "Boolean Expressions and Iteration: Boolean expressions are used to create iteration statements.\n",
    "\n",
    "Truth Tables: Truth tables are tables that show the output of Boolean expressions for all possible inputs.\n",
    "\n",
    "Characters: Characters are the smallest units of a string.\n",
    "\n",
    "Strings: Strings are sequences of characters.\n",
    "\n",
    "Length: The length of a string is the number of characters in the string.\n",
    "\n",
    "Concatenation: Concatenation is the process of combining two strings.\n",
    "\n",
    "Upper: Upper is a method that converts all characters in a string to uppercase.\n",
    "\n",
    "Lower: Lower is a method that converts all characters in a string to lowercase.\n",
    "\n",
    "Traversing Strings: Traversing strings is the process of looping through each character in a string.\n",
    "\n",
    "Python If Statement: A statement used to perform a certain action only if a certain condition is met.\n",
    "\n",
    "Elif Statement: An additional statement used to check for an alternative condition if the initial condition of the If statement is not met.\n",
    "\n",
    "Else Conditionals: An additional statement used to perform a certain action if none of the conditions of the If or Elif statements were met. \n",
    "\n",
    "Nested Selection Statements: When an If, Elif, or Else statement is used within another If, Elif, or Else statement. This can be used to check multiple conditions. \n",
    "\n",
    "Python For Loop: A looping statement used to execute a set of statements multiple times. It is typically used to iterate through a set of items such as a list or a range of numbers.\n",
    "\n",
    "While Loop with Range: A looping statement used to execute a set of statements multiple times. It is typically used to iterate through a range of numbers.\n",
    "\n",
    "While Loop with List: A looping statement used to execute a set of statements multiple times. It is typically used to iterate through a list of items.\n",
    "\n",
    "Combining Loops, Conditionals to Break: Combining multiple loops and conditions in order to break out of a certain loop when a certain condition is met.\n",
    "\n",
    "Procedural Abstraction: A process used to simplify complex tasks by breaking them down into smaller, easier-to-manage tasks.\n",
    "\n",
    "Python Def Procedures: A method used to define a set of instructions to be executed when a certain procedure is called.\n",
    "\n",
    "Parameters: Arguments that are passed to a procedure when it is called.\n",
    "\n",
    "Return Values: A value that is returned after a procedure has been executed."
   ]
  },
  {
   "cell_type": "markdown",
   "metadata": {},
   "source": [
    "Selection: Selection is a type of control flow that allows for the execution of certain code based on certain conditions."
   ]
  },
  {
   "cell_type": "code",
   "execution_count": 1,
   "metadata": {},
   "outputs": [
    {
     "name": "stdout",
     "output_type": "stream",
     "text": [
      "Selection: OR  2 | 10 = 10\n"
     ]
    }
   ],
   "source": [
    "# Selection\n",
    "\n",
    "firstNum = int(input(\"Input your first number.\"))\n",
    "secondNum = int(input(\"Input your second number.\"))\n",
    "\n",
    "conditional = input(\"AND, OR, XOR?\").lower()\n",
    "if conditional == \"and\":\n",
    "    print(\"Selection:\" , \"AND\", firstNum, \"&\", secondNum, \"=\", firstNum & secondNum)\n",
    "elif conditional ==\"or\":\n",
    "    print(\"Selection:\" , \"OR \", firstNum, \"|\", secondNum, \"=\", firstNum | secondNum)\n",
    "elif conditional ==\"xor\":\n",
    "    print(\"Selection:\" , \"XOR\", firstNum, \"^\", secondNum, \"=\", firstNum ^ secondNum)\n",
    "else:\n",
    "    print(\"Error\")"
   ]
  },
  {
   "attachments": {},
   "cell_type": "markdown",
   "metadata": {},
   "source": [
    "Lists: Lists are data structures used to store multiple values in one variable.\n",
    "\n",
    "Iteration: Iteration is a type of control flow that allows for the execution of certain code multiple times."
   ]
  },
  {
   "cell_type": "code",
   "execution_count": 5,
   "metadata": {},
   "outputs": [
    {
     "name": "stdout",
     "output_type": "stream",
     "text": [
      "What is the variable name/key? value? type? primitive or collection, why?\n",
      "name Ethan Tran <class 'str'>\n",
      "\n",
      "What is the variable name/key? value? type? primitive or collection, why?\n",
      "age 15 <class 'int'>\n",
      "\n",
      "What is the variable name/key? value? type? primitive or collection, why?\n",
      "score 100.0 <class 'float'>\n",
      "\n",
      "What is variable name/key? value? type? primitive or collection?\n",
      "What is different about the list output?\n",
      "langs ['Python', 'JavaScript', 'Java', 'Bash', 'C', 'R'] <class 'list'> length 6\n",
      "- langs[0] Python <class 'str'>\n",
      "\n",
      "What is the variable name/key? value? type? primitive or collection, why?\n",
      "What is different about the dictionary output?\n",
      "person {'name': 'Ethan Tran', 'age': 15, 'score': 100.0, 'langs': ['Python', 'JavaScript', 'Java', 'Bash', 'C', 'R']} <class 'dict'> length 4\n",
      "- person[\"name\"] Ethan Tran <class 'str'>\n"
     ]
    }
   ],
   "source": [
    "# Lists and iteration\n",
    "\n",
    "print(\"What is the variable name/key?\", \"value?\", \"type?\", \"primitive or collection, why?\")\n",
    "name = \"Ethan Tran\"\n",
    "print(\"name\", name, type(name))\n",
    "\n",
    "print()\n",
    "\n",
    "\n",
    "# variable of type integer\n",
    "print(\"What is the variable name/key?\", \"value?\", \"type?\", \"primitive or collection, why?\")\n",
    "age = 15\n",
    "print(\"age\", age, type(age))\n",
    "\n",
    "print()\n",
    "\n",
    "# variable of type float\n",
    "print(\"What is the variable name/key?\", \"value?\", \"type?\", \"primitive or collection, why?\")\n",
    "score = 100.0\n",
    "print(\"score\", score, type(score))\n",
    "\n",
    "print()\n",
    "\n",
    "# variable of type list (many values in one variable)\n",
    "print(\"What is variable name/key?\", \"value?\", \"type?\", \"primitive or collection?\")\n",
    "print(\"What is different about the list output?\")\n",
    "langs = [\"Python\", \"JavaScript\", \"Java\" , \"Bash\" , \"C\" , \"R\"] \n",
    "print(\"langs\", langs, type(langs), \"length\", len(langs))\n",
    "print(\"- langs[0]\", langs[0], type(langs[0]))\n",
    "\n",
    "print()\n",
    "\n",
    "# variable of type dictionary (a group of keys and values)\n",
    "print(\"What is the variable name/key?\", \"value?\", \"type?\", \"primitive or collection, why?\")\n",
    "print(\"What is different about the dictionary output?\")\n",
    "person = {\n",
    "    \"name\": name,\n",
    "    \"age\": age,\n",
    "    \"score\": score,\n",
    "    \"langs\": langs,\n",
    "}\n",
    "print(\"person\", person, type(person), \"length\", len(person))\n",
    "print('- person[\"name\"]', person[\"name\"], type(person[\"name\"]))"
   ]
  },
  {
   "attachments": {},
   "cell_type": "markdown",
   "metadata": {},
   "source": [
    "Logical Operator: A logical operator is a type of operator in computer science that performs a logical operation, such as a comparison or a boolean operation, on two or more values or variables. Examples of logical operators include AND, OR, NOT, XOR, and NAND."
   ]
  },
  {
   "cell_type": "code",
   "execution_count": 2,
   "metadata": {},
   "outputs": [
    {
     "name": "stdout",
     "output_type": "stream",
     "text": [
      "False\n"
     ]
    }
   ],
   "source": [
    "# Logical Operators\n",
    "\n",
    "Tru = True\n",
    "equals = \"=\"\n",
    "opposite = not(Tru)\n",
    "print(opposite)\n",
    "\n",
    "fun = \"fun\"\n",
    "awesome = fun\n",
    "\n",
    "if fun and awesome == \"fun\":\n",
    "    print(\"AND\")\n",
    "else:\n",
    "    print(\"NOT AND\")"
   ]
  },
  {
   "cell_type": "code",
   "execution_count": 4,
   "metadata": {},
   "outputs": [
    {
     "name": "stdout",
     "output_type": "stream",
     "text": [
      "AND\n"
     ]
    }
   ],
   "source": [
    "fun = \"fun\"\n",
    "awesome = fun\n",
    "\n",
    "if fun and awesome == \"fun\":\n",
    "    print(\"AND\")\n",
    "else:\n",
    "    print(\"NOT AND\")"
   ]
  },
  {
   "cell_type": "code",
   "execution_count": 3,
   "metadata": {},
   "outputs": [
    {
     "name": "stdout",
     "output_type": "stream",
     "text": [
      "3\n",
      "NOT OR\n"
     ]
    }
   ],
   "source": [
    "import random \n",
    "\n",
    "numList = [\"1\", \"2\", \"3\", \"4\", \"5\"]\n",
    "ranNum = random.randrange(len(numList))\n",
    "print(ranNum)\n",
    "\n",
    "if ranNum == 2 or ranNum == 5:\n",
    "    print(\"OR\")\n",
    "else:\n",
    "    print(\"NOT OR\")"
   ]
  }
 ],
 "metadata": {
  "kernelspec": {
   "display_name": "Python 3",
   "language": "python",
   "name": "python3"
  },
  "language_info": {
   "codemirror_mode": {
    "name": "ipython",
    "version": 3
   },
   "file_extension": ".py",
   "mimetype": "text/x-python",
   "name": "python",
   "nbconvert_exporter": "python",
   "pygments_lexer": "ipython3",
   "version": "3.10.6 (tags/v3.10.6:9c7b4bd, Aug  1 2022, 21:53:49) [MSC v.1932 64 bit (AMD64)]"
  },
  "orig_nbformat": 4,
  "vscode": {
   "interpreter": {
    "hash": "82faa6d27c9a927522682e95cb30c684238aba2a31347a70411ee016fed8cfe5"
   }
  }
 },
 "nbformat": 4,
 "nbformat_minor": 2
}
