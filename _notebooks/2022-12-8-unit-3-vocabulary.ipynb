{
 "cells": [
  {
   "attachments": {},
   "cell_type": "markdown",
   "metadata": {},
   "source": [
    "# Unit 3 Vocabulary (Definitions + Examples)\n",
    "- badges: true\n",
    "- comments: true\n",
    "- author: Ethan Tran\n",
    "- categories: [unit 3, vocabulary]\n"
   ]
  },
  {
   "attachments": {},
   "cell_type": "markdown",
   "metadata": {},
   "source": [
    "Variables: A variable is a named container that stores a value that can be changed or updated. "
   ]
  },
  {
   "cell_type": "code",
   "execution_count": 3,
   "metadata": {},
   "outputs": [
    {
     "name": "stdout",
     "output_type": "stream",
     "text": [
      "5\n"
     ]
    }
   ],
   "source": [
    "X = 5\n",
    "print(X)"
   ]
  },
  {
   "cell_type": "markdown",
   "metadata": {},
   "source": [
    "Data Types: Different types of data such as numbers, strings, booleans, and objects that can be stored in variables. "
   ]
  },
  {
   "cell_type": "code",
   "execution_count": 4,
   "metadata": {},
   "outputs": [
    {
     "name": "stdout",
     "output_type": "stream",
     "text": [
      "hello\n"
     ]
    }
   ],
   "source": [
    "X = \"hello\"\n",
    "print(X)"
   ]
  },
  {
   "cell_type": "markdown",
   "metadata": {},
   "source": [
    "Assignment Operators: Operators that are used to assign a value to a variable."
   ]
  },
  {
   "cell_type": "code",
   "execution_count": 5,
   "metadata": {},
   "outputs": [
    {
     "name": "stdout",
     "output_type": "stream",
     "text": [
      "3\n"
     ]
    }
   ],
   "source": [
    "three = 3\n",
    "print(three)"
   ]
  },
  {
   "attachments": {},
   "cell_type": "markdown",
   "metadata": {},
   "source": [
    "Managing Complexity with Variables: Lists, 2D Lists, Dictionaries, Class: Ways of organizing data in a more complex structure. "
   ]
  },
  {
   "cell_type": "code",
   "execution_count": 7,
   "metadata": {},
   "outputs": [
    {
     "name": "stdout",
     "output_type": "stream",
     "text": [
      "[1, 2, 3, 4, 5]\n"
     ]
    }
   ],
   "source": [
    "MyList = [1,2,3,4,5]\n",
    "print(MyList)"
   ]
  },
  {
   "attachments": {},
   "cell_type": "markdown",
   "metadata": {},
   "source": [
    "Algorithms: A set of instructions for solving a problem. \n",
    "\n",
    "**Example: To find the largest number in a list, you could use a sorting algorithm.**\n",
    "\n",
    "Sequence, Selection, Iteration: Three types of control flow structures in programming. \n",
    "\n",
    "**Example: For a sequence, you could create a loop that prints out each number from 1 to 10.**\n",
    "\n",
    "Expressions, Comparison Operators, Booleans Expressions and Selection, Booleans Expressions and Iteration, Truth Tables: Expressions are used to evaluate values and comparison operators are used to compare values. "
   ]
  },
  {
   "cell_type": "code",
   "execution_count": 1,
   "metadata": {},
   "outputs": [
    {
     "name": "stdout",
     "output_type": "stream",
     "text": [
      "True\n"
     ]
    }
   ],
   "source": [
    "if (5 > 3) is True:\n",
    "    print(\"True\")\n",
    "else:\n",
    "    print(\"False\")"
   ]
  },
  {
   "cell_type": "markdown",
   "metadata": {},
   "source": [
    "Characters: Individual letters, numbers, and symbols"
   ]
  },
  {
   "cell_type": "code",
   "execution_count": 3,
   "metadata": {},
   "outputs": [
    {
     "name": "stdout",
     "output_type": "stream",
     "text": [
      "H\n"
     ]
    }
   ],
   "source": [
    "Characters = \"H\"\n",
    "print(Characters)\n"
   ]
  },
  {
   "attachments": {},
   "cell_type": "markdown",
   "metadata": {},
   "source": [
    "Strings: A a combination of characters\n",
    "Length: The number of characters in a string\n",
    "Concatenation: A combination of strings together"
   ]
  },
  {
   "cell_type": "code",
   "execution_count": 6,
   "metadata": {},
   "outputs": [
    {
     "name": "stdout",
     "output_type": "stream",
     "text": [
      "Hello World\n",
      "11\n",
      "Hello World World Hello\n"
     ]
    }
   ],
   "source": [
    "Strings = \"Hello World\"\n",
    "Strings2 = \"World Hello\"\n",
    "print(Strings)\n",
    "print(len(Strings))\n",
    "print(Strings, Strings2)"
   ]
  },
  {
   "attachments": {},
   "cell_type": "markdown",
   "metadata": {},
   "source": [
    "Upper and Lower: Functions for changing the case of characters\n",
    "\n",
    "Traversing Strings: Looping over each character in a string. \n",
    "\n",
    "If, Elif, Else conditionals; Nested Selection Statements: Control statements that allow you to execute code based on certain conditions. "
   ]
  },
  {
   "cell_type": "code",
   "execution_count": 7,
   "metadata": {},
   "outputs": [
    {
     "name": "stdout",
     "output_type": "stream",
     "text": [
      "x is greater than 0\n"
     ]
    }
   ],
   "source": [
    "x = 5\n",
    "if x > 0:\n",
    "  print(\"x is greater than 0\")\n",
    "elif x == 0:\n",
    "  print(\"x is equal to 0\")\n",
    "else:\n",
    "  print(\"x is less than 0\")"
   ]
  },
  {
   "cell_type": "markdown",
   "metadata": {},
   "source": [
    "Python For, While loops with Range, with List: Types of loops that allow you to iterate over a range of numbers or a list of items. "
   ]
  },
  {
   "cell_type": "code",
   "execution_count": 8,
   "metadata": {},
   "outputs": [
    {
     "name": "stdout",
     "output_type": "stream",
     "text": [
      "0\n",
      "1\n",
      "2\n",
      "3\n",
      "4\n",
      "5\n",
      "6\n",
      "7\n",
      "8\n",
      "9\n"
     ]
    }
   ],
   "source": [
    "import random\n",
    "\n",
    "x = random.randint(0,10)\n",
    "for x in range(0, 10):\n",
    "  print(x)"
   ]
  },
  {
   "cell_type": "markdown",
   "metadata": {},
   "source": [
    "Combining loops with conditionals to Break, Continue: Control statements that allow you to break out of a loop or skip an iteration."
   ]
  },
  {
   "cell_type": "code",
   "execution_count": 11,
   "metadata": {},
   "outputs": [
    {
     "name": "stdout",
     "output_type": "stream",
     "text": [
      "5\n"
     ]
    }
   ],
   "source": [
    "x = 2\n",
    "\n",
    "while x < 10:\n",
    "  if x == 5:\n",
    "    break\n",
    "  x += 1\n",
    "\n",
    "print(x)"
   ]
  },
  {
   "attachments": {},
   "cell_type": "markdown",
   "metadata": {},
   "source": [
    "Procedural Abstraction: A process used to simplify complex tasks by breaking them down into smaller, easier-to-manage tasks.\n",
    "\n",
    "Python Def Procedures: A method used to define a set of instructions to be executed when a certain procedure is called.\n",
    "\n",
    "Parameters: Arguments that are passed to a procedure when it is called.\n",
    "\n",
    "Return Values: A value that is returned after a procedure has been executed."
   ]
  },
  {
   "cell_type": "markdown",
   "metadata": {},
   "source": [
    "Selection: Selection is a type of control flow that allows for the execution of certain code based on certain conditions."
   ]
  },
  {
   "cell_type": "code",
   "execution_count": 1,
   "metadata": {},
   "outputs": [
    {
     "name": "stdout",
     "output_type": "stream",
     "text": [
      "Selection: OR  2 | 10 = 10\n"
     ]
    }
   ],
   "source": [
    "# Selection\n",
    "\n",
    "firstNum = int(input(\"Input your first number.\"))\n",
    "secondNum = int(input(\"Input your second number.\"))\n",
    "\n",
    "conditional = input(\"AND, OR, XOR?\").lower()\n",
    "if conditional == \"and\":\n",
    "    print(\"Selection:\" , \"AND\", firstNum, \"&\", secondNum, \"=\", firstNum & secondNum)\n",
    "elif conditional ==\"or\":\n",
    "    print(\"Selection:\" , \"OR \", firstNum, \"|\", secondNum, \"=\", firstNum | secondNum)\n",
    "elif conditional ==\"xor\":\n",
    "    print(\"Selection:\" , \"XOR\", firstNum, \"^\", secondNum, \"=\", firstNum ^ secondNum)\n",
    "else:\n",
    "    print(\"Error\")"
   ]
  },
  {
   "attachments": {},
   "cell_type": "markdown",
   "metadata": {},
   "source": [
    "Lists: Lists are data structures used to store multiple values in one variable.\n",
    "\n",
    "Iteration: Iteration is a type of control flow that allows for the execution of certain code multiple times."
   ]
  },
  {
   "cell_type": "code",
   "execution_count": 5,
   "metadata": {},
   "outputs": [
    {
     "name": "stdout",
     "output_type": "stream",
     "text": [
      "What is the variable name/key? value? type? primitive or collection, why?\n",
      "name Ethan Tran <class 'str'>\n",
      "\n",
      "What is the variable name/key? value? type? primitive or collection, why?\n",
      "age 15 <class 'int'>\n",
      "\n",
      "What is the variable name/key? value? type? primitive or collection, why?\n",
      "score 100.0 <class 'float'>\n",
      "\n",
      "What is variable name/key? value? type? primitive or collection?\n",
      "What is different about the list output?\n",
      "langs ['Python', 'JavaScript', 'Java', 'Bash', 'C', 'R'] <class 'list'> length 6\n",
      "- langs[0] Python <class 'str'>\n",
      "\n",
      "What is the variable name/key? value? type? primitive or collection, why?\n",
      "What is different about the dictionary output?\n",
      "person {'name': 'Ethan Tran', 'age': 15, 'score': 100.0, 'langs': ['Python', 'JavaScript', 'Java', 'Bash', 'C', 'R']} <class 'dict'> length 4\n",
      "- person[\"name\"] Ethan Tran <class 'str'>\n"
     ]
    }
   ],
   "source": [
    "# Lists and iteration\n",
    "\n",
    "print(\"What is the variable name/key?\", \"value?\", \"type?\", \"primitive or collection, why?\")\n",
    "name = \"Ethan Tran\"\n",
    "print(\"name\", name, type(name))\n",
    "\n",
    "print()\n",
    "\n",
    "\n",
    "# variable of type integer\n",
    "print(\"What is the variable name/key?\", \"value?\", \"type?\", \"primitive or collection, why?\")\n",
    "age = 15\n",
    "print(\"age\", age, type(age))\n",
    "\n",
    "print()\n",
    "\n",
    "# variable of type float\n",
    "print(\"What is the variable name/key?\", \"value?\", \"type?\", \"primitive or collection, why?\")\n",
    "score = 100.0\n",
    "print(\"score\", score, type(score))\n",
    "\n",
    "print()\n",
    "\n",
    "# variable of type list (many values in one variable)\n",
    "print(\"What is variable name/key?\", \"value?\", \"type?\", \"primitive or collection?\")\n",
    "print(\"What is different about the list output?\")\n",
    "langs = [\"Python\", \"JavaScript\", \"Java\" , \"Bash\" , \"C\" , \"R\"] \n",
    "print(\"langs\", langs, type(langs), \"length\", len(langs))\n",
    "print(\"- langs[0]\", langs[0], type(langs[0]))\n",
    "\n",
    "print()\n",
    "\n",
    "# variable of type dictionary (a group of keys and values)\n",
    "print(\"What is the variable name/key?\", \"value?\", \"type?\", \"primitive or collection, why?\")\n",
    "print(\"What is different about the dictionary output?\")\n",
    "person = {\n",
    "    \"name\": name,\n",
    "    \"age\": age,\n",
    "    \"score\": score,\n",
    "    \"langs\": langs,\n",
    "}\n",
    "print(\"person\", person, type(person), \"length\", len(person))\n",
    "print('- person[\"name\"]', person[\"name\"], type(person[\"name\"]))"
   ]
  },
  {
   "attachments": {},
   "cell_type": "markdown",
   "metadata": {},
   "source": [
    "Logical Operator: A logical operator is a type of operator in computer science that performs a logical operation, such as a comparison or a boolean operation, on two or more values or variables. Examples of logical operators include AND, OR, NOT, XOR, and NAND."
   ]
  },
  {
   "cell_type": "code",
   "execution_count": 2,
   "metadata": {},
   "outputs": [
    {
     "name": "stdout",
     "output_type": "stream",
     "text": [
      "False\n"
     ]
    }
   ],
   "source": [
    "# Logical Operators\n",
    "\n",
    "Tru = True\n",
    "equals = \"=\"\n",
    "opposite = not(Tru)\n",
    "print(opposite)\n",
    "\n",
    "fun = \"fun\"\n",
    "awesome = fun\n",
    "\n",
    "if fun and awesome == \"fun\":\n",
    "    print(\"AND\")\n",
    "else:\n",
    "    print(\"NOT AND\")"
   ]
  },
  {
   "cell_type": "code",
   "execution_count": 4,
   "metadata": {},
   "outputs": [
    {
     "name": "stdout",
     "output_type": "stream",
     "text": [
      "AND\n"
     ]
    }
   ],
   "source": [
    "fun = \"fun\"\n",
    "awesome = fun\n",
    "\n",
    "if fun and awesome == \"fun\":\n",
    "    print(\"AND\")\n",
    "else:\n",
    "    print(\"NOT AND\")"
   ]
  },
  {
   "cell_type": "code",
   "execution_count": 3,
   "metadata": {},
   "outputs": [
    {
     "name": "stdout",
     "output_type": "stream",
     "text": [
      "3\n",
      "NOT OR\n"
     ]
    }
   ],
   "source": [
    "import random \n",
    "\n",
    "numList = [\"1\", \"2\", \"3\", \"4\", \"5\"]\n",
    "ranNum = random.randrange(len(numList))\n",
    "print(ranNum)\n",
    "\n",
    "if ranNum == 2 or ranNum == 5:\n",
    "    print(\"OR\")\n",
    "else:\n",
    "    print(\"NOT OR\")"
   ]
  }
 ],
 "metadata": {
  "kernelspec": {
   "display_name": "Python 3",
   "language": "python",
   "name": "python3"
  },
  "language_info": {
   "codemirror_mode": {
    "name": "ipython",
    "version": 3
   },
   "file_extension": ".py",
   "mimetype": "text/x-python",
   "name": "python",
   "nbconvert_exporter": "python",
   "pygments_lexer": "ipython3",
   "version": "3.10.6"
  },
  "orig_nbformat": 4,
  "vscode": {
   "interpreter": {
    "hash": "82faa6d27c9a927522682e95cb30c684238aba2a31347a70411ee016fed8cfe5"
   }
  }
 },
 "nbformat": 4,
 "nbformat_minor": 2
}
