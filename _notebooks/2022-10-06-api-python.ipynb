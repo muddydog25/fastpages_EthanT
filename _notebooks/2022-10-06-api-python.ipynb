{
 "cells": [
  {
   "cell_type": "markdown",
   "metadata": {},
   "source": [
    "# API Usage\n",
    "\n",
    "- badges: true\n",
    "- comments: true\n",
    "- author: Ethan Tran\n",
    "- categories: [fastpages, python, api]"
   ]
  },
  {
   "cell_type": "code",
   "execution_count": 1,
   "metadata": {},
   "outputs": [
    {
     "name": "stdout",
     "output_type": "stream",
     "text": [
      "Country Totals\n",
      "country_name Niue\n",
      "cases 8\n",
      "deaths 0\n",
      "region \n",
      "total_recovered 7\n",
      "new_deaths 0\n",
      "new_cases 0\n",
      "serious_critical 0\n",
      "active_cases 1\n",
      "total_cases_per_1m_population 4,860\n",
      "deaths_per_1m_population 0\n",
      "total_tests 0\n",
      "tests_per_1m_population 0\n"
     ]
    }
   ],
   "source": [
    "import requests\n",
    "\n",
    "url = \"https://corona-virus-world-and-india-data.p.rapidapi.com/api\"\n",
    "\n",
    "headers = {\n",
    "\t\"X-RapidAPI-Key\": \"d3a3e94748msh74bb629320d5734p160ceajsn7f28f4859ea2\",\n",
    "\t\"X-RapidAPI-Host\": \"corona-virus-world-and-india-data.p.rapidapi.com\"\n",
    "}\n",
    "\n",
    "response = requests.request(\"GET\", url, headers=headers)\n",
    "\n",
    "print(\"Country Totals\")\n",
    "countries = response.json().get('countries_stat')\n",
    "for country in countries:  # countries is a list\n",
    "    if country[\"country_name\"] == \"Niue\":  # this filters for USA\n",
    "        for key, value in country.items():  # this finds key, value pairs in country\n",
    "            print(key, value)"
   ]
  },
  {
   "cell_type": "code",
   "execution_count": 2,
   "metadata": {},
   "outputs": [
    {
     "name": "stdout",
     "output_type": "stream",
     "text": [
      "1999 Ford Taurus\n",
      "2011 Ford E350 Super Duty Cargo\n",
      "2003 Ford F250 Super Duty Super Cab\n",
      "2017 Ford Escape\n"
     ]
    }
   ],
   "source": [
    "import requests\n",
    "\n",
    "url = \"https://car-data.p.rapidapi.com/cars\"\n",
    "querystring = {\"limit\":\"50\",\"page\":\"0\"}\n",
    "\n",
    "headers = {\n",
    "\t\"X-RapidAPI-Key\": \"d3a3e94748msh74bb629320d5734p160ceajsn7f28f4859ea2\",\n",
    "\t\"X-RapidAPI-Host\": \"car-data.p.rapidapi.com\"\n",
    "}\n",
    "\n",
    "response = requests.request(\"GET\", url, headers=headers, params=querystring)\n",
    "\n",
    "output = response.json()\n",
    "\n",
    "for car in output:\n",
    "\tif car[\"make\"] == \"Ford\":\n",
    "\t\tprint(f\"{car['year']} {car['make']} {car['model']}\")"
   ]
  },
  {
   "cell_type": "code",
   "execution_count": 3,
   "metadata": {},
   "outputs": [
    {
     "name": "stdout",
     "output_type": "stream",
     "text": [
      "{\"data\":{\"52WeekChange\":0.1451236,\"SandP52WeekChange\":-0.17819631,\"address1\":\"11-12 St. James\\u2019s Square\",\"address2\":\"Suite 1, 3rd Floor\",\"algorithm\":null,\"annualHoldingsTurnover\":null,\"annualReportExpenseRatio\":null,\"ask\":24.64,\"askSize\":1200,\"averageDailyVolume10Day\":823510,\"averageVolume\":975060,\"averageVolume10days\":823510,\"beta\":2.120854,\"beta3Year\":null,\"bid\":24.44,\"bidSize\":800,\"bookValue\":-5.055,\"category\":null,\"circulatingSupply\":null,\"city\":\"London\",\"coinMarketCapLink\":null,\"companyOfficers\":[],\"country\":\"United Kingdom\",\"currency\":\"USD\",\"currentPrice\":24.54,\"currentRatio\":1.887,\"dateShortInterest\":1664496000,\"dayHigh\":24.755,\"dayLow\":24.27,\"debtToEquity\":null,\"dividendRate\":null,\"dividendYield\":null,\"earningsGrowth\":null,\"earningsQuarterlyGrowth\":null,\"ebitda\":-137992992,\"ebitdaMargins\":-0.45036998,\"enterpriseToEbitda\":-17.136,\"enterpriseToRevenue\":7.718,\"enterpriseValue\":2364714496,\"exDividendDate\":null,\"exchange\":\"NYQ\",\"exchangeTimezoneName\":\"America/New_York\",\"exchangeTimezoneShortName\":\"EDT\",\"expireDate\":null,\"fiftyDayAverage\":19.9926,\"fiftyTwoWeekHigh\":25.7,\"fiftyTwoWeekLow\":7.67,\"financialCurrency\":\"USD\",\"fiveYearAverageReturn\":null,\"fiveYearAvgDividendYield\":null,\"floatShares\":43565801,\"forwardEps\":-0.97,\"forwardPE\":-25.29897,\"freeCashflow\":-76240872,\"fromCurrency\":null,\"fullTimeEmployees\":579,\"fundFamily\":null,\"fundInceptionDate\":null,\"gmtOffSetMilliseconds\":\"-14400000\",\"grossMargins\":0.44973,\"grossProfits\":72018000,\"heldPercentInsiders\":0.52866,\"heldPercentInstitutions\":0.33176997,\"impliedSharesOutstanding\":0,\"industry\":\"Biotechnology\",\"isEsgPopulated\":false,\"lastCapGain\":null,\"lastDividendDate\":null,\"lastDividendValue\":null,\"lastFiscalYearEnd\":1648684800,\"lastMarket\":null,\"lastSplitDate\":null,\"lastSplitFactor\":null,\"legalType\":null,\"logo_url\":\"https://logo.clearbit.com/myovant.com\",\"longBusinessSummary\":\"Myovant Sciences Ltd., a biopharmaceutical company, develops redefine care for women and for men. The company's lead product is relugolix, an oral, once-daily, small molecule that acts as a gonadotropin-releasing hormone receptor antagonist for the treatment of heavy menstrual bleeding related with uterine fibroids, endometriosis-associated pain, and advanced prostate cancer. It is also developing MVT-602, an oligopeptide kisspeptin agonist, which is in Phase II clinical trial for the treatment of female infertility as part of assisted reproduction. Myovant Sciences Ltd. has collaboration with Pfizer Inc. to develop and commercialize relugolix in oncology and women's health. The company was formerly known as Roivant Endocrinology Ltd. and changed its name to Myovant Sciences Ltd. in May 2016. The company was incorporated in 2016 and is based in London, the United Kingdom. Myovant Sciences Ltd. is a subsidiary of Sumitovant Biopharma Ltd.\",\"longName\":\"Myovant Sciences Ltd.\",\"market\":\"us_market\",\"marketCap\":2354078208,\"maxAge\":1,\"maxSupply\":null,\"messageBoardId\":\"finmb_403430039\",\"morningStarOverallRating\":null,\"morningStarRiskRating\":null,\"mostRecentQuarter\":1656547200,\"navPrice\":null,\"netIncomeToCommon\":-165560000,\"nextFiscalYearEnd\":1711843200,\"numberOfAnalystOpinions\":3,\"open\":24.26,\"openInterest\":null,\"operatingCashflow\":-231387008,\"operatingMargins\":-0.45491,\"payoutRatio\":0,\"pegRatio\":null,\"phone\":\"44 20 7400 3351\",\"preMarketPrice\":null,\"previousClose\":24.31,\"priceHint\":2,\"priceToBook\":null,\"priceToSalesTrailing12Months\":7.682998,\"profitMargins\":-0.54034,\"quickRatio\":1.71,\"quoteType\":\"EQUITY\",\"recommendationKey\":\"strong_buy\",\"recommendationMean\":1.5,\"regularMarketDayHigh\":24.755,\"regularMarketDayLow\":24.27,\"regularMarketOpen\":24.26,\"regularMarketPreviousClose\":24.31,\"regularMarketPrice\":24.54,\"regularMarketVolume\":665300,\"returnOnAssets\":-0.14667,\"returnOnEquity\":null,\"revenueGrowth\":1.837,\"revenuePerShare\":3.263,\"revenueQuarterlyGrowth\":null,\"sector\":\"Healthcare\",\"sharesOutstanding\":95928200,\"sharesPercentSharesOut\":0.038,\"sharesShort\":3642652,\"sharesShortPreviousMonthDate\":1661904000,\"sharesShortPriorMonth\":3300387,\"shortName\":\"Myovant Sciences Ltd.\",\"shortPercentOfFloat\":0.0797,\"shortRatio\":4.7,\"startDate\":null,\"strikePrice\":null,\"symbol\":\"MYOV\",\"targetHighPrice\":27,\"targetLowPrice\":20,\"targetMeanPrice\":23.33,\"targetMedianPrice\":23,\"threeYearAverageReturn\":null,\"toCurrency\":null,\"totalAssets\":null,\"totalCash\":356751008,\"totalCashPerShare\":3.719,\"totalDebt\":367387008,\"totalRevenue\":306400992,\"tradeable\":false,\"trailingAnnualDividendRate\":0,\"trailingAnnualDividendYield\":0,\"trailingEps\":-2.22,\"twoHundredDayAverage\":14.30585,\"volume\":665300,\"volume24Hr\":null,\"volumeAllCurrencies\":null,\"website\":\"https://myovant.com\",\"yield\":null,\"ytdReturn\":null,\"zip\":\"SW1Y 4LB\"},\"message\":\"Success\",\"status\":200}\n",
      "\n"
     ]
    }
   ],
   "source": [
    "import requests\n",
    "\n",
    "url = \"https://yahoo-finance97.p.rapidapi.com/stock-info\"\n",
    "\n",
    "payload = \"symbol=MYOV\"\n",
    "headers = {\n",
    "\t\"content-type\": \"application/x-www-form-urlencoded\",\n",
    "\t\"X-RapidAPI-Key\": \"d3a3e94748msh74bb629320d5734p160ceajsn7f28f4859ea2\",\n",
    "\t\"X-RapidAPI-Host\": \"yahoo-finance97.p.rapidapi.com\"\n",
    "}\n",
    "\n",
    "response = requests.request(\"POST\", url, data=payload, headers=headers)\n",
    "\n",
    "print(response.text)"
   ]
  }
 ],
 "metadata": {
  "kernelspec": {
   "display_name": "base",
   "language": "python",
   "name": "python3"
  },
  "language_info": {
   "codemirror_mode": {
    "name": "ipython",
    "version": 3
   },
   "file_extension": ".py",
   "mimetype": "text/x-python",
   "name": "python",
   "nbconvert_exporter": "python",
   "pygments_lexer": "ipython3",
   "version": "3.9.12"
  },
  "orig_nbformat": 4,
  "vscode": {
   "interpreter": {
    "hash": "61e4acfa839f992901d0ee6a6f0248dbe1c435bf9fcb7077bdfa4be8dd07d6be"
   }
  }
 },
 "nbformat": 4,
 "nbformat_minor": 2
}
