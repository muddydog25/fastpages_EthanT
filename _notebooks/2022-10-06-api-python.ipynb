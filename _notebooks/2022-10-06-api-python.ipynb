{
 "cells": [
  {
   "cell_type": "markdown",
   "metadata": {},
   "source": [
    "# API Usage\n",
    "\n",
    "- badges: true\n",
    "- comments: true\n",
    "- author: Ethan Tran\n",
    "- categories: [fastpages, python, api]"
   ]
  },
  {
   "cell_type": "code",
   "execution_count": 11,
   "metadata": {},
   "outputs": [
    {
     "name": "stdout",
     "output_type": "stream",
     "text": [
      "Country Totals\n",
      "country_name Niue\n",
      "cases 8\n",
      "deaths 0\n",
      "region \n",
      "total_recovered 7\n",
      "new_deaths 0\n",
      "new_cases 0\n",
      "serious_critical 0\n",
      "active_cases 1\n",
      "total_cases_per_1m_population 4,860\n",
      "deaths_per_1m_population 0\n",
      "total_tests 0\n",
      "tests_per_1m_population 0\n"
     ]
    }
   ],
   "source": [
    "import requests\n",
    "\n",
    "url = \"https://corona-virus-world-and-india-data.p.rapidapi.com/api\"\n",
    "\n",
    "headers = {\n",
    "\t\"X-RapidAPI-Key\": \"d3a3e94748msh74bb629320d5734p160ceajsn7f28f4859ea2\",\n",
    "\t\"X-RapidAPI-Host\": \"corona-virus-world-and-india-data.p.rapidapi.com\"\n",
    "}\n",
    "\n",
    "response = requests.request(\"GET\", url, headers=headers)\n",
    "\n",
    "print(\"Country Totals\")\n",
    "countries = response.json().get('countries_stat')\n",
    "for country in countries:  # countries is a list\n",
    "    if country[\"country_name\"] == \"Niue\":  # this filters for USA\n",
    "        for key, value in country.items():  # this finds key, value pairs in country\n",
    "            print(key, value)"
   ]
  },
  {
   "cell_type": "code",
   "execution_count": 20,
   "metadata": {},
   "outputs": [
    {
     "name": "stdout",
     "output_type": "stream",
     "text": [
      "1999 Ford Taurus\n",
      "2011 Ford E350 Super Duty Cargo\n",
      "2003 Ford F250 Super Duty Super Cab\n",
      "2017 Ford Escape\n"
     ]
    }
   ],
   "source": [
    "import requests\n",
    "\n",
    "url = \"https://car-data.p.rapidapi.com/cars\"\n",
    "querystring = {\"limit\":\"50\",\"page\":\"0\"}\n",
    "\n",
    "headers = {\n",
    "\t\"X-RapidAPI-Key\": \"d3a3e94748msh74bb629320d5734p160ceajsn7f28f4859ea2\",\n",
    "\t\"X-RapidAPI-Host\": \"car-data.p.rapidapi.com\"\n",
    "}\n",
    "\n",
    "response = requests.request(\"GET\", url, headers=headers, params=querystring)\n",
    "\n",
    "output = response.json()\n",
    "\n",
    "for car in output:\n",
    "\tif car[\"make\"] == \"Ford\":\n",
    "\t\tprint(f\"{car['year']} {car['make']} {car['model']}\")"
   ]
  }
 ],
 "metadata": {
  "kernelspec": {
   "display_name": "Python 3.10.6 64-bit",
   "language": "python",
   "name": "python3"
  },
  "language_info": {
   "codemirror_mode": {
    "name": "ipython",
    "version": 3
   },
   "file_extension": ".py",
   "mimetype": "text/x-python",
   "name": "python",
   "nbconvert_exporter": "python",
   "pygments_lexer": "ipython3",
   "version": "3.10.6"
  },
  "orig_nbformat": 4,
  "vscode": {
   "interpreter": {
    "hash": "82faa6d27c9a927522682e95cb30c684238aba2a31347a70411ee016fed8cfe5"
   }
  }
 },
 "nbformat": 4,
 "nbformat_minor": 2
}
