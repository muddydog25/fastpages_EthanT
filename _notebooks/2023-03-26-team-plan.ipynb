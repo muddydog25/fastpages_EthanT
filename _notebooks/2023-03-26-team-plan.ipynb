{
 "cells": [
  {
   "attachments": {},
   "cell_type": "markdown",
   "metadata": {},
   "source": [
    "# Focus Areas for our lesson \n",
    "> We will focus on the \"Building Simulation/Interaction using Lists and Iteration\" part of the lesson\n",
    "- author: Ethan T, Advay S, Alex K\n",
    "- toc: true\n",
    "- categories: [college board, lesson]"
   ]
  },
  {
   "attachments": {},
   "cell_type": "markdown",
   "metadata": {},
   "source": [
    "## Building Simulation/Interaction using Lists and Iteration\n",
    "\n",
    "### Introduction (5 minutes):\n",
    "\n",
    "- Ask students to think of a game or simulation that they enjoy playing or interacting with.\n",
    "- Discuss the key components of that game or simulation, and how those components interact with each other.\n",
    "- Introduce the concept of lists and iteration as tools for creating those components and interactions in code.\n",
    "\n",
    "### Instruction (30 minutes):\n",
    "\n",
    "- Introduce the concept of building a simulation or interaction using lists and iteration.\n",
    "- Explain how lists can be used to store information about objects or components in the simulation or interaction.\n",
    "- Demonstrate how iteration can be used to update the state of those objects or components over time.\n",
    "- Show examples of how these concepts can be used in Python code to create a basic simulation or interaction.\n",
    "\n",
    "### Activity (20 minutes):\n",
    "\n",
    "- Provide students with a starter code that includes a list of objects or components, and a loop to iterate through that list and update their state.\n",
    "- Ask students to modify the code to add user input, such as mouse clicks or key presses, that affect the state of the objects or components in the simulation or interaction.\n",
    "- Encourage students to experiment with different types of user input and how they can affect the simulation or interaction.\n",
    "\n",
    "### Wrap-up (5 minutes):\n",
    "\n",
    "- Ask students to share their modified code and explain how they used lists and iteration to create a simulation or interaction that responds to user input.\n",
    "- Discuss how these concepts can be applied in other areas of computer science and programming.\n",
    "\n",
    "## Assessment:\n",
    "\n",
    "- Evaluate students based on their ability to modify the starter code to add user input and create a simulation or interaction that responds appropriately.\n",
    "- Provide feedback on the clarity and efficiency of their code.\n",
    "- Observe students during the activity to assess their understanding of lists and iteration."
   ]
  }
 ],
 "metadata": {
  "kernelspec": {
   "display_name": "base",
   "language": "python",
   "name": "python3"
  },
  "language_info": {
   "name": "python",
   "version": "3.9.12"
  },
  "orig_nbformat": 4
 },
 "nbformat": 4,
 "nbformat_minor": 2
}
