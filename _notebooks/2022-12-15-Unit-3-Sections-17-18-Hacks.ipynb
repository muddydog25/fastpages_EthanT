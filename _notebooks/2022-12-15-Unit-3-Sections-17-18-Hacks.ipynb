{
 "cells": [
  {
   "attachments": {},
   "cell_type": "markdown",
   "metadata": {},
   "source": [
    "# Unit 3 Sections 17-18 Hacks\n",
    "- badges: true\n",
    "- comments: true\n",
    "- author: Ethan Tran\n",
    "- categories: [unit 3, sections 17-18, hacks]\n"
   ]
  },
  {
   "attachments": {},
   "cell_type": "markdown",
   "metadata": {},
   "source": [
    "## Notes (From the lesson + extra research)\n",
    "\n",
    "- The Collatz Conjecture is an unsolved problem in mathematics that involves repeating two simple arithmetic operations on any given positive integer. This will eventually produce a sequence of numbers known as Hailstone Numbers, \n",
    "\n",
    "**Example:** If the input is 7, the Hailstone Numbers would be 7, 22, 11, 34, 17, 52, 26, 13, 40, 20, 10, 5, 16, 8, 4, 2, 1. Iteration is the action or process of repeating a sequence of operations until the desired result is achieved. Undecidable problems are those which should give a yes or no answer, yet no algorithm exists that can answer correctly on all inputs. \n",
    "\n",
    "- Algorithm efficiency in computer science refers to how efficient an algorithm is at solving a given problem. \n",
    "\n",
    "- Efficiency is typically measured in terms of time and/or space complexity, meaning how much time and/or memory is needed to complete the algorithm. Algorithm efficiency is an important factor in determining which algorithm should be used to solve a particular problem.\n",
    "\n",
    "1. Time Complexity: This measures the amount of time required to execute an algorithm. Time complexity is usually expressed as a function of the input size, and can be calculated using Big-O notation. Generally, algorithms with a lower time complexity are considered more efficient than those with a higher time complexity.\n",
    "\n",
    "2. Space Complexity: This measures the amount of memory required to execute an algorithm. Space complexity is also expressed as a function of the input size, and can also be calculated using Big-O notation. Generally, algorithms with a lower space complexity are considered more efficient than those with a higher space complexity.\n",
    "\n",
    "3. Optimization Techniques: Optimization techniques can be used to improve the efficiency of an algorithm. These techniques can involve modifying the algorithm itself, or using data structures and algorithms that are better suited to the problem.\n",
    "\n",
    "4. Parallelism: Parallelism is a technique that allows multiple parts of an algorithm to be executed simultaneously. This can significantly reduce the amount of time required to complete the algorithm, but can also increase the complexity of the algorithm.\n",
    "\n",
    "**In conclusion,** algorithm efficiency is an important factor in determining which algorithm should be used to solve a particular problem. Factors such as time complexity, space complexity, optimization techniques, and parallelism should all be taken into consideration when assessing the efficiency of an algorithm."
   ]
  },
  {
   "attachments": {},
   "cell_type": "markdown",
   "metadata": {},
   "source": [
    "### Hack #1\n",
    "\n",
    "- Take the two codes above and combine them so one imput gives the output that contains both the hailstone numbers and the number of iterations it takes i = 1. (.25)\n",
    "\n",
    "(Extra credit: If your code is more efficient it will recieve a higher grade.)"
   ]
  },
  {
   "cell_type": "code",
   "execution_count": 36,
   "metadata": {},
   "outputs": [
    {
     "name": "stdout",
     "output_type": "stream",
     "text": [
      "Input: 77\n",
      "[232, 116.0, 58.0, 29.0, 88.0, 44.0, 22.0, 11.0, 34.0, 17.0, 52.0, 26.0, 13.0, 40.0, 20.0, 10.0, 5.0, 16.0, 8.0, 4.0, 2.0, 1.0]\n",
      "Iteration count: 22\n"
     ]
    }
   ],
   "source": [
    "i = int(input(\"Please input a number: \"))\n",
    "list = []\n",
    "\n",
    "def collatz_seq(n):\n",
    "    list = []\n",
    "    while n != 1:\n",
    "        if (n % 2):\n",
    "            n = 3*n + 1\n",
    "        else:\n",
    "            n = n/2\n",
    "        list.append(n)\n",
    "    return list\n",
    "\n",
    "result = collatz_seq(i)\n",
    "print(\"Input:\" , i)\n",
    "print(result)\n",
    "print(\"Iteration count:\", len(result))"
   ]
  },
  {
   "attachments": {},
   "cell_type": "markdown",
   "metadata": {},
   "source": [
    "### Hack #2\n",
    "\n",
    "1) Code 2 algorithms: (.25)\n",
    "\n",
    "The first Algorithm should be efficient while the second should be inefficient. Then explain what distinguishes the efficient from the non-efficient one. (In your own words)"
   ]
  },
  {
   "cell_type": "code",
   "execution_count": 87,
   "metadata": {},
   "outputs": [
    {
     "name": "stdout",
     "output_type": "stream",
     "text": [
      "{'Make': 'BMW', 'Model': 'M4 CSL', 'Year': '2023'}\n"
     ]
    }
   ],
   "source": [
    "# Algorithm 1 (efficient)\n",
    "car = []\n",
    "\n",
    "car.append({\n",
    "    \"Make\": \"BMW\",\n",
    "    \"Model\": \"M4 CSL\",\n",
    "    \"Year\": \"2023\",\n",
    "})\n",
    "def loop():\n",
    "    for data in car:\n",
    "        print(data)\n",
    "\n",
    "loop()"
   ]
  },
  {
   "cell_type": "code",
   "execution_count": 90,
   "metadata": {},
   "outputs": [
    {
     "name": "stdout",
     "output_type": "stream",
     "text": [
      "('Make: BMW', 'Model: M4 CSL', 'Year: 2023')\n"
     ]
    }
   ],
   "source": [
    "# Algorithm 2 (inefficient)\n",
    "car = \"Make: BMW\", \"Model: M4 CSL\", \"Year: 2023\"\n",
    "print(car)"
   ]
  },
  {
   "attachments": {},
   "cell_type": "markdown",
   "metadata": {},
   "source": [
    "Algorithm 1 properly displays efficiency, as it appends the list and utilizes a for loop in order to display the data of the given car in an orderly manner. Algorithm 2 is inefficient because the data is only displayed in the order that it is typed in. "
   ]
  },
  {
   "attachments": {},
   "cell_type": "markdown",
   "metadata": {},
   "source": [
    "- Explain algorithm efficiency in your own words (.25)\n",
    "\n",
    "Algorithm efficiency in computer science is the measure of how well a particular algorithm performs when compared to other algorithms. It is typically calculated by measuring the amount of time and space it takes to complete a task. The most efficient algorithms are those that take the least amount of time to complete a task while consuming the smallest amount of resources. In other words, the most efficient algorithms are those that are able to accomplish a task in the shortest amount of time with the least amount of memory and CPU cycles.\n",
    "\n",
    "- Code an efficient program that shows your daily tasks or schedule. (We have an example shown in our lesson) (.25)"
   ]
  },
  {
   "cell_type": "code",
   "execution_count": 92,
   "metadata": {},
   "outputs": [
    {
     "name": "stdout",
     "output_type": "stream",
     "text": [
      "Waking up!\n",
      "Getting ready!\n",
      "Heading to school!\n",
      "Working hard!\n"
     ]
    }
   ],
   "source": [
    "tasks = [\"wake up\", \"get ready\", \"head to school\", \"finish homework/study\", \"go to bed\"]\n",
    " \n",
    "def daily_routine(tasks):\n",
    " for task in tasks:\n",
    " \n",
    "    if task == \"wake up\":\n",
    "     print(\"Waking up!\")\n",
    "    elif task == \"get ready\":\n",
    "     print(\"Getting ready!\")\n",
    "    elif task == \"head to school\":\n",
    "       print(\"Heading to school!\")\n",
    "    elif task == \"finish homework/study\":\n",
    "       print(\"Working hard!\")\n",
    "    elif task == \"going to bed\":\n",
    "       print(\"Time for bed!\")\n",
    "\n",
    "daily_routine(tasks)\n"
   ]
  },
  {
   "cell_type": "code",
   "execution_count": 2,
   "metadata": {},
   "outputs": [
    {
     "ename": "IndentationError",
     "evalue": "unindent does not match any outer indentation level (<tokenize>, line 26)",
     "output_type": "error",
     "traceback": [
      "\u001b[1;36m  File \u001b[1;32m<tokenize>:26\u001b[1;36m\u001b[0m\n\u001b[1;33m    else:\u001b[0m\n\u001b[1;37m    ^\u001b[0m\n\u001b[1;31mIndentationError\u001b[0m\u001b[1;31m:\u001b[0m unindent does not match any outer indentation level\n"
     ]
    }
   ],
   "source": [
    "from getpass import getpass\n"
   ]
  }
 ],
 "metadata": {
  "kernelspec": {
   "display_name": "Python 3",
   "language": "python",
   "name": "python3"
  },
  "language_info": {
   "codemirror_mode": {
    "name": "ipython",
    "version": 3
   },
   "file_extension": ".py",
   "mimetype": "text/x-python",
   "name": "python",
   "nbconvert_exporter": "python",
   "pygments_lexer": "ipython3",
   "version": "3.10.6 (tags/v3.10.6:9c7b4bd, Aug  1 2022, 21:53:49) [MSC v.1932 64 bit (AMD64)]"
  },
  "orig_nbformat": 4,
  "vscode": {
   "interpreter": {
    "hash": "82faa6d27c9a927522682e95cb30c684238aba2a31347a70411ee016fed8cfe5"
   }
  }
 },
 "nbformat": 4,
 "nbformat_minor": 2
}
