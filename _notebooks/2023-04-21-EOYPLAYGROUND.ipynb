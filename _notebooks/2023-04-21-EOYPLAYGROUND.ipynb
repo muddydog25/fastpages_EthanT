{
 "cells": [
  {
   "attachments": {},
   "cell_type": "markdown",
   "metadata": {},
   "source": [
    "# P4-M 4/24 Big Idea 3\n",
    "> Lesson about Big Idea 3\n",
    "author: Finn, Edwin, Zeen, Gene, James, Kush, Luka\n",
    "toc: true\n",
    "comments: true\n",
    "week: 30\n",
    "type: ap\n",
    "categories: [student]\n",
    "layout: base"
   ]
  },
  {
   "attachments": {},
   "cell_type": "markdown",
   "metadata": {},
   "source": [
    "## Introduction: Zeen\n",
    "Hello, my name is zeen and today we will be presenting big idea 3. Our topics include 2d arrays, iteration, and lists and dictionaries.\n",
    "\n",
    "### Objectives\n",
    "Master the concepts of iteration, list, 2d-arrays, Dictionaries, and APIs\n",
    "\n",
    "### Vocab\n",
    "Here is some vocab during the lesson, you should be familar with them already no need for me to read these out, now I will pass the speaking off to Kush\n",
    "\n",
    "\n",
    "\n",
    "- **Iteration**: A process that repates itself\n",
    "- **Array**: Sometimes called a list, can keep strings and intergers inside it\n",
    "- **2D-Array**: A collection of data elements arranged in a grid-like structure with rows and columns\n",
    "- **Mutable**:  the ability to be changed or modified \n",
    "- **Key**: A Singular identifier that is associated with a certin value\n"
   ]
  },
  {
   "attachments": {},
   "cell_type": "markdown",
   "metadata": {},
   "source": [
    "## 1: 2D Array\n",
    "> Tic Tac Toe: Kush Sirohi\n",
    "\n",
    "- What are some examples of 2d Arrays?\n",
    "\n",
    "Examples of 2D Arrays include: A chessboard where each row represents a row of the board and each column represents a column of the board. A spreadsheet, where each row represents a record and each column represents a specific field. Or a basic game board, where each row represents a row of the board and each column represents a column of the board.\n",
    "\n",
    "- What is a modern day game that could be classified as a 2D array?\n",
    "\n",
    "Tetris is a modern day puzzle game where players must stack falling blocks into complete rows. The game board is a 2D array, with each row representing a row of the board and each column representing a column of the board."
   ]
  },
  {
   "cell_type": "code",
   "execution_count": 1,
   "metadata": {},
   "outputs": [
    {
     "name": "stdout",
     "output_type": "stream",
     "text": [
      "This is a normal array: ['Hello', 'Hi', 'Whats up']\n",
      "This is a 2D array\n",
      "['Name', 'ID', 'Age']\n",
      "['Kush', '1', '16']\n",
      "['Finn', '2', '16']\n"
     ]
    }
   ],
   "source": [
    "array = [\"Hello\", \"Hi\", \"Whats up\"]\n",
    "twoDArray = [[\"Name\", \"ID\", \"Age\"], [\"Kush\", \"1\", \"16\"], [\"Finn\", \"2\", \"16\"]]\n",
    "\n",
    "print(f\"This is a normal array: {array}\")\n",
    "\n",
    "print(\"This is a 2D array\")\n",
    "for row in twoDArray:\n",
    "    print(row)"
   ]
  },
  {
   "attachments": {},
   "cell_type": "markdown",
   "metadata": {},
   "source": [
    "## How I used 2D Arrays (game example)\n",
    "- Describe a 2D array in your own words\n",
    "\n",
    "A 2D array is one with two dimensions, or axes. This means it can be viewed as a rectangular grid of elements. A 2D array element is uniquely recognized by its row and column indexes."
   ]
  },
  {
   "cell_type": "code",
   "execution_count": null,
   "metadata": {},
   "outputs": [],
   "source": [
    "board = [[' ', ' ', ' '],\n",
    "         [' ', ' ', ' '],\n",
    "         [' ', ' ', ' ']]\n",
    "         \n",
    "# Function to print the current state of the game board\n",
    "def print_board():\n",
    "    print(\"   0   1   2\")\n",
    "    for i in range(3):\n",
    "        print(i, end='  ')\n",
    "        for j in range(3):\n",
    "            print(board[i][j], end=' ')\n",
    "        print()\n",
    "\n",
    "# Function to check if a player has won the game\n",
    "def check_win(player):\n",
    "    # Check rows for a win\n",
    "    for i in range(3):\n",
    "        if board[i][0] == player and board[i][1] == player and board[i][2] == player:\n",
    "            return True\n",
    "    # Check columns for a win\n",
    "    for j in range(3):\n",
    "        if board[0][j] == player and board[1][j] == player and board[2][j] == player:\n",
    "            return True\n",
    "    # Check diagonals for a win\n",
    "    if board[0][0] == player and board[1][1] == player and board[2][2] == player:\n",
    "        return True\n",
    "    if board[0][2] == player and board[1][1] == player and board[2][0] == player:\n",
    "        return True\n",
    "    # If no win condition is met, return False\n",
    "    return False\n",
    "\n",
    "# Function to check if the game is a tie\n",
    "def check_tie():\n",
    "    for i in range(3):\n",
    "        for j in range(3):\n",
    "            if board[i][j] == ' ':\n",
    "                return False\n",
    "    return True\n",
    "\n",
    "# Function to play the game\n",
    "def play_game():\n",
    "    # Initialize player and turn counter\n",
    "    player = 'X'\n",
    "    turns = 0\n",
    "    # Loop until the game is over\n",
    "    while True:\n",
    "        # Print the current state of the board\n",
    "        print_board()\n",
    "        # Get the player’s move\n",
    "        row = int(input(f\"{player}'s turn. Enter row (0-2): \"))\n",
    "        col = int(input(f\"{player}'s turn. Enter column (0-2): \"))\n",
    "        # Check if the move is valid\n",
    "        if board[row][col] == ' ':\n",
    "            board[row][col] = player\n",
    "            turns += 1\n",
    "            # Check if the player has won\n",
    "            if check_win(player):\n",
    "                print_board()\n",
    "                print(f\"{player} wins!\")\n",
    "                return\n",
    "            # Check if the game is a tie\n",
    "            if check_tie():\n",
    "                print_board()\n",
    "                print(\"It's a tie!\")\n",
    "                return\n",
    "            # Switch players\n",
    "            player = 'O' if player == 'X' else 'X'\n",
    "        else:\n",
    "            print(\"That space is already taken. Try again.\")\n",
    "\n",
    "# Start the game\n",
    "play_game()\n"
   ]
  },
  {
   "attachments": {},
   "cell_type": "markdown",
   "metadata": {},
   "source": [
    "## 2: Iteration\n",
    "> Robot Game: Finn Carpenter\n",
    "- What is the definition of iteration in your own words\n",
    "\n",
    "Iteration is the process of repeating a procedure until the desired result is obtained. For example, a for loop can use iteration to step though objects in a list or array."
   ]
  },
  {
   "cell_type": "code",
   "execution_count": 3,
   "metadata": {},
   "outputs": [
    {
     "name": "stdout",
     "output_type": "stream",
     "text": [
      "hi\n",
      "hi\n",
      "hi\n",
      "hi\n",
      "hi\n",
      "hello\n",
      "hello\n",
      "hello\n",
      "hello\n",
      "hello\n",
      "hello\n",
      "1\n",
      "2\n",
      "3\n",
      "4\n",
      "5\n"
     ]
    }
   ],
   "source": [
    "### Different methods of iteration\n",
    "\n",
    "times = 0\n",
    "numbers = [1, 2, 3, 4, 5]\n",
    "\n",
    "## Loops\n",
    "for i in range(5):\n",
    "    print(\"hi\")\n",
    "\n",
    "\n",
    "while times <= 5:\n",
    "    print(\"hello\")\n",
    "    times = times + 1\n",
    "\n",
    "## Function with a parameters\n",
    "def print_numbers(x):\n",
    "    for num in x:\n",
    "        print(num)\n",
    "\n",
    "print_numbers(numbers)\n",
    "\n"
   ]
  },
  {
   "attachments": {},
   "cell_type": "markdown",
   "metadata": {},
   "source": [
    "## Iteration Game\n",
    "- [Link to the game](https://f1nnc.github.io/Playground/robot)\n",
    "- Play the levels (only play the first 2 in class)\n",
    "- Explain how the game relates to iteration\n",
    "\n",
    "The game is played by repeatedly pressing the arrow keys to move the square around the screen. This is an example of iteration, as the player is repeatedly performing the same action in order to achieve a goal."
   ]
  },
  {
   "attachments": {},
   "cell_type": "markdown",
   "metadata": {},
   "source": [
    "## How I used iteration (game example)\n",
    "- What parts of the code use iteration\n",
    "\n",
    "The for loops in the movements array. These loops iterate over the UPinput, DOWNinput, LEFTinput, and RIGHTinput variables to create an array of movements."
   ]
  },
  {
   "cell_type": "code",
   "execution_count": null,
   "metadata": {
    "vscode": {
     "languageId": "javascript"
    }
   },
   "outputs": [],
   "source": [
    "function run() {\n",
    "    // Read input values from the HTML document and convert them to integers.\n",
    "    UPinput = parseInt(document.getElementById(\"up\").value);\n",
    "    DOWNinput = parseInt(document.getElementById(\"down\").value);\n",
    "    LEFTinput = parseInt(document.getElementById(\"left\").value);\n",
    "    RIGHTinput = parseInt(document.getElementById(\"right\").value);\n",
    "    looper = parseInt(document.getElementById(\"loop\").value);\n",
    "\n",
    "    runner.style.opacity = 0;\n",
    "    \n",
    "\n",
    "    // Create an array to hold the movements.\n",
    "    let movements = [];\n",
    "\n",
    "    // Push 'up' movements to the array.\n",
    "    for (let l = 0; l < looper; l++) {\n",
    "        for (let k = 0; k < UPinput; k++) {\n",
    "            movements.push(up);\n",
    "        }\n",
    "\n",
    "        // Push 'down' movements to the array.\n",
    "        for (let i = 0; i < DOWNinput; i++) {\n",
    "            movements.push(down);\n",
    "        }\n",
    "\n",
    "        // Push 'left' movements to the array.\n",
    "        for (let a = 0; a < LEFTinput; a++) {\n",
    "            movements.push(left);\n",
    "        }\n",
    "\n",
    "        // Push 'right' movements to the array.\n",
    "        for (let c = 0; c < RIGHTinput; c++) {\n",
    "            movements.push(right);\n",
    "        }\n",
    "    }\n",
    "\n",
    "\n",
    "    // Set the initial index to 0 and execute each movement in sequence with a delay of 800 milliseconds.\n",
    "    let index = 0;\n",
    "    let intervalId = setInterval(() => {\n",
    "        // If the end of the movements array has been reached, stop executing movements.\n",
    "        if (index >= movements.length) {\n",
    "            clearInterval(intervalId);\n",
    "            win(); // Call the win function.\n",
    "            return;\n",
    "        }\n",
    "        movements[index](); // Execute the movement at the current index.\n",
    "        index++; // Increment the index.\n",
    "    }, 800);\n",
    "}"
   ]
  },
  {
   "attachments": {},
   "cell_type": "markdown",
   "metadata": {},
   "source": [
    "## 3: List and Dictionaries\n",
    "> Scramble Game: Edwin \n"
   ]
  },
  {
   "cell_type": "code",
   "execution_count": 2,
   "metadata": {},
   "outputs": [
    {
     "name": "stdout",
     "output_type": "stream",
     "text": [
      "1\n",
      "Hi\n"
     ]
    }
   ],
   "source": [
    "# List and Dictonary Example\n",
    "\n",
    "List = [1, 2, 3, 4, 5]\n",
    "Dict = {\n",
    "    1: \"Hi\",\n",
    "    2: \"Hello\",\n",
    "    3: \"Whats Up\"\n",
    "}\n",
    "\n",
    "# Why Do I call 0 for the first thing in a list, but 1 for Dict\n",
    "#\n",
    "\n",
    "print(List[0])\n",
    "print(Dict[1])"
   ]
  },
  {
   "attachments": {},
   "cell_type": "markdown",
   "metadata": {},
   "source": [
    "## How I used a dictonary to make a game\n",
    "> Memory Game: James\n",
    "- [Link](https://f1nnc.github.io/Playground/memory2)\n",
    "- ![Code](https://nighthawkcoders.github.io/APCSP/images/jamescode.png)"
   ]
  },
  {
   "attachments": {},
   "cell_type": "markdown",
   "metadata": {},
   "source": [
    "## How I used List to make a game\n",
    "- Explain which parts of the code use lists\n",
    "\n",
    "First, the word_list variable is a list of computer science words. Secondly, the scrambled_word variable is a list of the letters in the randomly selected word, in a random order.\n",
    "Lastly, the guesses variable is a list of the number of guesses the user has made.\n",
    "\n",
    "- Explain what list manipulation is happening in that part\n",
    "\n",
    "The random.sample() function selects a random sample of elements from a list and is used to select a random sample of letters from the word string. The letters in the scrambled_word list are then placed in a random order."
   ]
  },
  {
   "cell_type": "code",
   "execution_count": 6,
   "metadata": {},
   "outputs": [
    {
     "name": "stdout",
     "output_type": "stream",
     "text": [
      "Unscramble the following Computer Science Word: uatlmeb\n",
      "Congratulations, you unscrambled the word!\n"
     ]
    }
   ],
   "source": [
    "import random\n",
    "\n",
    "word_list = [\"python\", \"computer\", \"programming\", \"algorithm\", \"database\", \"function\", \"variable\", \"loop\", \"iteration\", \"array\", \"mutable\", \"insertion\", \"deletion\", \"key\", \"API\"]\n",
    "\n",
    "word = random.choice(word_list)\n",
    "\n",
    "scrambled_word = \"\".join(random.sample(word, len(word)))\n",
    "\n",
    "print(f\"Unscramble the following Computer Science Word: {scrambled_word}\")\n",
    "\n",
    "hints = 1\n",
    "guesses = 1\n",
    "guess = \"\"\n",
    "\n",
    "while guess != word and guesses <= 4:\n",
    "    guess = input(\"What's the unscrambled word? \").lower()\n",
    "    if guess != word:\n",
    "        print(\"Sorry, that's not the word. Try again!\")\n",
    "        if guesses == 1:\n",
    "            guesses += 1\n",
    "        elif guesses == 2:\n",
    "            print(f\"Hint 1: The first letter of the word is '{word[0]}'\")\n",
    "            guesses += 1\n",
    "        elif guesses == 3:\n",
    "            print(f\"Hint 2: The second letter of the word is '{word[1]}'\")\n",
    "            guesses += 1\n",
    "        else:\n",
    "            print(f\"All 4 Guesses have been used, you didn't unscramble the word, the word was {word}\")\n",
    "            guesses += 1\n",
    "    else:\n",
    "        print(\"Congratulations, you unscrambled the word!\")"
   ]
  },
  {
   "attachments": {},
   "cell_type": "markdown",
   "metadata": {},
   "source": [
    "# Hacks: Your Score/1\n",
    "\n",
    "\n",
    "## General 0.3\n",
    "- Copy this noteboook into your personal fastpages\n",
    "- Answer all questions\n",
    "    - put the question in a new markdown block (so we can grade faster)\n",
    "\n",
    "\n",
    "\n",
    "\n",
    "\n",
    "1. What are some examples of 2d Arrays?\n",
    "\n",
    "Examples of 2D Arrays include: A chessboard where each row represents a row of the board and each column represents a column of the board. A spreadsheet, where each row represents a record and each column represents a specific field. Or a basic game board, where each row represents a row of the board and each column represents a column of the board.\n",
    "\n",
    "2. What is a modern day game that could be classified as a 2D array?\n",
    "\n",
    "Tetris is a modern day puzzle game where players must stack falling blocks into complete rows. The game board is a 2D array, with each row representing a row of the board and each column representing a column of the board.\n",
    "\n",
    "3. Describe a 2D array in your own words\n",
    "\n",
    "A 2D array is one with two dimensions, or axes. This means it can be viewed as a rectangular grid of elements. A 2D array element is uniquely recognized by its row and column indexes.\n",
    "\n",
    "\n",
    "4. What is the definition of iteration in your own words\n",
    "\n",
    "Iteration is the process of repeating a procedure until the desired result is obtained. For example, a for loop can use iteration to step though objects in a list or array.\n",
    "\n",
    "5. Explain how the game relates to iteration\n",
    "\n",
    "The game is played by repeatedly pressing the arrow keys to move the square around the screen. This is an example of iteration, as the player is repeatedly performing the same action in order to achieve a goal.\n",
    "\n",
    "6. What parts of the code use iteration\n",
    "\n",
    "The for loops in the movements array. These loops iterate over the UPinput, DOWNinput, LEFTinput, and RIGHTinput variables to create an array of movements.\n",
    "\n",
    "\n",
    "7. Explain which parts of the code use lists\n",
    "\n",
    "First, the word_list variable is a list of computer science words. Secondly, the scrambled_word variable is a list of the letters in the randomly selected word, in a random order.\n",
    "Lastly, the guesses variable is a list of the number of guesses the user has made.\n",
    "\n",
    "8. Explain what list manipulation is happening in that part\n",
    "\n",
    "The random.sample() function selects a random sample of elements from a list and is used to select a random sample of letters from the word string. The letters in the scrambled_word list are then placed in a random order."
   ]
  },
  {
   "attachments": {},
   "cell_type": "markdown",
   "metadata": {},
   "source": [
    "## Iteration 0.2 (can get up to 0.23)\n",
    "- Get to level 5\n",
    "    - Take ScreenShots of your name inside the box an put them in your ticket\n",
    "\n",
    "![image.png](https://user-images.githubusercontent.com/109186517/233936851-7a505b6b-9cd0-4e52-b22f-7606cd09544d.png)\n",
    "\n",
    "![image.png](https://user-images.githubusercontent.com/109186517/233937009-f1ae2670-91f2-4e01-b08b-6f02f44a264b.png)\n",
    "\n",
    "![image.png](https://user-images.githubusercontent.com/109186517/233937147-91375e5e-2824-44e0-b5c9-2a72bbb9ce36.png)\n",
    "\n",
    "![image.png](https://user-images.githubusercontent.com/109186517/233937316-f6f95b41-5a7f-44f1-9978-eeb5e6e191b7.png)\n",
    "\n",
    "![image.png](https://user-images.githubusercontent.com/109186517/233937474-2e2be3ae-4dcc-474b-9f98-aba994994f1a.png)\n",
    "\n",
    "- Create a code segment with iteration that does something cool"
   ]
  },
  {
   "cell_type": "code",
   "execution_count": 4,
   "metadata": {},
   "outputs": [
    {
     "name": "stdout",
     "output_type": "stream",
     "text": [
      "0\n",
      "1\n",
      "1\n",
      "2\n",
      "3\n",
      "5\n",
      "8\n",
      "13\n",
      "21\n",
      "34\n"
     ]
    }
   ],
   "source": [
    "# initialize the first two numbers in the sequence\n",
    "a, b = 0, 1\n",
    "\n",
    "# loop through 10 times to generate the first 10 numbers\n",
    "# First ten numbers in the Fibonacci sequence \n",
    "for i in range(10):\n",
    "    print(a)\n",
    "    a, b = b, a + b"
   ]
  },
  {
   "attachments": {},
   "cell_type": "markdown",
   "metadata": {},
   "source": [
    "## 2D array 0.2 (can get up to 0.23)\n",
    "\n",
    "- Explain how the tic tac toe game works\n",
    "\n",
    "The code for the game creates a 3x3 grid and allows two players to take turns placing X's and O's. The first player to get three of their marks in a row wins the game. If all 9 squares are filled and no player has three marks in a row, the game is a tie.\n",
    "\n",
    "- Give 3 Examples of games that can be made from 2D arrays\n",
    "\n",
    "1. Connect four: This is another classic game that can be played by two players. Each player takes turns dropping their colored disc into a 7x6 grid. The first player to get four of their discs in a row, either horizontally, vertically, or diagonally, wins the game.\n",
    "\n",
    "2. Minesweeper: This is a single-player game where the player must clear a grid of mines without detonating any of them. The player is given clues about the location of the mines, and must use this information to safely navigate the grid.\n",
    "\n",
    "3. Sudoku: This is a single-player puzzle game where the player must fill a 9x9 grid with numbers from 1 to 9. Each row, column, and 3x3 subgrid must contain each number exactly once.\n",
    "\n",
    "## List and Dictionaries 0.2 (can get up to 0.23)\n",
    "\n",
    "- Explain the differences between Lists and Dictionaries\n",
    "\n",
    "Lists are ordered data compilations. They can hold a wide range of data types, including strings, numbers, and objects. Lists are formed with square brackets, and their elements are separated by commas. Dictionaries, on the other hand, are unorganized compilations of facts. Curly brackets are used to build them, and dictionary items are key-value pairs. A key is a value's unique identifier. Any data type, including texts, numbers, and objects, can be used as a value. \n",
    "\n",
    "Overall: \n",
    "1. Lists are faster than dictionaries for accessing elements by index. \n",
    "2. Dictionaries are faster than lists for accessing elements by key.\n",
    "3. Lists can store duplicate elements.\n",
    "4. Dictionaries cannot store duplicate keys.\n",
    "\n",
    "- Make a code block that manipulates either a list or a dictionary\n"
   ]
  },
  {
   "attachments": {},
   "cell_type": "markdown",
   "metadata": {},
   "source": [
    "## Code that manipulates a list "
   ]
  },
  {
   "cell_type": "code",
   "execution_count": 1,
   "metadata": {},
   "outputs": [
    {
     "name": "stdout",
     "output_type": "stream",
     "text": [
      "3\n",
      "['orange', 'cherry', 'apple']\n"
     ]
    }
   ],
   "source": [
    "# Create a list\n",
    "my_list = [\"apple\", \"banana\", \"cherry\"]\n",
    "\n",
    "# Add an element to the list\n",
    "my_list.append(\"orange\")\n",
    "\n",
    "# Remove an element from the list\n",
    "my_list.remove(\"banana\")\n",
    "\n",
    "# Sort the list\n",
    "my_list.sort()\n",
    "\n",
    "# Reverse the order of the list\n",
    "my_list.reverse()\n",
    "\n",
    "# Get the length of the list\n",
    "print(len(my_list))\n",
    "\n",
    "# Print the list\n",
    "print(my_list)"
   ]
  },
  {
   "attachments": {},
   "cell_type": "markdown",
   "metadata": {},
   "source": [
    "## Code that manipulates a dictionary "
   ]
  },
  {
   "cell_type": "code",
   "execution_count": 2,
   "metadata": {},
   "outputs": [
    {
     "name": "stdout",
     "output_type": "stream",
     "text": [
      "{'key1': 'value1', 'key3': 'value3'}\n"
     ]
    }
   ],
   "source": [
    "# Create a dictionary\n",
    "dictionary = {\"key1\": \"value1\", \"key2\": \"value2\"}\n",
    "\n",
    "# Add a new key-value pair to the dictionary\n",
    "dictionary[\"key3\"] = \"value3\"\n",
    "\n",
    "# Remove a key-value pair from the dictionary\n",
    "del dictionary[\"key2\"]\n",
    "\n",
    "# Get the value of a key in the dictionary\n",
    "value = dictionary[\"key1\"]\n",
    "\n",
    "# Get the length of the dictionary\n",
    "length = len(dictionary)\n",
    "\n",
    "# Print the dictionary\n",
    "print(dictionary)"
   ]
  }
 ],
 "metadata": {
  "kernelspec": {
   "display_name": "base",
   "language": "python",
   "name": "python3"
  },
  "language_info": {
   "codemirror_mode": {
    "name": "ipython",
    "version": 3
   },
   "file_extension": ".py",
   "mimetype": "text/x-python",
   "name": "python",
   "nbconvert_exporter": "python",
   "pygments_lexer": "ipython3",
   "version": "3.9.12"
  },
  "orig_nbformat": 4
 },
 "nbformat": 4,
 "nbformat_minor": 2
}
