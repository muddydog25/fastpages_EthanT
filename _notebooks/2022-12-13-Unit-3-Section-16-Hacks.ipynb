{
 "cells": [
  {
   "attachments": {},
   "cell_type": "markdown",
   "metadata": {},
   "source": [
    "# Hacks Section 16"
   ]
  },
  {
   "attachments": {},
   "cell_type": "markdown",
   "metadata": {},
   "source": [
    "## Hack #1 \n",
    "* Create an idea for a simulation and describe it (you don’t actually have to code it just think about/answer the guiding questions).\n",
    "\n",
    "To test the safety of a car, a simulation can be ran to test out different outcomes depending on the force of the crash. A simulation of this would help to reduce the costs and effects of physically performing crash tests for a car.\n",
    "\n",
    "## Hack #2 "
   ]
  },
  {
   "cell_type": "code",
   "execution_count": 1,
   "metadata": {},
   "outputs": [
    {
     "name": "stdout",
     "output_type": "stream",
     "text": [
      "Welcome to the Simulations Quiz!\n",
      "\n",
      " True or False: Simulations will always have the same result. \n",
      " A: True, \n",
      " B: False\n",
      "You said:  B\n",
      "Correct!\n",
      "\n",
      " True or False: A simulation has results that are more accurate than an experiment \n",
      " A: True, \n",
      " B: False\n",
      "You said:  B\n",
      "Correct!\n",
      "\n",
      " True or False: A simulation can model real world events that are not practical for experiments \n",
      " A: True, \n",
      " B: False\n",
      "You said:  A\n",
      "Correct!\n",
      "\n",
      " Which one of these is FALSE regarding simulations \n",
      " A: Reduces Costs, \n",
      " B: Is safer than real life experiments, \n",
      " C: More Efficient, \n",
      " D: More accurate than real life experiments\n",
      "You said:  D\n",
      "Correct!\n",
      "\n",
      " Which of the following scenarios would be the LEAST beneficial to have as a simulation \n",
      " A: A retail company wants to identify the item which sold the most on their website, \n",
      " B: A restaurant wants to determine if the use of robots will increase efficiency, \n",
      " C: An insurance company wants to study the impact of rain on car accidents, \n",
      " D: A sports car company wants to study design changes to their new bike design \n",
      "You said:  A\n",
      "Correct!\n",
      "\n",
      " Which of the following is better to do as a simulation than as a calculation \n",
      " A: Keeping score at a basketball game, \n",
      " B: Keeping track of how many games a person has won, \n",
      " C: Determining the average grade for a group of tests, \n",
      " D: Studying the impact of carbon emissions on the environment\n",
      "You said:  D\n",
      "Correct!\n",
      "You scored:  6 /6\n"
     ]
    }
   ],
   "source": [
    "questions_number = 6\n",
    "answers_correct = 0\n",
    "questions = [\n",
    "    \"True or False: Simulations will always have the same result. \\n A: True, \\n B: False\",\n",
    "    \"True or False: A simulation has results that are more accurate than an experiment \\n A: True, \\n B: False\",\n",
    "    \"True or False: A simulation can model real world events that are not practical for experiments \\n A: True, \\n B: False\",\n",
    "    \"Which one of these is FALSE regarding simulations \\n A: Reduces Costs, \\n B: Is safer than real life experiments, \\n C: More Efficient, \\n D: More accurate than real life experiments\",\n",
    "    \"Which of the following scenarios would be the LEAST beneficial to have as a simulation \\n A: A retail company wants to identify the item which sold the most on their website, \\n B: A restaurant wants to determine if the use of robots will increase efficiency, \\n C: An insurance company wants to study the impact of rain on car accidents, \\n D: A sports car company wants to study design changes to their new bike design \",\n",
    "    \"Which of the following is better to do as a simulation than as a calculation \\n A: Keeping score at a basketball game, \\n B: Keeping track of how many games a person has won, \\n C: Determining the average grade for a group of tests, \\n D: Studying the impact of carbon emissions on the environment\"\n",
    "]\n",
    "question_answers = [\n",
    "    \"B\",\n",
    "    \"B\",\n",
    "    \"A\",\n",
    "    \"D\",\n",
    "    \"A\",\n",
    "    \"D\"\n",
    "]\n",
    "\n",
    "print(\"Welcome to the Simulations Quiz!\")\n",
    "\n",
    "def ask_question (question, answer):\n",
    "    print(\"\\n\", question)\n",
    "    user_answer = input(question)\n",
    "    print(\"You said: \", user_answer)\n",
    "\n",
    "    if user_answer == answer:\n",
    "        print(\"Correct!\")\n",
    "        global answers_correct\n",
    "        answers_correct = answers_correct + 1\n",
    "    else:\n",
    "        print(\"You are incorrect\")\n",
    "    \n",
    "for num in range(questions_number):\n",
    "    ask_question(questions[num], question_answers[num])\n",
    "\n",
    "print(\"You scored: \", answers_correct, \"/6\")"
   ]
  },
  {
   "attachments": {},
   "cell_type": "markdown",
   "metadata": {},
   "source": [
    "## Hack #3 \n",
    "* Describe the rolling dice simulation (answer guiding questions)\n",
    "\n",
    "1) What makes it a simulation?\n",
    "The dice simulation is a proper simulation because it imitates the process of rolling a dice in a randomized manner from the numbers 1 through 6.\n",
    "\n",
    "2) What are it’s advantages and disadvantages? \n",
    "The simulation allows the dice roll to be quickly and easily carried out. The disadvantage of the simulation is that it is purely mathematical, it does not account for any sorts of physical forces (ie. dents, cracks, etc.) that may affect the dice roll in a real-life scenario.\n",
    "\n",
    "3) In your opinion, would an experiment be better in this situation?\n",
    "In my opinion, I believe that a simulation would work better than an experiment - as it disregards human errors such as various forms of rolling, or physical alterations to the dice.\n",
    "\n",
    "## Hack #4 \n",
    "* Add a feature onto the rolling dice simulation \n",
    "    - ex: a 14-sided dice or expand the purpose of the simulation (hint: use conditionals to make dice part of a game/real life situation)"
   ]
  },
  {
   "attachments": {},
   "cell_type": "markdown",
   "metadata": {},
   "source": [
    "# Hack #4\n",
    "Add a feature onto the rolling dice simulation above ex: a 14-sided dice or expand the purpose of the simulation (hint: use conditionals to make dice part of a game/real life situation)\n",
    "\n",
    "- 14 sided dice!"
   ]
  },
  {
   "cell_type": "code",
   "execution_count": 3,
   "metadata": {},
   "outputs": [
    {
     "name": "stdout",
     "output_type": "stream",
     "text": [
      "You rolled: [11, 6]\n"
     ]
    }
   ],
   "source": [
    "import random\n",
    "\n",
    "def roll_dice(num_dice):\n",
    "    roll_results = []\n",
    "    for _ in range(num_dice):\n",
    "        roll = random.randint(1, 14)\n",
    "        roll_results.append(roll)\n",
    "    return roll_results\n",
    "\n",
    "\n",
    "num_dice_input = input(\"How many dice do you want to roll? [1-14] \")\n",
    "num_dice = parse_input(num_dice_input)\n",
    "roll_results = roll_dice(num_dice)\n",
    "\n",
    "print(\"You rolled:\", roll_results) "
   ]
  },
  {
   "attachments": {},
   "cell_type": "markdown",
   "metadata": {},
   "source": [
    "# Extra Work"
   ]
  },
  {
   "cell_type": "code",
   "execution_count": 19,
   "metadata": {},
   "outputs": [
    {
     "ename": "AttributeError",
     "evalue": "'int' object has no attribute 'append'",
     "output_type": "error",
     "traceback": [
      "\u001b[1;31m---------------------------------------------------------------------------\u001b[0m",
      "\u001b[1;31mAttributeError\u001b[0m                            Traceback (most recent call last)",
      "\u001b[1;32mc:\\Users\\etran\\.vscode\\fastpages_EthanT\\_notebooks\\2022-12-13-Unit-3-Section-16-Hacks.ipynb Cell 8\u001b[0m in \u001b[0;36m<cell line: 11>\u001b[1;34m()\u001b[0m\n\u001b[0;32m      <a href='vscode-notebook-cell:/c%3A/Users/etran/.vscode/fastpages_EthanT/_notebooks/2022-12-13-Unit-3-Section-16-Hacks.ipynb#X13sZmlsZQ%3D%3D?line=7'>8</a>\u001b[0m     \u001b[39mreturn\u001b[39;00m result\n\u001b[0;32m     <a href='vscode-notebook-cell:/c%3A/Users/etran/.vscode/fastpages_EthanT/_notebooks/2022-12-13-Unit-3-Section-16-Hacks.ipynb#X13sZmlsZQ%3D%3D?line=9'>10</a>\u001b[0m spin_num \u001b[39m=\u001b[39m \u001b[39m3\u001b[39m\n\u001b[1;32m---> <a href='vscode-notebook-cell:/c%3A/Users/etran/.vscode/fastpages_EthanT/_notebooks/2022-12-13-Unit-3-Section-16-Hacks.ipynb#X13sZmlsZQ%3D%3D?line=10'>11</a>\u001b[0m result \u001b[39m=\u001b[39m gamble(spin_num)\n\u001b[0;32m     <a href='vscode-notebook-cell:/c%3A/Users/etran/.vscode/fastpages_EthanT/_notebooks/2022-12-13-Unit-3-Section-16-Hacks.ipynb#X13sZmlsZQ%3D%3D?line=13'>14</a>\u001b[0m \u001b[39mprint\u001b[39m(\u001b[39m\"\u001b[39m\u001b[39mYour roll: \u001b[39m\u001b[39m\"\u001b[39m, result)\n",
      "\u001b[1;32mc:\\Users\\etran\\.vscode\\fastpages_EthanT\\_notebooks\\2022-12-13-Unit-3-Section-16-Hacks.ipynb Cell 8\u001b[0m in \u001b[0;36mgamble\u001b[1;34m(your_spin)\u001b[0m\n\u001b[0;32m      <a href='vscode-notebook-cell:/c%3A/Users/etran/.vscode/fastpages_EthanT/_notebooks/2022-12-13-Unit-3-Section-16-Hacks.ipynb#X13sZmlsZQ%3D%3D?line=4'>5</a>\u001b[0m \u001b[39mfor\u001b[39;00m _ \u001b[39min\u001b[39;00m \u001b[39mrange\u001b[39m (your_spin):\n\u001b[0;32m      <a href='vscode-notebook-cell:/c%3A/Users/etran/.vscode/fastpages_EthanT/_notebooks/2022-12-13-Unit-3-Section-16-Hacks.ipynb#X13sZmlsZQ%3D%3D?line=5'>6</a>\u001b[0m     spin \u001b[39m=\u001b[39m random\u001b[39m.\u001b[39mrandint(\u001b[39m1\u001b[39m, \u001b[39m7\u001b[39m)\n\u001b[1;32m----> <a href='vscode-notebook-cell:/c%3A/Users/etran/.vscode/fastpages_EthanT/_notebooks/2022-12-13-Unit-3-Section-16-Hacks.ipynb#X13sZmlsZQ%3D%3D?line=6'>7</a>\u001b[0m     your_spin\u001b[39m.\u001b[39;49mappend(spin)\n\u001b[0;32m      <a href='vscode-notebook-cell:/c%3A/Users/etran/.vscode/fastpages_EthanT/_notebooks/2022-12-13-Unit-3-Section-16-Hacks.ipynb#X13sZmlsZQ%3D%3D?line=7'>8</a>\u001b[0m \u001b[39mreturn\u001b[39;00m result\n",
      "\u001b[1;31mAttributeError\u001b[0m: 'int' object has no attribute 'append'"
     ]
    }
   ],
   "source": [
    "import random\n",
    "\n",
    "def gamble(your_spin):\n",
    "    result = []\n",
    "    for _ in range (your_spin):\n",
    "        spin = random.randint(1, 7)\n",
    "        your_spin.append(spin)\n",
    "    return result\n",
    "\n",
    "spin_num = 3\n",
    "result = gamble(spin_num)\n",
    "\n",
    "\n",
    "print(\"Your roll: \", result)\n",
    "\n",
    "# Not finished"
   ]
  }
 ],
 "metadata": {
  "kernelspec": {
   "display_name": "Python 3",
   "language": "python",
   "name": "python3"
  },
  "language_info": {
   "codemirror_mode": {
    "name": "ipython",
    "version": 3
   },
   "file_extension": ".py",
   "mimetype": "text/x-python",
   "name": "python",
   "nbconvert_exporter": "python",
   "pygments_lexer": "ipython3",
   "version": "3.10.6"
  },
  "orig_nbformat": 4,
  "vscode": {
   "interpreter": {
    "hash": "82faa6d27c9a927522682e95cb30c684238aba2a31347a70411ee016fed8cfe5"
   }
  }
 },
 "nbformat": 4,
 "nbformat_minor": 2
}
