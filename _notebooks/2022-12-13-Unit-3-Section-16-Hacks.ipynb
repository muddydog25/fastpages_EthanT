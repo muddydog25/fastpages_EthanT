{
 "cells": [
  {
   "attachments": {},
   "cell_type": "markdown",
   "metadata": {},
   "source": [
    "# Unit 3 Sections 16 Hacks\n",
    "- badges: true\n",
    "- comments: true\n",
    "- author: Ethan Tran\n",
    "- categories: [unit 3, sections 16, hacks]\n"
   ]
  },
  {
   "attachments": {},
   "cell_type": "markdown",
   "metadata": {},
   "source": [
    "# Notes\n",
    "\n",
    "- An experiment is a structured procedure that is undertaken to make a discovery, test a hypothesis, or demonstrate a known fact. Simulations, on the other hand, are used to attempt to replicate real-world events or situations in order to test or predict outcomes. \n",
    "\n",
    "- The advantages of using simulations include that they can be safer, more cost-effective, more efficient, and they can provide more data in less time than experiments. However, the downside of using simulations is that they are not as accurate as experiments and outside factors such as gravity and air resistance may not be included in the simulation. \n",
    "\n",
    "- Simulations should not be used when a situation already has set results or data that won't change, such as a score in a game, the most purchased food item, or the average yearly wage. In these cases, an experiment would not be necessary since the data is already known.\n",
    "\n",
    "- Simulations are a form of computer modeling that enables the analysis of a system by using mathematical models and algorithms to simulate the behavior of the system’s components. Simulations are used to study a system’s performance, its interactions with other systems, and its dynamic behavior over time. Simulations can be applied to any type of system, from simple mechanical systems to large, complex systems.\n",
    "\n",
    "- Simulations typically involve a combination of software and hardware components. The software component is responsible for creating a mathematical model of the system, which may include equations that describe the behavior of the system’s components and their interactions with each other. The hardware component is responsible for running the simulation, by executing the mathematical model and generating the results of the simulation.\n",
    "\n",
    "- Simulations can be used to study a variety of things, such as the performance of a system, the effects of changes to the system, or the behavior of a system over time. By running multiple simulations with different input values, researchers can gain insight into how a system will behave under different conditions. Simulations can also be used to test the accuracy of mathematical models, or to compare different models of the same system.\n",
    "\n",
    "- Simulations are a powerful tool for studying complex systems, as they provide a way to analyze the behavior of the system without actually having to build or test the system. They can also provide insight into the behavior of a system under a variety of conditions, allowing researchers to identify areas of improvement or potential problems. Simulations can be used to test new designs or to gain a better understanding of how a system works before building it."
   ]
  },
  {
   "attachments": {},
   "cell_type": "markdown",
   "metadata": {},
   "source": [
    "## Hack #1 \n",
    "* Create an idea for a simulation and describe it (you don’t actually have to code it just think about/answer the guiding questions).\n",
    "\n",
    "To test the safety of a car, a simulation can be ran to test out different outcomes depending on the force of the crash. A simulation of this would help to reduce the costs and effects of physically performing crash tests for a car.\n",
    "\n",
    "## Hack #2 "
   ]
  },
  {
   "cell_type": "code",
   "execution_count": 1,
   "metadata": {},
   "outputs": [
    {
     "name": "stdout",
     "output_type": "stream",
     "text": [
      "Welcome to the Simulations Quiz!\n",
      "\n",
      " True or False: Simulations will always have the same result. \n",
      " A: True, \n",
      " B: False\n",
      "You said:  B\n",
      "Correct!\n",
      "\n",
      " True or False: A simulation has results that are more accurate than an experiment \n",
      " A: True, \n",
      " B: False\n",
      "You said:  B\n",
      "Correct!\n",
      "\n",
      " True or False: A simulation can model real world events that are not practical for experiments \n",
      " A: True, \n",
      " B: False\n",
      "You said:  A\n",
      "Correct!\n",
      "\n",
      " Which one of these is FALSE regarding simulations \n",
      " A: Reduces Costs, \n",
      " B: Is safer than real life experiments, \n",
      " C: More Efficient, \n",
      " D: More accurate than real life experiments\n",
      "You said:  D\n",
      "Correct!\n",
      "\n",
      " Which of the following scenarios would be the LEAST beneficial to have as a simulation \n",
      " A: A retail company wants to identify the item which sold the most on their website, \n",
      " B: A restaurant wants to determine if the use of robots will increase efficiency, \n",
      " C: An insurance company wants to study the impact of rain on car accidents, \n",
      " D: A sports car company wants to study design changes to their new bike design \n",
      "You said:  A\n",
      "Correct!\n",
      "\n",
      " Which of the following is better to do as a simulation than as a calculation \n",
      " A: Keeping score at a basketball game, \n",
      " B: Keeping track of how many games a person has won, \n",
      " C: Determining the average grade for a group of tests, \n",
      " D: Studying the impact of carbon emissions on the environment\n",
      "You said:  D\n",
      "Correct!\n",
      "You scored:  6 /6\n"
     ]
    }
   ],
   "source": [
    "questions_number = 6\n",
    "answers_correct = 0\n",
    "questions = [\n",
    "    \"True or False: Simulations will always have the same result. \\n A: True, \\n B: False\",\n",
    "    \"True or False: A simulation has results that are more accurate than an experiment \\n A: True, \\n B: False\",\n",
    "    \"True or False: A simulation can model real world events that are not practical for experiments \\n A: True, \\n B: False\",\n",
    "    \"Which one of these is FALSE regarding simulations \\n A: Reduces Costs, \\n B: Is safer than real life experiments, \\n C: More Efficient, \\n D: More accurate than real life experiments\",\n",
    "    \"Which of the following scenarios would be the LEAST beneficial to have as a simulation \\n A: A retail company wants to identify the item which sold the most on their website, \\n B: A restaurant wants to determine if the use of robots will increase efficiency, \\n C: An insurance company wants to study the impact of rain on car accidents, \\n D: A sports car company wants to study design changes to their new bike design \",\n",
    "    \"Which of the following is better to do as a simulation than as a calculation \\n A: Keeping score at a basketball game, \\n B: Keeping track of how many games a person has won, \\n C: Determining the average grade for a group of tests, \\n D: Studying the impact of carbon emissions on the environment\"\n",
    "]\n",
    "question_answers = [\n",
    "    \"B\",\n",
    "    \"B\",\n",
    "    \"A\",\n",
    "    \"D\",\n",
    "    \"A\",\n",
    "    \"D\"\n",
    "]\n",
    "\n",
    "print(\"Welcome to the Simulations Quiz!\")\n",
    "\n",
    "def ask_question (question, answer):\n",
    "    print(\"\\n\", question)\n",
    "    user_answer = input(question)\n",
    "    print(\"You said: \", user_answer)\n",
    "\n",
    "    if user_answer == answer:\n",
    "        print(\"Correct!\")\n",
    "        global answers_correct\n",
    "        answers_correct = answers_correct + 1\n",
    "    else:\n",
    "        print(\"You are incorrect\")\n",
    "    \n",
    "for num in range(questions_number):\n",
    "    ask_question(questions[num], question_answers[num])\n",
    "\n",
    "print(\"You scored: \", answers_correct, \"/6\")"
   ]
  },
  {
   "attachments": {},
   "cell_type": "markdown",
   "metadata": {},
   "source": [
    "## Hack #3 \n",
    "* Describe the rolling dice simulation (answer guiding questions)\n",
    "\n",
    "1) What makes it a simulation?\n",
    "The dice simulation is a proper simulation because it imitates the process of rolling a dice in a randomized manner from the numbers 1 through 6.\n",
    "\n",
    "2) What are it’s advantages and disadvantages? \n",
    "The simulation allows the dice roll to be quickly and easily carried out. The disadvantage of the simulation is that it is purely mathematical, it does not account for any sorts of physical forces (ie. dents, cracks, etc.) that may affect the dice roll in a real-life scenario.\n",
    "\n",
    "3) In your opinion, would an experiment be better in this situation?\n",
    "In my opinion, I believe that a simulation would work better than an experiment - as it disregards human errors such as various forms of rolling, or physical alterations to the dice.\n",
    "\n",
    "## Hack #4 \n",
    "* Add a feature onto the rolling dice simulation \n",
    "    - ex: a 14-sided dice or expand the purpose of the simulation (hint: use conditionals to make dice part of a game/real life situation)"
   ]
  },
  {
   "attachments": {},
   "cell_type": "markdown",
   "metadata": {},
   "source": [
    "# Hack #4\n",
    "Add a feature onto the rolling dice simulation above ex: a 14-sided dice or expand the purpose of the simulation (hint: use conditionals to make dice part of a game/real life situation)\n",
    "\n",
    "- 14 sided dice!"
   ]
  },
  {
   "cell_type": "code",
   "execution_count": 3,
   "metadata": {},
   "outputs": [
    {
     "name": "stdout",
     "output_type": "stream",
     "text": [
      "You rolled: [11, 6]\n"
     ]
    }
   ],
   "source": [
    "import random\n",
    "\n",
    "def roll_dice(num_dice):\n",
    "    roll_results = []\n",
    "    for _ in range(num_dice):\n",
    "        roll = random.randint(1, 14)\n",
    "        roll_results.append(roll)\n",
    "    return roll_results\n",
    "\n",
    "\n",
    "num_dice_input = input(\"How many dice do you want to roll? [1-14] \")\n",
    "num_dice = parse_input(num_dice_input)\n",
    "roll_results = roll_dice(num_dice)\n",
    "\n",
    "print(\"You rolled:\", roll_results) "
   ]
  },
  {
   "attachments": {},
   "cell_type": "markdown",
   "metadata": {},
   "source": [
    "# Extra Work\n",
    "\n",
    "### Going over John Conway's Game of Life\n",
    "\n",
    "John Conway's Game of Life is a cellular automaton game, meaning it consists of a grid of cells that change state based on a set of rules and the states of their neighbors. The game was developed by John Conway in 1970 and has since become a popular subject in mathematics and computer science.\n",
    "\n",
    "The game consists of a 2-dimensional grid of cells, each of which can have one of two states: \"alive\" or \"dead\". A cell is considered alive if it has two or three neighbors that are alive, and is considered dead if it has fewer than two neighbors or more than three neighbors. The cells then evolve over time based on these rules.\n",
    "\n",
    "At each step of the game, any live cell with fewer than two or more than three live neighbors dies, as if by underpopulation or overpopulation. Any deceased cell that has three living neighbors shall turn into a live cell - simulating reproduction. All other cells remain unchanged.\n",
    "\n",
    "The game can be implemented in many ways, but is often seen as a \"zero-player\" game, meaning that once the initial setup is complete, the game proceeds by itself. As a result, it has been used to study the behavior of complex systems and to explore emergent behavior."
   ]
  },
  {
   "cell_type": "code",
   "execution_count": 4,
   "metadata": {},
   "outputs": [],
   "source": [
    "import random\n",
    "\n",
    "def gamble(your_spin):\n",
    "    result = []\n",
    "    for _ in range (your_spin):\n",
    "        spin = random.randint(1, 7)\n",
    "        your_spin.append(spin)\n",
    "        print(result)\n",
    "    return result\n",
    "\n",
    "\n",
    "spin_num = 3\n",
    "result = gamble(spin_num)\n",
    "\n",
    "\n",
    "print(\"Your roll: \", result)\n",
    "\n",
    "#Not finished"
   ]
  }
 ],
 "metadata": {
  "kernelspec": {
   "display_name": "Python 3",
   "language": "python",
   "name": "python3"
  },
  "language_info": {
   "codemirror_mode": {
    "name": "ipython",
    "version": 3
   },
   "file_extension": ".py",
   "mimetype": "text/x-python",
   "name": "python",
   "nbconvert_exporter": "python",
   "pygments_lexer": "ipython3",
   "version": "3.10.6 (tags/v3.10.6:9c7b4bd, Aug  1 2022, 21:53:49) [MSC v.1932 64 bit (AMD64)]"
  },
  "orig_nbformat": 4,
  "vscode": {
   "interpreter": {
    "hash": "82faa6d27c9a927522682e95cb30c684238aba2a31347a70411ee016fed8cfe5"
   }
  }
 },
 "nbformat": 4,
 "nbformat_minor": 2
}
