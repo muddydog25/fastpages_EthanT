{
 "cells": [
  {
   "attachments": {},
   "cell_type": "markdown",
   "metadata": {},
   "source": [
    "# DevOps Lesson\n",
    "\n",
    "- toc: true\n",
    "- categories: []\n",
    "- type: pbl"
   ]
  },
  {
   "cell_type": "code",
   "execution_count": 1,
   "metadata": {},
   "outputs": [
    {
     "name": "stdout",
     "output_type": "stream",
     "text": [
      "142.250.189.14\n"
     ]
    }
   ],
   "source": [
    "import socket\n",
    "\n",
    "# Change the following host and see what IP it prints!\n",
    "host = \"google.com\"\n",
    "ip = socket.gethostbyname(host)\n",
    "\n",
    "print(ip)"
   ]
  },
  {
   "cell_type": "code",
   "execution_count": 2,
   "metadata": {},
   "outputs": [
    {
     "name": "stdout",
     "output_type": "stream",
     "text": [
      "Successfully connected!\n"
     ]
    }
   ],
   "source": [
    "# Initiate a TCP connection to port 80\n",
    "with socket.socket(socket.AF_INET, socket.SOCK_STREAM) as s:\n",
    "    s.connect((ip, 80))\n",
    "    print(\"Successfully connected!\")"
   ]
  },
  {
   "attachments": {},
   "cell_type": "markdown",
   "metadata": {},
   "source": [
    "## Check-In\n",
    "\n",
    "1. What is an IP address?\n",
    "\n",
    "A string of numbers that allow a device to be uniquely identified on the internet. \n",
    "\n",
    "2. What is a TCP port?\n",
    "\n",
    "A TCP port allows two devices to communicate and reassemble data sent to each other through the use of packets. Packets are a collection of bytes, sending them allows two computers to determine whether each packet has been received from a specific location. "
   ]
  },
  {
   "cell_type": "code",
   "execution_count": 6,
   "metadata": {},
   "outputs": [
    {
     "name": "stdout",
     "output_type": "stream",
     "text": [
      "HTTP/1.1 200 OK\n",
      "Date: Wed, 26 Apr 2023 21:18:31 GMT\n",
      "Expires: -1\n",
      "Cache-Control: private, max-age=0\n",
      "Content-Type: text/html; charset=ISO-8859-1\n",
      "Content-Security-Policy-Report-Only: object-src 'none';base-uri 'self';script-src 'nonce-gRXVZiimWFC3Sk-ep3WaGg' 'strict-dynamic' 'report-sample' 'unsafe-eval' 'unsafe-inline' https: http:;report-uri https://csp.withgoogle.com/csp/gws/other-hp\n",
      "P3P: CP=\"This is not a P3P policy! See g.co/p3phelp for more info.\"\n",
      "Server: gws\n",
      "X-XSS-Protection: 0\n",
      "X-Frame-Options: SAMEORIGIN\n",
      "Set-Cookie: 1P_JAR=2023-04-26-21; expires=Fri, 26-May-2023 21:18:31 GMT; path=/; domain=.google.com; Secure\n",
      "Set-Cookie: AEC=AUEFqZfidJWIAB3S83vWyq-evvkFEK8NZ9Gutxg2O9Cnp5Xl5iXUbsM5nA; expires=Mon, 23-Oct-2023 21:18:31 GMT; path=/; domain=.google.com; Secure; HttpOnly; SameSite=lax\n",
      "Set-Cookie: NID=511=QNKuTsIXvsyE6PFkMRC8nZV1YXDhy54OPoCgl8s1n5RxvZz7AvQI1A1u9a69a2PrjoqnNp1ch6UAsW7GXNPeAnbFuJAsdpwMn-D7axb5jZ1_NtaURW5qCRdnK6dppCiUVD-igaEIHgImHMJ5kA297Z0BqL3q4myQMQrVxGCRV_k; expires=Thu, 26-Oct-2023 21:18:31 GMT; path=/; domain=.google.com; HttpOnly\n",
      "Accept-Ranges: none\n",
      "Vary: Accept-Encoding\n",
      "Transfer-Encoding: chunked\n",
      "\n",
      "5b6f\n",
      "<!doctype html><html itemscope=\"\" itemtype=\"http://schema.org/WebPage\" lang=\"en\"><head><meta content=\"Search the world's information, including webpages, images, videos and more. Google has many special features to help you find exactly what you're looking for.\" name=\"description\"><meta content=\"noodp\" name=\"robots\"><meta content=\"text/html; charset=UTF-8\" http-equiv=\"Content-Type\"><meta content=\"/images/branding/googleg/1x/googleg_standard_color_128dp.png\" itemprop=\"image\"><title>Google</title><script nonce=\"gRXVZiimWFC3Sk-ep3WaGg\">(function(){window.google={kEI:'J5VJZLrbH7LbkPIPpM6voAY',kEXPI:'0,1359409,6058,207,2414,2390,2316,383,246,5,1129120,1197790,380701,16108,19404,9286,22430,1362,12318,17581,4998,13228,3847,38444,2872,2891,3926,4422,3406,606,60690,6515,8809,432,3,1590,1,16916,2652,4,1528,2304,29062,13065,13658,2980,18243,5824,2533,4094,7596,1,11943,30211,2,14022,2373,3\n"
     ]
    }
   ],
   "source": [
    "with socket.socket(socket.AF_INET, socket.SOCK_STREAM) as s:\n",
    "    s.connect((ip, 80))\n",
    "\n",
    "    # Send a GET request to \"/\"\n",
    "    s.sendall(b\"GET / HTTP/1.1\\r\\n\\r\\n\")\n",
    "\n",
    "    # Receive & print 2048 bytes of data\n",
    "    data = s.recv(2048)\n",
    "    print(data.decode())"
   ]
  },
  {
   "cell_type": "code",
   "execution_count": 5,
   "metadata": {},
   "outputs": [
    {
     "name": "stdout",
     "output_type": "stream",
     "text": [
      "Status code: 200\n",
      "Headers: {'Content-Type': 'text/html;charset=UTF-8', 'Content-Length': '400056', 'Connection': 'keep-alive', 'Date': 'Wed, 26 Apr 2023 21:18:24 GMT', 'access-control-allow-origin': '*', 'content-security-policy': \"frame-ancestors  'self' asia.espn.com:* asia.espnqa.com:* *.espn.com:* *.espnqa.com:* *.espnsb.com:* *.espnsb.com *.espn.co.uk *.espndeportes.espn.com *.espn.com.br *.espn.com.mx *.espn.com.ve *.espn.com.ar *.espn.com.co *.espnfc.com.au *.espn.com.au *.espn.in *.espn.com.sg *.espn.cl *.espn.ph *.espn.ph:* *.espn.com.pe *.espn.com.gt *.espn.com.do *.espn.com.ec *.espn.com.uy *.espn.com.pa *.espn.co.cr qa.abcnews.go.com preview.abcnews.go.com abc7ny.com abc7.com *.abcotvssb.com preview.goodmorningamerica.com http://*.espnqa.com:* http://*.espn.com:* *.abcotvssb.com *.abcnews.go.com *.abcnews.go.com:* http://*.abcnews.go.com:* abc30.com abc7news.com abc13.com abc7chicago.com 6abc.com abc11.com *.goodmorningamerica.com qa.abc7.com qa.abc30.com qa.abc7news.com qa.abc13.com qa.abc7chicago.com qa.6abc.com qa.abc7ny.com qa.abc11.com *.abcnews.go.com:* abcnews.go.com qa.secsports.com *.secsports.com\", 'etag': 'W/\"c77b52ee736b7c6c3b01ffacf6fd116d94ea220d\"', 'content-encoding': 'gzip', 'via': '1.1 varnish (Varnish/6.0), 1.1 c05b92533bb05b06cb6ce1b3ba4ff604.cloudfront.net (CloudFront)', 'vary': 'Accept-Encoding', 'accept-ranges': 'bytes', 'set-cookie': 'country=us; path=/;, connectionspeed=full; path=/; Expires=Wed, 03 May 2023 21:18:24 GMT;, edition=espn-en-us; path=/; Expires=Wed, 03 May 2023 21:18:24 GMT;, edition-view=espn-en-us; path=/; Expires=Wed, 03 May 2023 21:18:24 GMT;, region=ccpa; path=/; Expires=Wed, 03 May 2023 21:18:24 GMT;, _dcf=1; path=/; Expires=Wed, 03 May 2023 21:18:24 GMT;, SWID=91787D6C-6093-4B52-CBDF-34682458BD2A; path=/; Expires=Sun, 26 Apr 2043 21:18:24 GMT; domain=espn.com;', 'cache-control': 'max-age=0, must-revalidate', 'X-Cache': 'Miss from cloudfront', 'X-Amz-Cf-Pop': 'LAX3-C4', 'X-Amz-Cf-Id': 'Yp7QSXYWLhsehIbtrLkECmGlmxUQvU8h18qdpL980vGVFzlE5-Pr7A=='}\n",
      "Response text: \n",
      "\t<!DOCTYPE html>\n",
      "\t<html class=\"no-icon-fonts\" lang=\"en\">\n",
      "\t<head>\n",
      "\t\t<meta http-equiv=\"content-type\" \n"
     ]
    }
   ],
   "source": [
    "import requests\n",
    "\n",
    "# Change the URL to whatever you'd like\n",
    "response = requests.get(\"https://www.espn.com/\")\n",
    "\n",
    "print(\"Status code:\", response.status_code)\n",
    "print(\"Headers:\", response.headers)\n",
    "print(\"Response text:\", response.text[:100])\n",
    "\n",
    "# Add a line to print the \"Content-Type\" header of the response\n",
    "# Try an image URL!"
   ]
  },
  {
   "attachments": {},
   "cell_type": "markdown",
   "metadata": {},
   "source": [
    "# NGINX"
   ]
  },
  {
   "cell_type": "code",
   "execution_count": 7,
   "metadata": {},
   "outputs": [
    {
     "name": "stdout",
     "output_type": "stream",
     "text": [
      "<html><head><title>ContentKeeper</title></heQad>\n",
      "<body bgcolor=\"#A02E5F\" text=\"White\" link=\"Lime\" vlink=\"Aqua\">\n",
      "<center><br><h1>ContentKeeper<br>Non-Managed Site</h1>\n",
      "No access is available to NON-Managed Sites.<br><br>\n",
      "<table border=\"1\" cellspacing=\"0\">\n",
      "<tr><td>URL</td><td><b>3.130.255.192</b></td></tr>\n",
      "<tr><td>Username</td><td><b>1905720/pusd</b></td></tr></table>\n",
      "</body></html>\n",
      "\n"
     ]
    }
   ],
   "source": [
    "aws = \"3.130.255.192\"\n",
    "\n",
    "response = requests.get(\"http://\" + aws)\n",
    "print(response.text)\n"
   ]
  },
  {
   "attachments": {},
   "cell_type": "markdown",
   "metadata": {},
   "source": [
    "## Configuration\n",
    "\n",
    "```nginx\n",
    "server {\n",
    "    // Listen on virtual \"port 80\"\n",
    "    listen 80;\n",
    "    listen [::]:80;\n",
    "    server_name 3.130.255.192;\n",
    "\n",
    "    location / {\n",
    "        // Inform server about original client\n",
    "        proxy_set_header        Host $host;\n",
    "        proxy_set_header        X-Real-IP $remote_addr;\n",
    "        proxy_set_header        X-Forwarded-For $proxy_add_x_forwarded_for;\n",
    "        proxy_set_header        X-Forwarded-Proto $scheme;\n",
    "\n",
    "        // Forward all requests transparently to the server running on our computer\n",
    "        proxy_pass              http://localhost:9099;\n",
    "    }\n",
    "}\n",
    "```\n",
    "\n",
    "### Load Balancing\n",
    "\n",
    "```nginx\n",
    "upstream example.com {\n",
    "    server server1.example.com;\n",
    "    server server1.example.com;\n",
    "}\n",
    "```\n",
    "\n",
    "### HTTP Headers\n",
    "\n",
    "```nginx\n",
    "server {\n",
    "    add_header X-Cool-Header \"I love APCSP!\";\n",
    "\n",
    "    location /pages {\n",
    "        add_header X-Cooler-Header \"This is my secret header!\";\n",
    "    }\n",
    "}\n",
    "```\n",
    "\n",
    "## Check In\n",
    "\n",
    "1. Research 1 HTTP header and describe, in detail, its purpose.\n",
    "\n",
    "\n",
    "\n",
    "2. Write a line in a sample NGINX configuration that will add that specific header to the `/information` location\n",
    "\n",
    "\n",
    "\n",
    "3. Explain the purpose of the load balancing performed by NGINX\n",
    "\n",
    "\n",
    "\n",
    "4. Modify the following code block to obtain the value of the secret header on `/products` of the AWS site\n",
    "\n"
   ]
  },
  {
   "cell_type": "code",
   "execution_count": 8,
   "metadata": {},
   "outputs": [
    {
     "name": "stdout",
     "output_type": "stream",
     "text": [
      "The secret header is: ...\n"
     ]
    }
   ],
   "source": [
    "aws = \"3.130.255.192\"\n",
    "\n",
    "response = requests.get(\"http://\" + aws+ \"/products\")\n",
    "\n",
    "print(\"The secret header is:\", \"...\")"
   ]
  },
  {
   "attachments": {},
   "cell_type": "markdown",
   "metadata": {},
   "source": [
    "# Hacks\n",
    "\n",
    "- Complete the above check-in questions and change the hosts (0.1)\n",
    "- Complete the above code-segment to retrieve the secret header (0.1)\n",
    "\n",
    "## Bonus (0.05)\n",
    "\n",
    "Create a diagram showing the layers of abstraction that allow us to use HTTP (IP, TCP, etc.)"
   ]
  },
  {
   "attachments": {},
   "cell_type": "markdown",
   "metadata": {},
   "source": [
    "# CORS Hacks\n",
    "\n",
    "1. Explain what CORS is and what it stands for\n",
    "2. Describe how you would be able to implement CORS into your own websites\n",
    "3. Describe why you would want to implement CORS into your own websites\n",
    "4. How could use CORS to benefit yourself in the future?\n",
    "\n",
    "Total: 0.2 points\n",
    "\n",
    "# KASM Hacks\n",
    "\n",
    "1. What is the purpose of \"sudo\" when running commands in terminal?\n",
    "2. What are some commands which allow us to look at how the storage of a machine is set up as?\n",
    "3. What do you think are some alternatives to running \"curl -O\" to get the zip file for KASM?\n",
    "4. What kind of commands do you think the \"install.sh\" command has and why is it necessary to call it?\n",
    "5. Explain in at least 3-4 sentences how deploying KASM is related to/requires other topics talked about in the lesson and/or potential ways to add things mentioned in the lesson to this guide.\n",
    "\n",
    "Total: 0.2 points\n",
    "\n",
    "# AWS/RDS Hacks\n",
    "\n",
    "See the [setup post](https://firestorm0986.github.io/SLAAT/posts/sqlite-aws/)\n",
    "\n",
    "- Create your own database in the EC2 I have created (ec2-database-connect)\n",
    "    - name it with your first and last name (example: aditya-nawandhar) (0.1)\n",
    "    - Create a table using the commands on the link provided. (0.1)\n",
    "    - using commands from the link provided make columns and rows with test data (can be anything) (example: “name” and “class” are the columns with rows being something like “Aditya” and “Junior”). At least 4 test rows (0.1)\n",
    "    - additional points if the data matches CPT (Bonus: 0.05)\n",
    "\n",
    "Total: 0.3"
   ]
  }
 ],
 "metadata": {
  "kernelspec": {
   "display_name": "base",
   "language": "python",
   "name": "python3"
  },
  "language_info": {
   "codemirror_mode": {
    "name": "ipython",
    "version": 3
   },
   "file_extension": ".py",
   "mimetype": "text/x-python",
   "name": "python",
   "nbconvert_exporter": "python",
   "pygments_lexer": "ipython3",
   "version": "3.9.12"
  },
  "orig_nbformat": 4
 },
 "nbformat": 4,
 "nbformat_minor": 2
}
