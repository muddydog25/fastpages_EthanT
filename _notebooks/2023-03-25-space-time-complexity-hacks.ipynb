{
 "cells": [
  {
   "attachments": {},
   "cell_type": "markdown",
   "metadata": {},
   "source": [
    "#  Data Structures - Space and Time Complexity Hacks\n",
    "> My Hacks for Data Structures - Space and Time Complexity\n",
    "- toc: true\n",
    "- categories: [data structures, space and time complexity, hacks]"
   ]
  },
  {
   "attachments": {},
   "cell_type": "markdown",
   "metadata": {},
   "source": [
    "## Lesson Questions\n",
    "\n",
    "1. Why do you think a programmer should care about space and time complexity?\n",
    "\n",
    "A programmer should care about space and time complexity because it affects the performance and efficiency of their code. Space complexity refers to how much memory an algorithm or data structure needs to solve a problem, while time complexity refers to the amount of time it takes for an algorithm to solve a problem. Understanding the space and time complexity of code helps programmers optimize their code for better performance and scalability, which is important especially for large-scale applications.\n",
    "\n",
    "2. Do you think this is a time complexity or space complexity or both problem?\n",
    "\n",
    "This code snippet seems to be dealing with both time and space complexity. The image management function involves operations such as image scaling, metadata retrieval, and image conversion to base64 format, which can require a significant amount of memory and processing time. The use of large image sizes in the scale_image function also affects the space complexity of the code, as it increases the memory requirements for image processing. Therefore, optimizing the code for better space and time complexity could improve its performance and efficiency.\n",
    "\n",
    "## Hacks\n",
    "\n",
    "1. Record your findings when testing the time elapsed of the different algorithms.\n",
    "\n",
    "O(1) is the most efficient algorithm when it comes to time since its performance stays the same regardless of the size of the input. O(n^2) is good for smaller inputs, however its performance decreases as the input size increases. O(n) is the second best option for smaller inputs, but its performance is directly proportional to the size of the input, making it less suitable for larger inputs.\n",
    "\n",
    "\n",
    "2. Although we will go more in depth later, time complexity is a key concept that relates to the different sorting algorithms. Do some basic research on the different types of sorting algorithms and their time complexity.\n",
    "\n",
    "The different types of sorting algorithms and their time complexity are as follows: Bubble Sort: O(n^2) Insertion Sort: O(n^2) Selection Sort: O(n^2) Merge Sort: O(n log n) Quick Sort: O(n log n) (worst case O(n^2)) Heap Sort: O(n log n) Counting Sort: O(n + k) (k is the range of numbers to be sorted) Radix Sort: O(nk) (k is the number of digits in the largest number to be sorted)\n",
    "\n",
    "3. Why is time and space complexity important when choosing an algorithm?\n",
    "\n",
    "Time and space complexity are important when choosing an algorithm because they determine how efficient the algorithm is. Time complexity refers to how long it takes the algorithm to complete, while space complexity refers to how much memory the algorithm requires. Depending on the problem at hand, certain algorithms may be better suited than others in terms of time and space efficiency.\n",
    "\n",
    "4. Should you always use a constant time algorithm / Should you never use an exponential time algorithm? Explain?\n",
    "\n",
    "No, you should not always use a constant time algorithm and you should not, never use an exponential time algorithm. The choice of algorithm depends on the problem at hand and the specific requirements for time and space efficiency. Some problems may be solvable only with an exponential time algorithm, while others may require a constant time algorithm to meet the efficiency requirements.\n",
    "\n",
    "5. What are some general patterns that you noticed to determine each algorithm's time and space complexity?\n",
    "\n",
    "Some general patterns for determining an algorithm's time and space complexity include the number of inputs (n), the size of the input data (k), the number of loops or recursive calls in the algorithm, and the use of data structures such as arrays, lists, and trees.\n",
    "\n",
    "- Complete the Time and Space Complexity analysis questions linked below. Practice"
   ]
  }
 ],
 "metadata": {
  "kernelspec": {
   "display_name": "base",
   "language": "python",
   "name": "python3"
  },
  "language_info": {
   "codemirror_mode": {
    "name": "ipython",
    "version": 3
   },
   "file_extension": ".py",
   "mimetype": "text/x-python",
   "name": "python",
   "nbconvert_exporter": "python",
   "pygments_lexer": "ipython3",
   "version": "3.9.12"
  },
  "orig_nbformat": 4
 },
 "nbformat": 4,
 "nbformat_minor": 2
}
