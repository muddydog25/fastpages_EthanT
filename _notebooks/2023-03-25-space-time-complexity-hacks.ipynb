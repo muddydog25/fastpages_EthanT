{
 "cells": [
  {
   "attachments": {},
   "cell_type": "markdown",
   "metadata": {},
   "source": [
    "#  Data Structures - Space and Time Complexity Hacks\n",
    "> My Hacks for Data Structures - Space and Time Complexity\n",
    "- toc: true\n",
    "- categories: [data structures, space and time complexity, hacks]"
   ]
  },
  {
   "attachments": {},
   "cell_type": "markdown",
   "metadata": {},
   "source": [
    "## Hacks\n",
    "\n",
    "1. Record your findings when testing the time elapsed of the different algorithms.\n",
    "\n",
    "\n",
    "\n",
    "2. Although we will go more in depth later, time complexity is a key concept that relates to the different sorting algorithms. Do some basic research on the different types of sorting algorithms and their time complexity.\n",
    "\n",
    "The different types of sorting algorithms and their time complexity are as follows: Bubble Sort: O(n^2) Insertion Sort: O(n^2) Selection Sort: O(n^2) Merge Sort: O(n log n) Quick Sort: O(n log n) (worst case O(n^2)) Heap Sort: O(n log n) Counting Sort: O(n + k) (k is the range of numbers to be sorted) Radix Sort: O(nk) (k is the number of digits in the largest number to be sorted)\n",
    "\n",
    "3. Why is time and space complexity important when choosing an algorithm?\n",
    "\n",
    "Time and space complexity are important when choosing an algorithm because they determine how efficient the algorithm is. Time complexity refers to how long it takes the algorithm to complete, while space complexity refers to how much memory the algorithm requires. Depending on the problem at hand, certain algorithms may be better suited than others in terms of time and space efficiency.\n",
    "\n",
    "4. Should you always use a constant time algorithm / Should you never use an exponential time algorithm? Explain?\n",
    "\n",
    "No, you should not always use a constant time algorithm and you should not, never use an exponential time algorithm. The choice of algorithm depends on the problem at hand and the specific requirements for time and space efficiency. Some problems may be solvable only with an exponential time algorithm, while others may require a constant time algorithm to meet the efficiency requirements.\n",
    "\n",
    "5. What are some general patterns that you noticed to determine each algorithm's time and space complexity?\n",
    "\n",
    "Some general patterns for determining an algorithm's time and space complexity include the number of inputs (n), the size of the input data (k), the number of loops or recursive calls in the algorithm, and the use of data structures such as arrays, lists, and trees.\n",
    "\n",
    "6. Complete the Time and Space Complexity analysis questions linked below. Practice"
   ]
  },
  {
   "cell_type": "code",
   "execution_count": 4,
   "metadata": {},
   "outputs": [
    {
     "name": "stdout",
     "output_type": "stream",
     "text": [
      "You spun the wheel and landed on: Prize 1\n"
     ]
    }
   ],
   "source": [
    "import random\n",
    "\n",
    "# Define a list of items on the wheel\n",
    "wheel_items = [\"Prize 1\", \"Prize 2\", \"Prize 3\", \"Prize 4\", \"Prize 5\"]\n",
    "\n",
    "# Define a function to spin the wheel\n",
    "def spin_wheel():\n",
    "    # Choose a random item from the wheel_items list\n",
    "    spin_result = random.choice(wheel_items)\n",
    "    return spin_result\n",
    "\n",
    "# Call the spin_wheel function to spin the wheel\n",
    "result = spin_wheel()\n",
    "\n",
    "# Print the result\n",
    "print(\"You spun the wheel and landed on:\", result)"
   ]
  }
 ],
 "metadata": {
  "kernelspec": {
   "display_name": "base",
   "language": "python",
   "name": "python3"
  },
  "language_info": {
   "codemirror_mode": {
    "name": "ipython",
    "version": 3
   },
   "file_extension": ".py",
   "mimetype": "text/x-python",
   "name": "python",
   "nbconvert_exporter": "python",
   "pygments_lexer": "ipython3",
   "version": "3.9.12"
  },
  "orig_nbformat": 4
 },
 "nbformat": 4,
 "nbformat_minor": 2
}
