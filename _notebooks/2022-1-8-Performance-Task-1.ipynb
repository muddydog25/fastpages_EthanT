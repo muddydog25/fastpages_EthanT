{
 "cells": [
  {
   "attachments": {},
   "cell_type": "markdown",
   "metadata": {},
   "source": [
    "## Submission 1\n",
    "\n",
    "[Link to Scoring Table](https://github.com/realethantran/fastpages_EthanT/issues/22)\n",
    "\n",
    "**My Score: 5/6**\n",
    "\n",
    "**College Board's Score: 4/6**\n",
    "\n",
    "### Reflection\n",
    "\n",
    "**Discrepancies**: In terms of scoring, I had given this submission a total score of 5/6, while College Board graded it a 4/6. Both College Board and myself agreed upon a lack of managing complexity. Where I was mistaken was when I was grading the program purpose and function. For the criteria of the written portion, I had thought that the submission checked all of the boxes. College Board took a point off due to a lack of actually explaining the purpose of the program - rather the submission only explained the function.\n",
    "\n",
    "**What my program will need**: My program will need to meet all of the criteria, leaving no possibilities of mistake. This is due to the fact that even if a single point is marked off, then the entire submission will be graded a 0. For example, Submission 1 was missing the explanation of the purpose of their program and program management that was not as efficient as College Board had wanted - resulting in an F/Fail. \n",
    "\n",
    "**Why the submission may have failed**: The submission may have failed because College Board took a point off due to a lack of actually explaining the purpose of the program - rather the submission only explained the function. Additionally, the use of program management was lackluster, which also invoked a 0/1 from College Board."
   ]
  }
 ],
 "metadata": {
  "kernelspec": {
   "display_name": "Python 3",
   "language": "python",
   "name": "python3"
  },
  "language_info": {
   "name": "python",
   "version": "3.10.6 (tags/v3.10.6:9c7b4bd, Aug  1 2022, 21:53:49) [MSC v.1932 64 bit (AMD64)]"
  },
  "orig_nbformat": 4,
  "vscode": {
   "interpreter": {
    "hash": "82faa6d27c9a927522682e95cb30c684238aba2a31347a70411ee016fed8cfe5"
   }
  }
 },
 "nbformat": 4,
 "nbformat_minor": 2
}
