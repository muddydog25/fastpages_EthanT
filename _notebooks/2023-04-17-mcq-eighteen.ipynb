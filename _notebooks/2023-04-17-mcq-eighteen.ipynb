{
 "cells": [
  {
   "attachments": {},
   "cell_type": "markdown",
   "metadata": {},
   "source": [
    "# 2018 Practice Exam MCQ Corrections + Reflection\n",
    "> My corrections and reflection for the 2018 Practice Exam MCQ\n",
    "- toc: true\n",
    "- author: Ethan Tran\n",
    "- categories: [cb, mcq 2018]"
   ]
  },
  {
   "attachments": {},
   "cell_type": "markdown",
   "metadata": {},
   "source": [
    "![image.png](https://user-images.githubusercontent.com/109186517/232692622-89538d75-135d-42f5-8e99-56a5bed87ed9.png)\n",
    "\n",
    "## Reflection/Overview\n",
    "\n",
    "I am generally satisfied with my performance on the test, but I recognize that there are areas where I can improve. I scored 64/66, which is a good score, but I want to make sure that I am maximizing my learning and achieving my academic goals.\n",
    "\n",
    "When I reviewed the test, I noticed that I missed two questions on topics that I was not as confident in. In the future, I will need to study those areas more thoroughly so that I can feel more confident on test day. I also noticed that I rushed through a few questions and did not take enough time to think through my answers. Next time, I will try to pace myself better so that I have enough time to carefully consider each question.\n",
    "\n",
    "Overall, I am happy with my score on the test, but I know that I can do even better in the future. By identifying my weaknesses and working on them, I am confident that I will continue to improve and reach my goals. I am also going to talk to my teacher to get some feedback on where I can improve, so that I have a better idea of what I need to focus on in the future.\n",
    "\n",
    "![image2.png](https://user-images.githubusercontent.com/109186517/232693031-958f312b-3001-462d-a50c-255aead71b36.png)\n",
    "\n",
    "My answer that participants who read more are less likely to say they are interested in the application is incorrect. The data from the survey shows that participants who read more are generally more likely to say they are interested in the application. This is likely because people who read more are more likely to be exposed to new ideas and information, and they may be more likely to find the application to be useful - therefore, choice A is correct. \n",
    "\n",
    "![image3.png](https://user-images.githubusercontent.com/109186517/232693778-33652a0c-0103-4207-924c-e8badc22095f.png)\n",
    "\n",
    "To construct the desired list, the algorithm must do the following steps in the following order: \n",
    "\n",
    "i. Keep palindromes ii. Shorten words\n",
    "\n",
    "If the \"shorten\" step comes before the \"keep palindromes\" step, the \"keep palindromes\" step will fail to detect whether the original word was a palindrome. This is due to the possibility that the \"shorten\" step will shorten a palindrome into a non-palindrome."
   ]
  }
 ],
 "metadata": {
  "kernelspec": {
   "display_name": "base",
   "language": "python",
   "name": "python3"
  },
  "language_info": {
   "codemirror_mode": {
    "name": "ipython",
    "version": 3
   },
   "file_extension": ".py",
   "mimetype": "text/x-python",
   "name": "python",
   "nbconvert_exporter": "python",
   "pygments_lexer": "ipython3",
   "version": "3.9.12"
  },
  "orig_nbformat": 4
 },
 "nbformat": 4,
 "nbformat_minor": 2
}
