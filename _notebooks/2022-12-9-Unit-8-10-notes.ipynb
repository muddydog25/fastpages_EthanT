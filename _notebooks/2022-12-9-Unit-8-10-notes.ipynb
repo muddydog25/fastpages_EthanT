{
 "cells": [
  {
   "attachments": {},
   "cell_type": "markdown",
   "metadata": {},
   "source": [
    "# Notes Sections 8-10\n",
    "- badges: true\n",
    "- comments: true\n",
    "- author: Ethan Tran\n",
    "- categories: [hacks, turkey, tree, notes]\n"
   ]
  },
  {
   "attachments": {},
   "cell_type": "markdown",
   "metadata": {},
   "source": [
    "1) Iteration: a repeating portion of an algorithm, repeats a specified number of times or until a given condition is met \n",
    "\n",
    "2) Iteration Statements: change the sequential flow of control by repeating a set of statements zero or more times, until a stopping condition is met\n",
    "\n",
    "3) Repeat Until: if the condition evaluates to true initially, the loop body is not executed at all, due to the condition being checked before the loop\n",
    "\n",
    "- For list operations, write expressions that use list indexing and list procedures\n",
    "- For algorithms involving elements of a list, write iteration statements to traverse a list\n",
    "- For list operations, evaluate expression that use list indexing and list procedures\n",
    "- For algorithms involving elements of a list, determine the result of an algorithm that includes list traversals\n",
    "- List procedures are implemented in accordance with the syntax rules of the programming language\n",
    "- Iteration Statements can be used to traverse a list\n",
    "\n",
    "- AP EXAM provides pseudocode for loops\n",
    "- Knowledge of existing algorithms that use iteration can help in constructing new algorithms"
   ]
  },
  {
   "cell_type": "code",
   "execution_count": 1,
   "metadata": {},
   "outputs": [
    {
     "name": "stdout",
     "output_type": "stream",
     "text": [
      "10 is the minimum value.\n"
     ]
    }
   ],
   "source": [
    "# Lowest list value\n",
    "\n",
    "nums = [\"10\", \"15\", \"20\", \"25\", \"30\", \"35\"]\n",
    "potentialMin = int(nums.pop())\n",
    "while len(nums) != 0:\n",
    "    newNum = int(nums.pop())\n",
    "    if newNum < potentialMin:\n",
    "        potentialMin = newNum\n",
    "print(potentialMin, \"is the minimum value.\")"
   ]
  },
  {
   "cell_type": "code",
   "execution_count": 2,
   "metadata": {},
   "outputs": [
    {
     "name": "stdout",
     "output_type": "stream",
     "text": [
      "apple\n",
      "orange\n",
      "strawberry\n",
      "pear\n"
     ]
    }
   ],
   "source": [
    "# Iteration \n",
    "fruit = [\"apple\", \"orange\", \"strawberry\", \"pear\"]\n",
    "i = 0\n",
    "for x in fruit:\n",
    "    print(fruit[i])\n",
    "    i += 1"
   ]
  }
 ],
 "metadata": {
  "kernelspec": {
   "display_name": "Python 3",
   "language": "python",
   "name": "python3"
  },
  "language_info": {
   "codemirror_mode": {
    "name": "ipython",
    "version": 3
   },
   "file_extension": ".py",
   "mimetype": "text/x-python",
   "name": "python",
   "nbconvert_exporter": "python",
   "pygments_lexer": "ipython3",
   "version": "3.10.6 (tags/v3.10.6:9c7b4bd, Aug  1 2022, 21:53:49) [MSC v.1932 64 bit (AMD64)]"
  },
  "orig_nbformat": 4,
  "vscode": {
   "interpreter": {
    "hash": "82faa6d27c9a927522682e95cb30c684238aba2a31347a70411ee016fed8cfe5"
   }
  }
 },
 "nbformat": 4,
 "nbformat_minor": 2
}
