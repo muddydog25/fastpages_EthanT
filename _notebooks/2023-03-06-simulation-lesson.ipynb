{
 "cells": [
  {
   "attachments": {},
   "cell_type": "markdown",
   "metadata": {},
   "source": [
    "# Completed Code for the lesson\n",
    "> The code for an example simulation...\n",
    "- toc: true\n",
    "- categories: [ lesson ]"
   ]
  },
  {
   "cell_type": "code",
   "execution_count": 1,
   "metadata": {},
   "outputs": [
    {
     "name": "stdout",
     "output_type": "stream",
     "text": [
      "You spun the wheel and landed on: Prize 2\n"
     ]
    }
   ],
   "source": [
    "import random\n",
    "\n",
    "# Define a list of items on the wheel\n",
    "wheel_items = [\"Prize 1\", \"Prize 2\", \"Prize 3\", \"Prize 4\", \"Prize 5\"]\n",
    "\n",
    "# Define a function to spin the wheel\n",
    "def spin_wheel():\n",
    "    # Choose a random item from the wheel_items list\n",
    "    spin_result = random.choice(wheel_items)\n",
    "    return spin_result\n",
    "\n",
    "# Call the spin_wheel function to spin the wheel\n",
    "result = spin_wheel()\n",
    "\n",
    "# Print the result\n",
    "print(\"You spun the wheel and landed on:\", result)"
   ]
  },
  {
   "attachments": {},
   "cell_type": "markdown",
   "metadata": {},
   "source": [
    "## Explanation of the code\n",
    "My code is a simple Python program that simulates a spinning wheel game. Here's what it does: It imports the \"random\" module, which contains functions for generating random numbers and random selections from a list. It defines a list called \"wheel_items\" that contains five items (prizes) that can be won on the spinning wheel. It then defines a function called \"spin_wheel()\" that chooses a random item from the \"wheel_items\" list using the \"random.choice()\" function and returns it. Finally, the program calls the \"spin_wheel()\" function and assigns the result to a variable called \"result\". It prints the result of the spin to the console.\n",
    "\n",
    "\n",
    "## Implementation \n",
    "One way that I can implement this code into my group's lesson it to allow students to visualize the data structure used in this code is to by creating a visual version of this code. This version can utilize something such as a a pie chart that represents the probabilities of landing on each prize. The size of each slice of the pie would be proportional to the probability of landing on that prize.\n",
    "\n",
    "For example, if we assume that the spinning wheel is equally likely to land on each prize, then each slice of the pie would be the same size (1/5 or 20% of the total area). We could use a library like Matplotlib to create a pie chart of the probabilities, and then display the chart to students to help them understand how the data is structured and how it relates to the code.\n",
    "\n",
    "Additionally, we could use this code as an example to teach iteration in Python. For example, we could modify the code to simulate spinning the wheel multiple times and keeping track of the results. We could use a loop to repeat the spin process a certain number of times, and then create a histogram or bar chart of the results to show the frequency of each prize. This would help students understand how iteration can be used to process large amounts of data and visualize the results."
   ]
  },
  {
   "cell_type": "code",
   "execution_count": 1,
   "metadata": {},
   "outputs": [
    {
     "name": "stdout",
     "output_type": "stream",
     "text": [
      "Tails\n"
     ]
    }
   ],
   "source": [
    "import random\n",
    "\n",
    "def flip_coin():\n",
    "    result = random.choice(['Heads', 'Tails'])\n",
    "    return result\n",
    "\n",
    "# Example usage\n",
    "print(flip_coin())  # Output: Heads or Tails"
   ]
  },
  {
   "attachments": {},
   "cell_type": "markdown",
   "metadata": {},
   "source": [
    "## Explanation of the code\n",
    "This code defines a function called flip_coin() that uses the random.choice() method to randomly select either \"Heads\" or \"Tails\". The function returns the result of the coin flip. The program then calls the flip_coin() function to get a random result. Note that since this is a random process, the result of the coin flip will be different each time you run the code.\n",
    "\n",
    "## Implementation \n",
    "The code for flipping a coin can be a great addition to our lesson on using lists and dictionaries in Python. One way to use this code is to demonstrate how a list can be used to store the results of multiple coin flips. For example, we can modify the flip_coin() function to return the result of the coin flip as well as store it in a list. Additionally, we can use a dictionary to keep track of the number of times each side of the coin appears in the list. This provides an opportunity to teach students how to manipulate lists and dictionaries, as well as how to use basic Python functions like append() and get(). Furthermore, this code can be used to demonstrate how to use loops and conditionals to perform multiple coin flips and to analyze the results. Overall, the code for flipping a coin can be a fun and engaging way to teach the fundamentals of lists and dictionaries in Python."
   ]
  },
  {
   "cell_type": "code",
   "execution_count": 19,
   "metadata": {},
   "outputs": [
    {
     "name": "stdout",
     "output_type": "stream",
     "text": [
      "You added test1 to the list.\n",
      "You added test2 to the list.\n",
      "You added test3 to the list.\n",
      "You added test4 to the list.\n",
      "You removed test2 from the list.\n",
      "Final list:\n",
      "['test1', 'test3', 'test4']\n"
     ]
    }
   ],
   "source": [
    "# Create a list\n",
    "my_list = []\n",
    "\n",
    "# Prompt the user to add or remove an element from the list\n",
    "while True:\n",
    "    action = input(\"Would you like to add or remove an element from the list? (a/r): \")\n",
    "\n",
    "    # If the user wants to add an element to the list\n",
    "    if action == \"a\":\n",
    "        element = input(\"What element would you like to add to the list? \")\n",
    "        my_list.append(element)\n",
    "        print(\"You added\", element, \"to the list.\")\n",
    "\n",
    "    # If the user wants to remove an element from the list\n",
    "    elif action == \"r\":\n",
    "        element = input(\"What element would you like to remove from the list? Enter the specific element you want removed.\")\n",
    "        my_list.remove(element)\n",
    "        print(\"You removed\", element, \"from the list.\")\n",
    "\n",
    "    # If the user wants to exit\n",
    "    else:\n",
    "        break\n",
    "\n",
    "# Print the final list\n",
    "print(\"Final list:\")\n",
    "print(my_list)"
   ]
  },
  {
   "attachments": {},
   "cell_type": "markdown",
   "metadata": {},
   "source": [
    "## Explanation of the code\n",
    "\n",
    "This code creates an empty list called my_list and prompts the user to add or remove elements from the list. The code uses a while loop that runs indefinitely until the user chooses to exit. Within the while loop, the code prompts the user to enter \"a\" to add an element or \"r\" to remove an element from the list. If the user enters \"a,\" the program prompts the user to enter the element they want to add to the list. It then adds the element to the list using the append() method and prints a message confirming that the element has been added. If the user enters \"r,\" the program prompts the user to enter the specific element they want to remove from the list. It then removes the element from the list using the remove() method and prints a message confirming that the element has been removed. If the user enters any other input besides \"a\" or \"r,\" the program breaks out of the while loop and moves on to print the final list. Finally, the program prints the final list using the print() function.\n",
    "\n",
    "## Implementation\n",
    "\n",
    "This code can be used to teach a lesson on lists in Python by providing an interactive way for students to create and manipulate lists using user input. The lesson can begin by introducing the concept of a list, which is a collection of ordered and mutable elements. I can then explain how lists can be created in Python using the square brackets notation [], and how to add and remove elements from a list using the append() and remove() methods respectively. After, I can provide the code to the students and explain how the code uses a while loop and if-else statements to allow the user to add or remove elements from the list using their own input. To further reinforce the lesson, I can provide additional exercises for the students to practice creating and manipulating lists on their own. For example, I could ask them to modify the code to add more options for manipulating the list, such as inserting an element at a specific index or sorting the list."
   ]
  }
 ],
 "metadata": {
  "kernelspec": {
   "display_name": "base",
   "language": "python",
   "name": "python3"
  },
  "language_info": {
   "codemirror_mode": {
    "name": "ipython",
    "version": 3
   },
   "file_extension": ".py",
   "mimetype": "text/x-python",
   "name": "python",
   "nbconvert_exporter": "python",
   "pygments_lexer": "ipython3",
   "version": "3.9.12"
  },
  "orig_nbformat": 4
 },
 "nbformat": 4,
 "nbformat_minor": 2
}
