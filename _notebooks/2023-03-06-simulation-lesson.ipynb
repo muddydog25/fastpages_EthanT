{
 "cells": [
  {
   "attachments": {},
   "cell_type": "markdown",
   "metadata": {},
   "source": [
    "# Completed Code for the lesson\n",
    "> The code for an example simulation...\n",
    "- toc: true\n",
    "- categories: [ lesson ]"
   ]
  },
  {
   "cell_type": "code",
   "execution_count": 1,
   "metadata": {},
   "outputs": [
    {
     "name": "stdout",
     "output_type": "stream",
     "text": [
      "You spun the wheel and landed on: Prize 2\n"
     ]
    }
   ],
   "source": [
    "import random\n",
    "\n",
    "# Define a list of items on the wheel\n",
    "wheel_items = [\"Prize 1\", \"Prize 2\", \"Prize 3\", \"Prize 4\", \"Prize 5\"]\n",
    "\n",
    "# Define a function to spin the wheel\n",
    "def spin_wheel():\n",
    "    # Choose a random item from the wheel_items list\n",
    "    spin_result = random.choice(wheel_items)\n",
    "    return spin_result\n",
    "\n",
    "# Call the spin_wheel function to spin the wheel\n",
    "result = spin_wheel()\n",
    "\n",
    "# Print the result\n",
    "print(\"You spun the wheel and landed on:\", result)"
   ]
  },
  {
   "attachments": {},
   "cell_type": "markdown",
   "metadata": {},
   "source": [
    "## Explanation of the code\n",
    "My code is a simple Python program that simulates a spinning wheel game. Here's what it does: It imports the \"random\" module, which contains functions for generating random numbers and random selections from a list. It defines a list called \"wheel_items\" that contains five items (prizes) that can be won on the spinning wheel. It then defines a function called \"spin_wheel()\" that chooses a random item from the \"wheel_items\" list using the \"random.choice()\" function and returns it. Finally, the program calls the \"spin_wheel()\" function and assigns the result to a variable called \"result\". It prints the result of the spin to the console.\n",
    "\n",
    "\n",
    "## Implementation \n",
    "One way that I can implement this code into my group's lesson it to allow students to visualize the data structure used in this code is to by creating a visual version of this code. This version can utilize something such as a a pie chart that represents the probabilities of landing on each prize. The size of each slice of the pie would be proportional to the probability of landing on that prize.\n",
    "\n",
    "For example, if we assume that the spinning wheel is equally likely to land on each prize, then each slice of the pie would be the same size (1/5 or 20% of the total area). We could use a library like Matplotlib to create a pie chart of the probabilities, and then display the chart to students to help them understand how the data is structured and how it relates to the code.\n",
    "\n",
    "Additionally, we could use this code as an example to teach iteration in Python. For example, we could modify the code to simulate spinning the wheel multiple times and keeping track of the results. We could use a loop to repeat the spin process a certain number of times, and then create a histogram or bar chart of the results to show the frequency of each prize. This would help students understand how iteration can be used to process large amounts of data and visualize the results."
   ]
  }
 ],
 "metadata": {
  "kernelspec": {
   "display_name": "base",
   "language": "python",
   "name": "python3"
  },
  "language_info": {
   "codemirror_mode": {
    "name": "ipython",
    "version": 3
   },
   "file_extension": ".py",
   "mimetype": "text/x-python",
   "name": "python",
   "nbconvert_exporter": "python",
   "pygments_lexer": "ipython3",
   "version": "3.9.12"
  },
  "orig_nbformat": 4
 },
 "nbformat": 4,
 "nbformat_minor": 2
}
