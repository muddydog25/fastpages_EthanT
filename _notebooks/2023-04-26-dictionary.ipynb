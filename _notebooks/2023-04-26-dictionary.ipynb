{
 "cells": [
  {
   "attachments": {},
   "cell_type": "markdown",
   "metadata": {},
   "source": [
    "#  Dictionary Lesson / 2D Arrays\n",
    "- toc: true\n",
    "- categories: []"
   ]
  },
  {
   "attachments": {},
   "cell_type": "markdown",
   "metadata": {},
   "source": [
    "## Lesson 2: Dictionary's and 2 Dimensional Arrays\n",
    "\n",
    "Advay Shindikar and Amay Advani\n",
    "\n",
    "# Objective:\n",
    "  - Understand the concept of dictionaries and how they can be applied\n",
    "  - Learn how to add, modify, and delete entries in a dictionary using the assignment operator and the del keyword\n",
    "  - Understand the concept of 2D arrays and how they can be used to store data in rows and columns\n",
    "  - Learn how to create a 2D array in Python using a nested list\n",
    "  - Understand how to access values in a 2D array using row and column indices\n",
    "  - Learn how to use indexing and slicing to access a subset of a 2D array\n",
    "\n",
    "\n",
    "-----\n",
    "\n",
    "\n",
    "````\n",
    "student = {'name': 'Advay', 'age': 16, 'Sophomore'}\n",
    "````\n",
    "\n",
    "````\n",
    "students = ['advay', 'amay', 'rohin', 'alex', 'ethan']\n",
    "````\n",
    "-----\n",
    "\n",
    "# Check In:\n",
    "\n",
    "- Of the above code segments, which is a list and which is a dictionary?\n",
    "- What is a dictionary and how is it used?\n",
    "- What is a 2D Array?\n",
    "- How are 2D Arrays different from 1D Arrays or Lists and what can they be used for?\n",
    "\n",
    "## Manipulating Dictionaries"
   ]
  },
  {
   "cell_type": "code",
   "execution_count": null,
   "metadata": {},
   "outputs": [],
   "source": [
    "grocery_dict = {}\n",
    "\n",
    "# ask the user to enter grocery items and their prices\n",
    "while True:\n",
    "    item = input(\"Enter an item for your grocery list (or 'done' to exit): \")\n",
    "    if item == \"done\":\n",
    "        break\n",
    "    else:\n",
    "        price = float(input(\"Enter the price of {}: \".format(item)))\n",
    "        grocery_dict[item] = price\n",
    "\n",
    "# print the grocery list and total cost\n",
    "total_cost = 0\n",
    "while True:\n",
    "    print(\"Your grocery list:\")\n",
    "    for item, price in grocery_dict.items():\n",
    "        print(\"- {}: ${}\".format(item, price))\n",
    "    print(\"Total cost: ${}\".format(total_cost))\n",
    "    \n",
    "    # ask the user to choose an action\n",
    "    action = input(\"What would you like to do? (add/remove/done) \")\n",
    "    \n",
    "    # add a new item to the grocery list\n",
    "    if action == \"add\":\n",
    "        item = input(\"Enter the name of the item you would like to add: \")\n",
    "        price = float(input(\"Enter the price of {}: \".format(item)))\n",
    "        grocery_dict[item] = price\n",
    "        total_cost += price\n",
    "    \n",
    "    # remove an item from the           j\n",
    "        item = input(\"Enter the name of the item you would like to remove: \")\n",
    "        if item in grocery_dict:\n",
    "            total_cost -= grocery_dict[item]\n",
    "            del grocery_dict[item]\n",
    "        else:\n",
    "            print(\"Item not found in grocery list!\")\n",
    "    \n",
    "    # exit the loop and print the final grocery list and total cost\n",
    "    elif action == \"done\":\n",
    "        break\n",
    "\n",
    "print(\"Final grocery list:\")\n",
    "for item, price in grocery_dict.items():\n",
    "    print(\"- {}: ${}\".format(item, price))\n",
    "print(\"Total cost: ${}\".format(total_cost))\n"
   ]
  }
 ],
 "metadata": {
  "kernelspec": {
   "display_name": "base",
   "language": "python",
   "name": "python3"
  },
  "language_info": {
   "codemirror_mode": {
    "name": "ipython",
    "version": 3
   },
   "file_extension": ".py",
   "mimetype": "text/x-python",
   "name": "python",
   "nbconvert_exporter": "python",
   "pygments_lexer": "ipython3",
   "version": "3.9.12"
  },
  "orig_nbformat": 4
 },
 "nbformat": 4,
 "nbformat_minor": 2
}
