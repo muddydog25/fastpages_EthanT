{
 "cells": [
  {
   "cell_type": "markdown",
   "metadata": {},
   "source": [
    "# Binary Calculator\n",
    "\n",
    "- badges: true\n",
    "- comments: true\n",
    "- author: Ethan Tran\n",
    "- categories: [Binary, calculator]"
   ]
  },
  {
   "cell_type": "code",
   "execution_count": 2,
   "metadata": {
    "vscode": {
     "languageId": "html"
    }
   },
   "outputs": [
    {
     "ename": "IndentationError",
     "evalue": "unindent does not match any outer indentation level (<tokenize>, line 112)",
     "output_type": "error",
     "traceback": [
      "\u001b[1;36m  File \u001b[1;32m<tokenize>:112\u001b[1;36m\u001b[0m\n\u001b[1;33m    </script>\u001b[0m\n\u001b[1;37m    ^\u001b[0m\n\u001b[1;31mIndentationError\u001b[0m\u001b[1;31m:\u001b[0m unindent does not match any outer indentation level\n"
     ]
    }
   ],
   "source": [
    "<html>\n",
    "\t<head>\n",
    "\t\t<title>Binary Calculator</title>\n",
    "\t</head>\n",
    "\t<body>\n",
    "\t\t<h1>Binary Calculator</h1>\n",
    "\t\t<form>\n",
    "\t\t\t<input type=\"text\" id=\"first-number\" placeholder=\"First Number\">\n",
    "\t\t\t<input type=\"text\" id=\"second-number\" placeholder=\"Second Number\">\n",
    "\t\t\t<button type=\"button\" id=\"add-button\">+</button>\n",
    "\t\t\t<button type=\"button\" id=\"subtract-button\">-</button>\n",
    "\t\t\t<button type=\"button\" id=\"multiply-button\">*</button>\n",
    "\t\t\t<button type=\"button\" id=\"divide-button\">/</button>\n",
    "\t\t\t<button type=\"button\" id=\"modulo-button\">%</button>\n",
    "\t\t\t<button type=\"button\" id=\"clear-button\">Clear</button>\n",
    "\t\t\t<p id=\"result\"></p>\n",
    "\t\t</form>\n",
    "\t\t<script>\n",
    "\t\t\tfunction binaryToDecimal(binary) {\n",
    "\t\t\t\tvar decimal = 0;\n",
    "\t\t\t\tvar power = 0;\n",
    "\t\t\t\tfor (var i = binary.length - 1; i >= 0; i--) {\n",
    "\t\t\t\t\tdecimal += binary[i] * Math.pow(2, power);\n",
    "\t\t\t\t\tpower++;\n",
    "\t\t\t\t}\n",
    "\t\t\t\treturn decimal;\n",
    "\t\t\t}\n",
    "\t\t\tfunction decimalToBinary(decimal) {\n",
    "\t\t\t\tvar binary = \"\";\n",
    "\t\t\t\twhile (decimal > 0) {\n",
    "\t\t\t\t\tbinary = decimal % 2 + binary;\n",
    "\t\t\t\t\tdecimal = Math.floor(decimal / 2);\n",
    "\t\t\t\t}\n",
    "\t\t\t\treturn binary;\n",
    "\t\t\t}\n",
    "\t\t\tfunction add(a, b) {\n",
    "\t\t\t\treturn a + b;\n",
    "\t\t\t}\n",
    "\t\t\tfunction subtract(a, b) {\n",
    "\t\t\t\treturn a - b;\n",
    "\t\t\t}\n",
    "\t\t\tfunction multiply(a, b) {\n",
    "\t\t\t\treturn a * b;\n",
    "\t\t\t}\n",
    "\t\t\tfunction divide(a, b) {\n",
    "\t\t\t\treturn a / b;\n",
    "\t\t\t}\n",
    "\t\t\tfunction modulo(a, b) {\n",
    "\t\t\t\treturn a % b;\n",
    "\t\t\t}\n",
    "\t\t\tfunction calculate(a, b, operation) {\n",
    "\t\t\t\tvar decimalA = binaryToDecimal(a);\n",
    "\t\t\t\tvar decimalB = binaryToDecimal(b);\n",
    "\t\t\t\tvar decimalResult = operation(decimalA, decimalB);\n",
    "\t\t\t\tvar binaryResult = decimalToBinary(decimalResult);\n",
    "\t\t\t\treturn binaryResult;\n",
    "\t\t\t}\n",
    "\t\t\tvar firstNumber = document.getElementById(\"first-number\");\n",
    "\t\t\tvar secondNumber = document.getElementById(\"second-number\");\n",
    "\t\t\tvar addButton = document.getElementById(\"add-button\");\n",
    "\t\t\tvar subtractButton = document.getElementById(\"subtract-button\");\n",
    "\t\t\tvar moduloButton = document.getElementById(\"modulo-button\");\n",
    "\t\t\tvar clearButton = document.getElementById(\"clear-button\");\n",
    "\t\t\tvar result = document.getElementById(\"result\");\n",
    "\t\t\taddButton.addEventListener(\"click\", function() {\n",
    "\t\t\t\tresult.innerHTML = calculate(firstNumber.value, secondNumber.value, add);\n",
    "\t\t\t});\n",
    "\t\t\tsubtractButton.addEventListener(\"click\", function() {\n",
    "\t\t\t\tresult.innerHTML = calculate(firstNumber.value, secondNumber.value, subtract);\n",
    "\t\t\t});\n",
    "\t\t\tmultiplyButton.addEventListener(\"click\", function() {\n",
    "\t\t\t\tresult.innerHTML = calculate(firstNumber.value, secondNumber.value, multiply);\n",
    "\t\t\t});\n",
    "\t\t\tdivideButton.addEventListener(\"click\", function() {\n",
    "\t\t\t\tresult.innerHTML = calculate(firstNumber.value, secondNumber.value, divide);\n",
    "\t\t\t});\n",
    "\t\t\tmoduloButton.addEventListener(\"click\", function() {\n",
    "\t\t\t\tresult.innerHTML = calculate(firstNumber.value, secondNumber.value, modulo);\n",
    "\t\t\t});\n",
    "\t\t\tclearButton.addEventListener(\"click\", function() {\n",
    "\t\t\t\tfirstNumber.value = \"\";\n",
    "\t\t\t\tsecondNumber.value = \"\";\n",
    "\t\t\t\tresult.innerHTML = \"\";\n",
    "\t\t\t});\n",
    "\t\t</script>\n",
    "\t</body>\n",
    "</html\t\tvar multiplyButton = document.getElementById(\"multiply-button\");\n",
    "\t\t\tvar divideButton = document.getElementById(\"divide-button\");\n",
    "\t\t\tvar moduloButton = document.getElementById(\"modulo-button\");\n",
    "\t\t\tvar clearButton = document.getElementById(\"clear-button\");\n",
    "\t\t\tvar result = document.getElementById(\"result\");\n",
    "\t\t\taddButton.addEventListener(\"click\", function() {\n",
    "\t\t\t\tresult.innerHTML = calculate(firstNumber.value, secondNumber.value, add);\n",
    "\t\t\t});\n",
    "\t\t\tsubtractButton.addEventListener(\"click\", function() {\n",
    "\t\t\t\tresult.innerHTML = calculate(firstNumber.value, secondNumber.value, subtract);\n",
    "\t\t\t});\n",
    "\t\t\tmultiplyButton.addEventListener(\"click\", function() {\n",
    "\t\t\t\tresult.innerHTML = calculate(firstNumber.value, secondNumber.value, multiply);\n",
    "\t\t\t});\n",
    "\t\t\tdivideButton.addEventListener(\"click\", function() {\n",
    "\t\t\t\tresult.innerHTML = calculate(firstNumber.value, secondNumber.value, divide);\n",
    "\t\t\t});\n",
    "\t\t\tmoduloButton.addEventListener(\"click\", function() {\n",
    "\t\t\t\tresult.innerHTML = calculate(firstNumber.value, secondNumber.value, modulo);\n",
    "\t\t\t});\n",
    "\t\t\tclearButton.addEventListener(\"click\", function() {\n",
    "\t\t\t\tfirstNumber.value = \"\";\n",
    "\t\t\t\tsecondNumber.value = \"\";\n",
    "\t\t\t\tresult.innerHTML = \"\";\n",
    "\t\t\t});\n",
    "\t    </script>\n",
    "\t</body>\n",
    "</html>\n"
   ]
  }
 ],
 "metadata": {
  "kernelspec": {
   "display_name": "Python 3.10.6 64-bit",
   "language": "python",
   "name": "python3"
  },
  "language_info": {
   "codemirror_mode": {
    "name": "ipython",
    "version": 3
   },
   "file_extension": ".py",
   "mimetype": "text/x-python",
   "name": "python",
   "nbconvert_exporter": "python",
   "pygments_lexer": "ipython3",
   "version": "3.10.6"
  },
  "orig_nbformat": 4,
  "vscode": {
   "interpreter": {
    "hash": "82faa6d27c9a927522682e95cb30c684238aba2a31347a70411ee016fed8cfe5"
   }
  }
 },
 "nbformat": 4,
 "nbformat_minor": 2
}
