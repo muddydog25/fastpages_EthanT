{
 "cells": [
  {
   "attachments": {},
   "cell_type": "markdown",
   "metadata": {},
   "source": [
    "# Team EAAR Lesson Plan - Data Structures and Iteration through Visualization\n",
    "> Our lesson plan...\n",
    "- toc: true\n",
    "- categories: [college board, lesson]"
   ]
  },
  {
   "attachments": {},
   "cell_type": "markdown",
   "metadata": {},
   "source": [
    "\n",
    "## Objective:\n",
    "\n",
    "- To teach students about data structures, specifically lists, dictionaries, and 2D arrays\n",
    "- To teach students about iteration\n",
    "- To teach students how to store list and dictionary content in databases\n",
    "- To reinforce these concepts by building simulations/interactions using lists and iteration\n",
    "- To improve on previous lessons and topics by building on existing knowledge\n",
    "\n",
    "## Materials:\n",
    "\n",
    "- Whiteboard and markers\n",
    "- Computers for each student or group of students\n",
    "- Python programming language installed on each computer\n",
    "- Access to a database management system (e.g. SQLite)\n",
    "\n",
    "## Procedures:\n",
    "\n",
    "### Introduction (10 minutes)\n",
    "\n",
    "Start by introducing the concept of data structures and their importance in programming.\n",
    "Briefly explain what lists, dictionaries, and 2D arrays are and how they are used in programming.\n",
    "Introduce the concept of iteration and how it is used in programming.\n",
    "\n",
    "### Visualization (20 minutes)\n",
    "\n",
    "Use a whiteboard or visual aids to demonstrate how lists, dictionaries, and 2D arrays work.\n",
    "Show examples of different types of data that can be stored in each type of data structure.\n",
    "Demonstrate how iteration works using a visual example.\n",
    "\n",
    "### Building Simulations/Interactions (30 minutes)\n",
    "\n",
    "Have students work in pairs or small groups to build a simple simulation or interaction using lists and iteration.\n",
    "Encourage them to be creative and to think about different types of data they can store in lists and dictionaries.\n",
    "Circulate around the classroom and provide assistance as needed.\n",
    "\n",
    "### Storing List and Dictionary Content in Databases (20 minutes)\n",
    "\n",
    "Explain how to store list and dictionary content in databases using Python.\n",
    "Use an example database management system (e.g. SQLite) to demonstrate how to create a database and how to store data in it.\n",
    "Have students practice creating a simple database and storing data in it.\n",
    "\n",
    "### Review (10 minutes)\n",
    "\n",
    "Review the concepts covered in the lesson, including data structures, iteration, and storing data in databases.\n",
    "Have students share their simulations/interactions and discuss how they used lists and iteration to create them.\n",
    "\n",
    "### Extra Notes\n",
    "\n",
    "- Monitor student progress during the simulation/interaction building portion of the lesson.\n",
    "- Evaluate student understanding through observation and discussion.\n",
    "- Assign homework to reinforce the concepts covered in the lesson, such as building a more complex simulation using lists and iteration or storing data in a database."
   ]
  }
 ],
 "metadata": {
  "language_info": {
   "name": "python"
  },
  "orig_nbformat": 4
 },
 "nbformat": 4,
 "nbformat_minor": 2
}
