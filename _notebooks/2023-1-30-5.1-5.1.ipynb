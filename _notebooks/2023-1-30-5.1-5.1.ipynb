{
 "cells": [
  {
   "attachments": {},
   "cell_type": "markdown",
   "metadata": {},
   "source": [
    "# 5.1 & 5.2 Blog\n",
    "\n",
    "- title: 5.1 & 5.2 Blog\n",
    "- toc: true\n",
    "- author: Ethan Tran\n",
    "- categories: [cb, 5.1, 5.2]"
   ]
  },
  {
   "attachments": {},
   "cell_type": "markdown",
   "metadata": {},
   "source": [
    "## Notes\n",
    "- Chat GPT was sponsored by Microsoft and now has 10 billion dollars since they think it's the google killer. The GPT saves from the secondary clicking, don’t know the source (cite sources). Good because you can answer right away. \n",
    "- Computer bias: Are we inserting our own bias into our programs? Can an AI be biased? Ex. HP facial scan bias based on skintones\n",
    "- Digital Divide: There is division between social classes and access to technology\n",
    "\n",
    "## 5.1 Blog Post Reflection\n",
    "\n",
    "- Three Benefits of computing: \n",
    "\n",
    "1) Increased productivity and efficiency through automation of tasks.\n",
    "2) Enhanced scientific research and discovery through data analysis and simulation.\n",
    "3) Improved communication and access to information through the internet.\n",
    "\n",
    "- Three Harmful Effects of computing: \n",
    "\n",
    "1) Increased dependence on technology and potential for digital addiction.\n",
    "2) Decreased privacy and security due to the collection and storage of personal information.\n",
    "3) Job loss and unemployment due to automation of certain tasks.\n",
    "\n",
    "- The effects of Dopamine:\n",
    "- Personally, I believe that video games can be quite addicting for some people. However, I believe that the dependency on video games and affect that they have on an individual's livelihood depend on the individual themself. If a person holds themself accountable for their hours online, then I think that there are no issues and that the impacts on studying can be eliminated. \n",
    "\n",
    "## 5.2 Blog Post Reflection\n",
    "\n",
    "1) In the digital world, one can empower themselves by preventing cyber bullying and by developing skills to protect their privacy online. To add, they can also seek out various different perspectives and opinions online to help broaden their understanding of the real and digital world. \n",
    "2) One who is digitally empowered can use their knowledge to teach others. At Del Norte, students can help each other understand technology better and have discussions regarding online privacy and safety. \n",
    "3) At times, paper or red tape can prevent digital empowerment. This is because they do not support the use of technology. At Del Norte, I do not believe that such barriers are common as most classes have options to take digital notes and many assignments are performed/completed via a device such as a computer or laptop. In other parts of the world, even in San Diego County, there are schools in which not all of the students can afford to own their own devices. This prevents digital empowerment and is known as digital divide. "
   ]
  },
  {
   "attachments": {},
   "cell_type": "markdown",
   "metadata": {},
   "source": [
    "## Three beneficial effects of your projects based on Unit 5.1\n",
    "\n",
    "1) Easy access to information on a variety of cars\n",
    "2) Helps users find a car that fits their needs\n",
    "3) Introduces users to a variety of cars they may not have known about, ie. diesel, electric, etc.'\n",
    "\n",
    "## Three harmful effects\n",
    "\n",
    "1) The promotion of pollution-inducing vehicles\n",
    "2) If consumers become overly reliant on the information provided by the website, they may neglect to conduct their own research or seek additional input from other sources, potentially leading to poor decision making.\n",
    "3) Our website may reduce the need for a car salesperson to provide information on a given vehicle. This can have an effect on that line of work - affecting those who have that job.\n",
    "\n",
    "## Pros/Cons of internet blockers at routers and lack of admin passwords on lab machines at school\n",
    "\n",
    "- Pros:\n",
    "1) Increased control and management over internet access, allowing for a safer and more productive environment.\n",
    "2) Reduction in distractions and improved focus on academic tasks.\n",
    "3) Improved security by limiting the potential for unauthorized changes or installations on the system.\n",
    "\n",
    "- Cons:\n",
    "1) Difficulty for students to access personal accounts or online tools needed for their education.\n",
    "2) Difficulty in installing necessary software or tools for specific classes or projects.\n",
    "3) Difficulty for students to access personal accounts or online tools needed for their education.\n",
    "\n",
    "## My concerns regarding digital divide\n",
    "\n",
    "- Inequality in access to education and job opportunities, as those without access to technology may have limited resources and information.\n",
    "- Reduced innovation and economic growth in certain communities, as those without access to technology may not have the means to contribute to or benefit from the technological advancements of society.\n",
    "- Worsening of  socio-economic differences, as those without access to technology may face even greater challenges in areas such as finance, healthcare, and government services."
   ]
  }
 ],
 "metadata": {
  "kernelspec": {
   "display_name": "Python 3",
   "language": "python",
   "name": "python3"
  },
  "language_info": {
   "name": "python",
   "version": "3.10.6 (tags/v3.10.6:9c7b4bd, Aug  1 2022, 21:53:49) [MSC v.1932 64 bit (AMD64)]"
  },
  "orig_nbformat": 4,
  "vscode": {
   "interpreter": {
    "hash": "82faa6d27c9a927522682e95cb30c684238aba2a31347a70411ee016fed8cfe5"
   }
  }
 },
 "nbformat": 4,
 "nbformat_minor": 2
}
