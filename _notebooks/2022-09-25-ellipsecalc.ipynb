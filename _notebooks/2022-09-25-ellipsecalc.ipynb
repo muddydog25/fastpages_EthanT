{
 "cells": [
  {
   "cell_type": "code",
   "execution_count": 8,
   "metadata": {},
   "outputs": [
    {
     "name": "stdout",
     "output_type": "stream",
     "text": [
      "05.65685425 -5\n",
      "None\n"
     ]
    }
   ],
   "source": [
    "x = input()\n",
    "h = input()\n",
    "b = input()\n",
    "y = input()\n",
    "k = input()\n",
    "a = input()\n",
    "\n",
    "vertices = print(h + a , k)\n",
    "\n",
    "print(vertices)\n"
   ]
  }
 ],
 "metadata": {
  "kernelspec": {
   "display_name": "Python 3.10.6 64-bit",
   "language": "python",
   "name": "python3"
  },
  "language_info": {
   "codemirror_mode": {
    "name": "ipython",
    "version": 3
   },
   "file_extension": ".py",
   "mimetype": "text/x-python",
   "name": "python",
   "nbconvert_exporter": "python",
   "pygments_lexer": "ipython3",
   "version": "3.10.6"
  },
  "orig_nbformat": 4,
  "vscode": {
   "interpreter": {
    "hash": "82faa6d27c9a927522682e95cb30c684238aba2a31347a70411ee016fed8cfe5"
   }
  }
 },
 "nbformat": 4,
 "nbformat_minor": 2
}
