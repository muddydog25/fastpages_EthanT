{
 "cells": [
  {
   "attachments": {},
   "cell_type": "markdown",
   "metadata": {},
   "source": [
    "# Hacks Sections 5-7\n",
    "- badges: true\n",
    "- comments: true\n",
    "- author: Ethan Tran\n",
    "- categories: [hacks, turkey, post tree, notes]\n"
   ]
  },
  {
   "cell_type": "markdown",
   "metadata": {},
   "source": [
    "## Notes\n",
    "\n",
    "- Boolean: A denoting a system of algebraic notation used to represent logical arguments\n",
    "- Relational Operators: The mathematical relationship shared between two given variables. Determines whether a statement is true or false based on the output.\n",
    "- Conditionals: Allow the expression of an algorithms that utilize selection to occur without the use of a programming language.\n",
    "- Conditional Statement: A statement that affects the sequence of control by executing certain statements depending on the value of a boolean."
   ]
  },
  {
   "cell_type": "markdown",
   "metadata": {},
   "source": [
    "## Unit 3.5 Hacks\n",
    "\n",
    "- Explain in your own words what each logical operator does\n",
    "NOT: Outputs the opposite of the given data and is typically used for true or false statements - has no effect on the variable.\n",
    "AND: Evaluates two separate conditions and determines if they are all met.\n",
    "OR: Checks for if only one condition is met.\n",
    "\n",
    "- Code your own scenario that makes sense for each logical operator"
   ]
  },
  {
   "cell_type": "code",
   "execution_count": 4,
   "metadata": {},
   "outputs": [
    {
     "name": "stdout",
     "output_type": "stream",
     "text": [
      "False\n"
     ]
    }
   ],
   "source": [
    "# NOT\n",
    "Tru = True\n",
    "equals = \"=\"\n",
    "opposite = not(Tru)\n",
    "print(opposite)"
   ]
  },
  {
   "cell_type": "code",
   "execution_count": 5,
   "metadata": {},
   "outputs": [
    {
     "name": "stdout",
     "output_type": "stream",
     "text": [
      "AND\n"
     ]
    }
   ],
   "source": [
    "# AND\n",
    "fun = \"fun\"\n",
    "awesome = fun\n",
    "\n",
    "if fun and awesome == \"fun\":\n",
    "    print(\"AND\")\n",
    "else:\n",
    "    print(\"NOT AND\")"
   ]
  },
  {
   "cell_type": "code",
   "execution_count": 49,
   "metadata": {},
   "outputs": [
    {
     "name": "stdout",
     "output_type": "stream",
     "text": [
      "2\n",
      "OR\n"
     ]
    }
   ],
   "source": [
    "# OR\n",
    "import random \n",
    "\n",
    "numList = [\"1\", \"2\", \"3\", \"4\", \"5\"]\n",
    "ranNum = random.randrange(len(numList))\n",
    "print(ranNum)\n",
    "\n",
    "if ranNum == 2 or ranNum == 5:\n",
    "    print(\"OR\")\n",
    "else:\n",
    "    print(\"NOT OR\")"
   ]
  },
  {
   "cell_type": "markdown",
   "metadata": {},
   "source": [
    "## Unit 3.6 Hacks\n",
    "- 1 point for defining all the key terms in your own words. 0.5 points if you use examples that show you truly understand it.\n",
    "- 1 point for writing a program that uses binary conditional logic. 0.5 points if it is original and shows complexity\n",
    "\n",
    "1) Selection: A construct in which the code will only run if a given condition is met. \n",
    "- Example: If an answer is true, then the program will run\n",
    "2) Algorithm: A procedure utilized for completing mathematical operations or problem solving. \n",
    "- Example: An algorithm that takes in the correct and incorrect (overall points) of a test/quiz, that then displays the users' score.\n",
    "3) Conditional statement: When a program only runs if a set of conditions are met. \n",
    "- Example: a) If the basketball is not flat, the game will proceed. b) If the basketball is not broken, then the game will be able to continue."
   ]
  },
  {
   "cell_type": "code",
   "execution_count": 58,
   "metadata": {},
   "outputs": [
    {
     "name": "stdout",
     "output_type": "stream",
     "text": [
      "Selection: AND 5 & 10 = 0\n"
     ]
    }
   ],
   "source": [
    "firstNum = int(input(\"Input your first number.\"))\n",
    "secondNum = int(input(\"Input your second number.\"))\n",
    "\n",
    "conditional = input(\"AND, OR, XOR?\").lower()\n",
    "if conditional == \"and\":\n",
    "    print(\"Selection:\" , \"AND\", firstNum, \"&\", secondNum, \"=\", firstNum & secondNum)\n",
    "elif conditional ==\"or\":\n",
    "    print(\"Selection:\" , \"OR \", firstNum, \"|\", secondNum, \"=\", firstNum | secondNum)\n",
    "elif conditional ==\"xor\":\n",
    "    print(\"Selection:\" , \"XOR\", firstNum, \"^\", secondNum, \"=\", firstNum ^ secondNum)\n",
    "else:\n",
    "    print(\"Error\")"
   ]
  },
  {
   "cell_type": "markdown",
   "metadata": {},
   "source": [
    "<html>\n",
    "<img src=\"https://user-images.githubusercontent.com/109186517/205873919-68f11b0b-d495-4aac-a325-69ce45ea4ce4.png\" id=\"flowchart1\">\n",
    "</html>"
   ]
  },
  {
   "cell_type": "code",
   "execution_count": 5,
   "metadata": {},
   "outputs": [
    {
     "name": "stdout",
     "output_type": "stream",
     "text": [
      "Right color, wrong item!\n",
      "Right item, right color!\n",
      "orange\n"
     ]
    }
   ],
   "source": [
    "color = \"orange\"\n",
    "item = \"fruit\"\n",
    "\n",
    "if color == \"orange\":\n",
    "    print(\"Right color, wrong item!\")\n",
    "else:\n",
    "    color != \"orange\" , item == \"fruit\"\n",
    "    print(\"Wrong color, right item!\")\n",
    "if color ==\"green\":\n",
    "     print(\"Wrong color, wrong item!\")\n",
    "else:\n",
    "    item != \"fruit\" , color != \"orange\"\n",
    "    print(\"Right item, right color!\")\n",
    "\n",
    "print(color)"
   ]
  },
  {
   "cell_type": "markdown",
   "metadata": {},
   "source": [
    "<html>\n",
    "<img src=\"https://user-images.githubusercontent.com/109186517/205875899-bd390d5f-9991-4ed8-80db-01460910cc52.png\" id=\"flowchart2\">\n",
    "</html>"
   ]
  },
  {
   "cell_type": "code",
   "execution_count": 6,
   "metadata": {},
   "outputs": [],
   "source": [
    "Temperature = 85\n",
    "Cloudy = True\n",
    "if Temperature > 85:\n",
    "    if Cloudy == True:\n",
    "        print(\"Hot and cloudy!\")\n",
    "    elif Cloudy == False:\n",
    "        print(\"Hot, but not cloudy!\")\n",
    "elif Temperature < 80:\n",
    "    if Cloudy == True:\n",
    "        print(\"Neither hot nor cloudy!\")\n",
    "    elif Cloudy == False:\n",
    "        print(\"Neither hot nor cloudy!\")"
   ]
  },
  {
   "cell_type": "markdown",
   "metadata": {},
   "source": [
    "<html>\n",
    "<img src=\"https://user-images.githubusercontent.com/109186517/205880683-37ac5fdd-8d44-440a-93df-8d5d529375ed.png\" id=\"flowchart3\">\n",
    "</html>"
   ]
  },
  {
   "cell_type": "code",
   "execution_count": null,
   "metadata": {},
   "outputs": [],
   "source": [
    "if spice > 1000:\n",
    "    if tongue == \"strong!\":\n",
    "        print(\"Not spicy!\")\n",
    "    elif milk == \"present\":\n",
    "        print(\"Not spicy!\")\n",
    "    elif tongue == \"weak\":\n",
    "        print(\"Spicy!\")\n",
    "else:\n",
    "        print(\"Not spicy at all!\")"
   ]
  },
  {
   "cell_type": "markdown",
   "metadata": {},
   "source": [
    "**Create a piece of code that displays four statements instead of three. Try to do more if you can.**"
   ]
  },
  {
   "cell_type": "code",
   "execution_count": 7,
   "metadata": {},
   "outputs": [
    {
     "name": "stdout",
     "output_type": "stream",
     "text": [
      "BMW\n",
      "M4 Competition\n",
      "2022\n",
      "Nice car!\n"
     ]
    }
   ],
   "source": [
    "make = \"BMW\"\n",
    "model = \"M4 Competition\"\n",
    "year = \"2022\"\n",
    "\n",
    "if make == \"BMW\":\n",
    "    print(make)\n",
    "    if model == \"M4 Competition\":\n",
    "        print(model)\n",
    "        if year == \"2022\":\n",
    "            print(year)\n",
    "            print(\"Nice car!\")\n",
    "        "
   ]
  },
  {
   "cell_type": "markdown",
   "metadata": {},
   "source": [
    "**Make piece of code that gives three different recommendations for possible classes to take at a school based on two different conditions. These conditions could be if the student likes STEM or not.**"
   ]
  },
  {
   "cell_type": "code",
   "execution_count": 8,
   "metadata": {},
   "outputs": [
    {
     "name": "stdout",
     "output_type": "stream",
     "text": [
      "Algebra, AP CSP, AP Biology\n"
     ]
    }
   ],
   "source": [
    "STEM = True\n",
    "MISC = True\n",
    "if STEM:\n",
    "  print(\"Algebra, AP CSP, AP Biology\")\n",
    "elif PE:\n",
    "  print(\"Art, Racket sports, Photography\")\n",
    "else:\n",
    "  print(\"PE\")"
   ]
  }
 ],
 "metadata": {
  "kernelspec": {
   "display_name": "Python 3.10.6 64-bit",
   "language": "python",
   "name": "python3"
  },
  "language_info": {
   "codemirror_mode": {
    "name": "ipython",
    "version": 3
   },
   "file_extension": ".py",
   "mimetype": "text/x-python",
   "name": "python",
   "nbconvert_exporter": "python",
   "pygments_lexer": "ipython3",
   "version": "3.10.6"
  },
  "orig_nbformat": 4,
  "vscode": {
   "interpreter": {
    "hash": "82faa6d27c9a927522682e95cb30c684238aba2a31347a70411ee016fed8cfe5"
   }
  }
 },
 "nbformat": 4,
 "nbformat_minor": 2
}
