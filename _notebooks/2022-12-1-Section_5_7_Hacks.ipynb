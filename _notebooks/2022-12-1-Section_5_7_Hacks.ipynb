{
 "cells": [
  {
   "cell_type": "markdown",
   "metadata": {},
   "source": [
    "# Hacks Sections 5-7\n",
    "- badges: true\n",
    "- comments: true\n",
    "- author: Ethan Tran\n",
    "- categories: [hacks, turkey, tree, notes]\n"
   ]
  },
  {
   "cell_type": "markdown",
   "metadata": {},
   "source": [
    "## Notes"
   ]
  },
  {
   "cell_type": "markdown",
   "metadata": {},
   "source": [
    "## Unit 3.5 Hacks\n",
    "\n",
    "- Explain in your own words what each logical operator does\n",
    "NOT: Outputs the opposite of the given data and is typically used for true or false statements - has no effect on the variable.\n",
    "AND: Evaluates two separate conditions and determines if they are all met.\n",
    "OR: Checks for if only one condition is met.\n",
    "\n",
    "- Code your own scenario that makes sense for each logical operator"
   ]
  },
  {
   "cell_type": "code",
   "execution_count": 4,
   "metadata": {},
   "outputs": [
    {
     "name": "stdout",
     "output_type": "stream",
     "text": [
      "False\n"
     ]
    }
   ],
   "source": [
    "# NOT\n",
    "Tru = True\n",
    "equals = \"=\"\n",
    "opposite = not(Tru)\n",
    "print(opposite)"
   ]
  },
  {
   "cell_type": "code",
   "execution_count": 5,
   "metadata": {},
   "outputs": [
    {
     "name": "stdout",
     "output_type": "stream",
     "text": [
      "AND\n"
     ]
    }
   ],
   "source": [
    "# AND\n",
    "fun = \"fun\"\n",
    "awesome = fun\n",
    "\n",
    "if fun and awesome == \"fun\":\n",
    "    print(\"AND\")\n",
    "else:\n",
    "    print(\"NOT AND\")"
   ]
  },
  {
   "cell_type": "code",
   "execution_count": 49,
   "metadata": {},
   "outputs": [
    {
     "name": "stdout",
     "output_type": "stream",
     "text": [
      "2\n",
      "OR\n"
     ]
    }
   ],
   "source": [
    "# OR\n",
    "import random \n",
    "\n",
    "numList = [\"1\", \"2\", \"3\", \"4\", \"5\"]\n",
    "ranNum = random.randrange(len(numList))\n",
    "print(ranNum)\n",
    "\n",
    "if ranNum == 2 or ranNum == 5:\n",
    "    print(\"OR\")\n",
    "else:\n",
    "    print(\"NOT OR\")"
   ]
  },
  {
   "cell_type": "markdown",
   "metadata": {},
   "source": [
    "## Unit 3.6 Hacks\n",
    "- 1 point for defining all the key terms in your own words. 0.5 points if you use examples that show you truly understand it.\n",
    "- 1 point for writing a program that uses binary conditional logic. 0.5 points if it is original and shows complexity\n",
    "\n",
    "1) Selection: A construct in which the code will only run if a given condition is met. \n",
    "- Example: If an answer is true, then the program will run\n",
    "2) Algorithm: A procedure utilized for completing mathematical operations or problem solving. \n",
    "- Example: An algorithm that takes in the correct and incorrect (overall points) of a test/quiz, that then displays the users' score.\n",
    "3) Conditional statement: When a program only runs if a set of conditions are met. \n",
    "- Example: a) If the basketball is not flat, the game will proceed. b) If the basketball is not broken, then the game will be able to continue."
   ]
  },
  {
   "cell_type": "code",
   "execution_count": 58,
   "metadata": {},
   "outputs": [
    {
     "name": "stdout",
     "output_type": "stream",
     "text": [
      "Selection: AND 5 & 10 = 0\n"
     ]
    }
   ],
   "source": [
    "firstNum = int(input(\"Input your first number.\"))\n",
    "secondNum = int(input(\"Input your second number.\"))\n",
    "\n",
    "conditional = input(\"AND, OR, XOR?\").lower()\n",
    "if conditional == \"and\":\n",
    "    print(\"Selection:\" , \"AND\", firstNum, \"&\", secondNum, \"=\", firstNum & secondNum)\n",
    "elif conditional ==\"or\":\n",
    "    print(\"Selection:\" , \"OR \", firstNum, \"|\", secondNum, \"=\", firstNum | secondNum)\n",
    "elif conditional ==\"xor\":\n",
    "    print(\"Selection:\" , \"XOR\", firstNum, \"^\", secondNum, \"=\", firstNum ^ secondNum)\n",
    "else:\n",
    "    print(\"Error\")"
   ]
  }
 ],
 "metadata": {
  "kernelspec": {
   "display_name": "Python 3.10.6 64-bit",
   "language": "python",
   "name": "python3"
  },
  "language_info": {
   "codemirror_mode": {
    "name": "ipython",
    "version": 3
   },
   "file_extension": ".py",
   "mimetype": "text/x-python",
   "name": "python",
   "nbconvert_exporter": "python",
   "pygments_lexer": "ipython3",
   "version": "3.10.6"
  },
  "orig_nbformat": 4,
  "vscode": {
   "interpreter": {
    "hash": "82faa6d27c9a927522682e95cb30c684238aba2a31347a70411ee016fed8cfe5"
   }
  }
 },
 "nbformat": 4,
 "nbformat_minor": 2
}
