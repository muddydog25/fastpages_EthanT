{
 "cells": [
  {
   "cell_type": "markdown",
   "metadata": {},
   "source": [
    "---\n",
    "layout: post\n",
    "description: My AP Biology Notes\n",
    "categories: [markdown, storyboard, planning, applab]\n",
    "title: App Story-boarding/Planning\n",
    "image: (../../../../Pictures/myappscreenshot.png)\n",
    "---\n",
    "\n",
    "## PBL Prototyping  (planning, purpose, and function)\n",
    "- Link to my [scrum-board](https://github.com/users/realethantran/projects/1)\n",
    "- I want to make a personality quiz\n",
    "- The quiz will use a points system\n",
    "- The quiz will also store data so people can see previously recorded results\n",
    "- The actual \"score\" will not be displayed, rather the given personality\n",
    "- The personality will have to be calculated using the score\n",
    "- For theming, I want to make the quiz to determine whether someone is a \"Early Bird\" or a \"Night Owl\"\n",
    "- Similar to my fastpages, the colors will mostly consist of light blue and white \n",
    "\n",
    "## PBL Code/Code/Coding (Use data abstraction, code management, etc.)\n",
    "- Using a simple onClick function, I am able to create buttons\n",
    "- The functions allow me to add points and switch pages for the given buttons\n",
    "- The points system uses variables (\"a\" & \"b\"), \"a\" is for the Early Birds, while \"b\" is for the Night Owls.\n",
    "- I found that using the createRecord block, I can store data that is saved even after the application is closed. \n",
    "- Through the records, I can display past results and update the records in real-time (data abstraction).\n",
    "\n",
    "Note: I will need time to collect data to show for the demo of the application \n",
    "\n",
    "## PBL Test \n",
    "- Using Test-driven development (TDD), I have now been able to complete the first rendition of my app.\n",
    "- The application works as it should be and is ready to be demoed"
   ]
  },
  {
   "cell_type": "code",
   "execution_count": null,
   "metadata": {
    "vscode": {
     "languageId": "html"
    }
   },
   "outputs": [],
   "source": [
    "---\n",
    "layout: home\n",
    "search_exclude: true\n",
    "image: c:\\Users\\etran\\OneDrive\\Pictures\\myappscreenshot.png\n",
    "---\n",
    "\n",
    "<img src = \"c:\\Users\\etran\\OneDrive\\Pictures\\myappscreenshot.png\"> "
   ]
  }
 ],
 "metadata": {
  "kernelspec": {
   "display_name": "Python 3.10.6 64-bit",
   "language": "python",
   "name": "python3"
  },
  "language_info": {
   "name": "python",
   "version": "3.10.6"
  },
  "orig_nbformat": 4,
  "vscode": {
   "interpreter": {
    "hash": "82faa6d27c9a927522682e95cb30c684238aba2a31347a70411ee016fed8cfe5"
   }
  }
 },
 "nbformat": 4,
 "nbformat_minor": 2
}
