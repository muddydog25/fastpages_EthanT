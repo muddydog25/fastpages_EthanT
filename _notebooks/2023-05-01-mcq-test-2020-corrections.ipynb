{
 "cells": [
  {
   "attachments": {},
   "cell_type": "markdown",
   "metadata": {},
   "source": [
    "# 2020 Practice Exam 1 MCQ Corrections/Review\n",
    "\n",
    "- title: 2020 Practice Exam 1 MCQ Corrections/Review\n",
    "- toc: true\n",
    "- author: Ethan Tran\n",
    "- categories: [cb, ]\n"
   ]
  },
  {
   "attachments": {},
   "cell_type": "markdown",
   "metadata": {},
   "source": [
    "# Review\n",
    "\n",
    "For the 2020 Practice Exam 1 MCQ, I got 4 questions wrong (63/67). Overall, I feel like I did well on the quiz and am happy with my performance. However, I recognize that there is always room for improvement and I am committed to doing better on future quizzes. Upon reflection, I realized that the questions I got wrong were ones that I didn't spend enough time on. I made the mistake of assuming I knew the answers and didn't take the time to carefully read and analyze the questions. In the future, I need to remind myself to slow down and read each question thoroughly, even if I think I know the answer. "
   ]
  },
  {
   "attachments": {},
   "cell_type": "markdown",
   "metadata": {},
   "source": [
    "![image](https://user-images.githubusercontent.com/109186517/235441924-31d0dbc7-d421-4901-b50b-78d5b01629ca.png)\n",
    "\n",
    "# Corrections\n",
    "\n",
    "### Question 4: In a certain computer program, two positive integers are added together, resulting in an overflow error. Which of the following best explains why the error occurs?\n",
    "\n",
    "The program can only use a fixed number of bits to represent integers; the computed sum is greater than the maximum representable value.\n",
    "\n",
    "### Question 18: \n",
    "\n",
    "![image](https://user-images.githubusercontent.com/109186517/235442343-1e29ba8d-d2ee-4973-8b5f-5c3f82bf90ac.png)\n",
    "\n",
    "This code segment moves the robot forward whenever there is an open square in front of it. Once there is not an open square in front of it, the robot rotates right. The robot moves forward from its initial location to the upper right corner of the grid, then rotates right, then moves forward to the bottom right corner of the grid, then rotates right, then moves forward to the bottom left corner of the grid, then rotates right, then moves forward two squares to the gray square.\n",
    "\n",
    "### Question 24: \n",
    "\n",
    "![image](https://user-images.githubusercontent.com/109186517/235442463-1e2664c4-508f-4717-b446-127a6bd2b72e.png)\n",
    "\n",
    "The value of val starts at 0 and is repeatedly incremented by 2, so the program calculates the sum of even integers. Inside the loop, val is incremented by 2 before being added to sum, so the first value added to sum is 2. The loop iterates 10 times, adding each intermediate value of val each time. Therefore, the program displays the sum of the even integers starting at 2 and ending at 20.\n",
    "\n",
    "### Question 38: Internet protocol version 6 (IPv6) has been introduced to replace the previous version (IPv4). Which of the following best describes a benefit of IPv6 over IPv4?\n",
    "\n",
    "IPv6 allows for a greater number of IP addresses than IPv4 does, which allows more devices to be connected."
   ]
  }
 ],
 "metadata": {
  "kernelspec": {
   "display_name": "Python 3",
   "language": "python",
   "name": "python3"
  },
  "language_info": {
   "codemirror_mode": {
    "name": "ipython",
    "version": 3
   },
   "file_extension": ".py",
   "mimetype": "text/x-python",
   "name": "python",
   "nbconvert_exporter": "python",
   "pygments_lexer": "ipython3",
   "version": "3.9.12"
  },
  "orig_nbformat": 4
 },
 "nbformat": 4,
 "nbformat_minor": 2
}
