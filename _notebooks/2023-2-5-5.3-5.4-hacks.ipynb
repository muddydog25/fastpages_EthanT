{
 "cells": [
  {
   "attachments": {},
   "cell_type": "markdown",
   "metadata": {},
   "source": [
    "# 5.3 & 5.4 Hacks\n",
    "\n",
    "- title: 5.3 & 5.4 Hacks\n",
    "- toc: true\n",
    "- author: Ethan Tran\n",
    "- categories: [cb, 5.3, 5.4, hacks]\n"
   ]
  },
  {
   "attachments": {},
   "cell_type": "markdown",
   "metadata": {},
   "source": [
    "## Unit 5.3\n",
    "\n",
    "> What age groups use Facebook vs TikTok\n",
    "\n",
    "- TikTok 60 percent of US users are aged between 16-24\n",
    "- 23.7 percent of Facebook users in the US are aged between 25 and 34 years of age\n",
    "\n",
    "> Why do virtual assistants have female voices? Amazon, Alexa, Google, Apple Siri. Was this purposeful? Is it harmful? Should it be corrected? Is it good business?\n",
    "\n",
    "- Female voices can be seen as being soothing or calming, attributing to overall customer satisfaction\n",
    "- Yes, this was likely purposeful and is harmful, because it attributes a wide demographic of tech users to associate personal assistants as being a woman’s job or role: this reinforces sexism\n",
    "\n",
    "> Talk about an algorithm that influences your decisions, think about these companies (ie FAANG - Facebook, Amazon, Apple,Netflix, Google)\n",
    "\n",
    "- Applications such as Netflix, Amazon, and Facebook use algorithms to display posts or items that they believe you would want to see\n",
    "- These algorithms use data collected from your account\n",
    "- This can fortify biased information\n",
    "\n",
    "> HP Computers are Racist\n",
    "\n",
    "- The HP computer not being able to pick up the face of people with darker skin is harmful, as it can infer that the computer believes that those with darker skin are not human - due to the fact that the program is supposed to recognize human faces.\n",
    "- This issue should absolutely be corrected\n",
    "- The creator of the video believes that HP computers are racist! They recognize the face of his white friend, Wanda, but not his.\n",
    "\n",
    "### Hacks\n",
    "\n",
    "> Write summary/thoughts/conclusions from each of the exercises above. Focus on avoiding Bias in algorithms or code you write.\n",
    "\n",
    "<p>Regarding the use of social media, it was found that TikTok has a high proportion of US users aged 16-24, while Facebook has a higher percentage of users aged 25-34. With regards to virtual assistants having female voices, it was determined that this was likely a purposeful decision by companies like Amazon, Alexa, Google, and Apple Siri, as female voices are perceived to be soothing and calming. However, this decision reinforces sexism and associates personal assistants as being a female role, which is harmful. The use of algorithms by companies such as Netflix, Amazon, and Facebook can reinforce biased information, as these algorithms use data collected from the user's account to display content that they believe the user would like to see. Finally, the issue of an HP computer not being able to recognize the faces of people with darker skin was deemed harmful and should be corrected, as this implies that the computer does not view them as human. In conclusion, the use of algorithms and AI systems in today's technology has a significant impact on how people are perceived and treated. To ensure that technology is developed and used in an ethical and unbiased manner, it is essential to consider the potential consequences and impact of the decisions made during the development process. This includes being mindful of the biases that may exist in the data sets used to train algorithms and the potential impact of these biases on the users.\n",
    "</p>\n",
    "\n",
    "## Unit 5.4\n",
    "\n",
    "> Crowdsourcing\n",
    "\n",
    "- Crowdsourcing helps to reduce computer bias by reaching outside the bounds of a given community\n",
    "- Wikipedia relies on crowdsourced information\n",
    "- Although it may contain inaccuracies, these are often corrected by the self-regulated community, leading many to view it as a more trustworthy source than official information. \n",
    "- Cryptocurrency and its underlying blockchain technology ensure the security of financial transactions through validation by three independent miners. In the event of an error, the process is rechecked. \n",
    "- This crowdsourced innovation has prompted rethinking of currency by governments, and blockchain algorithms are being explored for securing sensitive data, such as medical records.\n",
    "- COVID data provides insights into areas that are effectively addressing the pandemic and those that are not. This information has a significant impact on decisions such as attending public events, traveling by plane, and wearing masks. The community of data analysts and researchers will drive new approaches to analyzing and utilizing data that affects our lives.\n",
    "\n",
    "### Hacks\n",
    "\n",
    "> Think of a use case for crowdsourcing in your project … CompSci has 150 ish principles students. Describe a crowdsource idea and how you might initiate it in our environment? What about Del Norte crowdsourcing? Could your project be better with crowdsourcing? What kind of data could you capture at N@tM to make the evening interesting? Perhaps use this data to impress Teachers during finals week.\n",
    "\n",
    "<p>At N@TM, we can conduct a survey to determine how many students have trouble with finding suitable cars that meet their criteria. Our project purpose is to help ease the car searching process, especially for students such as ourselves - so this form of crowdsourcing can be very helpful to bettering our overall project and website.\n",
    "</p>\n",
    "\n",
    "\n"
   ]
  }
 ],
 "metadata": {
  "kernelspec": {
   "display_name": "Python 3",
   "language": "python",
   "name": "python3"
  },
  "language_info": {
   "name": "python",
   "version": "3.10.6"
  },
  "orig_nbformat": 4,
  "vscode": {
   "interpreter": {
    "hash": "82faa6d27c9a927522682e95cb30c684238aba2a31347a70411ee016fed8cfe5"
   }
  }
 },
 "nbformat": 4,
 "nbformat_minor": 2
}
