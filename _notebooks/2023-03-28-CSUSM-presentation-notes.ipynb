{
 "cells": [
  {
   "attachments": {},
   "cell_type": "markdown",
   "metadata": {},
   "source": [
    "#  Cal State University of San Marcos Presentation\n",
    "> My notes and reflection for the Cal State University of San Marcos presentation\n",
    "- toc: true\n",
    "- categories: [seed, csusm]"
   ]
  },
  {
   "attachments": {},
   "cell_type": "markdown",
   "metadata": {},
   "source": [
    "# CSUSM Presentation Notes\n",
    "\n",
    "## Video + Selfie\n",
    "> Here is a selfie from the event and a video from the activity we did at the end!\n",
    "\n",
    "<html>\n",
    "<img src=\"https://user-images.githubusercontent.com/109186517/228421391-6342ef64-39fd-4fed-a277-4e72e6df8f91.png\" height=\"450\">\n",
    "<video height=\"450\" controls>\n",
    "  <source src=\"https://user-images.githubusercontent.com/109186517/228420627-7adb6a2f-5da4-4b76-b820-077481315de5.MOV\" type=\"video/mp4\">\n",
    "</video>\n",
    "</html>\n",
    "\n",
    "## Introduction \n",
    "- Don't let failures define you\n",
    "- CS degree is very versatile\n",
    "- Cal State University San Marcos is the 21st school out of 23 Cal States\n",
    "- National leader in social mobility for students (turnover from social economic status after graduating)\n",
    "- CSUSM has new degrees: Masters in cyber security & Computer engineering \n",
    "- Transitioning majors is not dramatic, it is fairly easy at Cal State San Marcos\n",
    "- Stem majors: Physics, chemistry, biochemistry, biotechnology, math, computer science, software engineering, electrical engineering\n",
    "- CSUSM has many clubs such as Robotics, 3D Printing, Women in STEM\n",
    "\n",
    "## Internships\n",
    "- Campus events and job fairs\n",
    "- Networking \n",
    "- Emails\n",
    "- Apply even if you feel unqualified\n",
    "- Ask faculty members to review application and essays when applying\n",
    "\n",
    "## Programs\n",
    "- Summer scholars: A paid 10 week program in which you research with an advisor.\n",
    "- Quantum Bridge Program: Incoming students get to work and research in the field of quantum mechanics and physics\n",
    "\n",
    "## Research\n",
    "- Cal State San Marcos has many research programs for cancer research, meteorite research, etc.\n",
    "\n",
    "## Opportunities\n",
    "- Look for and apply for grants and scholarships, they help with paying for college\n",
    "- Try to avoid loans\n",
    "- FAFSA: Free Application for Federal Student Aid \n",
    "- There are 2 types of loans:\n",
    "1. Subsidized: Partially funded by the government, interest on the loan starts 6 months after the end of the semester\n",
    "2. Unsubsidized: Interest on loan accumulates immediately after the end of the semester\n",
    "\n",
    "## Work/Life after college\n",
    "- Public institutions: Military, government contractors, etc.\n",
    "- Private companies\n",
    "- Masters and PhDs\n",
    "\n",
    "# Reflection\n",
    "As a student, I found the presentation by Cal State University San Marcos to be very informative and encouraging. One of the key takeaways for me was the emphasis on not letting failures define me. I think this is an important mindset to have, especially in a STEM major where there are often challenges and setbacks. Another thing that stood out to me was the versatility of a Computer Science degree. It was mentioned that CS majors have the opportunity to work in various industries and fields, which is reassuring since it means that there are many different career paths to choose from. I was also impressed by the programs offered at CSUSM. The Masters in Cybersecurity and Computer Engineering are degrees that I would definitely consider pursuing. Additionally, the Summer Scholars program and Quantum Bridge program both seem like great opportunities for hands-on research experience. The various STEM clubs at CSUSM, such as Robotics and 3D Printing, also caught my attention. I think these clubs would be a great way to connect with other students who share similar interests and to learn from their experiences. Another key topiic that stuck with me was the emphasis on seeking out grants and scholarships to help pay for college. With the rising costs of tuition and the burden of student loans, it's crucial to explore every option available to alleviate some of the financial strain. I also appreciated the information on FAFSA and the different types of loans available, such as subsidized and unsubsidized. Understanding the difference between these two types of loans and how they work can help me make informed decisions about my financial future. Furthermore, the presentation highlighted the importance of internships and networking to gain experience and advance in my field. Lastly, the point made about applying for internships even if I feel unqualified is reassuring as it reminds me that sometimes, taking risks can lead to unexpected opportunities and growth. Overall, this presentation provided valuable insights into the various aspects of college and gave me a better understanding of what to expect in terms of finances, opportunities, and career paths. As I continue my academic journey, I will keep these insights in mind and utilize the resources available to me to make the most of my college experience."
   ]
  }
 ],
 "metadata": {
  "kernelspec": {
   "display_name": "base",
   "language": "python",
   "name": "python3"
  },
  "language_info": {
   "name": "python",
   "version": "3.9.12"
  },
  "orig_nbformat": 4
 },
 "nbformat": 4,
 "nbformat_minor": 2
}
