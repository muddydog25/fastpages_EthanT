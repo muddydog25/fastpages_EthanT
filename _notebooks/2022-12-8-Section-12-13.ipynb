{
 "cells": [
  {
   "attachments": {},
   "cell_type": "markdown",
   "metadata": {},
   "source": [
    "# Hacks Sections 12-13\n",
    "- title: Hacks Sections 12-13\n",
    "- toc: true\n",
    "- badges: false"
   ]
  },
  {
   "cell_type": "markdown",
   "metadata": {},
   "source": [
    "## Notes"
   ]
  },
  {
   "attachments": {},
   "cell_type": "markdown",
   "metadata": {},
   "source": [
    "## Section 3.12 Hacks"
   ]
  },
  {
   "attachments": {},
   "cell_type": "markdown",
   "metadata": {},
   "source": [
    "**1. Define procedure and parameter in your own words & Define Return Values and Output Parameters in your own words** \n",
    "\n",
    "a) Procedure: A block of code that is created to perform a given task - essentially a function.\n",
    "\n",
    "b) Parameter: A variable that is utilized in a function that enables data to be imported into said function.\n",
    "\n",
    "**2. Paste a screenshot of completion of the quiz**\n",
    "<html>\n",
    "<img src=\"https://user-images.githubusercontent.com/109186517/207211958-ccf9280c-595b-4d7e-8301-126fb245cf15.png\" height=\"550px\">\n",
    "</html>\n",
    "\n",
    "**3. Define Return Values and Output Parameters in your own words**\n",
    "\n",
    "a) Return Values: A return value is a value that is returned by a function or method to the calling code after it has finished executing. It is the value that is passed back to the calling code once the function or method has finished its job.\n",
    "\n",
    "b) Output Parameters: Output parameters are variables that are passed by reference to a function or method and are used to return a value to the calling code. They are typically used to return multiple values from a single function or method.\n",
    "\n",
    "**Code a procedure that finds the square root of any given number. (make sure to call and return the function)**"
   ]
  },
  {
   "cell_type": "code",
   "execution_count": 28,
   "metadata": {},
   "outputs": [
    {
     "name": "stdout",
     "output_type": "stream",
     "text": [
      "Input: 225.0\n",
      "Square root: 15\n"
     ]
    }
   ],
   "source": [
    "import math\n",
    "\n",
    "userNum = float(input())\n",
    "\n",
    "def sqrt(userNum):\n",
    "    return userNum\n",
    "\n",
    "sqrt = math.sqrt(userNum)\n",
    "print(\"Input:\" , userNum)\n",
    "print(\"Square root:\" , int(sqrt))"
   ]
  },
  {
   "cell_type": "code",
   "execution_count": 4,
   "metadata": {},
   "outputs": [
    {
     "name": "stdout",
     "output_type": "stream",
     "text": [
      "Question: What is are correct names for a procedure? \n",
      " A) Method \n",
      " B) Function \n",
      " C) Both\n",
      "Answer: C\n",
      "Correct :) \n",
      "\n",
      "Question: What is a procedure? \n",
      " A) Sequencing \n",
      " B) Selection \n",
      " C) Iteration \n",
      " D) All\n",
      "Answer: D\n",
      "Correct :) \n",
      "\n",
      "Question: Use this for following question: \n",
      " def inchesToFeet(lengthInches): \n",
      "\t lengthFeet = lengthInches / 12 \n",
      "\t return lengthFeet \n",
      "\n",
      " What is the procedure name, the parameter, and what the procedure returns? \n",
      " A) feetToInches, lengthInches, lengthMeters \n",
      " B) inchesToFeet, lengthInches, lengthFeet \n",
      " C) inchesToFeet, lengthFeet, lengthInches \n",
      " D) lengthInches, inchesToFeet, lengthFeet\n",
      "Answer: B\n",
      "Correct :) \n",
      "\n",
      "Score: 3 / 3\n"
     ]
    }
   ],
   "source": [
    "questionNum = 3\n",
    "correct = 0\n",
    "questions = [\n",
    "    \"What is are correct names for a procedure? \\n A) Method \\n B) Function \\n C) Both\",\n",
    "    \"What is a procedure? \\n A) Sequencing \\n B) Selection \\n C) Iteration \\n D) All\",\n",
    "    \"Use this for following question: \\n def inchesToFeet(lengthInches): \\n\\t lengthFeet = lengthInches / 12 \\n\\t return lengthFeet \\n\\n What is the procedure name, the parameter, and what the procedure returns? \\n A) feetToInches, lengthInches, lengthMeters \\n B) inchesToFeet, lengthInches, lengthFeet \\n C) inchesToFeet, lengthFeet, lengthInches \\n D) lengthInches, inchesToFeet, lengthFeet\"]\n",
    "answers = [\"c\", \"d\", \"b\"]\n",
    "\n",
    "def qna(question, answer):\n",
    "    print(\"Question:\", question)\n",
    "    response = input()\n",
    "    print(\"Answer:\", response)\n",
    "    \n",
    "    if response.lower() == answer:\n",
    "        print(\"Correct :) \\n\")\n",
    "        global correct\n",
    "        correct += 1\n",
    "    else:\n",
    "        print(\"Incorrect :( \\n\")\n",
    "for x in range(questionNum):\n",
    "    qna(questions[x], answers[x])\n",
    "    \n",
    "print(\"Score:\", correct, \"/ 3\")"
   ]
  },
  {
   "cell_type": "code",
   "execution_count": 9,
   "metadata": {},
   "outputs": [
    {
     "name": "stdout",
     "output_type": "stream",
     "text": [
      "Input: 25.0\n",
      "5.0\n"
     ]
    }
   ],
   "source": [
    "import math\n",
    "\n",
    "userNum = float(input())\n",
    "\n",
    "sqrt = math.sqrt(userNum)\n",
    "print(\"Input:\" , userNum)\n",
    "print(sqrt)"
   ]
  },
  {
   "attachments": {},
   "cell_type": "markdown",
   "metadata": {},
   "source": [
    "## Section 3.13 Hacks\n",
    "\n",
    "1) Q: Explain, in your own words, why abstracting away your program logic into separate, modular functions is effective\n",
    "   \n",
    "    A: Abstracting away program logic into separate, modular functions is effective when coding because it makes the code easier to read and understand, more reusable and maintainable, and allows for better organization and structure. By breaking down large, complex tasks into smaller, more manageable functions, it can help to simplify the code and make it more organized, which makes debugging and troubleshooting much easier. Additionally, modular functions are easier to update and extend, since they can be tested, modified, and replaced independently. This can help reduce the amount of code needed to be written and improve the overall code quality. Finally, modular functions make code more reusable, as they can be used in multiple projects and functions, which can lead to faster development times and reduced maintenance costs.\n",
    "\n",
    "2) Create a procedure that uses other sub-procedures (other functions) within it and explain why the abstraction was needed (conciseness, shared behavior, etc.)\n",
    "\n",
    "The procedure below requires abstraction as it allows the function to organize the code as a whole. Abstracting the variables x and y allows me to not have to call the variables over and over again within the same function."
   ]
  },
  {
   "cell_type": "code",
   "execution_count": 8,
   "metadata": {},
   "outputs": [
    {
     "name": "stdout",
     "output_type": "stream",
     "text": [
      "120\n"
     ]
    }
   ],
   "source": [
    "# Set variables \n",
    "x = 20\n",
    "y = 100\n",
    "\n",
    "# Set function\n",
    "def addition(x,y):\n",
    "    sum = x + y\n",
    "    return(sum)\n",
    "\n",
    "#Print the result\n",
    "print(addition(x,y))"
   ]
  },
  {
   "attachments": {},
   "cell_type": "markdown",
   "metadata": {},
   "source": [
    "3) Add another layer of abstraction to the word counter program (HINT: create a function that can count the number of words starting with ANY character in a given string -- how can we leverage parameters for this?)"
   ]
  },
  {
   "cell_type": "code",
   "execution_count": 19,
   "metadata": {},
   "outputs": [
    {
     "name": "stdout",
     "output_type": "stream",
     "text": [
      "0 word(s) starting with 2\n"
     ]
    }
   ],
   "source": [
    "def split_string(s):\n",
    "    # use the split() method to split the string into a list of words\n",
    "    words = s.split(\" \")\n",
    "\n",
    "\t# initialize a new list to hold all non-empty strings\n",
    "    new_words = []\n",
    "    for word in words:\n",
    "        if word != \"\":\n",
    "            # add all non-empty substrings of `words` to `new_words`\n",
    "            new_words.append(word)\n",
    "    \n",
    "    return words\n",
    "\n",
    "# this function takes a list of words as input and returns the number of words\n",
    "# that start with the given letter (case-insensitive)\n",
    "def count_words_starting_with_letter(words, letter):\n",
    "    count = 0\n",
    "    \n",
    "    # loop through the list of words and check if each word starts with the given letter\n",
    "    for word in words:\n",
    "        # use the lower() method to make the comparison case-insensitive\n",
    "        if word.lower().startswith(letter):\n",
    "            count += 1\n",
    "    \n",
    "    return count\n",
    "\n",
    "# this function takes a string as input and returns the number of words that start with 'a'\n",
    "def count_words_starting_with_a_in_string(s):\n",
    "    # use the split_string() function to split the input string into a list of words\n",
    "    words = split_string(s)\n",
    "    \n",
    "    # use the count_words_starting_with_letter() function to count the number of words\n",
    "    # that start with 'a' in the list of words\n",
    "    count = count_words_starting_with_letter(words, \"a\")\n",
    "    \n",
    "    return count\n",
    "\n",
    "# see above\n",
    "def count_words_starting_with_d_in_string(s):\n",
    "    words = split_string(s)\n",
    "    count = count_words_starting_with_letter(words, \"d\")\n",
    "    return count\n",
    "\n",
    "def any_count(sentence, letter):\n",
    "    \n",
    "    words = split_string(sentence)\n",
    "\n",
    "    count = count_words_starting_with_letter(words, letter)\n",
    "\n",
    "    return count\n",
    "\n",
    "userLetter = input(\"Type any letter\")\n",
    "answer = count_anything(s, str(userLetter))\n",
    "print(str(answer) + \" word(s) starting with \" + str(userLetter))\n"
   ]
  }
 ],
 "metadata": {
  "kernelspec": {
   "display_name": "Python 3",
   "language": "python",
   "name": "python3"
  },
  "language_info": {
   "codemirror_mode": {
    "name": "ipython",
    "version": 3
   },
   "file_extension": ".py",
   "mimetype": "text/x-python",
   "name": "python",
   "nbconvert_exporter": "python",
   "pygments_lexer": "ipython3",
   "version": "3.10.6"
  },
  "orig_nbformat": 4,
  "vscode": {
   "interpreter": {
    "hash": "82faa6d27c9a927522682e95cb30c684238aba2a31347a70411ee016fed8cfe5"
   }
  }
 },
 "nbformat": 4,
 "nbformat_minor": 2
}
