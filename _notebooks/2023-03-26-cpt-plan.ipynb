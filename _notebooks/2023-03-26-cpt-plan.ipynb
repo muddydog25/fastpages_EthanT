{
 "cells": [
  {
   "attachments": {},
   "cell_type": "markdown",
   "metadata": {},
   "source": [
    "#  Individual Plans for CPT\n",
    "> My plans for my CPT...\n",
    "- toc: true\n",
    "- categories: [college board, cpt]"
   ]
  },
  {
   "attachments": {},
   "cell_type": "markdown",
   "metadata": {},
   "source": [
    "## College Board Requirements\n",
    "\n",
    "<html>\n",
    "<table>\n",
    "<tbody>\n",
    "    <tr>\n",
    "      <td>Program Purpose and Function</td>\n",
    "      <td>The purpose of this program is to calculate the average miles per gallon (MPG) for a trip based on user input. The program prompts the user to enter the distance and fuel used for each entry in their trip, calculates the total mileage and fuel used for the trip, and then calculates the average MPG by dividing the total mileage by the total fuel used. Finally, the program displays the average MPG to the user.\n",
    "    </td>\n",
    "    </tr>\n",
    "    <tr>\n",
    "      <td>Data Abstraction</td>\n",
    "      <td>This code utilizes data abstraction by encapsulating the logic for calculating the average MPG in a separate function, calculate_avg_mpg(). This function takes two input parameters, trip_mileage and fuel_used, which are both lists of floating-point values representing the distance and fuel used for each entry in the trip. The function then returns the average MPG as a floating-point value.\n",
    "    </td>\n",
    "    </tr>\n",
    "    <tr>\n",
    "      <td>Managing Complexity</td>\n",
    "      <td>This code manages complexity by breaking down the problem into smaller, more manageable parts. The program uses loops to iterate through the user input and store it in lists, which are then passed to the calculate_avg_mpg() function for processing. By separating the input collection and processing logic into different functions, the code becomes more modular and easier to understand.\n",
    "    </td>\n",
    "    </tr>\n",
    "    <tr>\n",
    "      <td>Procedural Abstraction</td>\n",
    "      <td>This code utilizes procedural abstraction by separating the user input collection and processing logic into different functions. The main() function is responsible for prompting the user to enter the number of entries and the distance and fuel used for each entry. The calculate_avg_mpg() function is responsible for calculating the average MPG based on the input values passed to it.\n",
    "    </td>\n",
    "    </tr>\n",
    "    <tr>\n",
    "      <td>Algorithm Implementation</td>\n",
    "      <td>The algorithm implemented by this code is straightforward. The program prompts the user to enter the number of entries for their trip, initializes empty lists for trip mileage and fuel used, iterates through the number of entries and prompts the user to enter the distance and fuel used for each entry, calculates the total mileage and fuel used for the trip, calculates the average MPG by dividing the total mileage by the total fuel used, and finally displays the average MPG to the user.\n",
    "    </td>\n",
    "    </tr>\n",
    "    <tr>\n",
    "      <td>Testing</td>\n",
    "      <td>To test this code, a user can run the program and enter sample input values for the distance and fuel used for each entry. The output of the program can be verified manually by calculating the average MPG for the entered values and comparing it to the output displayed by the program. Additionally, a user can test the program with different input values to ensure that it handles various scenarios correctly.\n",
    "    </td>\n",
    "    </tr>\n",
    "  </tbody>\n",
    "  </table>\n",
    "  <html>"
   ]
  },
  {
   "cell_type": "code",
   "execution_count": 2,
   "metadata": {},
   "outputs": [
    {
     "name": "stdout",
     "output_type": "stream",
     "text": [
      "The average MPG for your trip is: 1.00\n"
     ]
    }
   ],
   "source": [
    "def calculate_avg_mpg(trip_mileage, fuel_used):\n",
    "    # Calculate the total mileage and fuel used\n",
    "    total_mileage = sum(trip_mileage)\n",
    "    total_fuel_used = sum(fuel_used)\n",
    "    \n",
    "    # Calculate the average MPG by dividing total mileage by total fuel used\n",
    "    return total_mileage / total_fuel_used\n",
    "\n",
    "\n",
    "def main():\n",
    "    # Initialize a variable to track whether the user wants to continue\n",
    "    continue_calculation = True\n",
    "\n",
    "    # Keep looping until the user indicates that they don't want to continue\n",
    "    while continue_calculation:\n",
    "        # Prompt the user to enter the number of entries for their trip\n",
    "        num_entries = int(input(\"Enter the number of entries for your trip: \"))\n",
    "\n",
    "        # Initialize empty lists for trip mileage and fuel used\n",
    "        trip_mileage = []\n",
    "        fuel_used = []\n",
    "\n",
    "        # Iterate through the number of entries and prompt the user to enter the distance and fuel used for each entry\n",
    "        for i in range(num_entries):\n",
    "            trip_mileage.append(float(input(\"Enter the distance in miles for entry #{}: \".format(i+1))))\n",
    "            fuel_used.append(float(input(\"Enter the fuel amount used in gallons for entry #{}: \".format(i+1))))\n",
    "        \n",
    "        # Call calculate_avg_mpg() to calculate the average MPG and store the result in a variable\n",
    "        average_mpg = calculate_avg_mpg(trip_mileage, fuel_used)\n",
    "        \n",
    "        # Display the result to the user\n",
    "        print(\"The average MPG for your trip is: {:.2f}\".format(average_mpg))\n",
    "\n",
    "        # Ask the user if they want to calculate another trip's average MPG\n",
    "        continue_response = input(\"Do you want to calculate another trip's average MPG? (y/n): \")\n",
    "        if continue_response.lower() != 'y':\n",
    "            continue_calculation = False\n",
    "\n",
    "\n",
    "# Call the main function\n",
    "main()"
   ]
  },
  {
   "attachments": {},
   "cell_type": "markdown",
   "metadata": {},
   "source": [
    "## Reflection/Plans\n",
    "\n",
    "### Highlights\n",
    "\n",
    "Overall, I think this program does a good job of calculating the average MPG for a trip based on the distance and fuel used. One thing that stands out to me is the use of separate lists for the distance and fuel used, which allows for easy iteration through each entry of the trip and accurate calculation of the total mileage and fuel used. I also like the use of procedural abstraction with the calculate_avg_mpg() function, which makes the main function easier to read and understand.\n",
    "\n",
    "### Improvements\n",
    "\n",
    "One thing that could be improved in this program is the user input process. Right now, the program simply prompts the user for input without any validation or error handling. I can add some error handling to ensure that the user is entering valid input, such as checking that the distance and fuel used are both positive numbers. Additionally, I can also provide more detailed output to the user, such as displaying the individual mileage and fuel used for each entry in addition to the average MPG. Lastly, I still need to test my code more using different test cases - to ensure that it properly works. \n",
    "\n",
    "### Overall \n",
    "\n",
    "Overall, I think this program is a good starting point for calculating the average MPG for a trip, but there are certainly areas for improvement and additional features that could be added to make the program more user-friendly and versatile."
   ]
  },
  {
   "cell_type": "code",
   "execution_count": 4,
   "metadata": {},
   "outputs": [
    {
     "name": "stdout",
     "output_type": "stream",
     "text": [
      "Country Totals\n",
      "country_name Niue\n",
      "cases 8\n",
      "deaths 0\n",
      "region \n",
      "total_recovered 7\n",
      "new_deaths 0\n",
      "new_cases 0\n",
      "serious_critical 0\n",
      "active_cases 1\n",
      "total_cases_per_1m_population 4,860\n",
      "deaths_per_1m_population 0\n",
      "total_tests 0\n",
      "tests_per_1m_population 0\n"
     ]
    }
   ],
   "source": [
    "import requests\n",
    "\n",
    "url = \"https://corona-virus-world-and-india-data.p.rapidapi.com/api\"\n",
    "\n",
    "headers = {\n",
    "\t\"X-RapidAPI-Key\": \"d3a3e94748msh74bb629320d5734p160ceajsn7f28f4859ea2\",\n",
    "\t\"X-RapidAPI-Host\": \"corona-virus-world-and-india-data.p.rapidapi.com\"\n",
    "}\n",
    "\n",
    "response = requests.request(\"GET\", url, headers=headers)\n",
    "\n",
    "print(\"Country Totals\")\n",
    "countries = response.json().get('countries_stat')\n",
    "for country in countries:  # countries is a list\n",
    "    if country[\"country_name\"] == \"Niue\":  # this filters for USA\n",
    "        for key, value in country.items():  # this finds key, value pairs in country\n",
    "            print(key, value)"
   ]
  }
 ],
 "metadata": {
  "kernelspec": {
   "display_name": "base",
   "language": "python",
   "name": "python3"
  },
  "language_info": {
   "codemirror_mode": {
    "name": "ipython",
    "version": 3
   },
   "file_extension": ".py",
   "mimetype": "text/x-python",
   "name": "python",
   "nbconvert_exporter": "python",
   "pygments_lexer": "ipython3",
   "version": "3.9.12"
  },
  "orig_nbformat": 4,
  "vscode": {
   "interpreter": {
    "hash": "61e4acfa839f992901d0ee6a6f0248dbe1c435bf9fcb7077bdfa4be8dd07d6be"
   }
  }
 },
 "nbformat": 4,
 "nbformat_minor": 2
}
