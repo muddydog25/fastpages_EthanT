{
 "cells": [
  {
   "attachments": {},
   "cell_type": "markdown",
   "metadata": {},
   "source": [
    "#  Unit 2.4b Hacks\n",
    "> My Hacks for Unit 2.4b\n",
    "- toc: true\n",
    "- categories: [unit 2.4b, cb, hacks]"
   ]
  },
  {
   "attachments": {},
   "cell_type": "markdown",
   "metadata": {},
   "source": [
    "# Hacks\n",
    "- Add this Blog to you own Blogging site.  In the Blog add notes and observations on each code cell.\n",
    "\n",
    "- In this implementation, do you see procedural abstraction?\n",
    "\n",
    "Procedural abstraction is displayed in this implementation through the division of tasks among various functions. For example, the menu function acts as a control method where the user can select what operation they want to complete. The create() function follows this, prompting the user for the necessary details, and then establishing a cursor object to connect with the database. After executing the appropriate SQL command to insert the data, the connection and cursor objects are closed. Therefore, the entire process of creating a user record is conducted by calling the create() function. This is an example of procedural abstraction, as there is a specific function dedicated to each task and the user can complete the desired operation by using the menu function.\n",
    "\n",
    "- In 2.4a or 2.4b lecture\n",
    "    - Do you see data abstraction?  Complement this with Debugging example.\n",
    "\n",
    " This implementation showcases data abstraction, as the details of working with the database are kept hidden from the user. They are provided with a simple interface to perform common CRUD (Create, Read, Update, Delete) operations on their data. This is done through a menu system, which provides an abstraction of the operations available and hides the implementation details from the user. As an example of this, when the user select the \"create\" option from the menu, they are prompted to input the required information (name, uid, password, dob). The implementation then automatically takes care of inserting this information into the database.\n",
    "\n",
    "## Debugging Example\n",
    "\n",
    "- In the example below, I am running the READ operation, when debugging it highlights the specific section of the code that is being executed when running this operation. This allows me to know if my code is running properly, or points me in the right direction if my code does not work as intended - because it lays out how my code is ACTUALLY running.\n",
    "\n",
    "![debug1](https://user-images.githubusercontent.com/109186517/226302658-9f781145-4c71-4f2a-90f3-843fa25c41ef.png)\n",
    "\n",
    "- In the second example below, I have input the details for a new car record to be added to the database (cars.db). On the top left corner, you can see the new information for each attribute such as \"body_type\" or \"make\" being created for the car. \n",
    "\n",
    "![debug2](https://user-images.githubusercontent.com/109186517/226304068-c7473588-293a-4d69-a1ea-c87181f9c42c.png)\n",
    "\n",
    "- Use Imperative or OOP style to Create a new Table or do something that applies to your CPT project.\n",
    "    \n",
    "\n",
    "## Schema of Users table in Sqlite.db\n",
    "\n",
    "> Uses PRAGMA statement to read schema.\n",
    "\n",
    "1. What is a database schema?\n",
    "\n",
    "A database schema is the structure of a database system, which describes the objects (tables, views, procedures, functions, etc.) and relationships between them.\n",
    "\n",
    "\n",
    "2. What is the purpose of identity Column in SQL database?\n",
    "\n",
    "The purpose of an identity column in a SQL database is to provide an auto-incremental, unique number for each row in a table. This allows the database to generate a unique identifier for each row.\n",
    "\n",
    "\n",
    "3. What is the purpose of a primary key in SQL database?\n",
    "\n",
    "The purpose of a primary key in a SQL database is to uniquely identify each record in a table. A primary key is composed of one or more columns, which must contain unique values.\n",
    "\n",
    "\n",
    "4. What are the Data Types in SQL table?\n",
    "\n",
    "The data types in a SQL table can vary depending on the type of database being used, but the most common data types are integer, decimal, string, date, and boolean."
   ]
  },
  {
   "cell_type": "code",
   "execution_count": 1,
   "metadata": {},
   "outputs": [
    {
     "name": "stdout",
     "output_type": "stream",
     "text": [
      "(0, 'id', 'INTEGER', 1, None, 1)\n",
      "(1, '_make', 'VARCHAR(255)', 1, None, 0)\n",
      "(2, '_model', 'VARCHAR(255)', 1, None, 0)\n",
      "(3, '_price', 'INTEGER', 1, None, 0)\n",
      "(4, '_year', 'INTEGER', 1, None, 0)\n",
      "(5, '_desc', 'VARCHAR(255)', 1, None, 0)\n",
      "(6, '_engine', 'VARCHAR(255)', 1, None, 0)\n",
      "(7, '_body_style', 'VARCHAR(255)', 1, None, 0)\n",
      "(8, '_owner', 'VARCHAR(255)', 1, None, 0)\n"
     ]
    }
   ],
   "source": [
    "import sqlite3\n",
    "\n",
    "database = 'instance/cars.db' # this is location of database\n",
    "\n",
    "def schema():\n",
    "    \n",
    "    # Connect to the database file\n",
    "    conn = sqlite3.connect(database)\n",
    "\n",
    "    # Create a cursor object to execute SQL queries\n",
    "    cursor = conn.cursor()\n",
    "    \n",
    "    # Fetch results of Schema\n",
    "    results = cursor.execute(\"PRAGMA table_info('cars')\").fetchall()\n",
    "\n",
    "    # Print the results\n",
    "    for row in results:\n",
    "        print(row)\n",
    "\n",
    "    # Close the database connection\n",
    "    conn.close()\n",
    "    \n",
    "schema()"
   ]
  },
  {
   "attachments": {},
   "cell_type": "markdown",
   "metadata": {},
   "source": [
    "## Create\n",
    "\n",
    "### Create a new User in table in Sqlite.db\n",
    "\n",
    "> Uses SQL INSERT to add row\n",
    "\n",
    "1. Compare create() in both SQL lessons. What is better or worse in the two implementations?\n",
    "\n",
    "In the OOP, the create() function is called on an object. On the other hand, in imperative programming, several variables need to be created within the function instead. Both of these approaches have their own advantages and disadvantages. The imperative approach is less prone to errors but also less efficient, whereas the create() in the OOP version does the opposite. Furthermore, the imperative version does not censor passwords whereas OOP is better for working with large amounts of data. If one is dealing with a small amount of data, then the imperative approach may be more suitable.\n",
    "\n",
    "2. Explain purpose of SQL INSERT. Is this the same as User init?\n",
    "\n",
    "The SQL INSERT statement used in the code is used to add a new row of data to the \"users\" table of a SQLite database. The INSERT INTO statement defines the table name and columns for the data to be added, and the VALUES clause provides the values associated with each column. The ? placeholders help prevent SQL injection attacks by cleaning user input. The INSERT INTO statement can be likened to the init method of a User class, as they both serve to create a record or object within the database. The distinction is that the INSERT INTO statement only adds data to a table in the database, while the init method of a User class creates a new instance of a class in memory."
   ]
  },
  {
   "cell_type": "code",
   "execution_count": 2,
   "metadata": {},
   "outputs": [
    {
     "name": "stdout",
     "output_type": "stream",
     "text": [
      "A new car has been added\n"
     ]
    }
   ],
   "source": [
    "import sqlite3\n",
    "\n",
    "database = 'instance/cars.db'\n",
    "\n",
    "def create():\n",
    "    make = input(\"Enter the make of the car:\")\n",
    "    model = input(\"Enter the model:\")\n",
    "    price = input(\"Enter the price:\")\n",
    "    year = input(\"Enter the year:\")\n",
    "    desc = input(\"Enter a description of the car:\")\n",
    "    body_style = input(\"Enter the body style of the car:\")\n",
    "    engine = input(\"Enter the engine type:\")\n",
    "    owner = input(\"Who's the owner of the car?\")\n",
    "        \n",
    "    # Connect to the database file\n",
    "    conn = sqlite3.connect(database)\n",
    "\n",
    "    # Create a cursor object to execute SQL commands\n",
    "    cursor = conn.cursor()\n",
    "\n",
    "    try:\n",
    "        # Execute an SQL command to insert data into a table\n",
    "        cursor.execute(\"INSERT INTO cars (_make, _model, _price, _year, _desc, _body_style, _engine, _owner) VALUES (?, ?, ?, ?, ?, ?, ?, ?)\", (make, model, price, year, desc, body_style, engine, owner))\n",
    "        \n",
    "        # Commit the changes to the database\n",
    "        conn.commit()\n",
    "        print(f\"A new car has been added\")\n",
    "                \n",
    "    except sqlite3.Error as error:\n",
    "        print(\"Error while executing the INSERT:\", error)\n",
    "\n",
    "\n",
    "    # Close the cursor and connection objects\n",
    "    cursor.close()\n",
    "    conn.close()\n",
    "    \n",
    "create()"
   ]
  },
  {
   "attachments": {},
   "cell_type": "markdown",
   "metadata": {},
   "source": [
    "## Read\n",
    "\n",
    "## Reading Users table in Sqlite.db\n",
    "\n",
    "> Uses SQL SELECT statement to read data\n",
    "\n",
    "1. What is a connection object? After you google it, what do you think it does?\n",
    "\n",
    "A connection object is an object used to establish a connection between a database and an application. It allows the application to interact with the database by executing queries, retrieving data, and performing other database operations.\n",
    "\n",
    "2. Same for cursor object?\n",
    "\n",
    "A cursor object is an object used to traverse the records in a database result set. It provides methods to retrieve and manipulate the results of a query.\n",
    "\n",
    "3. Look at conn object and cursor object in VSCode debugger. What attributes are in the object?\n",
    "\n",
    "The conn object contains attributes such as hostname, port, database, user, and password, while the cursor object contains attributes such as description and rowcount.\n",
    "\n",
    "4. Is \"results\" an object? How do you know?\n",
    "\n",
    "Yes, \"results\" can be classified as an object as it is not only identified as a local variable, but it also stores data which is required for the program to work. This data includes the name, user id and date of birth of each user.\""
   ]
  },
  {
   "cell_type": "code",
   "execution_count": 3,
   "metadata": {},
   "outputs": [
    {
     "name": "stdout",
     "output_type": "stream",
     "text": [
      "(1, 'BMW', '2 Series', 34000, 2021, 'The BMW 2 series is a stylish sports coupe that drives just as well as it looks.', '2.0L four-cylinder', 'coupe', 'John Doe')\n",
      "(3, 'Toyota', 'Sienna', 50000, 2023, 'New Description! Sienna!', 'V6', 'Van', 'SiennaDoe')\n",
      "(7, 'Hyundai', 'Veloster N', 48000, 2019, 'New Description!', 'V6', 'Coupe', 'Jan')\n",
      "(8, 'Lucid', 'Air', 72000, 2023, 'The all new, all electric, Lucid Air!', 'Electric', 'Sedan', 'Lucid')\n",
      "(9, 'Kia', 'Stinger', 42000, 2021, 'Kia Stinger, sports sedan!', 'V6', 'Sedna', 'Sting')\n",
      "(10, '', '', '', '', '', '', '', '')\n",
      "(11, 'Ford', 'Mustang', 50000, 2019, 'American Muscle!', 'V8', 'Coupe', 'Mr. Muscle')\n"
     ]
    }
   ],
   "source": [
    "import sqlite3\n",
    "\n",
    "def read():\n",
    "    # Connect to the database file\n",
    "    conn = sqlite3.connect(database)\n",
    "\n",
    "    # Create a cursor object to execute SQL queries\n",
    "    cursor = conn.cursor()   # open connection object: contains methods and attributes you need to alter data \n",
    "    \n",
    "    # Execute a SELECT statement to retrieve data from a table\n",
    "    results = cursor.execute('SELECT * FROM cars').fetchall()  #results is an object \n",
    "\n",
    "    # Print the results\n",
    "    if len(results) == 0:\n",
    "        print(\"Table is empty\")\n",
    "    else:\n",
    "        for row in results:\n",
    "            print(row)\n",
    "\n",
    "    # Close the cursor and connection objects\n",
    "    cursor.close()\n",
    "    conn.close()\n",
    "    \n",
    "read()"
   ]
  },
  {
   "attachments": {},
   "cell_type": "markdown",
   "metadata": {},
   "source": [
    "## Update\n",
    "\n",
    "### Updating a User in table in Sqlite.db\n",
    "\n",
    "> Uses SQL UPDATE to modify password\n",
    "\n",
    "1. What does the hacked part do?\n",
    "The section of code that includes the term \"hacked\" is used to create a password that meets the minimum length requirement for safety reasons (2 characters). The message variable has been set to \"hacked\" to make it clear that the password has been auto-generated.\n",
    "\n",
    "2. Explain try/except, when would except occur?\n",
    "\n",
    "If any errors occur while trying to execute an SQL command, the try/except block can be used to handle them. In this situation, the try block holds the SQL command to change the user's password. If any sqlite3.Error exceptions take place, the code in the except block is implemented.\n",
    "\n",
    "3. What code seems to be repeated in each of these examples to point, why is it repeated?\n",
    "\n",
    "In order to execute SQL commands, it is necessary to create a connection to the database. This connection is represented by a cursor object, which is used to interact with the database. This connection and cursor object must be established for each example, as it is a crucial component of processing SQL commands. At the end, the cursor and connection objects must be closed in order to free up resources and avoid any memory issues."
   ]
  },
  {
   "cell_type": "code",
   "execution_count": 4,
   "metadata": {},
   "outputs": [
    {
     "name": "stdout",
     "output_type": "stream",
     "text": [
      "Car with the id 10 has been updated\n"
     ]
    }
   ],
   "source": [
    "import sqlite3\n",
    "\n",
    "database = 'instance/cars.db'\n",
    "\n",
    "# Take the inputs for each attribute\n",
    "def update():\n",
    "    id = input(\"Enter the id of the car:\")\n",
    "    make = input(\"Enter the make of the car:\")\n",
    "    model = input(\"Enter the model:\")\n",
    "    price = input(\"Enter the price:\")\n",
    "    year = input(\"Enter the year:\")\n",
    "    desc = input(\"Enter a description of the car:\")\n",
    "    body_style = input(\"Enter the body style of the car:\")\n",
    "    engine = input(\"Enter the engine type:\")\n",
    "    owner = input(\"Who's the owner of the car?\")\n",
    "\n",
    "    # Connect to the database file\n",
    "    conn = sqlite3.connect(database)\n",
    "\n",
    "    # Create a cursor object to execute SQL commands\n",
    "    cursor = conn.cursor()\n",
    "\n",
    "    try:\n",
    "        # Execute an SQL command to update data in a table\n",
    "        # Trying to add dob right now...\n",
    "        cursor.execute(\"UPDATE cars SET _make = ?, _model = ?, _price = ?, _year = ?, _desc = ?,  _body_style = ?,  _engine = ?,  _owner = ?  WHERE id = ?\", (make, model, price, year, desc, body_style, engine, owner, id))\n",
    "        if cursor.rowcount == 0:\n",
    "            # Car ID not found\n",
    "            print(f\"No id was found in the table\")\n",
    "        \n",
    "        # Commit new data\n",
    "        else: \n",
    "            print(f\"Car with the id {id} has been updated\")\n",
    "            conn.commit()\n",
    "\n",
    "    except sqlite3.Error as error:\n",
    "        print(\"Error while updating the record:\", error)\n",
    "    \n",
    "    # Close the cursor and connection objects\n",
    "    cursor.close()\n",
    "    conn.close()\n",
    "    \n",
    "update()\n"
   ]
  },
  {
   "attachments": {},
   "cell_type": "markdown",
   "metadata": {},
   "source": [
    "# Delete\n",
    "\n",
    "### Delete a User in table in Sqlite.db\n",
    "\n",
    "> Uses a delete function to remove a user based on a user input of the id.\n",
    "\n",
    "1. Is DELETE a dangerous operation? Why?\n",
    "\n",
    "Yes, delete is a dangerous operation because it permanently removes a record from a database, so it should be handled with care.\n",
    "\n",
    "2. In the print statemements, what is the \"f\" and what does {uid} do?\n",
    "\n",
    "The \"f\" in the print statement is a format specifier, which defines the type of data being printed. The {uid} refers to the user id of the user being deleted, which is passed in as a parameter."
   ]
  },
  {
   "cell_type": "code",
   "execution_count": 5,
   "metadata": {},
   "outputs": [
    {
     "name": "stdout",
     "output_type": "stream",
     "text": [
      "Row with ID 8 has been deleted.\n"
     ]
    }
   ],
   "source": [
    "import sqlite3\n",
    "\n",
    "def delete():\n",
    "\n",
    "    id = input(\"Select the ID of the car you wish to remove: \")\n",
    "    \n",
    "    # Connect to the database file\n",
    "    conn = sqlite3.connect(database)\n",
    "\n",
    "    # Create a cursor object to execute SQL commands\n",
    "    cursor = conn.cursor()\n",
    "\n",
    "    # Validate the input\n",
    "    try:\n",
    "        id = int(id)\n",
    "    except ValueError:\n",
    "        print(\"Invalid input: ID must be an integer.\")\n",
    "        return\n",
    "\n",
    "    try:\n",
    "        # Use a parameterized query to prevent SQL injection\n",
    "        c = conn.cursor()\n",
    "        c.execute(\"DELETE FROM cars WHERE id = ?\", (id,))\n",
    "        conn.commit()\n",
    "        print(f\"Row with ID {id} has been deleted.\")\n",
    "    except sqlite3.Error as e:\n",
    "        print(f\"Error deleting row with ID {id}: {e}\")\n",
    "    finally:\n",
    "        # Close the connection\n",
    "        cursor.close\n",
    "        conn.close()\n",
    "\n",
    "delete()"
   ]
  },
  {
   "attachments": {},
   "cell_type": "markdown",
   "metadata": {},
   "source": [
    "## CRUD Menu\n",
    "\n",
    "### Menu Interface to CRUD operations\n",
    "\n",
    "> CRUD and Schema interactions from one location by running menu. Observe input at the top of VSCode, observe output underneath code cell.\n",
    "\n",
    "1. Why does the menu repeat?\n",
    "\n",
    " the user wishes to conduct multiple tasks in a single session (such as creating and deleting), they can do so by accessing the same menu repeatedly. Any of the CRUD operations can be repeated until the user decides to exit the program via the escape button.\n"
   ]
  },
  {
   "cell_type": "code",
   "execution_count": 9,
   "metadata": {},
   "outputs": [
    {
     "name": "stdout",
     "output_type": "stream",
     "text": [
      "Please enter c, r, u, or d\n",
      "(1, 'BMW', '2 Series', 34000, 2021, 'The BMW 2 Series NEW DESCRIPTION!', '4 cylinder', 'Coupe', 'DoeJohn')\n",
      "(7, 'Hyundai', 'Veloster N', 48000, 2019, 'New Description!', 'V6', 'Coupe', 'Jan')\n",
      "(9, 'Kia', 'Stinger', 42000, 2021, 'Kia Stinger, sports sedan!', 'V6', 'Sedna', 'Sting')\n",
      "(10, 'Dodge', 'Charger', 45000, 2021, 'Vroom!', 'V8', 'Sedan', \"Scatpack's are cool\")\n",
      "(11, 'Ford', 'Mustang', 50000, 2019, 'American Muscle!', 'V8', 'Coupe', 'Mr. Muscle')\n"
     ]
    }
   ],
   "source": [
    "def menu():\n",
    "    operation = input(\"Enter: (C)reate (R)ead (U)pdate or (D)elete or (S)chema\")\n",
    "    if operation.lower() == 'c':\n",
    "        create()\n",
    "    elif operation.lower() == 'r':\n",
    "        read()\n",
    "    elif operation.lower() == 'u':\n",
    "        update()\n",
    "    elif operation.lower() == 'd':\n",
    "        delete()\n",
    "    elif operation.lower() == 's':\n",
    "        schema()\n",
    "    elif len(operation)==0: # Escape Key\n",
    "        return\n",
    "    else:\n",
    "        print(\"Please enter c, r, u, or d\") \n",
    "    menu() # recursion, repeat menu\n",
    "        \n",
    "try:\n",
    "    menu() # start menu\n",
    "except:\n",
    "    print(\"Perform Jupyter 'Run All' prior to starting menu\")"
   ]
  },
  {
   "attachments": {},
   "cell_type": "markdown",
   "metadata": {},
   "source": [
    "2. Could you refactor this menu? Make it work with a List?\n",
    "\n",
    "Yes, you can add the options for each operation into a list."
   ]
  },
  {
   "cell_type": "code",
   "execution_count": 8,
   "metadata": {},
   "outputs": [
    {
     "name": "stdout",
     "output_type": "stream",
     "text": [
      "(1, 'BMW', '2 Series', 34000, 2021, 'The BMW 2 series is a stylish sports coupe that drives just as well as it looks.', '2.0L four-cylinder', 'coupe', 'John Doe')\n",
      "(7, 'Hyundai', 'Veloster N', 48000, 2019, 'New Description!', 'V6', 'Coupe', 'Jan')\n",
      "(9, 'Kia', 'Stinger', 42000, 2021, 'Kia Stinger, sports sedan!', 'V6', 'Sedna', 'Sting')\n",
      "(10, 'Dodge', 'Charger', 45000, 2021, 'Vroom!', 'V8', 'Sedan', \"Scatpack's are cool\")\n",
      "(11, 'Ford', 'Mustang', 50000, 2019, 'American Muscle!', 'V8', 'Coupe', 'Mr. Muscle')\n",
      "Car with the id 1 has been updated\n",
      "(1, 'BMW', '2 Series', 34000, 2021, 'The BMW 2 Series NEW DESCRIPTION!', '4 cylinder', 'Coupe', 'DoeJohn')\n",
      "(7, 'Hyundai', 'Veloster N', 48000, 2019, 'New Description!', 'V6', 'Coupe', 'Jan')\n",
      "(9, 'Kia', 'Stinger', 42000, 2021, 'Kia Stinger, sports sedan!', 'V6', 'Sedna', 'Sting')\n",
      "(10, 'Dodge', 'Charger', 45000, 2021, 'Vroom!', 'V8', 'Sedan', \"Scatpack's are cool\")\n",
      "(11, 'Ford', 'Mustang', 50000, 2019, 'American Muscle!', 'V8', 'Coupe', 'Mr. Muscle')\n",
      "Row with ID 3 has been deleted.\n",
      "(1, 'BMW', '2 Series', 34000, 2021, 'The BMW 2 Series NEW DESCRIPTION!', '4 cylinder', 'Coupe', 'DoeJohn')\n",
      "(7, 'Hyundai', 'Veloster N', 48000, 2019, 'New Description!', 'V6', 'Coupe', 'Jan')\n",
      "(9, 'Kia', 'Stinger', 42000, 2021, 'Kia Stinger, sports sedan!', 'V6', 'Sedna', 'Sting')\n",
      "(10, 'Dodge', 'Charger', 45000, 2021, 'Vroom!', 'V8', 'Sedan', \"Scatpack's are cool\")\n",
      "(11, 'Ford', 'Mustang', 50000, 2019, 'American Muscle!', 'V8', 'Coupe', 'Mr. Muscle')\n"
     ]
    }
   ],
   "source": [
    "def menu():\n",
    "    options = ['c', 'r', 'u', 'd', 's']\n",
    "    operation = input(\"Enter: (C)reate (R)ead (U)pdate or (D)elete or (S)chema\")\n",
    "    if operation.lower() in options:\n",
    "        if operation.lower() == 'c':\n",
    "            create()\n",
    "        elif operation.lower() == 'r':\n",
    "            read()\n",
    "        elif operation.lower() == 'u':\n",
    "            update()\n",
    "        elif operation.lower() == 'd':\n",
    "            delete()\n",
    "        elif operation.lower() == 's':\n",
    "            schema()\n",
    "    elif len(operation) == 0: # Escape Key\n",
    "        return\n",
    "    else:\n",
    "        print(\"Please enter c, r, u, or d\") \n",
    "    menu() # recursion, repeat menu\n",
    "        \n",
    "try:\n",
    "    menu() # start menu\n",
    "except:\n",
    "    print(\"Perform Jupyter 'Run All' prior to starting menu\")"
   ]
  }
 ],
 "metadata": {
  "kernelspec": {
   "display_name": "base",
   "language": "python",
   "name": "python3"
  },
  "language_info": {
   "codemirror_mode": {
    "name": "ipython",
    "version": 3
   },
   "file_extension": ".py",
   "mimetype": "text/x-python",
   "name": "python",
   "nbconvert_exporter": "python",
   "pygments_lexer": "ipython3",
   "version": "3.9.12"
  },
  "orig_nbformat": 4
 },
 "nbformat": 4,
 "nbformat_minor": 2
}
