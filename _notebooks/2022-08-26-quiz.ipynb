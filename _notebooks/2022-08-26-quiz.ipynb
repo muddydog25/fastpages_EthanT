{
 "cells": [
  {
   "cell_type": "code",
   "execution_count": 35,
   "metadata": {},
   "outputs": [],
   "source": [
    "import getpass, sys\n",
    "from tkinter.messagebox import QUESTION, YES\n",
    "\n",
    "def question (question, answer):\n",
    "    ans = input(question)\n",
    "    \n",
    "    if ans == answer:\n",
    "        print(\"Correct!\")\n",
    "        \n",
    "        \n",
    "    elif ans == \"No\":\n",
    "        sys.exit()\n",
    "        \n",
    "    else:\n",
    "        print(\"Wrong\")\n",
    "\n",
    "\n",
    "\n",
    "def question (question, answer):\n",
    "    ans = input(question)\n",
    "\n",
    "question(\"You are about to take an awesome short quiz. Ready? (Yes or No)\" , \"Yes\")\n",
    "question(\"What is 5 x 8?\" , \"40\")\n",
    "question(\"How many states are there in the United States of America?\" , \"50\")\n",
    "\n",
    "\n",
    "\n",
    "\n",
    "\n",
    "\n",
    "\n",
    "\n",
    "\n",
    "\n",
    "\n",
    "\n",
    "# if points == 3:\n",
    "#         print(\"Congrats! \")\n",
    "\n",
    "# elif points == 2:\n",
    "#         print(\"Not bad, keep working! \" )\n",
    "\n",
    "# else:\n",
    "#         print(\"Its okay, better luck next time!\")\n",
    "\n",
    "\n"
   ]
  }
 ],
 "metadata": {
  "kernelspec": {
   "display_name": "Python 3.10.6 64-bit",
   "language": "python",
   "name": "python3"
  },
  "language_info": {
   "codemirror_mode": {
    "name": "ipython",
    "version": 3
   },
   "file_extension": ".py",
   "mimetype": "text/x-python",
   "name": "python",
   "nbconvert_exporter": "python",
   "pygments_lexer": "ipython3",
   "version": "3.10.6"
  },
  "orig_nbformat": 4,
  "vscode": {
   "interpreter": {
    "hash": "82faa6d27c9a927522682e95cb30c684238aba2a31347a70411ee016fed8cfe5"
   }
  }
 },
 "nbformat": 4,
 "nbformat_minor": 2
}
