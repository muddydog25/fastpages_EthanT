{
 "cells": [
  {
   "cell_type": "markdown",
   "metadata": {},
   "source": [
    "# My Quiz\n",
    "\n",
    "- badges: true\n",
    "- comments: true\n",
    "- author: Ethan Tran\n",
    "- categories: [fastpages, jupyter]"
   ]
  },
  {
   "cell_type": "code",
   "execution_count": 5,
   "metadata": {},
   "outputs": [
    {
     "name": "stdout",
     "output_type": "stream",
     "text": [
      "40\n",
      "Correct!\n",
      "Qin\n",
      "Correct!\n",
      "50\n",
      "Correct!\n",
      "100.00%\n",
      "Your total score is:  3 out of 3. Congrats!\n"
     ]
    }
   ],
   "source": [
    "import getpass, sys\n",
    "import random\n",
    "\n",
    "def ask_question (question, answer):\n",
    "    ans = input(question)\n",
    "    print(ans)\n",
    "\n",
    "    if ans == answer:\n",
    "        print(\"Correct!\")\n",
    "        return 1\n",
    "\n",
    "    else:\n",
    "        print(\"Wrong\")\n",
    "        return 0\n",
    "\n",
    "question_list = [\"Who was the first emperor of Imperial China?\" , \"What is 5 x 8?\" , \"How many states are there in the United States of America?\"]\n",
    "answer_list = [\"Qin\", \"40\", \"50\"]\n",
    "\n",
    "points = 0\n",
    "while len(question_list) > 0:\n",
    "    index = random.randint(0, len(question_list) - 1)\n",
    "    \n",
    "    points = points + ask_question(question_list[index], answer_list[index])\n",
    "    \n",
    "    del question_list[index]\n",
    "    del answer_list[index]\n",
    "\n",
    "score = (points / 3)\n",
    "percent = (score * 100)\n",
    "print(\"{:.2f}\".format(percent) + \"%\")\n",
    "\n",
    "if points == 3:\n",
    "         print(\"Your total score is: \", points, \"out of 3. Congratulations!\")\n",
    "\n",
    "elif points == 2:\n",
    "         print(\"Your total score is: \", points, \"out of 3. Not bad, keep working! \" )\n",
    "\n",
    "else:\n",
    "         print(\"Your total score is: \", points, \"out of 3. Its okay, better luck next time!\")"
   ]
  }
 ],
 "metadata": {
  "kernelspec": {
   "display_name": "Python 3.10.6 64-bit",
   "language": "python",
   "name": "python3"
  },
  "language_info": {
   "codemirror_mode": {
    "name": "ipython",
    "version": 3
   },
   "file_extension": ".py",
   "mimetype": "text/x-python",
   "name": "python",
   "nbconvert_exporter": "python",
   "pygments_lexer": "ipython3",
   "version": "3.10.6"
  },
  "orig_nbformat": 4,
  "vscode": {
   "interpreter": {
    "hash": "82faa6d27c9a927522682e95cb30c684238aba2a31347a70411ee016fed8cfe5"
   }
  }
 },
 "nbformat": 4,
 "nbformat_minor": 2
}
