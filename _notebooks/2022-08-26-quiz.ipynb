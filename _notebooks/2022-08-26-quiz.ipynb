{
 "cells": [
  {
   "cell_type": "markdown",
   "metadata": {},
   "source": [
    "# My Quiz\n",
    "\n",
    "- badges: true\n",
    "- comments: true\n",
    "- author: Ethan Tran\n",
    "- categories: [fastpages, jupyter]"
   ]
  },
  {
   "cell_type": "code",
   "execution_count": 12,
   "metadata": {},
   "outputs": [
    {
     "ename": "TypeError",
     "evalue": "Random.random() takes no arguments (3 given)",
     "output_type": "error",
     "traceback": [
      "\u001b[1;31m---------------------------------------------------------------------------\u001b[0m",
      "\u001b[1;31mTypeError\u001b[0m                                 Traceback (most recent call last)",
      "\u001b[1;32mc:\\Users\\etran\\OneDrive\\Documents\\GitHub\\fastpages_EthanT\\_notebooks\\2022-08-26-quiz.ipynb Cell 1\u001b[0m in \u001b[0;36m<cell line: 6>\u001b[1;34m()\u001b[0m\n\u001b[0;32m      <a href='vscode-notebook-cell:/c%3A/Users/etran/OneDrive/Documents/GitHub/fastpages_EthanT/_notebooks/2022-08-26-quiz.ipynb#W0sZmlsZQ%3D%3D?line=2'>3</a>\u001b[0m \u001b[39mfrom\u001b[39;00m \u001b[39mmultiprocessing\u001b[39;00m\u001b[39m.\u001b[39;00m\u001b[39mconnection\u001b[39;00m \u001b[39mimport\u001b[39;00m answer_challenge\n\u001b[0;32m      <a href='vscode-notebook-cell:/c%3A/Users/etran/OneDrive/Documents/GitHub/fastpages_EthanT/_notebooks/2022-08-26-quiz.ipynb#W0sZmlsZQ%3D%3D?line=3'>4</a>\u001b[0m \u001b[39mfrom\u001b[39;00m \u001b[39mtkinter\u001b[39;00m\u001b[39m.\u001b[39;00m\u001b[39mmessagebox\u001b[39;00m \u001b[39mimport\u001b[39;00m QUESTION, YES\n\u001b[1;32m----> <a href='vscode-notebook-cell:/c%3A/Users/etran/OneDrive/Documents/GitHub/fastpages_EthanT/_notebooks/2022-08-26-quiz.ipynb#W0sZmlsZQ%3D%3D?line=5'>6</a>\u001b[0m question_list \u001b[39m=\u001b[39m random(\u001b[39m\"\u001b[39;49m\u001b[39mWho was the first emperor of Imperial China?\u001b[39;49m\u001b[39m\"\u001b[39;49m , \u001b[39m\"\u001b[39;49m\u001b[39mWhat is 5 x 8?\u001b[39;49m\u001b[39m\"\u001b[39;49m , \u001b[39m\"\u001b[39;49m\u001b[39mHow many states are there in the United States of America?\u001b[39;49m\u001b[39m\"\u001b[39;49m)\n\u001b[0;32m      <a href='vscode-notebook-cell:/c%3A/Users/etran/OneDrive/Documents/GitHub/fastpages_EthanT/_notebooks/2022-08-26-quiz.ipynb#W0sZmlsZQ%3D%3D?line=7'>8</a>\u001b[0m \u001b[39mprint\u001b[39m(question_list)\n",
      "\u001b[1;31mTypeError\u001b[0m: Random.random() takes no arguments (3 given)"
     ]
    }
   ],
   "source": [
    "import getpass, sys\n",
    "from random import random\n",
    "from multiprocessing.connection import answer_challenge\n",
    "from tkinter.messagebox import QUESTION, YES\n",
    "\n",
    "question_list = random(\"Who was the first emperor of Imperial China?\" , \"What is 5 x 8?\" , \"How many states are there in the United States of America?\")\n",
    "answer_list = [\"40\", \"50\", \"Qin\"]\n",
    "\n",
    "print(question_list)\n",
    "\n",
    "def question (question, answer):\n",
    "    ans = input(question)\n",
    "    points = 0 \n",
    "\n",
    "    if ans == answer:\n",
    "        print(\"Correct!\")\n",
    "        points += 1\n",
    "\n",
    "    else:\n",
    "        print(\"Wrong\")\n",
    "\n",
    "\n",
    "\n",
    "print(points)\n",
    "if points == 3:\n",
    "         print(\"Your total score is: \", points, \"/3 Congrats!\")\n",
    "\n",
    "elif points == 2:\n",
    "         print(\"Not bad, keep working! \" )\n",
    "\n",
    "else:\n",
    "         print(\"Its okay, better luck next time!\")\n",
    "\n",
    "\n"
   ]
  }
 ],
 "metadata": {
  "kernelspec": {
   "display_name": "Python 3.10.6 64-bit",
   "language": "python",
   "name": "python3"
  },
  "language_info": {
   "codemirror_mode": {
    "name": "ipython",
    "version": 3
   },
   "file_extension": ".py",
   "mimetype": "text/x-python",
   "name": "python",
   "nbconvert_exporter": "python",
   "pygments_lexer": "ipython3",
   "version": "3.10.6"
  },
  "orig_nbformat": 4,
  "vscode": {
   "interpreter": {
    "hash": "82faa6d27c9a927522682e95cb30c684238aba2a31347a70411ee016fed8cfe5"
   }
  }
 },
 "nbformat": 4,
 "nbformat_minor": 2
}
