{
 "cells": [
  {
   "cell_type": "markdown",
   "metadata": {},
   "source": [
    "# My Quiz\n",
    "\n",
    "- badges: true\n",
    "- comments: true\n",
    "- author: Ethan Tran\n",
    "- categories: [fastpages, jupyter, quiz]"
   ]
  },
  {
   "cell_type": "code",
   "execution_count": 3,
   "metadata": {},
   "outputs": [
    {
     "name": "stdout",
     "output_type": "stream",
     "text": [
      "Each 'if' command contains an '_________' to determine a true or false condition?\n",
      "expression\n",
      "Correct!\n",
      "What is 5 x 8?\n",
      "40\n",
      "Correct!\n",
      "How many states are there in the United States of America?\n",
      "50\n",
      "Correct!\n",
      "What command is used to include other functions that were previously developed?\n",
      "import\n",
      "Correct!\n",
      "What command is used to evaluate correct or incorrect response in this example?\n",
      "if\n",
      "Correct!\n",
      "Who was the first emperor of Imperial China?\n",
      "Qin\n",
      "Correct!\n",
      "100.00%\n",
      "Your total score is:  6 out of 6. Congratulations!\n"
     ]
    }
   ],
   "source": [
    "# Importing getpass, system, and random\n",
    "import getpass, sys\n",
    "import random\n",
    "\n",
    "# Function to layout the questions and answers \n",
    "def ask_question (question, answer):\n",
    "\n",
    "# Allow answers to be typed in through input & print the questions and answers\n",
    "    print(question)\n",
    "    ans = input(question)\n",
    "    print(ans)\n",
    "   \n",
    "\n",
    "# Print \"Correct!\"\" and add 1 point (through return) per correct answer \n",
    "    if ans == answer:\n",
    "        print(\"Correct!\")\n",
    "        return 1\n",
    "\n",
    "# Print \"Wrong\" when an answer is incorrect and return 0 points\n",
    "    else:\n",
    "        print(\"Wrong\")\n",
    "        return 0\n",
    "\n",
    "# A list of my questions and answers using the previously added \"ask_question\" function\n",
    "question_list = [\"Who was the first emperor of Imperial China?\" , \"What is 5 x 8?\" , \"How many states are there in the United States of America?\" , \"What command is used to include other functions that were previously developed?\" , \"What command is used to evaluate correct or incorrect response in this example?\" , \"Each 'if' command contains an '_________' to determine a true or false condition?\"]\n",
    "answer_list = [\"Qin\", \"40\", \"50\" , \"import\" , \"if\" , \"expression\"]\n",
    "\n",
    "# Set points to 0 at the start of the quiz\n",
    "points = 0\n",
    "\n",
    "# If the length of the quiz is greater than 0, then random questions will be chosen from the \"question_list\" set\n",
    "while len(question_list) > 0:\n",
    "    index = random.randint(0, len(question_list) - 1)\n",
    "    \n",
    "# The points system where a point is rewarded for each correct answer    \n",
    "    points = points + ask_question(question_list[index], answer_list[index])\n",
    "    \n",
    "# If a question or answer has already been used, then it shall be deleted    \n",
    "    del question_list[index]\n",
    "    del answer_list[index]\n",
    "\n",
    "# Calculating score using the points system and dividing it by the total number of questions (6)\n",
    "score = (points / 6)\n",
    "\n",
    "# Calculating the percentage of correct answers by multiplying the score by 100\n",
    "percent = (score * 100)\n",
    "\n",
    "# Printing the percentage, and formatting the percentage in a way where two decimals can be shown (through \"{:.2f}\")\n",
    "print(\"{:.2f}\".format(percent) + \"%\")\n",
    "\n",
    "# Adding final remarks based upon the users given scores\n",
    "if points >= 5:\n",
    "         print(\"Your total score is: \", points, \"out of 6. Congratulations!\")\n",
    "\n",
    "elif points == 4:\n",
    "         print(\"Your total score is: \", points, \"out of 6. Not bad, keep working! \" )\n",
    "\n",
    "else:\n",
    "         print(\"Your total score is: \", points, \"out of 6. Its okay, better luck next time!\")\n"
   ]
  }
 ],
 "metadata": {
  "kernelspec": {
   "display_name": "Python 3.10.6 64-bit",
   "language": "python",
   "name": "python3"
  },
  "language_info": {
   "codemirror_mode": {
    "name": "ipython",
    "version": 3
   },
   "file_extension": ".py",
   "mimetype": "text/x-python",
   "name": "python",
   "nbconvert_exporter": "python",
   "pygments_lexer": "ipython3",
   "version": "3.10.6"
  },
  "orig_nbformat": 4,
  "vscode": {
   "interpreter": {
    "hash": "82faa6d27c9a927522682e95cb30c684238aba2a31347a70411ee016fed8cfe5"
   }
  }
 },
 "nbformat": 4,
 "nbformat_minor": 2
}
