{
 "cells": [
  {
   "cell_type": "markdown",
   "metadata": {},
   "source": [
    "# Installation Checks (Bash)\n",
    "\n",
    "- badges: true\n",
    "- comments: true\n",
    "- author: Ethan Tran\n",
    "- categories: [fastpages, jupyter]"
   ]
  },
  {
   "cell_type": "markdown",
   "metadata": {
    "vscode": {
     "languageId": "shellscript"
    }
   },
   "source": [
    "# Check for the necessary AP CSP tools (ie. JavaScript, Python3, and Bash)"
   ]
  },
  {
   "cell_type": "code",
   "execution_count": 1,
   "metadata": {
    "vscode": {
     "languageId": "shellscript"
    }
   },
   "outputs": [
    {
     "name": "stdout",
     "output_type": "stream",
     "text": [
      "Python 3.9.12\n",
      "Python 2.7.18\n",
      "Python 3.9.12\n"
     ]
    }
   ],
   "source": [
    "python --version\n",
    "python2 --version\n",
    "python3 --version"
   ]
  },
  {
   "cell_type": "code",
   "execution_count": 1,
   "metadata": {
    "vscode": {
     "languageId": "shellscript"
    }
   },
   "outputs": [
    {
     "name": "stdout",
     "output_type": "stream",
     "text": [
      "javascript: command not found\n"
     ]
    },
    {
     "ename": "",
     "evalue": "127",
     "output_type": "error",
     "traceback": []
    }
   ],
   "source": [
    "jupyter --version\n",
    "jupyter --kernelspec list"
   ]
  },
  {
   "cell_type": "code",
   "execution_count": null,
   "metadata": {
    "vscode": {
     "languageId": "shellscript"
    }
   },
   "outputs": [],
   "source": [
    "bash --version"
   ]
  },
  {
   "cell_type": "markdown",
   "metadata": {},
   "source": [
    "# View Each fastpages post"
   ]
  },
  {
   "cell_type": "code",
   "execution_count": 2,
   "metadata": {
    "vscode": {
     "languageId": "shellscript"
    }
   },
   "outputs": [
    {
     "name": "stdout",
     "output_type": "stream",
     "text": [
      "Search for posts\n",
      "bash: cd: /_posts: No such file or directory\n",
      "/mnt/c/Users/etran/OneDrive/Documents/GitHub/fastpages_EthanT/_notebooks\n",
      "total 3112\n",
      "-rwxrwxrwx 1 root root 3162470 Aug 19 18:35 \u001b[0m\u001b[01;32m2020-02-20-test\u001b[0m\n",
      "-rwxrwxrwx 1 root root    2866 Aug 27 18:00 \u001b[01;32m2022-08-19-first-notebook.ipynb\u001b[0m\n",
      "-rwxrwxrwx 1 root root     784 Aug 27 18:00 \u001b[01;32m2022-08-20-READ-ME.md\u001b[0m\n",
      "-rwxrwxrwx 1 root root    2192 Aug 28 19:08 \u001b[01;32m2022-08-25-bash.ipynb\u001b[0m\n",
      "-rwxrwxrwx 1 root root    4152 Aug 28 18:50 \u001b[01;32m2022-08-26-quiz.ipynb\u001b[0m\n",
      "drwxrwxrwx 1 root root    4096 Aug 19 18:31 \u001b[34;42mghtop_images\u001b[0m\n",
      "drwxrwxrwx 1 root root    4096 Aug 19 18:31 \u001b[34;42mmy_icons\u001b[0m\n"
     ]
    }
   ],
   "source": [
    "echo \"Search for posts\"\n",
    "export posts=$project/_posts  # _posts inside project\n",
    "cd $posts  # Posts within fastpages\n",
    "pwd  # present working directory\n",
    "ls -l  # lists all posts on fastpages"
   ]
  }
 ],
 "metadata": {
  "kernelspec": {
   "display_name": "Bash",
   "language": "bash",
   "name": "bash"
  },
  "language_info": {
   "codemirror_mode": "shell",
   "file_extension": ".sh",
   "mimetype": "text/x-sh",
   "name": "bash"
  },
  "vscode": {
   "interpreter": {
    "hash": "82faa6d27c9a927522682e95cb30c684238aba2a31347a70411ee016fed8cfe5"
   }
  }
 },
 "nbformat": 4,
 "nbformat_minor": 2
}
