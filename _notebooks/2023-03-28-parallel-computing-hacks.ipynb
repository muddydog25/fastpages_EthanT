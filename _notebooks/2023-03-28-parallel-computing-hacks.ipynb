{
 "cells": [
  {
   "attachments": {},
   "cell_type": "markdown",
   "metadata": {},
   "source": [
    "#  Unit 4.3a Parallel Computing Hacks\n",
    "> My Hacks for Unit 4.3a Parallel Computing\n",
    "- toc: true\n",
    "- categories: [data structures, space and time complexity, hacks]"
   ]
  },
  {
   "attachments": {},
   "cell_type": "markdown",
   "metadata": {},
   "source": [
    "## Hacks\n",
    "> AP Classroom. Provide answers and thoughts on theoretical question form college board Video in section 4.3.  They start at about the 9 minute mark.\n",
    "- Example 1\n",
    "\n",
    "If we run Process X on Processor 1 and Process Y on Processor 2 in parallel, we can complete all three processes in a minimum of 50 seconds. During the first 50 seconds, Process X runs on Processor 1 while Process Y runs on Processor 2 for 10 seconds. After Process Y finishes, Process Z can run on Processor 2 for 30 seconds while Process X is still running on Processor 1. Finally, after Process Z completes, Process X takes an additional 10 seconds to finish running. Thus, the entire sequence of processes can be completed in 50 seconds, which is the time it takes for Process X to run.\n",
    "\n",
    "- Example 2\n",
    "\n",
    "Running Process A and Process B sequentially would take 70 seconds (25 seconds for Process A and 45 seconds for Process B). However, running them in parallel would take only 45 seconds, which is the duration of Process B, as it takes longer than Process A. Hence, parallel processing reduces the total processing time by 25 seconds.\n",
    "\n",
    "> Data Structures.  Build a List Comprehension example\n",
    "- list = [calc(item) for item in items]"
   ]
  },
  {
   "cell_type": "markdown",
   "metadata": {},
   "source": [
    "### Starting code"
   ]
  },
  {
   "cell_type": "code",
   "execution_count": 1,
   "metadata": {},
   "outputs": [
    {
     "name": "stdout",
     "output_type": "stream",
     "text": [
      "5\n"
     ]
    }
   ],
   "source": [
    "fruits = [\"apples\", \"bananas\", \"pears\", \"oranges\", \"grapes\"]\n",
    "\n",
    "grocery_num = 0\n",
    "\n",
    "for i in fruits:\n",
    "    grocery_num += 1\n",
    "\n",
    "print(grocery_num)"
   ]
  },
  {
   "cell_type": "markdown",
   "metadata": {},
   "source": [
    "### Modified code using list comprehension"
   ]
  },
  {
   "cell_type": "code",
   "execution_count": 2,
   "metadata": {},
   "outputs": [
    {
     "name": "stdout",
     "output_type": "stream",
     "text": [
      "5\n"
     ]
    }
   ],
   "source": [
    "# Define the fruits list\n",
    "fruits = [\"apples\", \"bananas\", \"pears\", \"oranges\", \"grapes\"]\n",
    "\n",
    "# Use a list comprehension to create a new list containing all the elements in the fruits list\n",
    "# Use the len() to get the length of the new list - equivalent to the number of items in the original fruits list\n",
    "grocery_num = len([fruit for fruit in fruits])\n",
    "\n",
    "# Print the result\n",
    "print(grocery_num)"
   ]
  }
 ],
 "metadata": {
  "kernelspec": {
   "display_name": "base",
   "language": "python",
   "name": "python3"
  },
  "language_info": {
   "codemirror_mode": {
    "name": "ipython",
    "version": 3
   },
   "file_extension": ".py",
   "mimetype": "text/x-python",
   "name": "python",
   "nbconvert_exporter": "python",
   "pygments_lexer": "ipython3",
   "version": "3.9.12"
  },
  "orig_nbformat": 4
 },
 "nbformat": 4,
 "nbformat_minor": 2
}
