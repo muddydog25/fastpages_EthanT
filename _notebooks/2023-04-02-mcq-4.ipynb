{
 "cells": [
  {
   "attachments": {},
   "cell_type": "markdown",
   "metadata": {},
   "source": [
    "# MCQ Test #4 Corrections + Reflection\n",
    "> My corrections and reflection for MCQ Test #4\n",
    "- toc: true\n",
    "- author: Ethan Tran\n",
    "- categories: [cb, mcq 4]"
   ]
  },
  {
   "cell_type": "markdown",
   "metadata": {},
   "source": [
    "<html>\n",
    "    <img src=\"https://user-images.githubusercontent.com/109186517/229429329-b8a75169-9c42-4ea9-81df-51b033fd6562.png\">\n",
    "</html>"
   ]
  },
  {
   "attachments": {},
   "cell_type": "markdown",
   "metadata": {},
   "source": [
    "## Reflection/Overview\n",
    "\n",
    "Upon reflection, I feel pretty good about my performance on the test, but I recognize that there are some areas where I can improve. Missing 3 questions out of 50 means that I got a score of 47/50, which is still a very good score. However, I want to make sure that I'm doing everything I can to maximize my learning and achieve my academic goals.\n",
    "\n",
    "As I looked back at the test, I realized that the questions I missed were ones where I wasn't as confident in my knowledge of the material. In the future, I need to make sure that I'm studying those areas more thoroughly so that I can feel more confident on test day. I also noticed that I rushed through some of the questions and didn't take enough time to think through my answers. Next time, I'll try to pace myself better so that I have enough time to carefully consider each question.\n",
    "\n",
    "Overall, I'm happy with my score on the test, but I know that I can do even better in the future. By identifying my weaknesses and working on them, I'm confident that I'll continue to improve and reach my goals. I'm also going to talk to my teacher to get some feedback on where I can improve, so that I have a better idea of what I need to focus on in the future.\n",
    "\n",
    "![mcq4-2](https://user-images.githubusercontent.com/109186517/229430352-d0962388-6ef0-4f7b-91e8-886da6709a47.png)\n",
    "\n",
    "For this question, choice A is correct because when a large amount of data is transmitted over the Internet, it is divided into smaller pieces or packets to enable efficient transmission. Each packet contains a portion of the data, as well as a header that contains information about the packet, such as the sender's and receiver's IP addresses, the sequence number, and other information needed for routing the packet through the network to its destination. Once the packets arrive at their destination, they are reassembled into the original data.\n",
    "\n",
    "![mcq4-3](https://user-images.githubusercontent.com/109186517/229430762-5a289527-67f9-4100-a1e6-4322ab6d7857.png)\n",
    "\n",
    "Option C is correct because a single high school’s list of student grades is not considered a large set of data. Furthermore, identifying 10 students with the highest grade point averages is not an example of finding patterns.\n",
    "\n",
    "![mcq4-4](https://user-images.githubusercontent.com/109186517/229431212-a4f9a88f-e440-4b1a-9111-0dc175b334d4.png)\n",
    "\n",
    "Option C is correct because by utilizing 6-bit binary sequences, it is possible to identify 26 or 64 distinct items - while 7-bit binary sequences allow for the identification of 27 or 128 different items. Therefore, incorporating an additional bit in the sequence results in the ability to uniquely identify twice as many items. Option A is incorrect because including an additional binary digit enables the identification of twice as many items, rather than just two more."
   ]
  }
 ],
 "metadata": {
  "kernelspec": {
   "display_name": "base",
   "language": "python",
   "name": "python3"
  },
  "language_info": {
   "name": "python",
   "version": "3.9.12"
  },
  "orig_nbformat": 4
 },
 "nbformat": 4,
 "nbformat_minor": 2
}
