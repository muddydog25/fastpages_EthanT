{
 "cells": [
  {
   "attachments": {},
   "cell_type": "markdown",
   "metadata": {},
   "source": [
    "# Night at the Museum Trimester #2\n",
    "> Here was how it went for me...\n",
    "\n",
    "- badges: true\n",
    "- comments: true\n",
    "- author: Ethan Tran\n",
    "- categories: [N@M, final]"
   ]
  },
  {
   "attachments": {},
   "cell_type": "markdown",
   "metadata": {},
   "source": [
    "## My Experience\n",
    "This trimester's Night at the Museum was amazing! There were many amazing sites I was able to view, along with other pieces of art from the various other exhibitions at the event. It was gratifying to present my feature and to show my team's project off to visitors. During the event, we were able to allow people to actually test out our website and describe the behind the scenes \"magic,\" which was our frontend to backend communication for various features ie. my car search and Taiyo's comments.\n",
    "\n",
    "## Presentation Photos\n",
    ">These are some images/highlights of the night when I was presenting our project\n",
    "\n",
    "<img src=\"https://user-images.githubusercontent.com/109186517/221751446-ec917ae1-9233-4d3f-b83d-eddc11fedb00.png\" height=\"450\"> <img src=\"https://user-images.githubusercontent.com/109186517/221751828-ca52b0a9-7a5d-4109-987b-285e3a29d7d9.png\" height=\"450\"> <img src=\"https://user-images.githubusercontent.com/109186517/221751924-3e1f70d7-f7c4-494b-8752-fbd3ccabbaf1.png\" height=\"450\">\n",
    "\n",
    "## Presentation to the teacher\n",
    ">Here is an image of when I was presenting to Mr. Mortensen at Night at the Museum\n",
    "\n",
    "<img src=\"https://user-images.githubusercontent.com/109186517/221751115-488381d3-cc7c-4a3e-9c1b-44fd57480126.png\" height=\"550\">\n",
    "\n",
    "## Other CSP Groups\n",
    ">Here are two photos of groups that I thought had really fascinating projects - one used an API to display information on various stocks, while the other group featured a website that had many useful tools for students. One of those tools was a notes tracker by Amay Advani. This allowed notes to be saved for specific classes, these notes were then saved into a database in the their group's backend.\n",
    "\n",
    "<img src=\"https://user-images.githubusercontent.com/109186517/221753017-ff0a60e4-3906-40e7-b8a3-fd0796fa106e.png\" height=\"450\">\n",
    "<img src=\"https://user-images.githubusercontent.com/109186517/221753095-53878494-3069-42fd-88c8-e3d6f5d1e6ad.png\" height=\"450\">\n",
    "\n",
    "## Notable Fine Arts Pieces\n",
    "> These were some of my favorite art pieces from the event, my favorite would have to be the painting of Ken Block's \"Hoonipigasus\" Porsche 911.\n",
    "\n",
    "<img src=\"https://user-images.githubusercontent.com/109186517/221752198-64a9f27d-38fc-4a45-bfa6-5e7e6bcf0df6.png\" height=\"450\">\n",
    "<img src=\"https://user-images.githubusercontent.com/109186517/221752445-6e58e3d8-1c12-49fe-b4d0-5dae52f27794.png\" height=\"450\">\n",
    "<img src=\"https://user-images.githubusercontent.com/109186517/221752604-27c2c042-c36f-432e-8188-7130b9d3dadb.png\" height=\"450\">\n",
    "\n",
    "\n"
   ]
  }
 ],
 "metadata": {
  "kernelspec": {
   "display_name": "Python 3",
   "language": "python",
   "name": "python3"
  },
  "language_info": {
   "name": "python",
   "version": "3.10.6"
  },
  "orig_nbformat": 4,
  "vscode": {
   "interpreter": {
    "hash": "82faa6d27c9a927522682e95cb30c684238aba2a31347a70411ee016fed8cfe5"
   }
  }
 },
 "nbformat": 4,
 "nbformat_minor": 2
}
