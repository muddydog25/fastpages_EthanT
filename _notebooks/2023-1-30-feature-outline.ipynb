{
 "cells": [
  {
   "attachments": {},
   "cell_type": "markdown",
   "metadata": {},
   "source": [
    "# Feature Outline\n",
    "> This is the outline for my car favoriting feature, based on College Board's rubric and criteria\n",
    "\n",
    "- title: Feature Outline\n",
    "- toc: true\n",
    "- author: Ethan Tran\n",
    "- categories: [feature, cb, outline]\n"
   ]
  },
  {
   "attachments": {},
   "cell_type": "markdown",
   "metadata": {},
   "source": [
    "**Overview**\n",
    "\n",
    "- The feature that I will use from our team’s project for the Create Performance task is the overall favoriting system of vehicles on our website.\n",
    "- My feature will allow users that are signed in to click a heart right beside a desired car or cars\n",
    "- Once they favorite a car(s) from our site’s inventory or optimal car quiz, they will be able to click the profile tab and view the cars in which they have favorited.\n",
    "- All of the cars that have been favorited will be stored in a database within the backend, which we plan to set up on AWS (Amazon Web Services) via a Flask server. \n",
    "- This feature will have use between Mati’s login system, Taiyo’s inventory system, and Luna’s “Optimal Car Quiz” \n",
    "\n",
    "<html>\n",
    "<img src=\"https://user-images.githubusercontent.com/109186517/215859629-31f2f79b-33d8-45c4-a6ce-62b2c94e0e8c.png\">\n",
    "<img src=\"https://user-images.githubusercontent.com/109186517/215859761-8f56515c-f810-4a61-b535-fc42a8939a13.png\">\n",
    "<img src=\"https://user-images.githubusercontent.com/109186517/215859808-76e6d7ab-f7cf-4c5a-99ee-3233789a36fd.png\">\n",
    "</html>\n",
    "\n",
    "\n",
    "\n",
    "## Row 1 - Program Purpose and Function:\n",
    "\n",
    "- Purpose: The purpose of my program is to allow users to keep track of the cars that they like the most, or fits their needs the best\n",
    "- Function: The function of my feature is to let users favorite cars and be able to view them via their personal profile - clicking a heart that is displayed on the top left of each car’s profile will enable this feature.\n",
    "- Input: The sole input required for my feature is the mouse click of the user, which they will use to favorite a given car\n",
    "- Output: The output of my program is the display of a given user’s favorite car or cars, which they will input through manually clicking the heart on the top left of the car’s profile.\n",
    "\n",
    "## Row 2 - Data Abstraction:\n",
    "\n",
    "- First code segment: The first program code segment will show a user’s favorited cars within a database (I will implement the database in the future)\n",
    "- Second code segment: The data in the database will be used for display under our site’s “profile” page/tab. On this page, users will be able to view their unique collection of favorite cars. \n",
    "- Variable: The name of the variable in the list will be “favoritesCollection”\n",
    "- Representation: The data in the list represents the given user’s collection of favorite cars\n",
    "\n",
    "## Row 3 - Managing Complexity:\n",
    "\n",
    "- Lists: Each user’s favorite cars will be stored in a list. These lists will be stored, managed, and retrieved from our database \n",
    "- Explanation: This data will be under the “favoritesCollection” variable. Without these lists, the program would not function properly, as each user's collection of favorite cars would not be properly stored - thus, the data will not be properly displayed on our website. \n",
    "\n",
    "## Row 4 - Procedural Abstraction:\n",
    "\n",
    "- Procedure: A procedure named “add_favorite_car” will take action which takes three parameters: username, car, and the “favoritesCollection” list. The procedure appends the car to the favoritesCollection and prints a confirmation message indicating that the car was added to the user's favorite cars list.\n",
    "- Contribution: The procedure “add_favorite_car” contributes to the overall functionality of the program by allowing the user to add cars to their favorite cars list. This information can then be stored in a database or used for other purposes in the program.\n",
    "\n",
    "## Row 5 - Algorithm Implementation:\n",
    "> This is my plan for the algorithm I plan to code and implement into my team’s website.\n",
    "\n",
    "- Iteration: The algorithm will obtain a given user’s username and their associated list of favorite cars from the database. A variable “i” will be initialized to keep track of the current car number \n",
    "being displayed. A for loop will then be used to iterate through each car in the favorite cars list.\n",
    "- Selection: An if/else statement will be used to determine if the list is empty or not. If the list is empty, print a message indicating that the user has no favorite cars.\n",
    "- Sequencing: Within the for loop, sequencing will be used to print the car number (i) and car name.\n",
    "\n",
    "## Row 6 - Testing:\n",
    "\n",
    "- Call 1: Condition tested = The favorite cars list associated with \"user1\" is not empty. Result = The car names and their respective numbers are displayed for \"user1\".\n",
    "- Call 2: Condition tested = The favorite cars list associated with \"user2\" is empty. Result = A message is printed indicating that \"user2\" has no favorite cars.\n",
    "- Explanation: The condition being tested by each call is whether the favorite cars list associated with the given username is empty or not. The result of each call is either the display of the user's favorite cars and their respective numbers or a message indicating that the user has no favorite cars.\n",
    "\n",
    "## Video Demonstration Considerations\n",
    "\n",
    "My video will have to show my codes input, output, and overall program functionality. This means that my code must function as intended without any mistakes or fatal errors. In my video, I will have to be logged in to an account on our website, which is a part of Mati's feature. I will need to show my feature by favoriting cars from our site's inventory and from my \"Optimal Car Quiz\" results - Luna's feature. To show that my program properly functions, I will need to go to my personal profile and show the display of my favorite cars based upon my input. "
   ]
  }
 ],
 "metadata": {
  "kernelspec": {
   "display_name": "Python 3",
   "language": "python",
   "name": "python3"
  },
  "language_info": {
   "name": "python",
   "version": "3.10.6 (tags/v3.10.6:9c7b4bd, Aug  1 2022, 21:53:49) [MSC v.1932 64 bit (AMD64)]"
  },
  "orig_nbformat": 4,
  "vscode": {
   "interpreter": {
    "hash": "82faa6d27c9a927522682e95cb30c684238aba2a31347a70411ee016fed8cfe5"
   }
  }
 },
 "nbformat": 4,
 "nbformat_minor": 2
}
