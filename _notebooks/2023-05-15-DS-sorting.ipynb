{
 "cells": [
  {
   "attachments": {},
   "cell_type": "markdown",
   "metadata": {},
   "source": [
    "# Sorting Algorithms\n",
    "> Working with Data Structures and manipulating data.\n",
    "\n",
    "- toc: true\n",
    "- type: pbl\n",
    "- week: 34"
   ]
  },
  {
   "attachments": {},
   "cell_type": "markdown",
   "metadata": {},
   "source": [
    "[wget link](https://raw.githubusercontent.com/nighthawkcoders/APCSP/master/_notebooks/2023-05-15-DS-sorting.ipynb)"
   ]
  },
  {
   "cell_type": "code",
   "execution_count": 3,
   "metadata": {},
   "outputs": [
    {
     "name": "stdout",
     "output_type": "stream",
     "text": [
      "Random List\n",
      "[9, 62, 78, 54, 18, 74, 58, 84, 20, 46]\n"
     ]
    }
   ],
   "source": [
    "import random\n",
    "\n",
    "numbers = []\n",
    "for i in range(10):\n",
    "    numbers.append(random.randint(0,100))\n",
    "print(\"Random List\")\n",
    "print(numbers)"
   ]
  },
  {
   "attachments": {},
   "cell_type": "markdown",
   "metadata": {},
   "source": [
    "# Warm Up\n",
    "\n",
    "> Discuss with a partner... \n",
    "What are some strategies you would use to sort this list? (Don't worry about writing code for now)\n",
    "\n",
    "- The sort() method takes two optional arguments: reverse and key. The reverse argument specifies whether the list should be sorted in ascending or descending order. The key argument specifies a function that will be used to sort the list.\n",
    "- The sorted() function is similar to the sort() method, but it returns a new list instead of sorting the original list in place.\n",
    "- Bubble sort is a simple sorting algorithm that repeatedly steps through the list, comparing adjacent elements and swapping them if they are in the wrong order. The algorithm starts at the beginning of the list and compares the first two elements. If the first element is greater than the second element, the two elements are swapped. The algorithm then moves on to the next two elements and repeats the process. This continues until the end of the list is reached."
   ]
  },
  {
   "attachments": {},
   "cell_type": "markdown",
   "metadata": {},
   "source": [
    "# Explore\n",
    "\n",
    "Get into groups of 3\n",
    "\n",
    "We will be focusing on 4 algorithms today.\n",
    "\n",
    "We will look at the first one together, Bubble Sort\n",
    "\n",
    "![](images/bubble-sort.png)\n",
    "\n",
    "What is happening with this sort?\n",
    "\n",
    "In your groups you will each choose to be an expert on a sorting algorithm. Merge, Selection, and Insertion.\n",
    "Take about 5 minutes to read about your algorithm (Geek for Geeks linked below) and be ready to explain it to your other group members. \n",
    "\n",
    "[Merge](https://www.geeksforgeeks.org/merge-sort/#)\n",
    "\n",
    "[Selection](https://www.geeksforgeeks.org/selection-sort/)\n",
    "\n",
    "[Insertion](https://www.geeksforgeeks.org/insertion-sort/)"
   ]
  },
  {
   "attachments": {},
   "cell_type": "markdown",
   "metadata": {},
   "source": [
    "## Practice\n",
    "\n",
    "[75, 17, 46, 80, 67, 45, 69, 79, 40, 0]\n",
    "\n",
    "How would you sort this list with... \n",
    "- Bubble Sort\n",
    "\n",
    "Bubble Sort works by repeatedly swapping adjacent elements if they are in the wrong order. The algorithm iterates through the list multiple times, comparing adjacent elements and swapping them if necessary until the entire list is sorted.\n",
    "\n",
    "- Selection Sort\n",
    "\n",
    "Selection Sort works by repeatedly finding the minimum element from the unsorted portion of the list and swapping it with the first unsorted element. The algorithm divides the list into two portions: the sorted portion at the beginning and the unsorted portion at the end.\n",
    "\n",
    "[88, 39, 53, 39, 58, 43, 74, 81, 71, 51]\n",
    "\n",
    "How would you sort this list with... \n",
    "- Merge Sort\n",
    "\n",
    "Merge Sort divides the list into smaller sublists, sorts them individually, and then merges them back together to produce a sorted list. It recursively splits the list in half until each sublist contains only one element, and then merges them in a sorted manner.\n",
    "\n",
    "- Insertion Sort\n",
    "\n",
    "Insertion Sort works by repeatedly selecting an element from the unsorted portion of the list and inserting it into its correct position in the sorted portion. The algorithm iterates through the list, comparing each element with the elements before it and moving it to the correct position."
   ]
  },
  {
   "attachments": {},
   "cell_type": "markdown",
   "metadata": {},
   "source": [
    "# Sorting Words\n",
    "> Sorting strings works in the same way as integers. Using your expertise algorithm, sort the following list of random words."
   ]
  },
  {
   "cell_type": "code",
   "execution_count": 13,
   "metadata": {},
   "outputs": [
    {
     "name": "stdout",
     "output_type": "stream",
     "text": [
      "Random List\n",
      "['unifarious', 'undersect', 'pithiness', 'untouchable', 'penfieldite', 'lateroposition', 'bellarmine', 'orchil', 'vacciniform', 'precooling']\n"
     ]
    },
    {
     "name": "stderr",
     "output_type": "stream",
     "text": [
      "[nltk_data] Downloading package words to /home/etran/nltk_data...\n",
      "[nltk_data]   Package words is already up-to-date!\n"
     ]
    }
   ],
   "source": [
    "import nltk\n",
    "import random\n",
    "\n",
    "nltk.download('words')  # Download the word list (only required once)\n",
    "\n",
    "from nltk.corpus import words\n",
    "\n",
    "english_words = words.words()\n",
    "#print(len(english_words))  # Prints the number of words in the list\n",
    "\n",
    "# You can now use the 'english_words' list in your code\n",
    "\n",
    "words = []\n",
    "for i in range(10):\n",
    "    words.append(english_words[random.randint(0,len(english_words))])\n",
    "print(\"Random List\")\n",
    "print(words)"
   ]
  },
  {
   "attachments": {},
   "cell_type": "markdown",
   "metadata": {},
   "source": [
    "## Discuss \n",
    "Answer the following with your group.\n",
    "\n",
    "- When should you use each algorithm? What makes an algorithm the right choice?\n",
    "\n",
    "1. Bubble Sort: Bubble Sort is a simple sorting algorithm with average-case and worst-case time complexity of O(n^2). It is suitable for small lists or when simplicity is prioritized over efficiency. Bubble Sort is not recommended for large or nearly sorted lists as it has poor performance in such cases.\n",
    "\n",
    "2. Selection Sort: Selection Sort also has an average-case and worst-case time complexity of O(n^2). Similar to Bubble Sort, it is suitable for small lists or when simplicity is more important than efficiency. Selection Sort performs better than Bubble Sort in terms of the number of swaps made.\n",
    "\n",
    "3. Merge Sort: Merge Sort is an efficient sorting algorithm with a time complexity of O(n log n) in all cases. It is suitable for large lists or when a stable and efficient sorting algorithm is required. Merge Sort performs well even for lists with a large number of elements or when the list is unsorted.\n",
    "\n",
    "4. Insertion Sort: Insertion Sort has a time complexity of O(n^2) in the worst case but can perform well for small or nearly sorted lists. It is suitable when the input size is small, or when the list is partially sorted, as it can have a relatively fast average-case performance.\n",
    "\n",
    "- Given the following lists...\n",
    "    - [0, 2, 6, 4, 8, 10]\n",
    "    - [Elephant, Banana, Cat, Dog, Apple]\n",
    "    - [29, 13, 83, 47, 32, 78, 100, 60, 65, 15, 24, 9, 40, 68, 53, 8, 90, 58, 39, 32, 34, 91, 74, 94, 49, 87, 34, 87, 23, 17, 27, 2, 38, 58, 84, 15, 9, 46, 74, 40, 44, 8, 55, 28, 81, 92, 81, 88, 53, 38, 19, 21, 9, 54, 21, 67, 3, 41, 3, 74, 13, 71, 70, 45, 5, 36, 80, 64, 97, 86, 73, 74, 94, 79, 49, 32, 20, 68, 64, 69, 1, 77, 31, 56, 100, 80, 48, 75, 85, 93, 67, 57, 26, 56, 43, 53, 59, 28, 67, 50]\n",
    "Select the algorithm you believe is best for each, explain.\n",
    "\n",
    "1. [0, 2, 6, 4, 8, 10]:\n",
    "Since this list is already small and the elements are mostly in order, Insertion Sort would be a good choice. Insertion Sort performs well when the list is partially sorted, requiring fewer comparisons and swaps.\n",
    "\n",
    "2. [Elephant, Banana, Cat, Dog, Apple]:\n",
    "This list contains strings rather than numeric values. Merge Sort would be a suitable choice as it can handle different data types and has a stable sorting property.\n",
    "\n",
    "3. [29, 13, 83, 47, ... 67, 50]:\n",
    "With a large number of elements, Merge Sort would be the best choice. Merge Sort's efficiency and ability to handle large lists make it suitable for this scenario."
   ]
  },
  {
   "attachments": {},
   "cell_type": "markdown",
   "metadata": {},
   "source": [
    "## HACKS\n",
    "> Provided below is a Bubble Sort Algorithm sorting a list of dictionaries based off of selected key.\n",
    "\n",
    "- Now it's time to do some coding...\n",
    "\n",
    "- Run code and then research and answer these questions...\n",
    "    - Is a list and/or dictionary in python considered a primitive or collection type?  Why?\n",
    "\n",
    "In Python, both lists and dictionaries are considered collection types. They are not considered primitive types because they can store multiple values or key-value pairs, making them more complex and capable of representing structured data.\n",
    "    \n",
    "    - Is the list passed into bubble sort \"pass-by-value\" or \"pass-by-reference? Describe why in relation to output.\n",
    "\n",
    "The list passed into Bubble Sort in Python is \"pass-by-reference.\" This means that the function receives a reference to the original list rather than a copy of the list. Any modifications made to the list within the function will be reflected in the original list outside the function. This is evident in the output of the Bubble Sort function, as it directly modifies the order of elements in the original list.\n",
    "\n",
    "- Implement new cell(s) and/or organize cells to do the following.\n",
    "    - Create your own list\n",
    "    - Use your expertise sorting algorithm (selection, insertion, merge). Note, I got my bubble sort from Geek for Geeks and made modifications. Each student in a group should have a unique algorithm.\n",
    "    - Test your list with my bubble sort\n",
    "    - Test my list with your new sort\n",
    "    - Research analysis on sorting: comparisons, swaps, time.  Build this into your hacks.\n",
    "    - Find a better way to print the data, key first, then other elements in viewable form.\n",
    "\n",
    "Use the code below to help guide your adventure"
   ]
  },
  {
   "cell_type": "code",
   "execution_count": 2,
   "metadata": {},
   "outputs": [
    {
     "name": "stdout",
     "output_type": "stream",
     "text": [
      "Original\n",
      "[{'name': 'Risa', 'age': 18, 'city': 'New York'}, {'name': 'John', 'age': 63, 'city': 'Eugene'}, {'name': 'Shekar', 'age': 18, 'city': 'San Francisco'}, {'name': 'Ryan', 'age': 21, 'city': 'Los Angeles'}]\n",
      "name\n",
      "[{'name': 'John', 'age': 63, 'city': 'Eugene'}, {'name': 'Risa', 'age': 18, 'city': 'New York'}, {'name': 'Ryan', 'age': 21, 'city': 'Los Angeles'}, {'name': 'Shekar', 'age': 18, 'city': 'San Francisco'}]\n",
      "age\n",
      "[{'name': 'Risa', 'age': 18, 'city': 'New York'}, {'name': 'Shekar', 'age': 18, 'city': 'San Francisco'}, {'name': 'Ryan', 'age': 21, 'city': 'Los Angeles'}, {'name': 'John', 'age': 63, 'city': 'Eugene'}]\n",
      "city\n",
      "[{'name': 'John', 'age': 63, 'city': 'Eugene'}, {'name': 'Ryan', 'age': 21, 'city': 'Los Angeles'}, {'name': 'Risa', 'age': 18, 'city': 'New York'}, {'name': 'Shekar', 'age': 18, 'city': 'San Francisco'}]\n"
     ]
    }
   ],
   "source": [
    "\"\"\"\n",
    "* Creator: Nighthawk Coding Society\n",
    "Bubble Sort of a List with optimizations\n",
    "\"\"\"\n",
    "\n",
    "# bubble sorts a list of dictionaries, base off of provided key\n",
    "def bubbleSort(list, key):\n",
    "    n = len(list) - 1  # list are indexed 0 to n-1, len is n\n",
    "    \n",
    "    # Traverse through list with i index\n",
    "    for i in range(n):\n",
    "        swapped = False  # optimize code, so it exits if now swaps on inner loop\n",
    "\n",
    "        # Inner traversal using j index\n",
    "        for j in range(n-i):  # n-i as positions on right are in order in bubble\n",
    " \n",
    "            # Swap if the element KeyN is greater KeyN1\n",
    "            keyN = list[j].get(key)\n",
    "            keyN1 = list[j+1].get(key)\n",
    "            if keyN > keyN1:\n",
    "                swapped = True\n",
    "                list[j], list[j + 1] = list[j + 1], list[j]  # single line swap\n",
    "         \n",
    "        if not swapped:  # if no swaps on inner pass, list is sorted\n",
    "            return  # exit function\n",
    "    \n",
    "\n",
    "if __name__ == \"__main__\":\n",
    "    # list/dictionary sample\n",
    "    list_of_people = [\n",
    "    {\"name\": \"Risa\", \"age\": 18, \"city\": \"New York\"},\n",
    "    {\"name\": \"John\", \"age\": 63, \"city\": \"Eugene\"},\n",
    "    {\"name\": \"Shekar\", \"age\": 18, \"city\": \"San Francisco\"},\n",
    "    {\"name\": \"Ryan\", \"age\": 21, \"city\": \"Los Angeles\"}\n",
    "    ]\n",
    "    \n",
    "    # assuming uniform keys, pick 1st row as source of keys\n",
    "    key_row = list_of_people[0]\n",
    "\n",
    "    # print list as defined\n",
    "    print(\"Original\")\n",
    "    print(list_of_people)\n",
    "    \n",
    "    for key in key_row:  # finds each key in the row\n",
    "        print(key)\n",
    "        bubbleSort(list_of_people, key)  # sort list of people\n",
    "        print(list_of_people)"
   ]
  },
  {
   "cell_type": "markdown",
   "metadata": {},
   "source": [
    "## My Code"
   ]
  },
  {
   "attachments": {},
   "cell_type": "markdown",
   "metadata": {},
   "source": [
    "- \"key\" is used to specify the attribute or property of each dictionary in the list by which the sorting should be performed. The key variable represents the specific key name that you want to use for sorting, such as \"name,\" \"age,\" or \"grade.\"\n",
    "During the sorting process, the selectionSort and bubbleSort functions access the value associated with the given key for each dictionary using the .get(key) method. "
   ]
  },
  {
   "cell_type": "code",
   "execution_count": 6,
   "metadata": {},
   "outputs": [
    {
     "name": "stdout",
     "output_type": "stream",
     "text": [
      "\n",
      "Sorting by 'name':\n",
      "name: Doe, Other Elements: {'name': 'Doe', 'age': 21, 'grade': 'B'}\n",
      "name: Jane, Other Elements: {'name': 'Jane', 'age': 19, 'grade': 'C'}\n",
      "name: John, Other Elements: {'name': 'John', 'age': 20, 'grade': 'A'}\n",
      "name: Jr, Other Elements: {'name': 'Jr', 'age': 18, 'grade': 'A'}\n",
      "name: Sr, Other Elements: {'name': 'Sr', 'age': 20, 'grade': 'B'}\n",
      "\n",
      "Sorting by 'age':\n",
      "age: 20, Other Elements: {'name': 'Sr', 'age': 20, 'grade': 'B'}\n",
      "age: 18, Other Elements: {'name': 'Jr', 'age': 18, 'grade': 'A'}\n",
      "age: 19, Other Elements: {'name': 'Jane', 'age': 19, 'grade': 'C'}\n",
      "age: 20, Other Elements: {'name': 'John', 'age': 20, 'grade': 'A'}\n",
      "age: 21, Other Elements: {'name': 'Doe', 'age': 21, 'grade': 'B'}\n",
      "\n",
      "Sorting by 'grade':\n",
      "grade: B, Other Elements: {'name': 'Doe', 'age': 21, 'grade': 'B'}\n",
      "grade: A, Other Elements: {'name': 'John', 'age': 20, 'grade': 'A'}\n",
      "grade: B, Other Elements: {'name': 'Sr', 'age': 20, 'grade': 'B'}\n",
      "grade: A, Other Elements: {'name': 'Jr', 'age': 18, 'grade': 'A'}\n",
      "grade: C, Other Elements: {'name': 'Jane', 'age': 19, 'grade': 'C'}\n",
      "\n",
      "Testing provided Bubble Sort with your list:\n",
      "\n",
      "Sorting by 'name':\n",
      "name: Doe, Other Elements: {'name': 'Doe', 'age': 21, 'grade': 'B'}\n",
      "name: Jane, Other Elements: {'name': 'Jane', 'age': 19, 'grade': 'C'}\n",
      "name: John, Other Elements: {'name': 'John', 'age': 20, 'grade': 'A'}\n",
      "name: Jr, Other Elements: {'name': 'Jr', 'age': 18, 'grade': 'A'}\n",
      "name: Sr, Other Elements: {'name': 'Sr', 'age': 20, 'grade': 'B'}\n",
      "\n",
      "Sorting by 'age':\n",
      "age: 18, Other Elements: {'name': 'Jr', 'age': 18, 'grade': 'A'}\n",
      "age: 19, Other Elements: {'name': 'Jane', 'age': 19, 'grade': 'C'}\n",
      "age: 20, Other Elements: {'name': 'John', 'age': 20, 'grade': 'A'}\n",
      "age: 20, Other Elements: {'name': 'Sr', 'age': 20, 'grade': 'B'}\n",
      "age: 21, Other Elements: {'name': 'Doe', 'age': 21, 'grade': 'B'}\n",
      "\n",
      "Sorting by 'grade':\n",
      "grade: A, Other Elements: {'name': 'Jr', 'age': 18, 'grade': 'A'}\n",
      "grade: A, Other Elements: {'name': 'John', 'age': 20, 'grade': 'A'}\n",
      "grade: B, Other Elements: {'name': 'Sr', 'age': 20, 'grade': 'B'}\n",
      "grade: B, Other Elements: {'name': 'Doe', 'age': 21, 'grade': 'B'}\n",
      "grade: C, Other Elements: {'name': 'Jane', 'age': 19, 'grade': 'C'}\n"
     ]
    }
   ],
   "source": [
    "# Selection Sort of a List with optimizations\n",
    "def selectionSort(lst, key):\n",
    "    n = len(lst)\n",
    "    \n",
    "    for i in range(n-1):\n",
    "        min_index = i\n",
    "        \n",
    "        for j in range(i+1, n):\n",
    "            key_i = lst[i].get(key)\n",
    "            key_j = lst[j].get(key)\n",
    "            \n",
    "            if key_j is not None and (key_i is None or key_j <= key_i):\n",
    "                min_index = j\n",
    "        \n",
    "        if min_index != i:\n",
    "            lst[i], lst[min_index] = lst[min_index], lst[i]\n",
    "\n",
    "\n",
    "if __name__ == \"__main__\":\n",
    "    list_of_students = [\n",
    "        {\"name\": \"John\", \"age\": 20, \"grade\": \"A\"},\n",
    "        {\"name\": \"Jane\", \"age\": 19, \"grade\": \"C\"},\n",
    "        {\"name\": \"Doe\", \"age\": 21, \"grade\": \"B\"},\n",
    "        {\"name\": \"Jr\", \"age\": 18, \"grade\": \"A\"},\n",
    "        {\"name\": \"Sr\", \"age\": 20, \"grade\": \"B\"},\n",
    "    ]\n",
    "    \n",
    "    # Define key_row based on the first dictionary in list_of_students\n",
    "    key_row = list_of_students[0]\n",
    "    \n",
    "    # Sorting algorithm (Selection Sort)\n",
    "    for key in key_row:\n",
    "        print(f\"\\nSorting by '{key}':\")\n",
    "        selectionSort(list_of_students, key)\n",
    "        \n",
    "        # Print the sorted list with key first, then other elements\n",
    "        for student in list_of_students:\n",
    "            print(f\"{key}: {student.get(key)}, Other Elements: {student}\")\n",
    "\n",
    "    # Test list with the provided Bubble Sort\n",
    "    print(\"\\nTesting provided Bubble Sort with your list:\")\n",
    "    for key in key_row:\n",
    "        print(f\"\\nSorting by '{key}':\")\n",
    "        bubbleSort(list_of_students, key)\n",
    "        \n",
    "        # Print the sorted list with key first, then other elements\n",
    "        for student in list_of_students:\n",
    "            print(f\"{key}: {student.get(key)}, Other Elements: {student}\")\n"
   ]
  },
  {
   "attachments": {},
   "cell_type": "markdown",
   "metadata": {},
   "source": [
    "## Research analysis on sorting: comparisons, swaps, time. Build this into your hacks.\n",
    "        \n",
    "### Analysis of Bubble Sort:\n",
    "\n",
    "- Comparisons: Bubble Sort compares each element with the adjacent element, so in the worst case (reverse sorted list), it performs n*(n-1)/2 comparisons.\n",
    "- Swaps: Bubble Sort swaps elements if they are in the wrong order, and in the worst case, it requires n*(n-1)/2 swaps.\n",
    "- Time Complexity: Bubble Sort has an average and worst-case time complexity of O(n^2).\n",
    "\n",
    "### Analysis of Selection Sort:\n",
    "\n",
    "- Comparisons: Selection Sort makes (n-1) + (n-2) + ... + 1 = n*(n-1)/2 comparisons in the worst case.\n",
    "- Swaps: Selection Sort makes at most n-1 swaps in the worst case.\n",
    "- Time Complexity: Selection Sort has an average and worst-case time complexity of O(n^2).\n",
    "\n",
    "### Analysis of your Sorting Algorithm (Selection Sort):\n",
    "     \n",
    "- Comparisons: Selection Sort makes (n-1) + (n-2) + ... + 1 = n*(n-1)/2 comparisons in the worst case.\n",
    "- Swaps: Selection Sort makes at most n-1 swaps in the worst case.\n",
    "- Time Complexity: Selection Sort has an average and worst-case time complexity of O(n^2)."
   ]
  }
 ],
 "metadata": {
  "kernelspec": {
   "display_name": "base",
   "language": "python",
   "name": "python3"
  },
  "language_info": {
   "codemirror_mode": {
    "name": "ipython",
    "version": 3
   },
   "file_extension": ".py",
   "mimetype": "text/x-python",
   "name": "python",
   "nbconvert_exporter": "python",
   "pygments_lexer": "ipython3",
   "version": "3.9.12"
  },
  "orig_nbformat": 4
 },
 "nbformat": 4,
 "nbformat_minor": 2
}
