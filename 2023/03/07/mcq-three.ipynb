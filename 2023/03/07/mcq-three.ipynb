{
 "cells": [
  {
   "attachments": {},
   "cell_type": "markdown",
   "metadata": {},
   "source": [
    "# MCQ Test 3\n",
    "\n",
    "- badges: true\n",
    "- comments: true\n",
    "- author: Ethan Tran\n",
    "- categories: [finals, trimester 2, collegeboard]\n",
    "- layout: post"
   ]
  },
  {
   "attachments": {},
   "cell_type": "markdown",
   "metadata": {},
   "source": [
    "## My Thoughts...\n",
    "\n",
    "Overall, I believe that I did pretty well on this MCQ. I got 4 questions wrong, and decided to go back and check the answers. This allowed me to rework each of them to understand where I may have messed up in my thinking while taking the MCQ.\n",
    "\n",
    "<html>\n",
    "<img src=\"https://user-images.githubusercontent.com/109186517/223507224-1ef549b9-6460-401b-a498-364947fb73e6.png\" width=\"350px\">\n",
    "<p>This option is incorrect because in Grid II, the robot lands in the square in the middle of the grid facing right. It cannot turn right, but it can turn left. It moves forward up to the middle square of the top row, at which point it is facing up. At this point, it turns right and moves forward to the square in the upper right corner of the grid. At this point, the robot cannot move right, it cannot move left, and it cannot move forward. It thus stays in the REPEAT UNTIL loop forever, since Goal_Reached is never true.\n",
    "</p>\n",
    "<img src=\"https://user-images.githubusercontent.com/109186517/223508076-de47eac1-cc24-452c-84b7-51e484368fc0.png\" width=\"350px\">\n",
    "<p>This option is correct. In Grid I, the robot moves forward to the end of the bottom row, turns right twice, moves forward twice, turns right twice, moves forward until the end of the middle row, turns left twice, moves forward twice, turns left twice, and moves forward until Goal_Reached is true.\n",
    "</p>\n",
    "<img src=\"https://user-images.githubusercontent.com/109186517/223508367-01a3ff2a-1390-4683-8e50-44ec419c0f80.png\" width=\"350px\">\n",
    "<br>\n",
    "<img src=\"https://user-images.githubusercontent.com/109186517/223509253-fda29bfb-7b5c-404f-9ce1-2a44fd73ba8f.png\" width=\"350px\">\n",
    "<p>Incorrect, as the fourth statement assigns the value false to a. The fifth statement assigns the value false to c.</p>\n",
    "<img src=\"https://user-images.githubusercontent.com/109186517/223509451-293f9b04-78bc-452c-ac47-2ca11fdd1d16.png\" width=\"350px\">\n",
    "<p>Correct. The first three statements assign values to the variables. The fourth statement assigns the value of (NOT (a OR b)) AND c to a. Since a OR b is true, NOT (a OR b) is false, so (NOT (a OR b)) AND c is false. The fifth statement assigns the value of c AND a to c. Since a is now false, c AND a is false. The last three statements display the values of the variables.</p>\n",
    "<img src=\"https://user-images.githubusercontent.com/109186517/223510092-bed04cc9-fc67-4f2e-a09d-f0df9b701e50.png\" width=\"350px\">\n",
    "<p>This algorithm will turn on the motor in some cases when the gate is already open, thus, this option is not correct.</p>\n",
    "<img src=\"https://user-images.githubusercontent.com/109186517/223510473-b8a8221a-ef95-4312-a9d8-da47d4370d56.png\" width=\"350px\">\n",
    "<p>Correct. The algorithm continues past the first check if the time is during business hours, the algorithm continues past the second check if the gate sensor is activated, and the algorithm continues past the third check if the gate is not open. Performing the checks in this order will ensure that the gate is opened only under the appropriate conditions.</p>\n",
    "<img src=\"https://user-images.githubusercontent.com/109186517/223511335-874ff117-e595-4cd1-99a0-4901e4c79c53.png\" width=\"350px\">\n",
    "<p>Incorrect. This code segment leaves the robot four rows above its starting position and two rows above the gray square.</p>\n",
    "<img src=\"https://user-images.githubusercontent.com/109186517/223512071-0536dabd-dc4d-4f7a-843c-e61357dc01dc.png\" width=\"350px\">\n",
    "<p>Correct. The loop that repeats four times returns the robot to its starting position. The three lines of code that follow the loop move the robot one row up and leave it facing right. When this has been repeated twice, the robot is in the gray square.</p>\n",
    "</html>"
   ]
  }
 ],
 "metadata": {
  "language_info": {
   "name": "python"
  },
  "orig_nbformat": 4
 },
 "nbformat": 4,
 "nbformat_minor": 2
}
